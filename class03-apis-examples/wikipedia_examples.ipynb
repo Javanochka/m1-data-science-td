{
 "cells": [
  {
   "cell_type": "code",
   "execution_count": 1,
   "id": "f03706b0",
   "metadata": {},
   "outputs": [],
   "source": [
    "import wikipedia"
   ]
  },
  {
   "cell_type": "code",
   "execution_count": 2,
   "id": "9abb5f38",
   "metadata": {},
   "outputs": [
    {
     "data": {
      "text/plain": [
       "['Barack Obama',\n",
       " 'Barack Obama Sr.',\n",
       " 'Presidency of Barack Obama',\n",
       " 'Family of Barack Obama',\n",
       " 'Barack (disambiguation)',\n",
       " 'Barack (name)',\n",
       " 'Barack Obama religion conspiracy theories',\n",
       " 'Early life and career of Barack Obama',\n",
       " 'Zach Barack',\n",
       " 'Barack Obama (disambiguation)']"
      ]
     },
     "execution_count": 2,
     "metadata": {},
     "output_type": "execute_result"
    }
   ],
   "source": [
    "wikipedia.search(\"Barack\")"
   ]
  },
  {
   "cell_type": "code",
   "execution_count": 3,
   "id": "93999146",
   "metadata": {},
   "outputs": [
    {
     "data": {
      "text/plain": [
       "['Ford Motor Company', 'Ford', 'Gerald Ford']"
      ]
     },
     "execution_count": 3,
     "metadata": {},
     "output_type": "execute_result"
    }
   ],
   "source": [
    "wikipedia.search(\"ford\", results=3)"
   ]
  },
  {
   "cell_type": "code",
   "execution_count": 4,
   "id": "b22d4603",
   "metadata": {},
   "outputs": [
    {
     "data": {
      "text/plain": [
       "'The Apple II (stylized as apple ][) is an early personal computer that was created by Apple Inc.'"
      ]
     },
     "execution_count": 4,
     "metadata": {},
     "output_type": "execute_result"
    }
   ],
   "source": [
    "wikipedia.summary(\"Apple III\", sentences=1)"
   ]
  },
  {
   "cell_type": "code",
   "execution_count": 5,
   "id": "8f7ed44e",
   "metadata": {},
   "outputs": [
    {
     "name": "stderr",
     "output_type": "stream",
     "text": [
      "/home/anna/Documents/PhDWork/Teaching/ex-env/lib/python3.8/site-packages/wikipedia/wikipedia.py:389: GuessedAtParserWarning: No parser was explicitly specified, so I'm using the best available HTML parser for this system (\"lxml\"). This usually isn't a problem, but if you run this code on another system, or in a different virtual environment, it may use a different parser and behave differently.\n",
      "\n",
      "The code that caused this warning is on line 389 of the file /home/anna/Documents/PhDWork/Teaching/ex-env/lib/python3.8/site-packages/wikipedia/wikipedia.py. To get rid of this warning, pass the additional argument 'features=\"lxml\"' to the BeautifulSoup constructor.\n",
      "\n",
      "  lis = BeautifulSoup(html).find_all('li')\n"
     ]
    },
    {
     "ename": "DisambiguationError",
     "evalue": "\"Mercury\" may refer to: \nMercury (planet)\nMercury (element)\nMercury (mythology)\nMercury (company)\nMercury (toy manufacturer)\nMercury Communications\nMercury Corporation\nMercury Cyclecar Company\nMercury Drug\nMercury Energy\nMercury Filmworks\nMercury General\nMercury Interactive\nMercury Marine\nMercury Systems\nMercury Truck & Tractor Company\nTP-Link\nMercury (programming language)\nMercury (metadata search system)\nFerranti Mercury\nMercury Browser\nMercury Mail Transport System\nMercury (film)\nMercury (TV series)\nMercury Black\nSailor Mercury\nMercury (Marvel Comics)\nMakkari (comics)\nMetal Men\nCerebro's X-Men\nAmalgam Comics character\nMercury (magazine)\nThe American Mercury\nThe Mercury (Hobart)\nThe Mercury (South Africa)\nThe Mercury (Pennsylvania)\nMercury (Newport)\nReading Mercury\nThe Mercury News\nList of newspapers named Mercury\nMercury (Bova novel)\nMercury (Livesey novel)\nAnna Kavan\nMercury Nashville\nMercury Records\nMercury Prize\nMercury, the Winged Messenger\nMercury (American Music Club album)\nMercury (Longview album)\nMercury (Madder Mortem album)\nMercury – Act 1\nMercury – Acts 1 & 2\n\"Mercury\" (song)\nRecovering the Satellites\nFailer\nPlanetarium\nOperation Mercury\nBoeing E-6 Mercury\nMiles Mercury\nHMS Mercury\nUSS Mercury\nRussian brig Mercury\nMercury (pigeon)\nMercury (name)\nMercury, Savoie\nMercury Bay\nplace in Alabama\nMercury, Nevada\nMercury, Texas\nMercury (plant)\nAnnual mercury\nEnglish mercury\nMercury FM\nMercury 96.6\nEdmonton Mercurys\nFujita Soccer Club Mercury\nMemphis Mercury\nPhoenix Mercury\nToledo Mercurys\nMercury Theatre (disambiguation)\nBlackburn Mercury\nBristol Mercury\nMercury (automobile)\nList of Mercury vehicles\nMercury (cyclecar)\nMercury (train)\nMercury (ship)\nCape Cod Mercury 15\nMercury 18\nProject Mercury\nMercury (satellite)\nArcher Maclean's Mercury\nMercury (cipher machine)\nMercury Boulevard\nMercury Cinema\nShuttle America\nThe Mercury Mall\nAll pages with titles beginning with Mercury \nThe American Mercury\nMercuri\nMercury 1 (disambiguation)\nMercury 2 (disambiguation)\nMercury 3 (disambiguation)\nMercury 4 (disambiguation)\nMercury 5 (disambiguation)\nMercury 6 (disambiguation)\nMercury 7 (disambiguation)\nMercury 8 (disambiguation)\nMercury City (disambiguation)\nMercury FM (disambiguation)\nMercury House (disambiguation)\nMercury mission (disambiguation)\nMercury program (disambiguation)\nMercury project (disambiguation)\nAll pages with titles containing Mercury",
     "output_type": "error",
     "traceback": [
      "\u001b[0;31m---------------------------------------------------------------------------\u001b[0m",
      "\u001b[0;31mDisambiguationError\u001b[0m                       Traceback (most recent call last)",
      "Cell \u001b[0;32mIn[5], line 1\u001b[0m\n\u001b[0;32m----> 1\u001b[0m \u001b[43mwikipedia\u001b[49m\u001b[38;5;241;43m.\u001b[39;49m\u001b[43msummary\u001b[49m\u001b[43m(\u001b[49m\u001b[38;5;124;43m\"\u001b[39;49m\u001b[38;5;124;43mmercury\u001b[39;49m\u001b[38;5;124;43m\"\u001b[39;49m\u001b[43m)\u001b[49m\n",
      "File \u001b[0;32m~/Documents/PhDWork/Teaching/ex-env/lib/python3.8/site-packages/wikipedia/util.py:28\u001b[0m, in \u001b[0;36mcache.__call__\u001b[0;34m(self, *args, **kwargs)\u001b[0m\n\u001b[1;32m     26\u001b[0m   ret \u001b[38;5;241m=\u001b[39m \u001b[38;5;28mself\u001b[39m\u001b[38;5;241m.\u001b[39m_cache[key]\n\u001b[1;32m     27\u001b[0m \u001b[38;5;28;01melse\u001b[39;00m:\n\u001b[0;32m---> 28\u001b[0m   ret \u001b[38;5;241m=\u001b[39m \u001b[38;5;28mself\u001b[39m\u001b[38;5;241m.\u001b[39m_cache[key] \u001b[38;5;241m=\u001b[39m \u001b[38;5;28;43mself\u001b[39;49m\u001b[38;5;241;43m.\u001b[39;49m\u001b[43mfn\u001b[49m\u001b[43m(\u001b[49m\u001b[38;5;241;43m*\u001b[39;49m\u001b[43margs\u001b[49m\u001b[43m,\u001b[49m\u001b[43m \u001b[49m\u001b[38;5;241;43m*\u001b[39;49m\u001b[38;5;241;43m*\u001b[39;49m\u001b[43mkwargs\u001b[49m\u001b[43m)\u001b[49m\n\u001b[1;32m     30\u001b[0m \u001b[38;5;28;01mreturn\u001b[39;00m ret\n",
      "File \u001b[0;32m~/Documents/PhDWork/Teaching/ex-env/lib/python3.8/site-packages/wikipedia/wikipedia.py:231\u001b[0m, in \u001b[0;36msummary\u001b[0;34m(title, sentences, chars, auto_suggest, redirect)\u001b[0m\n\u001b[1;32m    216\u001b[0m \u001b[38;5;250m\u001b[39m\u001b[38;5;124;03m'''\u001b[39;00m\n\u001b[1;32m    217\u001b[0m \u001b[38;5;124;03mPlain text summary of the page.\u001b[39;00m\n\u001b[1;32m    218\u001b[0m \n\u001b[0;32m   (...)\u001b[0m\n\u001b[1;32m    226\u001b[0m \u001b[38;5;124;03m* redirect - allow redirection without raising RedirectError\u001b[39;00m\n\u001b[1;32m    227\u001b[0m \u001b[38;5;124;03m'''\u001b[39;00m\n\u001b[1;32m    229\u001b[0m \u001b[38;5;66;03m# use auto_suggest and redirect to get the correct article\u001b[39;00m\n\u001b[1;32m    230\u001b[0m \u001b[38;5;66;03m# also, use page's error checking to raise DisambiguationError if necessary\u001b[39;00m\n\u001b[0;32m--> 231\u001b[0m page_info \u001b[38;5;241m=\u001b[39m \u001b[43mpage\u001b[49m\u001b[43m(\u001b[49m\u001b[43mtitle\u001b[49m\u001b[43m,\u001b[49m\u001b[43m \u001b[49m\u001b[43mauto_suggest\u001b[49m\u001b[38;5;241;43m=\u001b[39;49m\u001b[43mauto_suggest\u001b[49m\u001b[43m,\u001b[49m\u001b[43m \u001b[49m\u001b[43mredirect\u001b[49m\u001b[38;5;241;43m=\u001b[39;49m\u001b[43mredirect\u001b[49m\u001b[43m)\u001b[49m\n\u001b[1;32m    232\u001b[0m title \u001b[38;5;241m=\u001b[39m page_info\u001b[38;5;241m.\u001b[39mtitle\n\u001b[1;32m    233\u001b[0m pageid \u001b[38;5;241m=\u001b[39m page_info\u001b[38;5;241m.\u001b[39mpageid\n",
      "File \u001b[0;32m~/Documents/PhDWork/Teaching/ex-env/lib/python3.8/site-packages/wikipedia/wikipedia.py:276\u001b[0m, in \u001b[0;36mpage\u001b[0;34m(title, pageid, auto_suggest, redirect, preload)\u001b[0m\n\u001b[1;32m    273\u001b[0m     \u001b[38;5;28;01mexcept\u001b[39;00m \u001b[38;5;167;01mIndexError\u001b[39;00m:\n\u001b[1;32m    274\u001b[0m       \u001b[38;5;66;03m# if there is no suggestion or search results, the page doesn't exist\u001b[39;00m\n\u001b[1;32m    275\u001b[0m       \u001b[38;5;28;01mraise\u001b[39;00m PageError(title)\n\u001b[0;32m--> 276\u001b[0m   \u001b[38;5;28;01mreturn\u001b[39;00m \u001b[43mWikipediaPage\u001b[49m\u001b[43m(\u001b[49m\u001b[43mtitle\u001b[49m\u001b[43m,\u001b[49m\u001b[43m \u001b[49m\u001b[43mredirect\u001b[49m\u001b[38;5;241;43m=\u001b[39;49m\u001b[43mredirect\u001b[49m\u001b[43m,\u001b[49m\u001b[43m \u001b[49m\u001b[43mpreload\u001b[49m\u001b[38;5;241;43m=\u001b[39;49m\u001b[43mpreload\u001b[49m\u001b[43m)\u001b[49m\n\u001b[1;32m    277\u001b[0m \u001b[38;5;28;01melif\u001b[39;00m pageid \u001b[38;5;129;01mis\u001b[39;00m \u001b[38;5;129;01mnot\u001b[39;00m \u001b[38;5;28;01mNone\u001b[39;00m:\n\u001b[1;32m    278\u001b[0m   \u001b[38;5;28;01mreturn\u001b[39;00m WikipediaPage(pageid\u001b[38;5;241m=\u001b[39mpageid, preload\u001b[38;5;241m=\u001b[39mpreload)\n",
      "File \u001b[0;32m~/Documents/PhDWork/Teaching/ex-env/lib/python3.8/site-packages/wikipedia/wikipedia.py:299\u001b[0m, in \u001b[0;36mWikipediaPage.__init__\u001b[0;34m(self, title, pageid, redirect, preload, original_title)\u001b[0m\n\u001b[1;32m    296\u001b[0m \u001b[38;5;28;01melse\u001b[39;00m:\n\u001b[1;32m    297\u001b[0m   \u001b[38;5;28;01mraise\u001b[39;00m \u001b[38;5;167;01mValueError\u001b[39;00m(\u001b[38;5;124m\"\u001b[39m\u001b[38;5;124mEither a title or a pageid must be specified\u001b[39m\u001b[38;5;124m\"\u001b[39m)\n\u001b[0;32m--> 299\u001b[0m \u001b[38;5;28;43mself\u001b[39;49m\u001b[38;5;241;43m.\u001b[39;49m\u001b[43m__load\u001b[49m\u001b[43m(\u001b[49m\u001b[43mredirect\u001b[49m\u001b[38;5;241;43m=\u001b[39;49m\u001b[43mredirect\u001b[49m\u001b[43m,\u001b[49m\u001b[43m \u001b[49m\u001b[43mpreload\u001b[49m\u001b[38;5;241;43m=\u001b[39;49m\u001b[43mpreload\u001b[49m\u001b[43m)\u001b[49m\n\u001b[1;32m    301\u001b[0m \u001b[38;5;28;01mif\u001b[39;00m preload:\n\u001b[1;32m    302\u001b[0m   \u001b[38;5;28;01mfor\u001b[39;00m prop \u001b[38;5;129;01min\u001b[39;00m (\u001b[38;5;124m'\u001b[39m\u001b[38;5;124mcontent\u001b[39m\u001b[38;5;124m'\u001b[39m, \u001b[38;5;124m'\u001b[39m\u001b[38;5;124msummary\u001b[39m\u001b[38;5;124m'\u001b[39m, \u001b[38;5;124m'\u001b[39m\u001b[38;5;124mimages\u001b[39m\u001b[38;5;124m'\u001b[39m, \u001b[38;5;124m'\u001b[39m\u001b[38;5;124mreferences\u001b[39m\u001b[38;5;124m'\u001b[39m, \u001b[38;5;124m'\u001b[39m\u001b[38;5;124mlinks\u001b[39m\u001b[38;5;124m'\u001b[39m, \u001b[38;5;124m'\u001b[39m\u001b[38;5;124msections\u001b[39m\u001b[38;5;124m'\u001b[39m):\n",
      "File \u001b[0;32m~/Documents/PhDWork/Teaching/ex-env/lib/python3.8/site-packages/wikipedia/wikipedia.py:393\u001b[0m, in \u001b[0;36mWikipediaPage.__load\u001b[0;34m(self, redirect, preload)\u001b[0m\n\u001b[1;32m    390\u001b[0m   filtered_lis \u001b[38;5;241m=\u001b[39m [li \u001b[38;5;28;01mfor\u001b[39;00m li \u001b[38;5;129;01min\u001b[39;00m lis \u001b[38;5;28;01mif\u001b[39;00m \u001b[38;5;129;01mnot\u001b[39;00m \u001b[38;5;124m'\u001b[39m\u001b[38;5;124mtocsection\u001b[39m\u001b[38;5;124m'\u001b[39m \u001b[38;5;129;01min\u001b[39;00m \u001b[38;5;124m'\u001b[39m\u001b[38;5;124m'\u001b[39m\u001b[38;5;241m.\u001b[39mjoin(li\u001b[38;5;241m.\u001b[39mget(\u001b[38;5;124m'\u001b[39m\u001b[38;5;124mclass\u001b[39m\u001b[38;5;124m'\u001b[39m, []))]\n\u001b[1;32m    391\u001b[0m   may_refer_to \u001b[38;5;241m=\u001b[39m [li\u001b[38;5;241m.\u001b[39ma\u001b[38;5;241m.\u001b[39mget_text() \u001b[38;5;28;01mfor\u001b[39;00m li \u001b[38;5;129;01min\u001b[39;00m filtered_lis \u001b[38;5;28;01mif\u001b[39;00m li\u001b[38;5;241m.\u001b[39ma]\n\u001b[0;32m--> 393\u001b[0m   \u001b[38;5;28;01mraise\u001b[39;00m DisambiguationError(\u001b[38;5;28mgetattr\u001b[39m(\u001b[38;5;28mself\u001b[39m, \u001b[38;5;124m'\u001b[39m\u001b[38;5;124mtitle\u001b[39m\u001b[38;5;124m'\u001b[39m, page[\u001b[38;5;124m'\u001b[39m\u001b[38;5;124mtitle\u001b[39m\u001b[38;5;124m'\u001b[39m]), may_refer_to)\n\u001b[1;32m    395\u001b[0m \u001b[38;5;28;01melse\u001b[39;00m:\n\u001b[1;32m    396\u001b[0m   \u001b[38;5;28mself\u001b[39m\u001b[38;5;241m.\u001b[39mpageid \u001b[38;5;241m=\u001b[39m pageid\n",
      "\u001b[0;31mDisambiguationError\u001b[0m: \"Mercury\" may refer to: \nMercury (planet)\nMercury (element)\nMercury (mythology)\nMercury (company)\nMercury (toy manufacturer)\nMercury Communications\nMercury Corporation\nMercury Cyclecar Company\nMercury Drug\nMercury Energy\nMercury Filmworks\nMercury General\nMercury Interactive\nMercury Marine\nMercury Systems\nMercury Truck & Tractor Company\nTP-Link\nMercury (programming language)\nMercury (metadata search system)\nFerranti Mercury\nMercury Browser\nMercury Mail Transport System\nMercury (film)\nMercury (TV series)\nMercury Black\nSailor Mercury\nMercury (Marvel Comics)\nMakkari (comics)\nMetal Men\nCerebro's X-Men\nAmalgam Comics character\nMercury (magazine)\nThe American Mercury\nThe Mercury (Hobart)\nThe Mercury (South Africa)\nThe Mercury (Pennsylvania)\nMercury (Newport)\nReading Mercury\nThe Mercury News\nList of newspapers named Mercury\nMercury (Bova novel)\nMercury (Livesey novel)\nAnna Kavan\nMercury Nashville\nMercury Records\nMercury Prize\nMercury, the Winged Messenger\nMercury (American Music Club album)\nMercury (Longview album)\nMercury (Madder Mortem album)\nMercury – Act 1\nMercury – Acts 1 & 2\n\"Mercury\" (song)\nRecovering the Satellites\nFailer\nPlanetarium\nOperation Mercury\nBoeing E-6 Mercury\nMiles Mercury\nHMS Mercury\nUSS Mercury\nRussian brig Mercury\nMercury (pigeon)\nMercury (name)\nMercury, Savoie\nMercury Bay\nplace in Alabama\nMercury, Nevada\nMercury, Texas\nMercury (plant)\nAnnual mercury\nEnglish mercury\nMercury FM\nMercury 96.6\nEdmonton Mercurys\nFujita Soccer Club Mercury\nMemphis Mercury\nPhoenix Mercury\nToledo Mercurys\nMercury Theatre (disambiguation)\nBlackburn Mercury\nBristol Mercury\nMercury (automobile)\nList of Mercury vehicles\nMercury (cyclecar)\nMercury (train)\nMercury (ship)\nCape Cod Mercury 15\nMercury 18\nProject Mercury\nMercury (satellite)\nArcher Maclean's Mercury\nMercury (cipher machine)\nMercury Boulevard\nMercury Cinema\nShuttle America\nThe Mercury Mall\nAll pages with titles beginning with Mercury \nThe American Mercury\nMercuri\nMercury 1 (disambiguation)\nMercury 2 (disambiguation)\nMercury 3 (disambiguation)\nMercury 4 (disambiguation)\nMercury 5 (disambiguation)\nMercury 6 (disambiguation)\nMercury 7 (disambiguation)\nMercury 8 (disambiguation)\nMercury City (disambiguation)\nMercury FM (disambiguation)\nMercury House (disambiguation)\nMercury mission (disambiguation)\nMercury program (disambiguation)\nMercury project (disambiguation)\nAll pages with titles containing Mercury"
     ]
    }
   ],
   "source": [
    "wikipedia.summary(\"mercury\")"
   ]
  },
  {
   "cell_type": "code",
   "execution_count": 6,
   "id": "87c847c2",
   "metadata": {},
   "outputs": [
    {
     "name": "stdout",
     "output_type": "stream",
     "text": [
      "['Mercury (planet)', 'Mercury (element)', 'Mercury (mythology)', 'Mercury (company)', 'Mercury (toy manufacturer)', 'Mercury Communications', 'Mercury Corporation', 'Mercury Cyclecar Company', 'Mercury Drug', 'Mercury Energy', 'Mercury Filmworks', 'Mercury General', 'Mercury Interactive', 'Mercury Marine', 'Mercury Systems', 'Mercury Truck & Tractor Company', 'TP-Link', 'Mercury (programming language)', 'Mercury (metadata search system)', 'Ferranti Mercury', 'Mercury Browser', 'Mercury Mail Transport System', 'Mercury (film)', 'Mercury (TV series)', 'Mercury Black', 'Sailor Mercury', 'Mercury (Marvel Comics)', 'Makkari (comics)', 'Metal Men', \"Cerebro's X-Men\", 'Amalgam Comics character', 'Mercury (magazine)', 'The American Mercury', 'The Mercury (Hobart)', 'The Mercury (South Africa)', 'The Mercury (Pennsylvania)', 'Mercury (Newport)', 'Reading Mercury', 'The Mercury News', 'List of newspapers named Mercury', 'Mercury (Bova novel)', 'Mercury (Livesey novel)', 'Anna Kavan', 'Mercury Nashville', 'Mercury Records', 'Mercury Prize', 'Mercury, the Winged Messenger', 'Mercury (American Music Club album)', 'Mercury (Longview album)', 'Mercury (Madder Mortem album)', 'Mercury – Act 1', 'Mercury – Acts 1 & 2', '\"Mercury\" (song)', 'Recovering the Satellites', 'Failer', 'Planetarium', 'Operation Mercury', 'Boeing E-6 Mercury', 'Miles Mercury', 'HMS\\xa0Mercury', 'USS\\xa0Mercury', 'Russian brig\\xa0Mercury', 'Mercury (pigeon)', 'Mercury (name)', 'Mercury, Savoie', 'Mercury Bay', 'place in Alabama', 'Mercury, Nevada', 'Mercury, Texas', 'Mercury (plant)', 'Annual mercury', 'English mercury', 'Mercury FM', 'Mercury 96.6', 'Edmonton Mercurys', 'Fujita Soccer Club Mercury', 'Memphis Mercury', 'Phoenix Mercury', 'Toledo Mercurys', 'Mercury Theatre (disambiguation)', 'Blackburn Mercury', 'Bristol Mercury', 'Mercury (automobile)', 'List of Mercury vehicles', 'Mercury (cyclecar)', 'Mercury (train)', 'Mercury\\xa0(ship)', 'Cape Cod Mercury 15', 'Mercury 18', 'Project Mercury', 'Mercury (satellite)', \"Archer Maclean's Mercury\", 'Mercury (cipher machine)', 'Mercury Boulevard', 'Mercury Cinema', 'Shuttle America', 'The Mercury Mall', 'All pages with titles beginning with Mercury ', 'The American Mercury', 'Mercuri', 'Mercury 1 (disambiguation)', 'Mercury 2 (disambiguation)', 'Mercury 3 (disambiguation)', 'Mercury 4 (disambiguation)', 'Mercury 5 (disambiguation)', 'Mercury 6 (disambiguation)', 'Mercury 7 (disambiguation)', 'Mercury 8 (disambiguation)', 'Mercury City (disambiguation)', 'Mercury FM (disambiguation)', 'Mercury House (disambiguation)', 'Mercury mission (disambiguation)', 'Mercury program (disambiguation)', 'Mercury project (disambiguation)', 'All pages with titles containing Mercury']\n"
     ]
    }
   ],
   "source": [
    "try:\n",
    "    mercury = wikipedia.summary(\"mercury\")\n",
    "except wikipedia.DisambiguationError as e:\n",
    "    print(e.options)"
   ]
  },
  {
   "cell_type": "code",
   "execution_count": 15,
   "id": "74861993",
   "metadata": {},
   "outputs": [
    {
     "data": {
      "text/plain": [
       "['Mercury (planet)',\n",
       " 'Mercury',\n",
       " 'Outline of Mercury (planet)',\n",
       " 'Vulcan (hypothetical planet)',\n",
       " 'List of Mercury-crossing minor planets',\n",
       " 'Exploration of Mercury',\n",
       " 'Planet',\n",
       " 'List of geological features on Mercury',\n",
       " 'Terrestrial planet',\n",
       " 'Atmosphere of Mercury']"
      ]
     },
     "execution_count": 15,
     "metadata": {},
     "output_type": "execute_result"
    }
   ],
   "source": [
    "wikipedia.search(\"Mercury (planet)\")"
   ]
  },
  {
   "cell_type": "code",
   "execution_count": 9,
   "id": "243fcfc2",
   "metadata": {},
   "outputs": [],
   "source": [
    "ny = wikipedia.page(title=\"New York City\", auto_suggest=False)"
   ]
  },
  {
   "cell_type": "code",
   "execution_count": 10,
   "id": "7f30714f",
   "metadata": {},
   "outputs": [
    {
     "data": {
      "text/plain": [
       "<WikipediaPage 'New York City'>"
      ]
     },
     "execution_count": 10,
     "metadata": {},
     "output_type": "execute_result"
    }
   ],
   "source": [
    "ny"
   ]
  },
  {
   "cell_type": "code",
   "execution_count": 16,
   "id": "e328ddff",
   "metadata": {},
   "outputs": [
    {
     "data": {
      "text/plain": [
       "['_WikipediaPage__continued_query',\n",
       " '_WikipediaPage__load',\n",
       " '_WikipediaPage__title_query_param',\n",
       " '__class__',\n",
       " '__delattr__',\n",
       " '__dict__',\n",
       " '__dir__',\n",
       " '__doc__',\n",
       " '__eq__',\n",
       " '__format__',\n",
       " '__ge__',\n",
       " '__getattribute__',\n",
       " '__gt__',\n",
       " '__hash__',\n",
       " '__init__',\n",
       " '__init_subclass__',\n",
       " '__le__',\n",
       " '__lt__',\n",
       " '__module__',\n",
       " '__ne__',\n",
       " '__new__',\n",
       " '__reduce__',\n",
       " '__reduce_ex__',\n",
       " '__repr__',\n",
       " '__setattr__',\n",
       " '__sizeof__',\n",
       " '__str__',\n",
       " '__subclasshook__',\n",
       " '__weakref__',\n",
       " 'categories',\n",
       " 'content',\n",
       " 'coordinates',\n",
       " 'html',\n",
       " 'images',\n",
       " 'links',\n",
       " 'original_title',\n",
       " 'pageid',\n",
       " 'parent_id',\n",
       " 'references',\n",
       " 'revision_id',\n",
       " 'section',\n",
       " 'sections',\n",
       " 'summary',\n",
       " 'title',\n",
       " 'url']"
      ]
     },
     "execution_count": 16,
     "metadata": {},
     "output_type": "execute_result"
    }
   ],
   "source": [
    "dir(ny)"
   ]
  },
  {
   "cell_type": "code",
   "execution_count": 17,
   "id": "6b6e172e",
   "metadata": {},
   "outputs": [
    {
     "data": {
      "text/plain": [
       "'New York City'"
      ]
     },
     "execution_count": 17,
     "metadata": {},
     "output_type": "execute_result"
    }
   ],
   "source": [
    "ny.title"
   ]
  },
  {
   "cell_type": "code",
   "execution_count": 18,
   "id": "a0d9c1be",
   "metadata": {},
   "outputs": [
    {
     "data": {
      "text/plain": [
       "'https://en.wikipedia.org/wiki/New_York_City'"
      ]
     },
     "execution_count": 18,
     "metadata": {},
     "output_type": "execute_result"
    }
   ],
   "source": [
    "ny.url"
   ]
  },
  {
   "cell_type": "code",
   "execution_count": 20,
   "id": "54c4c53c",
   "metadata": {},
   "outputs": [
    {
     "data": {
      "text/plain": [
       "'New York, often called New York City or simply NYC, is the most populous city in the United States, located at the southern tip of New York State on one of the world\\'s largest natural harbors. The city comprises five boroughs, each of which is coextensive with a respective county. It is a global city and a cultural, financial, high-tech, entertainment, and media center with a significant influence on commerce, health care, scientific output, life sciences, research, technology, education, politics, tourism, dining, art, fashion, and sports. Home to the headquarters of the United Nations, New York is an important center for international diplomacy, and it is sometimes described as the world\\'s most important city and the capital of the world.With an estimated population in 2022 of 8,335,897 distributed over 300.46 square miles (778.2 km2), the city is the most densely populated major city in the United States. New York has more than double the population of Los Angeles, the nation\\'s second-most populous city. New York is the geographical and demographic center of both the Northeast megalopolis and the New York metropolitan area, the largest metropolitan area in the U.S. by both population and urban area. With more than 20.1 million people in its metropolitan statistical area and 23.5 million in its combined statistical area as of 2020, New York City is one of the world\\'s most populous megacities. The city and its metropolitan area are the premier gateway for legal immigration to the United States. As many as 800 languages are spoken in New York, making it the most linguistically diverse city in the world. In 2021, the city was home to nearly 3.1 million residents born outside the U.S., the largest foreign-born population of any city in the world.New York City traces its origins to Fort Amsterdam and a trading post founded on the southern tip of Manhattan Island by Dutch colonists in approximately 1624. The settlement was named New Amsterdam (Dutch: Nieuw Amsterdam) in 1626 and was chartered as a city in 1653. The city came under British control in 1664 and was renamed New York after King Charles II granted the lands to his brother, the Duke of York. The city was temporarily regained by the Dutch in July 1673 and was renamed New Orange; however, the city has been named New York since November 1674. New York City was the capital of the United States from 1785 until 1790. The modern city was formed by the 1898 consolidation of its five boroughs: Manhattan, Brooklyn, Queens, The Bronx, and Staten Island, and has been the largest U.S. city ever since. \\nAnchored by Wall Street in the Financial District of Lower Manhattan, New York City has been called both the world\\'s leading financial and fintech center and the most economically powerful city in the world. As of 2022, the New York metropolitan area is the largest metropolitan economy in the world with a gross metropolitan product of over US$2.16 trillion. If the New York metropolitan area were its own country, it would have the tenth-largest economy in the world. The city is home to the world\\'s two largest stock exchanges by market capitalization of their listed companies: the New York Stock Exchange and Nasdaq. New York City is an established safe haven for global investors. As of 2023, New York City is the most expensive city in the world for expatriates to live. New York City is home to the highest number of billionaires, individuals of ultra-high net worth (greater than US$30 million), and millionaires of any city in the world.\\n\\n\\n== Etymology ==\\n\\nIn 1664, New York was named in honor of the Duke of York (later King James II of England). James\\'s elder brother, King Charles II, appointed the Duke as proprietor of the former territory of New Netherland, including the city of New Amsterdam, when England seized it from Dutch control.\\n\\n\\n== History ==\\n\\n\\n=== Early history ===\\n\\nIn the pre-Columbian era, the area of present-day New York City was inhabited by Algonquians, including the Lenape. Their homeland, known as Lenapehoking, included the present-day areas of Staten Island, Manhattan, the Bronx, the western portion of Long Island (including Brooklyn and Queens), and the Lower Hudson Valley.The first documented visit into New York Harbor by a European was in 1524 by Giovanni da Verrazzano, an explorer from Florence in the service of the French crown. He claimed the area for France and named it Nouvelle Angoulême (New Angoulême). A Spanish expedition, led by the Portuguese captain Estêvão Gomes sailing for Emperor Charles V, arrived in New York Harbor in January 1525 and charted the mouth of the Hudson River, which he named Río de San Antonio (\\'Saint Anthony\\'s River\\').In 1609, the English explorer Henry Hudson rediscovered New York Harbor while searching for the Northwest Passage to the Orient for the Dutch East India Company. He proceeded to sail up what the Dutch would name the North River (now the Hudson River), named first by Hudson as the Mauritius after Maurice, Prince of Orange. Hudson\\'s first mate described the harbor as \"a very good Harbour for all windes\" and the river as \"a mile broad\" and \"full of fish\".Hudson claimed the region for the Dutch East India Company. In 1614, the area between Cape Cod and Delaware Bay was claimed by the Netherlands and called Nieuw-Nederland (\\'New Netherland\\'). The first non–Native American inhabitant of what would eventually become New York City was Juan Rodriguez, a merchant from Santo Domingo who arrived in Manhattan during the winter of 1613–14, trapping for pelts and trading with the local population as a representative of the Dutch colonists.\\n\\n\\n=== Dutch rule ===\\n\\nA permanent European presence near New York Harbor was established in 1624, making New York the 12th-oldest continuously occupied European-established settlement in the continental United States, with the founding of a Dutch fur trading settlement on Governors Island. In 1625, construction was started on a citadel and Fort Amsterdam, later called Nieuw Amsterdam (New Amsterdam), on present-day Manhattan Island.The colony of New Amsterdam was centered on what would ultimately become Lower Manhattan. Its area extended from the southern tip of Manhattan to modern-day Wall Street, where a 12-foot (3.7 m) wooden stockade was built in 1653 to protect against Native American and British raids. In 1626, the Dutch colonial Director-General Peter Minuit, acting as charged by the Dutch West India Company, purchased the island of Manhattan from the Canarsie, a small Lenape band, for \"the value of 60 guilders\" (about $900 in 2018). A frequently told but disproved legend claims that Manhattan was purchased for $24 worth of glass beads.Following the purchase, New Amsterdam grew slowly. To attract settlers, the Dutch instituted the patroon system in 1628, whereby wealthy Dutchmen (patroons, or patrons) who brought 50 colonists to New Netherland would be awarded swaths of land, along with local political autonomy and rights to participate in the lucrative fur trade. This program had little success.Since 1621, the Dutch West India Company had operated as a monopoly in New Netherland, on authority granted by the Dutch States General. In 1639–1640, in an effort to bolster economic growth, the Dutch West India Company relinquished its monopoly over the fur trade, leading to growth in the production and trade of food, timber, tobacco, and slaves (particularly with the Dutch West Indies).In 1647, Peter Stuyvesant began his tenure as the last Director-General of New Netherland. During his tenure, the population of New Netherland grew from 2,000 to 8,000. Stuyvesant has been credited with improving law and order in the colony; however, he earned a reputation as a despotic leader. He instituted regulations on liquor sales, attempted to assert control over the Dutch Reformed Church, and blocked other religious groups (including Quakers, Jews, and Lutherans) from establishing houses of worship. The Dutch West India Company would eventually attempt to ease tensions between Stuyvesant and residents of New Amsterdam.\\n\\n\\n=== English rule ===\\n\\nIn 1664, unable to summon any significant resistance, Stuyvesant surrendered New Amsterdam to English troops, led by Colonel Richard Nicolls, without bloodshed. The terms of the surrender permitted Dutch residents to remain in the colony and allowed for religious freedom.In 1667, during negotiations leading to the Treaty of Breda after the Second Anglo-Dutch War, the victorious Dutch decided to keep the nascent plantation colony of what is now Suriname on the northern South American coast, which they had gained from the English; and in return, the English kept New Amsterdam. The fledgling settlement was promptly renamed \"New York\" after the Duke of York (the future King James II and VII). After the founding, the duke gave part of the colony to proprietors George Carteret and John Berkeley. Fort Orange, 150 miles (240 km) north on the Hudson River, was renamed Albany after James\\'s Scottish title.On August 24, 1673, during the Third Anglo-Dutch War, Anthony Colve of the Dutch navy seized New York from the English at the behest of Cornelis Evertsen the Youngest and rechristened it \"New Orange\" after William III, the Prince of Orange. The Dutch would soon return the island to England under the Treaty of Westminster of November 1674.Several intertribal wars among the Native Americans and some epidemics brought on by contact with the Europeans caused sizeable population losses for the Lenape between the years 1660 and 1670. By 1700, the Lenape population had diminished to 200. New York experienced several yellow fever epidemics in the 18th century, losing ten percent of its population in 1702 alone.In the early 18th century, New York grew in importance as a trading port while as a part of the colony of New York. It became a center of slavery, with 42% of households enslaving Africans by 1730. Most cases were that of domestic slavery; others were hired out to work at labor. Slavery became integrally tied to New York\\'s economy through the labor of slaves throughout the port, and the banking and shipping industries trading with the American South. During construction in Foley Square in the 1990s, the African Burying Ground was discovered; the cemetery included 10,000 to 20,000 of graves of colonial-era Africans, some enslaved and some free.The 1735 trial and acquittal in Manhattan of John Peter Zenger, who had been accused of seditious libel after criticizing colonial governor William Cosby, helped to establish freedom of the press in North America. In 1754, Columbia University was founded under charter by King George II as King\\'s College in Lower Manhattan.\\n\\n\\n=== American Revolution ===\\n\\nThe Stamp Act Congress met in New York in October 1765, as the Sons of Liberty organization emerged in the city and skirmished over the next ten years with British troops stationed there. The Battle of Long Island, the largest battle of the American Revolutionary War, was fought in August 1776 within the modern-day borough of Brooklyn. A British rout of the Continental Army at the Battle of Fort Washington in November 1776 eliminated the last American stronghold in Manhattan, forcing George Washington and his forces in retreat across the Hudson River to New Jersey, pursued by British forces.After the battle, in which the Americans were defeated, the British made the city their military and political base of operations in North America. The city was a haven for Loyalist refugees and escaped slaves who joined the British lines for freedom newly promised by the Crown, with as many as 10,000 escaped slaves crowded into the city during the British occupation, which had become the largest such community on the continent. When the British forces evacuated New York at the close of the war in 1783, they transported thousands of freedmen for resettlement in Nova Scotia, England, and the Caribbean.The attempt at a peaceful solution to the war took place at the Conference House on Staten Island between American delegates, including Benjamin Franklin, and British general Lord Howe on September 11, 1776. Shortly after the British occupation began, the Great Fire of New York occurred, a large conflagration on the West Side of Lower Manhattan, which destroyed nearly 500 buildings, about a quarter of the structures in the city, including Trinity Church.\\n\\n\\n=== Post-revolutionary period and early 19th century ===\\n\\nIn January 1785, the assembly of the Congress of the Confederation made New York City the national capital, shortly after the war. New York was the last capital of the U.S. under the Articles of Confederation and the first capital under the Constitution of the United States. As the U.S. capital, New York City hosted several events of national scope in 1789—the first President of the United States, George Washington, was inaugurated; the first United States Congress and the Supreme Court of the United States each assembled for the first time; and the United States Bill of Rights was drafted, all at Federal Hall on Wall Street.In 1790, for the first time, New York City, surpassed Philadelphia as the nation\\'s largest city. At the end of 1790, the national capital was moved to Philadelphia.Over the nineteenth century, New York City\\'s population grew from 60,000 to 3.43 million. Under New York State\\'s gradual emancipation act of 1799, children of slave mothers were to be eventually liberated but to be held in indentured servitude until their mid-to-late twenties. Together with slaves freed by their masters after the Revolutionary War and escaped slaves, a significant free-Black population gradually developed in Manhattan. Under such influential United States founders as Alexander Hamilton and John Jay, the New York Manumission Society worked for abolition and established the African Free School to educate Black children. It was not until 1827 that slavery was completely abolished in the state. Free Blacks struggled afterward with discrimination and interracial abolitionist activism continued. New York city\\'s population jumped from 123,706 in 1820 (10,886 of whom were Black and of which 518 were enslaved) to 312,710 by 1840 (16,358 of whom were Black).\\nIn the 19th century, the city was transformed by both commercial and residential development relating to its status as a national and international trading center, as well as by European immigration, respectively. The city adopted the Commissioners\\' Plan of 1811, which expanded the city street grid to encompass almost all of Manhattan. The 1825 completion of the Erie Canal through central New York connected the Atlantic port to the agricultural markets and commodities of the North American interior via the Hudson River and the Great Lakes. Local politics became dominated by Tammany Hall, a political machine supported by Irish and German immigrants.Several prominent American literary figures lived in New York during the 1830s and 1840s, including William Cullen Bryant, Washington Irving, Herman Melville, Rufus Wilmot Griswold, John Keese, Nathaniel Parker Willis, and Edgar Allan Poe. Public-minded members of the contemporaneous business elite lobbied for the establishment of Central Park, which in 1857 became the first landscaped park in an American city.The Great Irish Famine brought a large influx of Irish immigrants, of whom more than 200,000 were living in New York by 1860, representing upward of one-quarter of the city\\'s population. There was also extensive immigration from the German provinces, where revolutions had disrupted societies, and Germans comprised another 25% of New York\\'s population by 1860.\\n\\n\\n=== American Civil War ===\\n\\nDemocratic Party candidates were consistently elected to local office, increasing the city\\'s ties to the South and its dominant party. In 1861, Mayor Fernando Wood called on the aldermen to declare independence from Albany and the United States after the South seceded, but his proposal was not acted on. Anger at new military conscription laws during the American Civil War (1861–1865), which spared wealthier men who could afford to hire a substitute, led to the Draft Riots of 1863, whose most visible participants were ethnic Irish working class.The draft riots deteriorated into attacks on New York\\'s elite, followed by attacks on Black New Yorkers and their property after fierce competition for a decade between Irish immigrants and Black people for work. Rioters burned the Colored Orphan Asylum to the ground, with more than 200 children escaping harm due to efforts of the New York Police Department, which was mainly made up of Irish immigrants.At least 120 people were killed. Eleven Black men were lynched over five days, and the riots forced hundreds of Blacks to flee. The Black population in Manhattan fell below 10,000 by 1865. The White working class had established dominance. Violence by longshoremen against Black men was especially fierce in the docks area. It was one of the worst incidents of civil unrest in American history.\\n\\n\\n=== Late 19th and early 20th century ===\\n\\nIn 1886, the Statue of Liberty, a gift from France, was dedicated in New York Harbor. The statue welcomed 14 million immigrants as they came to the U.S. via Ellis Island by ship in the late 19th and early 20th centuries, and is a symbol of the United States and American ideals of liberty and peace.In 1898, the City of New York was formed with the consolidation of Brooklyn (until then a separate city), the County of New York (which then included parts of the Bronx), the County of Richmond, and the western portion of the County of Queens. The opening of the subway in 1904, first built as separate private systems, helped bind the new city together. Throughout the first half of the 20th century, the city became a world center for industry, commerce, and communication.In 1904, the steamship General Slocum caught fire in the East River, killing 1,021 people on board. In 1911, the Triangle Shirtwaist Factory fire, the city\\'s worst industrial disaster, killed 146 garment workers and spurred the growth of the International Ladies\\' Garment Workers\\' Union and major improvements in factory safety standards.\\nNew York\\'s non-White population was 36,620 in 1890. New York City was a prime destination in the early twentieth century for African Americans during the Great Migration from the American South, and by 1916, New York City had become home to the largest urban African diaspora in North America. The Harlem Renaissance of literary and cultural life flourished during the era of Prohibition. The larger economic boom generated construction of skyscrapers competing in height and creating an identifiable skyline.\\nNew York City became the most populous urbanized area in the world in the early 1920s, overtaking London. The metropolitan area surpassed the 10 million mark in the early 1930s, becoming the first megacity in human history. The Great Depression saw the election of reformer Fiorello La Guardia as mayor and the fall of Tammany Hall after eighty years of political dominance.Returning World War II veterans created a post-war economic boom and the development of large housing tracts in eastern Queens and Nassau County. New York emerged from the war unscathed as the leading city of the world, with Wall Street leading America\\'s place as the world\\'s dominant economic power. The United Nations headquarters was completed in 1952, solidifying New York\\'s global geopolitical influence, and the rise of abstract expressionism in the city precipitated New York\\'s displacement of Paris as the center of the art world.\\n\\n\\n=== Late 20th and early 21st centuries ===\\n\\nIn 1969, the Stonewall riots were a series of spontaneous, violent protests by members of the gay community against a police raid that took place in the early morning of June 28, 1969, at the Stonewall Inn in the Greenwich Village neighborhood of Lower Manhattan. They are widely considered to be the single most important event leading to the gay liberation movement and the modern fight for LGBT rights. Wayne R. Dynes, author of the Encyclopedia of Homosexuality, wrote that drag queens were the only \"transgender folks around\" during the June 1969 Stonewall riots. The transgender community in New York City played a significant role in fighting for LGBT equality during the period of the Stonewall riots and thereafter.\\nIn the 1970s, job losses due to industrial restructuring caused New York City to suffer from economic problems and rising crime rates. While a resurgence in the financial industry greatly improved the city\\'s economic health in the 1980s, New York\\'s crime rate continued to increase through that decade and into the beginning of the 1990s. By the mid-1990s, crime rates started to drop dramatically due to revised police strategies, improving economic opportunities, gentrification, and new residents, both American transplants and new immigrants from Asia and Latin America.\\nNew York City\\'s population exceeded 8 million for the first time in the 2000 United States census, breaking the previous peak census population set in the 1970 census; further records were set in 2010, and 2020 US censuses. Important new sectors, such as Silicon Alley, emerged in the city\\'s economy.\\nThe advent of Y2K was celebrated with fanfare in Times Square. New York City suffered the bulk of the economic damage and largest loss of human life in the aftermath of the September 11, 2001, attacks. Two of the four airliners hijacked that day were flown into the twin towers of the World Trade Center, resulting in the collapse of both buildings and the deaths of 2,753 people, including 343 first responders from the New York City Fire Department and 71 law enforcement officers. The North Tower became, and remains, the tallest building to ever be destroyed.The area was rebuilt with a new World Trade Center, the National September 11 Memorial and Museum, and other new buildings and infrastructure, including the World Trade Center Transportation Hub, the city\\'s third-largest hub. The new One World Trade Center is the tallest skyscraper in the Western Hemisphere and the seventh-tallest building in the world by pinnacle height, with its spire reaching a symbolic 1,776 feet (541.3 m) in reference to the year of U.S. independence.The Occupy Wall Street protests in Zuccotti Park in the Financial District of Lower Manhattan began on September 17, 2011, receiving global attention and popularizing the Occupy movement against social and economic inequality worldwide.New York City was heavily affected by Hurricane Sandy in late October 2012. Sandy\\'s impacts included flooding that led to the days-long shutdown of the New York City Subway system and flooding of all East River subway tunnels and of all road tunnels entering Manhattan except the Lincoln Tunnel. The New York Stock Exchange closed for two consecutive days due to weather for the first time since the Great Blizzard of 1888. At least 43 people died in New York City as a result of Sandy, and the economic losses in New York City were estimated to be roughly $19 billion. The disaster spawned long-term efforts towards infrastructural projects to counter climate change and rising seas, with $15 billion in federal funding received through 2022 towards those resiliency efforts.In March 2020, the first case of COVID-19 in the city was confirmed in Manhattan. With its great population density and its exposure to global travelers, the city rapidly replaced Wuhan, China, to become the global epicenter of the pandemic during the early phase, straining the city\\'s healthcare infrastructure. Through March 2023, New York City had recorded more than 80,000 deaths from COVID-19-related complications.\\n\\n\\n== Geography ==\\n\\nNew York City is situated in the northeastern United States, in southeastern New York State, approximately halfway between Washington, D.C. and Boston. Its location at the mouth of the Hudson River, which feeds into a naturally sheltered harbor and then into the Atlantic Ocean, has helped the city grow in significance as a trading port. Most of the city is built on the three islands of Long Island, Manhattan, and Staten Island.\\nDuring the Wisconsin glaciation, 75,000 to 11,000 years ago, the New York City area was situated at the edge of a large ice sheet. The erosive forward movement of the ice (and its subsequent retreat) contributed to the separation of what is now Long Island and Staten Island. That action left bedrock at a relatively shallow depth, providing a solid foundation for most of Manhattan\\'s skyscrapers.The Hudson River flows through the Hudson Valley into New York Bay. Between New York City and Troy, New York, the river is an estuary. The Hudson River separates the city from the U.S. state of New Jersey. The East River—a tidal strait—flows from Long Island Sound and separates the Bronx and Manhattan from Long Island. The Harlem River, another tidal strait between the East and Hudson rivers, separates most of Manhattan from the Bronx. The Bronx River, which flows through the Bronx and Westchester County, is the only entirely freshwater river in the city.The city\\'s land has been altered substantially by human intervention, with considerable land reclamation along the waterfronts since Dutch colonial times; reclamation is most prominent in Lower Manhattan, with developments such as Battery Park City in the 1970s and 1980s. Some of the natural relief in topography has been evened out, especially in Manhattan.The city\\'s total area is 468.484 square miles (1,213.37 km2). 302.643 sq mi (783.84 km2) of the city is land and 165.841 sq mi (429.53 km2) of is water. The highest point in the city is Todt Hill on Staten Island, which, at 409.8 feet (124.9 m) above sea level, is the highest point on the eastern seaboard south of Maine. The summit of the ridge is mostly covered in woodlands as part of the Staten Island Greenbelt.\\n\\n\\n=== Boroughs ===\\n\\nNew York City is sometimes referred to collectively as the Five Boroughs. Each borough is coextensive with a respective county of New York State, making New York City one of the U.S. municipalities in multiple counties. \\nManhattan (New York County) is the geographically smallest and most densely populated borough. It is home to Central Park and most of the city\\'s skyscrapers, and is sometimes locally known as The City. Manhattan\\'s population density of 70,450.8 inhabitants per square mile (27,201.2/km2) in 2022 makes it the highest of any county in the United States and higher than the density of any individual American city. Manhattan is the cultural, administrative, and financial center of New York City and contains the headquarters of many major multinational corporations, the United Nations headquarters, Wall Street, and a number of important universities. The borough is often described as the financial and cultural center of the world.Brooklyn (Kings County), on the western tip of Long Island, is the city\\'s most populous borough. Brooklyn is known for its cultural, social, and ethnic diversity, an independent art scene, distinct neighborhoods, and a distinctive architectural heritage. Downtown Brooklyn is the largest central core neighborhood in the Outer Boroughs. The borough has a long beachfront shoreline including Coney Island, established in the 1870s as one of the earliest amusement grounds in the U.S. Marine Park and Prospect Park are the two largest parks in Brooklyn. Since 2010, Brooklyn has evolved into a thriving hub of entrepreneurship and high technology startup firms, and of postmodern art and design. Brooklyn is also home to Fort Hamilton, the U.S. military\\'s only active duty installation within New York City, aside from Coast Guard operations. The facility was established in 1825 on the site of a battery used during the American Revolution, and it is one of America\\'s longest serving military forts.Queens (Queens County), on Long Island north and east of Brooklyn, is geographically the largest borough, the most ethnically diverse county in the United States, and the most ethnically diverse urban area in the world. Queens is the site of the Citi Field, home of the New York Mets, and hosts the annual U.S. Open tennis tournament at the USTA Billie Jean King National Tennis Center in Flushing Meadows–Corona Park, with plans to build a soccer-specific stadium to be built for New York City FC. Additionally, two of the three busiest airports serving the New York metropolitan area, John F. Kennedy International Airport and LaGuardia Airport, are in Queens.The Bronx (Bronx County) is both New York City\\'s northernmost borough, and the only one that is mostly on the U.S. mainland. It is the location of Yankee Stadium, the baseball park of the New York Yankees, and home to the largest cooperatively-owned housing complex in the United States, Co-op City. It is home to the Bronx Zoo, the world\\'s largest metropolitan zoo, which spans 265 acres (1.07 km2) and houses more than 6,000 animals. The Bronx is the birthplace of hip hop music and its associated culture. Pelham Bay Park is the largest park in New York City, at 2,772 acres (1,122 ha).Staten Island (Richmond County) is the most suburban in character of the five boroughs. It is connected to Brooklyn by the Verrazzano-Narrows Bridge, and to Manhattan by way of the free Staten Island Ferry. In central Staten Island, the Staten Island Greenbelt spans approximately 2,500 acres (10 km2), including 28 miles (45 km) of walking trails and one of the last undisturbed forests in the city. Designated in 1984 to protect the island\\'s natural lands, the Greenbelt comprises seven city parks.\\n\\n\\n=== Climate ===\\n\\nUnder the Köppen climate classification, New York City has a humid subtropical climate (Cfa), and is the northernmost major city on the North American continent with this categorization. The suburbs to the immediate north and west are in the transitional zone between humid subtropical and humid continental climates (Dfa). The city receives 49.5 inches (1,260 mm) of precipitation annually, which is relatively evenly spread throughout the year. New York averages over 2,500 hours of sunshine annually.Winters are chilly and damp, and prevailing wind patterns that blow sea breezes offshore temper the moderating effects of the Atlantic Ocean; yet the Atlantic and the partial shielding from colder air by the Appalachian Mountains keep the city warmer in the winter than inland North American cities at similar or lesser latitudes. The daily mean temperature in January, the area\\'s coldest month, is 33.3 °F (0.7 °C). Temperatures usually drop to 10 °F (−12 °C) several times per winter, yet can also reach 60 °F (16 °C) for several days even in the coldest winter month. Spring and autumn are unpredictable and can range from cool to warm, although they are usually mild with low humidity. Summers are typically hot and humid, with a daily mean temperature of 77.5 °F (25.3 °C) in July.Nighttime temperatures are 9.5 °F (5.3 °C) degrees higher for the average city resident due to the urban heat island effect, caused by paved streets and tall buildings. Daytime temperatures exceed 90 °F (32 °C) on average of 17 days each summer and in some years exceed 100 °F (38 °C), although this is a rare occurrence, last noted on July 18, 2012. Similarly, readings of 0 °F (−18 °C) are extremely rare, last occurring on February 14, 2016. Extreme temperatures have ranged from 106 °F (41 °C), recorded on July 9, 1936, down to −15 °F (−26 °C) on February 9, 1934; the coldest recorded wind chill was −37 °F (−38 °C) on the same day as the all-time record low. Average winter snowfall between 1991 and 2020 was 29.8 inches (76 cm); this varies considerably between years. The record cold daily maximum was 2 °F (−17 °C) on December 30, 1917, while, conversely, the record warm daily minimum was 87 °F (31 °C), on July 2, 1903. The average water temperature of the nearby Atlantic Ocean ranges from 39.7 °F (4.3 °C) in February to 74.1 °F (23.4 °C) in August.\\nHurricanes and tropical storms are rare in the New York area. Hurricane Sandy brought a destructive storm surge to New York City on the evening of October 29, 2012, flooding numerous streets, tunnels, and subway lines in Lower Manhattan and other areas of the city and cutting off electricity in many parts of the city and its suburbs. The storm and its profound impacts have prompted the discussion of constructing seawalls and other coastal barriers around the shorelines of the city and the metropolitan area to minimize the risk of destructive consequences from another such event in the future.\\n\\n\\n=== Parks ===\\n\\nThe city of New York has a complex park system, with various lands operated by the National Park Service, the New York State Office of Parks, Recreation and Historic Preservation, and the New York City Department of Parks and Recreation. In its 2023 ParkScore ranking, the Trust for Public Land reported that the park system in New York City was the tenth-best park system among the most populous U.S. cities, citing the city\\'s park acreage, investment in parks and that 99% of residents are within 1⁄2 mile (0.80 km) of a park.Gateway National Recreation Area contains over 26,000 acres (110 km2), most of it in New York City. In Brooklyn and Queens, the park contains over 9,000 acres (36 km2) of salt marsh, wetlands, islands, and water, including most of Jamaica Bay and the Jamaica Bay Wildlife Refuge. Also in Queens, the park includes a significant portion of the western Rockaway Peninsula, most notably Jacob Riis Park and Fort Tilden. In Staten Island, it includes Fort Wadsworth, with historic pre-Civil War era Battery Weed and Fort Tompkins, and Great Kills Park.The Statue of Liberty National Monument and Ellis Island Immigration Museum are managed by the National Park Service and are in both New York and New Jersey. They are joined in the harbor by Governors Island National Monument. Historic sites under federal management on Manhattan Island include Stonewall National Monument; Castle Clinton National Monument; Federal Hall National Memorial; Theodore Roosevelt Birthplace National Historic Site; General Grant National Memorial (Grant\\'s Tomb); African Burial Ground National Monument; and Hamilton Grange National Memorial. Hundreds of properties are listed on the National Register of Historic Places or as a National Historic Landmark.\\nThere are seven state parks within the confines of New York City. They include: The Clay Pit Ponds State Park Preserve, a natural area that includes extensive riding trails; the Riverbank State Park, a 28-acre (11 ha) facility; and the Marsha P. Johnson State Park, a state park in Brooklyn and Manhattan that borders the East River renamed in honor of Marsha P. JohnsonNew York City has over 28,000 acres (110 km2) of municipal parkland and 14 miles (23 km) of public beaches. The largest municipal park in the city is Pelham Bay Park in the Bronx, with 2,772 acres (1,122 ha), and the most visited urban park is the Central Park, and one of the most filmed and visited locations in the world, with 42 million visitors in 2023.\\n\\n\\n=== Environment ===\\n\\nEnvironmental issues in New York City are affected by the city\\'s size, density, abundant public transportation infrastructure, and its location at the mouth of the Hudson River. For example, it is one of the country\\'s biggest sources of pollution and has the lowest per-capita greenhouse gas emissions rate and electricity usage. Governors Island is planned to host a US$1 billion research and education center to make New York City the global leader in addressing the climate crisis.As an oceanic port city, New York City is vulnerable to long-term manifestations of global warming like sea level rise exacerbated by land subsidence. Climate change has spawned the development of a significant climate resiliency and environmental sustainability economy in the city. New York City has focused on reducing its environmental impact and carbon footprint. Mass transit use is the highest in the United States. \\nNew York\\'s high rate of public transit use, more than 610,000 daily cycling trips as of 2022, and many pedestrian commuters make it the most energy-efficient major city in the United States. Walk and bicycle modes of travel account for 21% of all modes for trips in the city; nationally the rate for metro regions is about 8%. In both its 2011 and 2015 rankings, Walk Score named New York City the most walkable large city in the United States, and in 2018, Stacker ranked New York the most walkable U.S. city. Citibank sponsored public bicycles for the city\\'s bike-share project, which became known as Citi Bike, in 2013. New York City\\'s numerical \"in-season cycling indicator\" of bicycling in the city had hit an all-time high of 437 when measured in 2014.The New York City drinking water supply is extracted from the protected Catskill Mountains watershed. As a result of the watershed\\'s integrity and undisturbed natural water filtration system, New York is one of only four major cities in the United States the majority of whose drinking water is pure enough not to require purification through water treatment plants. The city\\'s municipal water system is the largest in the United States, moving more than 1 billion U.S. gallons (3.8 billion liters) of water daily from a watershed covering 1,900 square miles (4,900 km2)According to the 2016 World Health Organization Global Urban Ambient Air Pollution Database, the annual average concentration in New York City\\'s air of particulate matter measuring 2.5 micrometers or less (PM2.5) was 7.0 micrograms per cubic meter, or 3.0 micrograms within the recommended limit of the WHO Air Quality Guidelines for the annual mean PM2.5. The New York City Department of Health and Mental Hygiene, in partnership with Queens College, conducts the New York Community Air Survey to measure pollutants at about 150 locations.\\n\\n\\n== Demographics ==\\n\\nNew York City is the most populous city in the United States, with 8,804,190 residents incorporating more immigration into the city than outmigration since the 2010 United States census. More than twice as many people live in New York City as compared to Los Angeles, the second-most populous U.S. city.Between 2010 and 2020, New York City gained 629,000 residents, more than any other U.S. city, and a greater amount than the total sum of the gains over the same decade of the next four largest U.S. cities (Los Angeles, Chicago, Houston, and Phoenix) combined. The city\\'s population density of 27,744.1 inhabitants per square mile (10,712.1/km2) makes it the densest of any American municipality with a population above 100,000. Manhattan\\'s population density is 70,450.8 inhabitants per square mile (27,201.2/km2), highest of any county in the United States.Based on data from the 2020 census, New York City comprises about 43.6% of the state\\'s population of 20,202,320, and about 39% of the population of the New York metropolitan area. The majority of New York City residents in 2020 (5,141,539 or 58.4%) were living in Brooklyn or Queens, the two boroughs on Long Island. As many as 800 languages are spoken in New York, and the New York City metropolitan statistical area has the largest foreign-born population of any metropolitan region in the world. The New York region continues to be by far the leading metropolitan gateway for legal immigrants admitted into the United States, substantially exceeding the combined totals of Los Angeles and Miami.\\n\\n\\n=== Race and ethnicity ===\\n\\nThe city\\'s population in 2020 was 31.2% White (non-Hispanic), 29.0% Hispanic or Latino, 23.1% Black or African American (non-Hispanic), 14.5% Asian, and 0.6% Native American (non-Hispanic), with 8.9% listing two or more races. A total of 3.4% of the non-Hispanic population identified with more than one race.Based on date from 2018 to 2022, approximately 36.3% of the city\\'s population is foreign born (compared to 13.7% nationwide), and 40% of all children are born to mothers who are immigrants. Throughout its history, New York has been a major port of entry for immigrants into the United States. No single country or region of origin dominates. The ten largest sources of foreign-born individuals in the city as of 2011 were the Dominican Republic, China, Mexico, Guyana, Jamaica, Ecuador, Haiti, India, Russia, and Trinidad and Tobago, Queens has the largest Asian American and Andean populations in the United States, and is also the most ethnically and linguistically diverse urban area in the world.\\n\\nThe metropolitan area has the largest Asian Indian population in the Western Hemisphere; the largest Russian American, Italian American, and African American populations; the largest Dominican American, Puerto Rican American, and South American and second-largest overall Hispanic population in the United States, numbering 4.8 million. Venezuela, Ecuador, Colombia, Guyana, Peru, and Brazil, are the top source countries from South America for immigrants to the New York City region; the Dominican Republic, Jamaica, Haiti, and Trinidad and Tobago in the Caribbean; Nigeria, Egypt, Ghana, Tanzania, Kenya, and South Africa from Africa; and El Salvador, Honduras, and Guatemala in Central America.New York contains the highest total Asian population of any U.S. city proper. Asian Americans in New York City, according to the 2010 census, number more than 1.2 million, greater than the combined totals of San Francisco and Los Angeles. New York has the largest Chinese population of any city outside Asia, Manhattan\\'s Chinatown is the highest concentration of Chinese people in the Western Hemisphere, and Queens is home to the largest Tibetan population outside Asia. Arab Americans number over 160,000 in New York City, with the highest concentration in Brooklyn. Central Asians, primarily Uzbek Americans, are a rapidly growing segment of the city\\'s non-Hispanic White population. The metropolitan area is home to 20% of the nation\\'s Indian Americans and at least 20 Little India enclaves, and 15% of all Korean Americans and four Koreatowns.New York City has the largest European and non-Hispanic white population of any American city, with 2.7 million in 2012. The European diaspora residing in the city is very diverse and many European ethnic groups have formed enclaves. New York City is home to the highest Jewish population of any city in the world, numbering 1.6 million in 2022, more than Tel Aviv and Jerusalem combined. In the borough of Brooklyn, an estimated one in four residents is Jewish.\\n\\n\\n=== LGBT culture ===\\n\\nNew York City has been described as the gay capital of the world and the central node of the LGBTQ+ sociopolitical ecosystem, and is home to one of the world\\'s largest LGBTQ populations and the most prominent. The New York metropolitan area is home to about 570,000 self-identifying gay and bisexual people, the largest in the United States. Same-sex sexual activity between consenting adults has been legal in New York since the New York v. Onofre case in 1980 which invalidated the state\\'s sodomy law. Same-sex marriage in New York was legalized on June 24, 2011, and were authorized to take place on July 23, 2011.\\nThe annual New York City Pride March proceeds southward down Fifth Avenue and ends at Greenwich Village in Lower Manhattan; the parade is the largest pride parade in the world, attracting tens of thousands of participants and millions of sidewalk spectators each June. The annual Queens Pride Parade is held in Jackson Heights and is accompanied by the ensuing Multicultural Parade.Stonewall 50 – WorldPride NYC 2019 was the largest international Pride celebration in history, commemorating the 50th anniversary of the Stonewall uprising, with 150,000 participants and five million spectators attending in Manhattan alone. New York City is home to the largest transgender population in the world, estimated at more than 50,000 in 2018, concentrated in Manhattan and Queens; however, until the June 1969 Stonewall riots, this community had felt marginalized and neglected by the gay community. Brooklyn Liberation March, the largest transgender-rights demonstration in LGBTQ history, took place on June 14, 2020, stretching from Grand Army Plaza to Fort Greene, Brooklyn, focused on supporting Black transgender lives, drawing an estimated 15,000 to 20,000 participants.\\n\\n\\n=== Religion ===\\n\\nLargely as a result of Western European missionary work and colonialism, Christianity is the largest religion (59% adherent) in New York City, which is home to the highest number of churches of any city in the world. Roman Catholicism is the largest Christian denomination (33%), followed by Protestantism (23%), and other Christian denominations (3%). The Roman Catholic population are primarily served by the Roman Catholic Archdiocese of New York and Diocese of Brooklyn. Eastern Catholics are divided into numerous jurisdictions throughout the city. Evangelical Protestantism is the largest branch of Protestantism in the city (9%), followed by Mainline Protestantism (8%), while the converse is usually true for other cities and metropolitan areas.Judaism, the second-largest religion practiced in New York City, with approximately 1.6 million adherents as of 2022, represents the largest Jewish community of any city in the world, greater than the combined totals of Tel Aviv and Jerusalem. Nearly half of the city\\'s Jews live in Brooklyn. The ethno-religious population makes up 18.4% of the city and its religious demographic makes up 8%.Islam ranks as the third-largest religion in New York City, following Christianity and Judaism, with estimates ranging between 600,000 and 1,000,000 observers of Islam, including 10% of the city\\'s public school children. 22.3% of American Muslims live in New York City, with 1.5 million Muslims in the greater New York metropolitan area, representing the largest metropolitan Muslim population in the Western Hemisphere—and the most ethnically diverse Muslim population of any city in the world. Powers Street Mosque in Brooklyn is one of the oldest continuously operating mosques in the U.S., and represents the first Islamic organization in both the city and the state of New York.Following these three largest religious groups in New York City are Hinduism, Buddhism, Sikhism, Zoroastrianism, and others. As of 2023, 24% of Greater New Yorkers identified with no organized religious affiliation, and 4% were self-identified atheists.\\n\\n\\n=== Education ===\\n\\nNew York City has the largest educational system of any city in the world. The city\\'s educational infrastructure spans primary education, secondary education, higher education, and research. The New York City Public Schools system, managed by the New York City Department of Education, is the largest public school system in the United States, serving about 1.1 million students in approximately 1,800 separate primary and secondary schools, including charter schools, as of the 2017–2018 school year. The New York City Charter School Center assists the setup of new charter schools. There are approximately 900 additional privately run secular and religious schools in the city.\\nThe New York Public Library (NYPL) has the largest collection of any public library system in the United States. Queens is served by the Queens Borough Public Library (QPL), the nation\\'s second-largest public library system, while the Brooklyn Public Library (BPL) serves Brooklyn.More than a million students, the highest number of any city in the United States, are enrolled in New York City\\'s more than 120 higher education institutions, with more than half a million in the City University of New York (CUNY) system alone as of 2020, including both degree and professional programs. According to Academic Ranking of World Universities, New York City has, on average, the best higher education institutions of any global city.The public CUNY system comprising 25 institutions across all five boroughs: senior colleges, community colleges, and other graduate/professional schools. The public State University of New York (SUNY) system includes campuses in New York City, including SUNY Downstate Health Sciences University, Fashion Institute of Technology, SUNY Maritime College, and SUNY College of Optometry. New York City is home to such notable private universities as Barnard College, Columbia University, Cooper Union, Fordham University, New York University, New York Institute of Technology, Rockefeller University, Mercy University, Cornell Tech and Yeshiva University; several of these universities are ranked among the top universities in the world, while some of the world\\'s most prestigious institutions like Princeton University and Yale University remain in the New York metropolitan area.\\nMuch of the scientific research in the city is done in medicine and the life sciences. In 2019, the New York metropolitan area ranked first on the list of cities and metropolitan areas by share of published articles in life sciences. New York City has the most postgraduate life sciences degrees awarded annually in the United States, and in 2012, 43,523 licensed physicians were practicing in New York City. There are 127 Nobel laureates with roots in local institutions as of 2004.\\n\\n\\n=== Health ===\\n\\nNew York City is a center for healthcare and medical training, with employment of 750,000 in the city\\'s health care sector. Private hospitals in New York City include the Hospital for Special Surgery, Lenox Hill Hospital Long Island Jewish Medical Center, Memorial Sloan Kettering Cancer Center, Mount Sinai Hospital, NewYork-Presbyterian Hospital and NYU Langone Health. Medical schools include SUNY Downstate College of Medicine in Brooklyn, Albert Einstein College of Medicine in the Bronx, and CUNY School of Medicine, Touro College of Osteopathic Medicine, Columbia University Vagelos College of  Physicians and Surgeons, Weill Cornell Medicine, Icahn School of Medicine at Mount Sinai and New York University School of Medicine in Manhattan.NYC Health + Hospitals (HHC) is a public benefit corporation established in 1969 that operates the city\\'s public hospitals and a network of outpatient clinics. As of 2021, HHC is the largest municipal healthcare system in the United States with $10.9 billion in annual revenues. HHC serves 1.4 million patients, including more than 475,000 uninsured city residents. HHC operates 11 acute care hospitals, four nursing homes, six diagnostic and treatment centers, and more than 70 community-based primary care sites, serving primarily the city\\'s poor and working class residents. HHC\\'s MetroPlus Health Plan is one of New York City\\'s largest providers of government-sponsored health insurance, enrolling 670,000 city residents as of June 2022.HHC\\'s facilities annually provides service to millions of New Yorkers, interpreted in more than 190 languages. The best-known hospital in the HHC system is Bellevue Hospital, the oldest public hospital in the United States, established in 1736. Bellevue is the designated hospital for treatment of the President of the United States and other world leaders if they become sick or injured while in New York City.The city banned smoking in most parts of restaurants in 1995 and prohibited smoking in bars, restaurants and places of public employment in 2003. In August 2017, Mayor Bill de Blasio signed legislation outlawing pharmacies from selling cigarettes once their existing licenses to do so expired, beginning in 2018. New York City enforces a right-to-shelter law guaranteeing shelter to anyone who needs it, regardless of their immigration, socioeconomic, or housing status, which entails providing adequate shelter and food.\\n\\n\\n=== Public safety ===\\n\\nThe New York Police Department (NYPD) is the largest police force in the United States, with more than 36,000 sworn officers, more than triple the size of the Chicago Police Department. Members of the NYPD are frequently referred to by politicians, the media, and their own police cars by the nickname, New York\\'s Finest.The city saw a spike in crime in the 1970s through 1990s. Crime overall has trended downward in New York City since the 1990s; violent crime decreased more than 75% from 1993 to 2005, and continued decreasing during periods when the nation as a whole saw increases. The NYPD\\'s stop-and-frisk program was declared unconstitutional in 2013 as a \"policy of indirect racial profiling\" of Black and Hispanic residents, although claims of disparate impact continued in subsequent years. The stop-and-frisk program had been widely credited as being behind the decline in crime, though rates continued dropping in the years after the program ended.The city set a record of 2,245 murders in 1990 and hit a near-70-year record low of 289 in 2018. The number of murders and the rate of 3.3 per 100,000 residents in 2017 was the lowest since 1951. New York City recorded 386 murders in 2023, a decline of 12% from the previous year. New York City had one of the lowest homicide rates among the 10 largest U.S. cities at 5.5 per 100,000 residents in 2021, behind San Jose, California, at 3.1 per 100,000.New York City has stricter gun laws than most other cities in the U.S.—a license to own any firearm is required in New York City, and the NY SAFE Act of 2013 banned assault weapons—and New York State had the fifth lowest gun death rate of the states in 2020.Organized crime has long been associated with New York City, beginning with the Forty Thieves and the Roach Guards in the Five Points neighborhood in the 1820s, followed by the Tongs in the same neighborhood, which ultimately evolved into Chinatown, Manhattan. The 20th century saw a rise in the Mafia, dominated by the Five Families, as well as in gangs, including the Black Spades. The Mafia and gang presence has declined in the city in the 21st century.The Fire Department of New York (FDNY) provides fire protection, technical rescue, primary response to biological, chemical, and radioactive hazards, and emergency medical services. FDNY faces multifaceted firefighting challenges in many ways unique to New York. In addition to responding to building types that range from wood-frame single family homes to high-rise structures, the FDNY responds to fires that occur in the New York City Subway. Secluded bridges and tunnels, as well as large parks and wooded areas that can give rise to brush fires, also present challenges. The FDNY is headquartered at 9 MetroTech Center in Downtown Brooklyn, and the FDNY Fire Academy is on Randalls Island.\\n\\n\\n== Economy ==\\n\\nNew York City is a global hub of business and commerce, and is sometimes described as the capital of the world. Greater New York is the world\\'s largest metropolitan economy, with a gross metropolitan product estimated at US$2.16 trillion in 2022. New York is a center for worldwide banking and finance, health care and life sciences, medical technology and research, retailing, world trade, transportation, tourism, real estate, new media, traditional media, advertising, legal services, accountancy, insurance, and the arts in the United States; while Silicon Alley, metonymous for New York\\'s broad-spectrum high technology sphere, continues to expand. The Port of New York and New Jersey is a major economic engine, benefitting post-Panamax from the expansion of the Panama Canal.Many Fortune 500 corporations are headquartered in New York City, as are a large number of multinational corporations. New York City has been ranked first among cities across the globe in attracting capital, business, and tourists. New York City\\'s role as the top global center for the advertising industry is metonymously reflected as Madison Avenue. The city\\'s fashion industry provides approximately 180,000 employees with $11 billion in annual wages.Significant other economic sectors include universities and non-profit institutions. Manufacturing declined over the 20th century but still accounts for significant employment. The city\\'s apparel and garment industry, historically centered on the Garment District in Manhattan, peaked in 1950, when more than 323,000 workers were employed in the industry in New York. In 2015, fewer than 23,000 New York City residents were employed in the industry, although revival efforts were underway, and the American fashion industry continues to be metonymized as Seventh Avenue. In 2017, the city had 205,592 employer firms, of which 22.0% were owned by women, 31.3% were minority-owned and 2.7% were owned by veterans.In 2022, the gross domestic product of New York City was $1.053 trillion of which $781 billion or 74% was Manhattan. Like other large cities, New York City has a degree of income disparity, as indicated by its Gini coefficient of 0.55 as of 2022. In November 2023, the city had total employment of 4.75 millon of which more than a quarter were in education and health services. Manhattan, which accounted for more than half of the city\\'s jobs, had an average weekly wage of $2,590 in the second quarter of 2023, ranked fourth-highest among the nation\\'s 360 largest counties. In 2022, New York City was home to the highest number of billionaires of any city in the world, with a total of 107.New York City is one of the relatively few American cities levying an income tax (about 3%) on its residents.\\n\\n\\n=== Wall Street ===\\n\\nNew York City\\'s most important economic sector lies in its role as the headquarters for the U.S. financial industry, metonymously known as Wall Street. Lower Manhattan is home to the New York Stock Exchange, at 11 Wall Street, and the Nasdaq, at 165 Broadway, representing the world\\'s largest and second largest stock exchanges, respectively, when measured both by overall average daily trading volume and by total market capitalization of their listed companies in 2013. In fiscal year 2013–14, Wall Street\\'s securities industry generated 19% of New York State\\'s tax revenue.New York City remains the largest global center for trading in public equity and debt capital markets, driven in part by the size and financial development of the U.S. economy.:\\u200a31–32\\u200a New York also leads in hedge fund management; private equity; and the monetary volume of mergers and acquisitions. Several investment banks and investment managers headquartered in Manhattan are important participants in other global financial centers.:\\u200a34–35\\u200a New York is the principal commercial banking center of the United States.Manhattan contained over 500 million square feet (46.5 million m2) of office space in 2018, making it the largest office market in the United States, while Midtown Manhattan, with 400 million square feet (37.2 million m2) in 2018, is the largest central business district in the world.\\n\\n\\n=== Tech and biotech ===\\n\\nNew York is a top-tier global technology hub. Silicon Alley, once a metonym for the sphere encompassing the metropolitan region\\'s high technology industries, is no longer a relevant moniker as the city\\'s tech environment has expanded dramatically both in location and in scope since at least 2003, when tech business appeared in more places in Manhattan and in other boroughs, and not much silicon was involved. New York City\\'s current tech sphere encompasses the array of applications involving universal applications of artificial intelligence, broadband internet, new media, financial technology (fintech) and cryptocurrency, biotechnology, game design, and other fields within information technology that are supported by its entrepreneurship ecosystem and venture capital investments. Technology-driven startup companies and entrepreneurial employment are growing in New York City and the region. The technology sector has been claiming a greater share of New York City\\'s economy since 2010. Tech:NYC, founded in 2016, is a non-profit organization which represents New York City\\'s technology industry with government, civic institutions, in business, and in the media, and whose primary goals are to further augment New York\\'s substantial tech talent base and to advocate for policies that will nurture tech companies to grow in the city.New York City\\'s artificial intelligence (AI) sector raised US$483.6 million in venture capital investment in 2022. In 2023, New York unveiled the first comprehensive initiative to create both a framework of rules and a chatbot to regulate the use of AI within the sphere of city government.The biotechnology sector is growing in New York City, based on the city\\'s strength in academic scientific research and public and commercial financial support. On December 19, 2011, Mayor Michael R. Bloomberg announced his choice of Cornell University and Technion-Israel Institute of Technology to build a $2 billion graduate school of applied sciences called Cornell Tech on Roosevelt Island with the goal of transforming New York City into the world\\'s premier technology capital.\\n\\n\\n=== Real estate ===\\nNew York City real estate is a safe haven for global investors. The total value of all New York City property was assessed at US$1.479 trillion for the 2017 fiscal year, an increase of 6.1% from the previous year; of the total market value for 2024, single family homes accounted for $765 billion (51.7%), co-ops, condos and apartment buildings totaled $351 billion (23.7%) and commercial properties were valued at $317 billion (21.4%). Fifth Avenue in Midtown Manhattan commands the highest retail rents in the world, at $2,000 per square foot ($22,000/m2) in 2023.New York City has one of the highest costs of living in the world, due in part to rental prices. In 2023, one-bedroom apartments in Manhattan rented at a median monthly price of US$4,443. The median house price city-wide is over $1 million as of 2023. As of 2023, there were 92,824 homeless people sleeping nightly in New York City\\'s shelter system, with homelessness in the city reaching the highest levels since the Great Depression.With 33,000 units available in 2023 among the city\\'s 2.3 million rentable apartments, the vacancy rate was 1.4%, the lowest level since 1968 and a rate that is indicative of a shortage of available units, especially among those with rents below the median monthly rental of $1,650, where 1% of units were available.\\n\\n\\n=== Tourism ===\\n\\nTourism is a vital industry for New York City, and NYC Tourism + Conventions represents the city\\'s official bureau of tourism. New York has witnessed a growing combined volume of international and domestic tourists, with as many as 66.6 million visitors to the city per year, including as many as 13.5 million visitors from outside the United States, with the highest numbers from the United Kingdom, Canada, Brazil, and China. Multiple sources have called New York the most photographed city in the world. I Love New York (stylized I ❤ NY) is both a logo and a song that are the basis of an advertising campaign and have been used since 1977 to promote tourism in New York City, and later to promote New York State as well. The trademarked logo is owned by New York State Empire State Development.Many districts and monuments in New York City are major landmarks, including three of the world\\'s ten-most-visited tourist attractions in 2023. A record 66.6 million tourists visited New York City in 2019, bringing in $47.4 billion in tourism revenue. Visitor numbers dropped by two-thirds in 2020 during the pandemic, rebounding to 63.3 million in 2023. Major landmarks in New York City include the Metropolitan Museum of Art, the Statue of Liberty, the Empire State Building, and Central Park. Times Square is the brightly illuminated hub of the Broadway Theater District, and a major center of the world\\'s entertainment industry. that attracts 50 million visitors annually to one of the world\\'s busiest pedestrian intersections.\\n\\n\\n=== Media and entertainment ===\\n\\nNew York City has been described as the entertainment and digital media capital of the world. It is a center for the advertising, music, newspaper, digital media, and publishing industries and is the largest media market in North America. Many of the world\\'s largest media conglomerates are based in the city, including Warner Bros. Discovery, the Thomson Reuters Corporation, the Associated Press, Bloomberg L.P., the News Corp, The New York Times Company, NBCUniversal, the Hearst Corporation, AOL, Fox Corporation, and Paramount Global. Seven of the world\\'s top eight global advertising agency networks have their headquarters in New York.More than 200 newspapers and 350 consumer magazines have an office in the city, and the publishing industry employs about 11,500 people, with an economic impact of $9.2 billion. The two national daily newspapers with the largest daily circulations in the United States are published in New York: The Wall Street Journal and The New York Times. With 132 awards through 2022, The Times has won the most Pulitzer Prizes for journalism and is considered the U.S. media\\'s newspaper of record. Tabloid newspapers in the city include the New York Daily News\\', which was founded in 1919 by Joseph Medill Patterson, and the New York Post, founded in 1801 by Alexander Hamilton.\\nAs of 2019, New York City was the second-largest center for filmmaking and television production in the United States, producing about 200 feature films annually. The industry employed more than 100,000 people in 2019, generating $12.2 billion in wages and a total economic impact of $64.1 billion. By volume, New York is the world leader in independent film production—one-third of all American independent films are produced there.New York is a major center for non-commercial educational media. NYC Media is the official public radio, television, and online media network and broadcasting service of New York City, and has produced several original Emmy Award-winning shows covering music and culture in city neighborhoods and city government. The oldest public-access television channel in the United States is the Manhattan Neighborhood Network, founded in 1971. WNET is the city\\'s major public television station and produces a third of national Public Broadcasting Service (PBS) television programming. WNYC, a public radio station owned by the city until 1997, has the largest public radio audience in the United States.\\n\\n\\n== Culture ==\\n\\nNew York City is frequently the setting for novels, movies, and television programs and has been described as the cultural capital of the world. In describing New York, author Tom Wolfe said, \"Culture just seems to be in the air, like part of the weather.\"The city is the birthplace of many cultural movements, including the Harlem Renaissance in literature and visual art; abstract expressionism (known as the New York School) in painting; and hip-hop, punk, hardcore, salsa, freestyle, Tin Pan Alley, certain forms of jazz, and (along with Philadelphia) disco in music. New York City has been considered the dance capital of the world.One of the most common traits attributed to New York City is its fast pace, which spawned the term New York minute. Journalist Walt Whitman characterized New York\\'s streets as being traversed by \"hurrying, feverish, electric crowds\". New York City\\'s residents are prominently known for their resilience historically, and more recently related to their management of the impacts of the September 11 terrorist attacks and the COVID-19 pandemic. New York was voted the world\\'s most resilient city in 2021 and 2022 per Time Out\\'s global poll of urban residents.\\n\\n\\n=== Theater ===\\n\\nThe central hub of the American theater scene is Manhattan, with its divisions of Broadway, off-Broadway, and off-off-Broadway. Many movie and television stars have gotten their big break working in New York productions.Broadway theatre is one of the premier forms of English-language theatre in the world, named after Broadway, the major thoroughfare that crosses Times Square, sometimes referred to as \"The Great White Way\".Forty-one venues mostly in Midtown Manhattan\\'s Theatre District, each with at least 500 seats, are classified as Broadway theatres. The 2018–19 Broadway theatre season set records with total attendance of 14.8 million and gross revenue of $1.83 billion Recovering from closures forced by the COVID-19 pandemic, 2022-23 revenues rebounded to $1.58 billion with total attendance of 12.3 million.The Tony Awards recognizes excellence in live Broadway theatre and are presented at an annual ceremony in Manhattan. The awards are given for Broadway productions and performances at the 41 eligible Broadway venues. One is also given for regional theatre. Several discretionary non-competitive awards are given as well, including a Special Tony Award, the Tony Honors for Excellence in Theatre, and the Isabelle Stevenson Award.\\n\\n\\n=== Accent and dialect ===\\n\\nThe New York area is home to a distinctive regional accent and speech pattern called the New York dialect, alternatively known as Brooklynese or New Yorkese. It has been considered one of the most recognizable accents within American English. The traditional New York area speech pattern is known for its rapid delivery, and its accent is characterized as non-rhotic so that the sound [ɹ] does not appear at the end of a syllable or immediately before a consonant, therefore the pronunciation of the city name as \"New Yawk\". The classic version of the New York City dialect is centered on middle- and working-class New Yorkers. The influx of non-European immigrants in recent decades has led to changes in this distinctive dialect, and the traditional form of this speech pattern is no longer as prevalent.\\n\\n\\n=== Architecture ===\\n\\nNew York has architecturally noteworthy buildings in a wide range of styles and from distinct time periods, from the Dutch Colonial Pieter Claesen Wyckoff House in Brooklyn, the oldest section of which dates to 1656, to the modern One World Trade Center, the skyscraper at Ground Zero in Lower Manhattan and the most expensive office tower in the world by construction cost.Manhattan\\'s skyline, with its many skyscrapers, is universally recognized, and the city has been home to several of the tallest buildings in the world. As of 2019, New York City had 6,455 high-rise buildings, the third most in the world after Hong Kong and Seoul.The character of New York\\'s large residential districts is often defined by the elegant brownstone rowhouses and townhouses and shabby tenements that were built during a period of rapid expansion from 1870 to 1930. Stone and brick became the city\\'s building materials of choice after the construction of wood-frame houses was limited in the aftermath of the Great Fire of 1835.In contrast, New York City also has neighborhoods that are less densely populated and feature free-standing dwellings. In neighborhoods such as Riverdale (in the Bronx), Ditmas Park (in Brooklyn), and Douglaston (in Queens), large single-family homes are common in various architectural styles such as Tudor Revival and Victorian.\\n\\n\\n=== Arts ===\\n\\nLincoln Center for the Performing Arts, anchoring Lincoln Square on the Upper West Side of Manhattan, is home to numerous influential arts organizations, including the Metropolitan Opera, New York City Opera, New York Philharmonic, and New York City Ballet, as well as the Vivian Beaumont Theater, the Juilliard School, Jazz at Lincoln Center, and Alice Tully Hall. The Lee Strasberg Theatre and Film Institute is in Union Square, and Tisch School of the Arts is based at New York University, while Central Park SummerStage presents free music concerts in Central Park.New York City has more than 2,000 arts and cultural organizations and more than 500 art galleries. The city government funds the arts with a larger annual budget than the National Endowment for the Arts. The city is also home to hundreds of cultural institutions and historic sites. Museum Mile is the name for a section of Fifth Avenue running from 82nd to 105th streets on the Upper East Side of Manhattan, in the upper portion of Carnegie Hill.Nine museums occupy the length of this section of Fifth Avenue, making it one of the densest displays of culture in the world. Its art museums include the Guggenheim, Metropolitan Museum of Art, Neue Galerie New York, and The Africa Center. In addition to other programming, the museums collaborate for the annual Museum Mile Festival, held each year in June, to promote the museums and increase visitation. Many of the world\\'s most lucrative art auctions are held in New York City.The Metropolitan Museum of Art is the largest art museum in the Americas. In 2022, it welcomed 3.2 million visitors, ranking it the third most visited U.S. museum, and eighth on the list of most-visited art museums in the world. Its permanent collection contains more than two million works, divided among 17 curatorial departments, and includes works of art from classical antiquity and ancient Egypt; paintings and sculptures from nearly all the European masters; and an extensive collection of American and modern art. The Met maintains extensive holdings of African, Asian, Oceanian, Byzantine, and Islamic art.\\n\\n\\n=== Cuisine ===\\n\\nNew York City\\'s food culture includes an array of international cuisines influenced by the city\\'s immigrant history. Central and Eastern European immigrants, especially Jewish immigrants from those regions, brought New York-style bagels, cheesecake, hot dogs, knishes, and delicatessens (delis) to the city. Italian immigrants brought New York-style pizza and Italian cuisine into the city, while Jewish immigrants and Irish immigrants brought pastrami and corned beef, respectively. Chinese and other Asian restaurants, sandwich joints, trattorias, diners, and coffeehouses are ubiquitous throughout the city. Some 4,000 mobile food vendors licensed by the city, many immigrant-owned, have made Middle Eastern foods such as falafel and kebabs examples of modern New York street food. The city is home to \"nearly one thousand of the finest and most diverse haute cuisine restaurants in the world\", according to Michelin. The New York City Department of Health and Mental Hygiene assigns letter grades to the city\\'s restaurants based on inspection results. As of 2019, there were 27,043 restaurants in the city, up from 24,865 in 2017. The Queens Night Market in Flushing Meadows–Corona Park attracts more than ten thousand people nightly to sample food from more than 85 countries.\\n\\n\\n=== Fashion ===\\n\\nNew York has frequently been ranked the top fashion capital of the world on the annual list compiled by the Global Language Monitor. New York Fashion Week (NYFW) is a high-profile semiannual event featuring models displaying the latest wardrobes created by prominent fashion designers worldwide in advance of these fashions proceeding to the retail marketplace.NYFW sets the tone for the global fashion industry. New York\\'s fashion district encompasses roughly 30 city blocks in Midtown Manhattan, clustered around a stretch of Seventh Avenue nicknamed Fashion Avenue. New York\\'s fashion calendar also includes Couture Fashion Week to showcase haute couture styles. The Met Gala is often described as \"Fashion\\'s biggest night\".\\n\\n\\n=== Parades ===\\n\\nNew York City is well known for its street parades, the majority held in Manhattan. The primary orientation of the annual street parades is typically from north to south, marching along major avenues. The annual Macy\\'s Thanksgiving Day Parade is the world\\'s largest parade, beginning alongside Central Park and proceeding southward to the flagship Macy\\'s Herald Square store; the parade is viewed on telecasts worldwide and draws millions of spectators in person. Other notable parades including the annual New York City St. Patrick\\'s Day Parade in March, the NYC LGBT Pride March in June, the LGBT-inspired Greenwich Village Halloween Parade in October, and numerous parades commemorating the independence days of many nations. Ticker-tape parades celebrating championships won by sports teams as well as other accomplishments march northward along the Canyon of Heroes on Broadway from Bowling Green to City Hall Park in Lower Manhattan.\\n\\n\\n=== Sports ===\\n\\nNew York City is home to the headquarters of the National Football League, Major League Baseball, the National Basketball Association, the National Hockey League, and Major League Soccer.New York City hosted the 1984 Summer Paralympics and the 1998 Goodwill Games. New York City\\'s bid to host the 2012 Summer Olympics was one of five finalists, but lost out to London.The city has played host to more than 40 major professional teams in the five sports and their respective competing leagues. Four of the ten most expensive stadiums ever built worldwide (MetLife Stadium, the new Yankee Stadium, Madison Square Garden, and Citi Field) are in the New York metropolitan area.The city is represented in the National Football League by the New York Giants and the New York Jets, although both teams play their home games at MetLife Stadium in nearby East Rutherford, New Jersey, which hosted Super Bowl XLVIII in 2014.The city\\'s two Major League Baseball teams are the New York Mets, who play at 41,800-seat Citi Field in Queens and the New York Yankees, who play at Yankee Stadium in the Bronx, which has 47,400 seats. The two rivals compete in four games of interleague play every regular season that has come to be called the Subway Series. The Yankees have won an MLB-record 27 championships, while the Mets have won the World Series twice. The city was once home to the Brooklyn Dodgers (now the Los Angeles Dodgers), who won the World Series once, and the New York Giants (now the San Francisco Giants), who won the World Series five times. Both teams moved to California in 1958. There is one Minor League Baseball team in the city, the Mets-affiliated Brooklyn Cyclones, and the city gained a club in the independent Atlantic League when the Staten Island FerryHawks began play in 2022.The city\\'s National Basketball Association teams are the New York Knicks, who play at Madison Square Garden, and the Brooklyn Nets, who play at the Barclays Center. The New York Liberty is the city\\'s Women\\'s National Basketball Association team. The first national college-level basketball championship, the National Invitation Tournament, was held in New York in 1938 and remains in the city.The metropolitan area is home to three National Hockey League teams. The New York Rangers, one of the league\\'s Original Six, play at Madison Square Garden in Manhattan. The New York Islanders, traditionally representing Long Island, play in UBS Arena in Elmont, New York, but played in Brooklyn\\'s Barclays Center from 2015 to 2020. The New Jersey Devils play at Prudential Center in nearby Newark, New Jersey.\\nIn soccer, New York City is represented by New York City FC of Major League Soccer, who play their home games at Yankee Stadium and the New York Red Bulls, who play their home games at Red Bull Arena in nearby Harrison, New Jersey. NJ/NY Gotham FC plays their home games in Red Bull Arena, representing the metropolitan area in the National Women\\'s Soccer League. A new version of the New York Cosmos was formed in 2010, and most recently played in the third-division National Independent Soccer Association before going on hiatus in January 2021. New York was a host city for the 1994 FIFA World Cup and will be one of eleven US host cities for the 2026 FIFA World Cup.The annual United States Open Tennis Championships is one of the world\\'s four Grand Slam tennis tournaments and is held at the National Tennis Center in Flushing Meadows–Corona Park, Queens. The New York City Marathon, which courses through all five boroughs, is the world\\'s largest running marathon, with 51,402 finishers in 2023, who came from all 50 states and 148 nations. The Millrose Games is an annual track and field meet held at the Fort Washington Avenue Armory, whose featured event is the Wanamaker Mile. Boxing is a prominent part of the city\\'s sporting scene, with events like the New York Golden Gloves held at Madison Square Garden each year.\\n\\n\\n== Transportation ==\\n\\n\\n=== Rapid transit ===\\nMass transit in New York City, most of which runs 24 hours a day, accounts for one in every three users of mass transit in the United States, and two-thirds of the nation\\'s rail riders live in the New York City metropolitan area.\\n\\n\\n==== Buses ====\\nNew York City\\'s public bus fleet runs 24/7 and is the largest in North America. The Port Authority Bus Terminal is the city\\'s main intercity bus terminal and the world\\'s busiest bus station, serving 250,000 passengers on 7,000 buses each workday in a building opened in 1950 that was designed to accommodate 60,000 daily passengers. A 2021 plan announced by the Port Authority would spend $10 billion to expand capacity and modernize the facility. In 2024, the Port Authority announced plans for a new terminal that would be completed by 2032 and include a pair of office buildings to defray the costs of the project.\\n\\n\\n==== Rail ====\\n\\nThe New York City Subway system is the largest rapid transit system in the world when measured by stations in operation, with 472, and by length of routes. Nearly all of New York\\'s subway system is open 24 hours a day, in contrast to the overnight shutdown common to systems in most cities. The New York City Subway is the busiest metropolitan rail transit system in the Western Hemisphere, with 1.70 billion passenger rides in 2019, while Grand Central Terminal is the world\\'s largest railway station by number of train platforms.Public transport is widely used in New York City. 54.6% of New Yorkers commuted to work in 2005 using mass transit. This is in contrast to the rest of the United States, where 91% of commuters travel in automobiles to their workplace. According to the New York City Comptroller, workers in the New York City area spend an average of 6 hours and 18 minutes getting to work each week, the longest commute time in the nation among large cities. New York is the only U.S. city in which a majority (52%) of households do not have a car; only 22% of Manhattanites own a car. Due to their high usage of mass transit, New Yorkers spend less of their household income on transportation than the national average, saving $19 billion annually on transportation compared to other urban Americans.New York City\\'s commuter rail network is the largest in North America. The rail network, connecting New York City to its suburbs, consists of the Long Island Rail Road, Metro-North Railroad, and New Jersey Transit. The combined systems converge at Grand Central Terminal and Pennsylvania Station and contain more than 250 stations and 20 rail lines. The elevated AirTrain JFK in Queens connects JFK International Airport to the New York City Subway and the Long Island Rail Road. For inter-city rail, New York City is served by Amtrak, whose busiest station by a significant margin is New York Penn Station on the West Side of Manhattan, from which Amtrak provides connections to Boston, Philadelphia, and Washington, D.C. along the Northeast Corridor, and long-distance train service to other North American cities.The Staten Island Railway rapid transit system solely serves Staten Island, operating 24 hours a day, with access to Manhattan from the St. George Terminal via the Staten Island Ferry. The PATH train links Midtown and Lower Manhattan to Hoboken Terminal and Newark Penn Station in New Jersey. Like the New York City Subway, the PATH operates 24 hours a day; meaning three of the five rapid transit systems in the United States which operate on 24-hour schedules are wholly or partly in New York.Multibillion-dollar heavy rail transit projects under construction in New York City include the Second Avenue Subway.\\n\\n\\n=== Air ===\\n\\nNew York\\'s airspace is the busiest in the United States and one of the world\\'s busiest air transportation corridors. The three busiest airports in the New York metropolitan area are John F. Kennedy International Airport (with 55.3 million passengers), Newark Liberty International Airport (43.6 million) and LaGuardia Airport (29.0 million); 127.9 million travelers used these three airports in 2022. JFK and Newark Liberty were the busiest and fourth-busiest U.S. gateways for international air passengers, respectively, in 2023. As of 2011, JFK was the busiest airport for international passengers in North America.Described in 2014 by then-Vice President Joe Biden as the kind of airport a travelers would see in \"some third world country\", LaGuardia Airport has undergone an $8 billion project with federal and state support that has replaced its aging facilities with modern terminals and roadways. Plans have advanced to expand passenger volume at a fourth airport, Stewart International Airport near Newburgh, New York, by the Port Authority of New York and New Jersey. Other commercial airports in or serving the New York metropolitan area include Long Island MacArthur Airport, Trenton–Mercer Airport and Westchester County Airport. The primary general aviation airport serving the area is Teterboro Airport.\\n\\n\\n=== Ferries, taxis and trams ===\\n\\nThe Staten Island Ferry is the world\\'s busiest ferry route, carrying more than 23 million passengers from July 2015 through June 2016 on a 5.2-mile (8.4 km) route between Staten Island and Lower Manhattan and running 24/7. Other ferry systems shuttle commuters between Manhattan and other locales within the city and the metropolitan area. NYC Ferry, a NYCEDC initiative with routes planned to travel to all five boroughs, was launched in 2017.Identified by their color and taxi medallion, the city\\'s 13,587 yellow taxicabs are the only vehicles allowed to pick up riders making street hails throughout the city. Apple green-colored boro taxis can pick up street hails in Upper Manhattan and the four outer boroughs. Long dominated by yellow taxis, high-volume for hire vehicles from Uber and Lyft have provided the most trips in the city since December 2016, when the for-hire vehicles and cabs each had about 10.5 million trips. By October 2023, the 78,000 vehicles-for-hire from such companies as Uber and Lyft combined for 20.3 million trips, while 3.5 million trips were in yellow taxis.The Roosevelt Island Tramway, an aerial tramway that began operation in May 1976, transports 2 million passengers per year the 3,140 feet (960 m) between Roosevelt Island and a station at 59th Street and Second Avenue on Manhattan Island.\\n\\n\\n=== Cycling network ===\\n\\nNew York City has mixed cycling conditions that include urban density, relatively flat terrain, congested roadways with stop-and-go traffic, and many pedestrians. The city\\'s large cycling population includes utility cyclists, such as delivery and messenger services; recreational cycling clubs; and an increasing number of commuters. Cycling is increasingly popular in New York City; in 2022 there were approximately 61,200 people who commuted daily using a bicycle and 610,000 daily bike trips, with both numbers nearly doubling over the previous decade. As of 2022, New York City had 1,525 miles (2,454 km) of bike lanes, including 644 miles (1,036 km) of segregated or \"protected\" bike lanes citywide.\\n\\n\\n=== Streets and highways ===\\n\\n \\n\\nStreets are also a defining feature of the city. The Commissioners\\' Plan of 1811 greatly influenced its physical development. New York City has an extensive web of freeways and parkways, which link the city\\'s boroughs to each other and to North Jersey, Westchester County, Long Island, and southwestern Connecticut through bridges and tunnels. Because these highways serve millions of outer borough and suburban residents who commute into Manhattan, it is common for motorists to be stranded for hours in traffic congestion that are a daily occurrence, particularly during rush hour. Congestion pricing in New York City will go into effect in 2022 at the earliest. Unlike the rest of the United States, New York State prohibits right or left turns on red in cities with a population greater than one million, to reduce traffic collisions and increase pedestrian safety. In New York City, therefore, all turns at red lights are illegal unless a sign permitting such maneuvers is present.\\nManhattan and Staten Island are primarily coterminous with islands of the same names, while Queens and Brooklyn are at the west end of the larger Long Island, and the Bronx is on New York State\\'s mainland. Manhattan Island is linked to New York City\\'s outer boroughs and to New Jersey by an extensive network of bridges and tunnels. The 14-lane George Washington Bridge, connecting Manhattan to New Jersey across the Hudson River, is the world\\'s busiest motor vehicle bridge. The Verrazzano-Narrows Bridge, spanning the Narrows between Brooklyn and Staten Island, is the longest suspension bridge in the Americas and one of the world\\'s longest. The Brooklyn Bridge, with its stone neo-Gothic suspension towers, is an icon of the city itself; opened in 1883, it was the first steel-wire suspension bridge and was the longest suspension bridge in the world until 1903. The Queensboro Bridge \"was the longest cantilever span in North America\" from 1909 to 1917. The Manhattan Bridge, opened in 1909, \"is considered to be the forerunner of modern suspension bridges\", and its design \"served as the model for the major long-span suspension bridges\" of the early 20th century. The Throgs Neck Bridge and Whitestone Bridge connect Queens and the Bronx, while the Triborough Bridge connects the three boroughs of Manhattan, Queens, and the Bronx.\\n\\nThe Lincoln Tunnel, which carries 120,000 vehicles a day under the Hudson River between New Jersey and Midtown Manhattan, is the busiest vehicular tunnel in the world. The tunnel was built instead of a bridge to allow unfettered passage of large passenger and cargo ships that sailed through New York Harbor and up the Hudson River to Manhattan\\'s piers. The Holland Tunnel, connecting Lower Manhattan to Jersey City, New Jersey, was the first mechanically ventilated vehicular tunnel when it opened in 1927. The Queens–Midtown Tunnel, built to relieve congestion on the bridges connecting Manhattan with Queens and Brooklyn, was the largest non-federal project in its time when it was completed in 1940. The Brooklyn–Battery Tunnel (officially known as the Hugh L. Carey Tunnel) is the longest continuous underwater vehicular tunnel in North America and runs underneath Battery Park, connecting the Financial District in Lower Manhattan to Red Hook in Brooklyn.\\n\\n\\n== Government and politics ==\\n\\n\\n=== Government ===\\nNew York City has been a metropolitan municipality with a Strong mayor–council form of government since its consolidation in 1898. The city government is responsible for public education, correctional institutions, public safety, recreational facilities, sanitation, water supply, and welfare services.\\nThe City Council is a unicameral body of 51 council members whose districts are defined by geographic population boundaries. Each term for the mayor and council members lasts four years and has a two consecutive-term limit, which is reset after a four-year break. The New York City Administrative Code, the New York City Rules, and The City Record are the code of local laws, compilation of regulations, and official journal, respectively.Each borough is coextensive with a judicial district of the state Unified Court System, of which the Criminal Court and the Civil Court are the local courts, while the New York Supreme Court conducts major trials and appeals. Manhattan hosts the First Department of the Supreme Court, Appellate Division while Brooklyn hosts the Second Department. There are several extrajudicial administrative courts, which are executive agencies and not part of the state Unified Court System.\\nNew York City is divided between, and is host to the main branches of, two different U.S. district courts: the District Court for the Southern District of New York, whose main courthouse is on Foley Square near City Hall in Manhattan and whose jurisdiction includes Manhattan and the Bronx; and the District Court for the Eastern District of New York, whose main courthouse is in Brooklyn and whose jurisdiction includes Brooklyn, Queens, and Staten Island. The U.S. Court of Appeals for the Second Circuit and U.S. Court of International Trade are based in New York, also on Foley Square in Manhattan.\\n\\n\\n=== Politics ===\\nThe present mayor is Eric Adams. He was elected in 2021 with 67.0% of the vote and assumed office on January 1, 2022. The Democratic Party holds the majority of public offices. As of November 2023, 67.0% of active registered voters in the city are Democrats and 10.2% are Republicans. New York City has not been carried by a Republican presidential candidate since President Calvin Coolidge won all five boroughs in 1924. A Republican candidate for statewide office has not won all five boroughs of the city since it was incorporated in 1898. In redistricting following the 2020 census, 14 of the 26 congressional districts in the state of New York include portions of New York City.New York City is the most important geographical source of political fundraising in the United States. From 2016 to 2020, eight of the ten ZIP Codes where residents gave the greatest number of maximum allowable contribution of $2,800 to congressional candidates were located in New York City. The city has a strong imbalance of payments with the national and state governments. It receives 83 cents in services for every $1 it sends to the federal government in taxes (or annually sends $11.4 billion more than it receives back). City residents and businesses also sent an additional $4.1 billion in the 2009–2010 fiscal year to the state of New York than the city received in return.\\n\\n\\n=== International relations ===\\n\\nIn 2006, the sister city program was restructured and renamed New York City Global Partners. Through this program, New York City has expanded its international outreach to a network of cities worldwide. New York\\'s historic sister cities are denoted below by the year they joined New York City\\'s partnership network.\\n\\n\\n== People ==\\n\\n\\n== See also ==\\nIndex of New York City-related articles\\nOutline of New York City\\n\\n\\n== Notes ==\\n\\n\\n== References ==\\n\\n\\n== Further reading ==\\nBelden, E. Porter (1849). New York, Past, Present, and Future: Comprising a History of the City of New York, a Description of its Present Condition, and an Estimate of its Future Increase. G.P. Putnam.\\nBurgess, Anthony (1976). New York. Little, Brown & Co. ISBN 978-90-6182-266-0.\\nBurrows, Edwin G. and Wallace, Mike (1999). Gotham: A History of New York City to 1898. New York: Oxford University Press. ISBN 0-195-11634-8.\\nFederal Writers\\' Project (1939). The WPA Guide to New York City (1995 reissue ed.). The New Press. ISBN 978-1-56584-321-9.\\nHolli, Melvin G., and Jones, Peter d\\'A., eds. Biographical Dictionary of American Mayors, 1820-1980 (Greenwood Press, 1981) short scholarly biographies each of the city\\'s mayors 1820 to 1980. online; see index at p. 410 for list.\\nJackson, Kenneth T., ed. (1995). The Encyclopedia of New York City. New Haven: Yale University Press. ISBN 0300055366.\\nJackson, Kenneth T.; Dunbar, David S., eds. (2005). Empire City: New York Through the Centuries. Columbia University Press. ISBN 978-0-231-10909-3.\\nLankevich, George L. (1998). American Metropolis: A History of New York City. NYU Press. ISBN 978-0-8147-5186-2.\\nWhite, E.B. (1949). Here is New York (2000 reissue ed.). Little Bookroom.\\nWhite, Norval & Willensky, Elliot (2000). AIA Guide to New York City (4th ed.). New York: Three Rivers Press. ISBN 978-0-8129-3107-5.\\nWhitehead, Colson (2003). The Colossus of New York: A City in 13 Parts. Doubleday. ISBN 978-0-385-50794-3.\\n\\n\\n== External links ==\\nOfficial website \\nNYC Go – official tourism website\\nNew York City at Curlie\\n Geographic data related to New York City at OpenStreetMap\\nCollections – 145,000 NYC photographs at the Museum of the City of New York\\n\"The New New York Skyline (interactive)\". National Geographic. November 2015.'"
      ]
     },
     "execution_count": 20,
     "metadata": {},
     "output_type": "execute_result"
    }
   ],
   "source": [
    "ny.content"
   ]
  },
  {
   "cell_type": "code",
   "execution_count": 22,
   "id": "be5b60e7",
   "metadata": {},
   "outputs": [
    {
     "data": {
      "text/plain": [
       "'https://upload.wikimedia.org/wikipedia/commons/3/3d/10_mile_panorama_of_NYC%2C_Feb.%2C_2018.jpg'"
      ]
     },
     "execution_count": 22,
     "metadata": {},
     "output_type": "execute_result"
    }
   ],
   "source": [
    "ny.images[0]"
   ]
  },
  {
   "cell_type": "code",
   "execution_count": 23,
   "id": "7fd274f8",
   "metadata": {},
   "outputs": [
    {
     "data": {
      "text/plain": [
       "'10 Hudson Yards'"
      ]
     },
     "execution_count": 23,
     "metadata": {},
     "output_type": "execute_result"
    }
   ],
   "source": [
    "ny.links[0]"
   ]
  },
  {
   "cell_type": "code",
   "execution_count": 24,
   "id": "a0b12090",
   "metadata": {},
   "outputs": [
    {
     "name": "stdout",
     "output_type": "stream",
     "text": [
      "Help on class WikipediaPage in module wikipedia.wikipedia:\n",
      "\n",
      "class WikipediaPage(builtins.object)\n",
      " |  WikipediaPage(title=None, pageid=None, redirect=True, preload=False, original_title='')\n",
      " |  \n",
      " |  Contains data from a Wikipedia page.\n",
      " |  Uses property methods to filter data from the raw HTML.\n",
      " |  \n",
      " |  Methods defined here:\n",
      " |  \n",
      " |  __eq__(self, other)\n",
      " |      Return self==value.\n",
      " |  \n",
      " |  __init__(self, title=None, pageid=None, redirect=True, preload=False, original_title='')\n",
      " |      Initialize self.  See help(type(self)) for accurate signature.\n",
      " |  \n",
      " |  __repr__(self)\n",
      " |      Return repr(self).\n",
      " |  \n",
      " |  html(self)\n",
      " |      Get full page HTML.\n",
      " |      \n",
      " |      .. warning:: This can get pretty slow on long pages.\n",
      " |  \n",
      " |  section(self, section_title)\n",
      " |      Get the plain text content of a section from `self.sections`.\n",
      " |      Returns None if `section_title` isn't found, otherwise returns a whitespace stripped string.\n",
      " |      \n",
      " |      This is a convenience method that wraps self.content.\n",
      " |      \n",
      " |      .. warning:: Calling `section` on a section that has subheadings will NOT return\n",
      " |             the full text of all of the subsections. It only gets the text between\n",
      " |             `section_title` and the next subheading, which is often empty.\n",
      " |  \n",
      " |  ----------------------------------------------------------------------\n",
      " |  Readonly properties defined here:\n",
      " |  \n",
      " |  categories\n",
      " |      List of categories of a page.\n",
      " |  \n",
      " |  content\n",
      " |      Plain text content of the page, excluding images, tables, and other data.\n",
      " |  \n",
      " |  coordinates\n",
      " |      Tuple of Decimals in the form of (lat, lon) or None\n",
      " |  \n",
      " |  images\n",
      " |      List of URLs of images on the page.\n",
      " |  \n",
      " |  links\n",
      " |      List of titles of Wikipedia page links on a page.\n",
      " |      \n",
      " |      .. note:: Only includes articles from namespace 0, meaning no Category, User talk, or other meta-Wikipedia pages.\n",
      " |  \n",
      " |  parent_id\n",
      " |      Revision ID of the parent version of the current revision of this\n",
      " |      page. See ``revision_id`` for more information.\n",
      " |  \n",
      " |  references\n",
      " |      List of URLs of external links on a page.\n",
      " |      May include external links within page that aren't technically cited anywhere.\n",
      " |  \n",
      " |  revision_id\n",
      " |      Revision ID of the page.\n",
      " |      \n",
      " |      The revision ID is a number that uniquely identifies the current\n",
      " |      version of the page. It can be used to create the permalink or for\n",
      " |      other direct API calls. See `Help:Page history\n",
      " |      <http://en.wikipedia.org/wiki/Wikipedia:Revision>`_ for more\n",
      " |      information.\n",
      " |  \n",
      " |  sections\n",
      " |      List of section titles from the table of contents on the page.\n",
      " |  \n",
      " |  summary\n",
      " |      Plain text summary of the page.\n",
      " |  \n",
      " |  ----------------------------------------------------------------------\n",
      " |  Data descriptors defined here:\n",
      " |  \n",
      " |  __dict__\n",
      " |      dictionary for instance variables (if defined)\n",
      " |  \n",
      " |  __weakref__\n",
      " |      list of weak references to the object (if defined)\n",
      " |  \n",
      " |  ----------------------------------------------------------------------\n",
      " |  Data and other attributes defined here:\n",
      " |  \n",
      " |  __hash__ = None\n",
      "\n"
     ]
    }
   ],
   "source": [
    "help(wikipedia.WikipediaPage)"
   ]
  },
  {
   "cell_type": "code",
   "execution_count": 25,
   "id": "025f33e5",
   "metadata": {},
   "outputs": [],
   "source": [
    "wikipedia.set_lang(\"fr\")"
   ]
  },
  {
   "cell_type": "code",
   "execution_count": 26,
   "id": "2340a85a",
   "metadata": {},
   "outputs": [
    {
     "data": {
      "text/plain": [
       "\"Emmanuel Macron (/ɛmanɥɛl makʁɔ̃/ ), né le 21 décembre 1977 à Amiens (Somme), est un haut fonctionnaire et homme d'État français. Il est président de la République française depuis le 14 mai 2017.\""
      ]
     },
     "execution_count": 26,
     "metadata": {},
     "output_type": "execute_result"
    }
   ],
   "source": [
    "wikipedia.summary(\"Emmanuel Macron\", sentences=2)"
   ]
  },
  {
   "cell_type": "code",
   "execution_count": 27,
   "id": "8e579539",
   "metadata": {},
   "outputs": [],
   "source": [
    "wikipedia.set_lang(\"en\")"
   ]
  },
  {
   "cell_type": "code",
   "execution_count": 28,
   "id": "f7d54c2e",
   "metadata": {},
   "outputs": [
    {
     "data": {
      "text/plain": [
       "'Emmanuel Jean-Michel Frédéric Macron (French: [emanɥɛl makʁɔ̃]; born 21 December 1977) is a French politician who has been President of France since 2017. Macron is ex officio one of the two Co-Princes of Andorra.'"
      ]
     },
     "execution_count": 28,
     "metadata": {},
     "output_type": "execute_result"
    }
   ],
   "source": [
    "wikipedia.summary(\"Emmanuel Macron\", sentences=2)"
   ]
  },
  {
   "cell_type": "code",
   "execution_count": 44,
   "id": "8f0716c8",
   "metadata": {},
   "outputs": [],
   "source": [
    "import wptools"
   ]
  },
  {
   "cell_type": "code",
   "execution_count": 45,
   "id": "b1d28912",
   "metadata": {},
   "outputs": [],
   "source": [
    "page = wptools.page(\"Poland\", lang='pl')"
   ]
  },
  {
   "cell_type": "code",
   "execution_count": 46,
   "id": "b990258c",
   "metadata": {},
   "outputs": [
    {
     "data": {
      "text/plain": [
       "['REQUEST_DELAY',\n",
       " 'REQUEST_LIMIT',\n",
       " '_WPToolsPage__insert_image_info',\n",
       " '_WPToolsPage__pull_image_info',\n",
       " '__class__',\n",
       " '__delattr__',\n",
       " '__dict__',\n",
       " '__dir__',\n",
       " '__doc__',\n",
       " '__eq__',\n",
       " '__format__',\n",
       " '__ge__',\n",
       " '__getattribute__',\n",
       " '__gt__',\n",
       " '__hash__',\n",
       " '__init__',\n",
       " '__init_subclass__',\n",
       " '__le__',\n",
       " '__lt__',\n",
       " '__module__',\n",
       " '__ne__',\n",
       " '__new__',\n",
       " '__reduce__',\n",
       " '__reduce_ex__',\n",
       " '__repr__',\n",
       " '__setattr__',\n",
       " '__sizeof__',\n",
       " '__str__',\n",
       " '__subclasshook__',\n",
       " '__weakref__',\n",
       " '_build_showstr',\n",
       " '_continue_params',\n",
       " '_extend_data',\n",
       " '_get',\n",
       " '_get_entity_prop',\n",
       " '_handle_continuations',\n",
       " '_handle_response',\n",
       " '_load_response',\n",
       " '_marshal_claims',\n",
       " '_missing_imageinfo',\n",
       " '_normalize_images',\n",
       " '_pop_entities',\n",
       " '_post_labels_updates',\n",
       " '_query',\n",
       " '_request',\n",
       " '_set_data',\n",
       " '_set_imageinfo_data',\n",
       " '_set_labels',\n",
       " '_set_parse_data',\n",
       " '_set_parse_image',\n",
       " '_set_query_data',\n",
       " '_set_query_data_fast_1',\n",
       " '_set_query_data_fast_2',\n",
       " '_set_query_data_slow',\n",
       " '_set_query_image',\n",
       " '_set_random_data',\n",
       " '_set_restbase_data',\n",
       " '_set_title',\n",
       " '_set_wikidata',\n",
       " '_unpack_images',\n",
       " '_update_data',\n",
       " '_update_imageinfo',\n",
       " '_update_images',\n",
       " '_update_params',\n",
       " '_update_what',\n",
       " '_update_wikidata',\n",
       " 'cache',\n",
       " 'data',\n",
       " 'flags',\n",
       " 'get',\n",
       " 'get_imageinfo',\n",
       " 'get_labels',\n",
       " 'get_more',\n",
       " 'get_parse',\n",
       " 'get_query',\n",
       " 'get_querymore',\n",
       " 'get_random',\n",
       " 'get_restbase',\n",
       " 'get_wikidata',\n",
       " 'images',\n",
       " 'info',\n",
       " 'pageimage',\n",
       " 'params',\n",
       " 'query',\n",
       " 'response',\n",
       " 'show',\n",
       " 'skip_action',\n",
       " 'user_labels',\n",
       " 'wanted_labels']"
      ]
     },
     "execution_count": 46,
     "metadata": {},
     "output_type": "execute_result"
    }
   ],
   "source": [
    "dir(page)"
   ]
  },
  {
   "cell_type": "code",
   "execution_count": 47,
   "id": "6fd6d1c4",
   "metadata": {},
   "outputs": [
    {
     "name": "stderr",
     "output_type": "stream",
     "text": [
      "pl.wikipedia.org (query) Poland\n",
      "Poland (pl) data\n",
      "{\n",
      "  WARNINGS: <dict(2)> extracts, query\n",
      "  description: strona ujednoznaczniająca\n",
      "  disambiguation: 37\n",
      "  extext: <str(873)> * Poland – wioska w Kiribati, na wyspie Kirit...\n",
      "  extract: <str(1002)> <ul><li>Poland – wioska w Kiribati, na wysp...\n",
      "  label: Poland\n",
      "  length: 2,113\n",
      "  links: <list(37)> Arkansas, Chris Poland, Chrissi Poland, Gmina,...\n",
      "  modified: <dict(1)> page\n",
      "  pageid: 181901\n",
      "  random: Hypocenomyce\n",
      "  requests: <list(1)> query\n",
      "  title: Poland\n",
      "  url: https://pl.wikipedia.org/wiki/Poland\n",
      "  url_raw: https://pl.wikipedia.org/wiki/Poland?action=raw\n",
      "  wikibase: Q299135\n",
      "  wikidata_url: https://www.wikidata.org/wiki/Q299135\n",
      "}\n"
     ]
    },
    {
     "data": {
      "text/plain": [
       "<wptools.page.WPToolsPage at 0x7f9a689b54c0>"
      ]
     },
     "execution_count": 47,
     "metadata": {},
     "output_type": "execute_result"
    }
   ],
   "source": [
    "page.get_query()"
   ]
  },
  {
   "cell_type": "code",
   "execution_count": 48,
   "id": "e059b637",
   "metadata": {},
   "outputs": [
    {
     "name": "stderr",
     "output_type": "stream",
     "text": [
      "www.wikidata.org (wikidata) Q299135\n",
      "www.wikidata.org (labels) P31|Q7208891|P1889|Q4167410\n",
      "+ query results in cache\n",
      "pl.wikipedia.org (parse) 181901\n",
      "pl.wikipedia.org (restbase) /page/summary/Poland\n",
      "Poland (pl) data\n",
      "{\n",
      "  WARNINGS: <dict(2)> extracts, query\n",
      "  claims: <dict(2)> P31, P1889\n",
      "  description: strona ujednoznaczniająca\n",
      "  disambiguation: 37\n",
      "  exhtml: <str(288)> <p>Miejscowości w USA:</p><ul><li>Poland – wi...\n",
      "  exrest: <str(236)> Miejscowości w USA:Poland – wieś w stanie Now...\n",
      "  extext: <str(873)> * Poland – wioska w Kiribati, na wyspie Kirit...\n",
      "  extract: <str(1002)> <ul><li>Poland – wioska w Kiribati, na wysp...\n",
      "  iwlinks: <list(1)> https://pl.wiktionary.org/wiki/Poland\n",
      "  label: Poland\n",
      "  labels: <dict(4)> P31, Q7208891, P1889, Q4167410\n",
      "  length: 2,113\n",
      "  links: <list(37)> Arkansas, Chris Poland, Chrissi Poland, Gmina,...\n",
      "  modified: <dict(2)> page, wikidata\n",
      "  pageid: 181901\n",
      "  parsetree: <str(2182)> <root><template><title>ujednoznacznienie<...\n",
      "  random: Hypocenomyce\n",
      "  requests: <list(5)> query, wikidata, labels, parse, restbase\n",
      "  title: Poland\n",
      "  url: https://pl.wikipedia.org/wiki/Poland\n",
      "  url_raw: https://pl.wikipedia.org/wiki/Poland?action=raw\n",
      "  what: strona ujednoznaczniająca w projekcie Wikimedia\n",
      "  wikibase: Q299135\n",
      "  wikidata: <dict(2)> jest to (P31), inne niż (P1889)\n",
      "  wikidata_pageid: 288340\n",
      "  wikidata_url: https://www.wikidata.org/wiki/Q299135\n",
      "  wikitext: <str(2047)> {{ujednoznacznienie}}{{wikisłownik|Poland}...\n",
      "}\n"
     ]
    },
    {
     "data": {
      "text/plain": [
       "<wptools.page.WPToolsPage at 0x7f9a689b54c0>"
      ]
     },
     "execution_count": 48,
     "metadata": {},
     "output_type": "execute_result"
    }
   ],
   "source": [
    "page.get()"
   ]
  },
  {
   "cell_type": "code",
   "execution_count": 49,
   "id": "7d53d77f",
   "metadata": {},
   "outputs": [
    {
     "data": {
      "text/plain": [
       "{'requests': ['query', 'wikidata', 'labels', 'parse', 'restbase'],\n",
       " 'WARNINGS': {'extracts': {'warnings': 'HTML may be malformed and/or unbalanced and may omit inline images. Use at your own risk. Known problems are listed at https://www.mediawiki.org/wiki/Special:MyLanguage/Extension:TextExtracts#Caveats.'},\n",
       "  'query': {'warnings': 'Unrecognized value for parameter \"prop\": pageassessments'}},\n",
       " 'random': 'Hypocenomyce',\n",
       " 'redirected': None,\n",
       " 'pageid': 181901,\n",
       " 'extract': \"<ul><li>Poland – wioska w Kiribati, na wyspie Kiritimati</li>\\n<li>Poland – polska grupa muzyczna</li>\\n<li>Poland Lake – jezioro w Kanadzie</li>\\n<li>Chris Poland – muzyk amerykański</li>\\n<li>Chrissi Poland – wokalistka i multiinstrumentalistka amerykańska</li>\\n<li>Poland – singel amerykańskiego rapera Lil Yachty'ego.</li></ul><p>Miejscowości w USA:\\n</p>\\n<ul><li>Poland – wieś w stanie Nowy Jork, w hrabstwie Herkimer</li>\\n<li>Poland – miasto w stanie Nowy Jork, w hrabstwie Chautauqua</li>\\n<li>Poland – wieś w stanie Ohio, w hrabstwie Mahoning</li>\\n<li>Poland – miasto w stanie Maine, w hrabstwie Androscoggin</li></ul><p>Gminy w USA:\\n</p>\\n<ul><li>Poland (ang. <i>Poland Township</i>) – gmina w stanie Arkansas, w hrabstwie Greene</li>\\n<li>Poland (ang. <i>Poland Township</i>) – gmina w stanie Iowa, w hrabstwie Buena Vista</li>\\n<li>Poland (ang. <i>Poland Town</i>) – gmina w stanie Nowy Jork, w hrabstwie Chautauqua</li>\\n<li>Poland (ang. <i>Poland Township</i>) – gmina w stanie Ohio, w hrabstwie Mahoning</li></ul>\",\n",
       " 'extext': \"* Poland – wioska w Kiribati, na wyspie Kiritimati\\n  * Poland – polska grupa muzyczna\\n  * Poland Lake – jezioro w Kanadzie\\n  * Chris Poland – muzyk amerykański\\n  * Chrissi Poland – wokalistka i multiinstrumentalistka amerykańska\\n  * Poland – singel amerykańskiego rapera Lil Yachty'ego.\\n\\nMiejscowości w USA:\\n\\n  * Poland – wieś w stanie Nowy Jork, w hrabstwie Herkimer\\n  * Poland – miasto w stanie Nowy Jork, w hrabstwie Chautauqua\\n  * Poland – wieś w stanie Ohio, w hrabstwie Mahoning\\n  * Poland – miasto w stanie Maine, w hrabstwie Androscoggin\\n\\nGminy w USA:\\n\\n  * Poland (ang. _Poland Township_ ) – gmina w stanie Arkansas, w hrabstwie Greene\\n  * Poland (ang. _Poland Township_ ) – gmina w stanie Iowa, w hrabstwie Buena Vista\\n  * Poland (ang. _Poland Town_ ) – gmina w stanie Nowy Jork, w hrabstwie Chautauqua\\n  * Poland (ang. _Poland Township_ ) – gmina w stanie Ohio, w hrabstwie Mahoning\",\n",
       " 'url': 'https://pl.wikipedia.org/wiki/Poland',\n",
       " 'url_raw': 'https://pl.wikipedia.org/wiki/Poland?action=raw',\n",
       " 'length': 2113,\n",
       " 'links': ['Arkansas',\n",
       "  'Chris Poland',\n",
       "  'Chrissi Poland',\n",
       "  'Gmina',\n",
       "  'Gmina Poland (Arkansas)',\n",
       "  'Gmina Poland (Iowa)',\n",
       "  'Gmina Poland (Nowy Jork)',\n",
       "  'Gmina Poland (Ohio)',\n",
       "  'Hrabstwo',\n",
       "  'Hrabstwo Androscoggin',\n",
       "  'Hrabstwo Buena Vista',\n",
       "  'Hrabstwo Chautauqua (Nowy Jork)',\n",
       "  'Hrabstwo Greene (Arkansas)',\n",
       "  'Hrabstwo Herkimer',\n",
       "  'Hrabstwo Mahoning',\n",
       "  'Iowa',\n",
       "  'Jezioro',\n",
       "  'Język angielski',\n",
       "  'Kanada',\n",
       "  'Kiribati',\n",
       "  'Kiritimati',\n",
       "  'Kult (zespół muzyczny)',\n",
       "  'Lil Yachty',\n",
       "  'Maine',\n",
       "  'Miasto',\n",
       "  'Nowy Jork (stan)',\n",
       "  'Ohio',\n",
       "  'Poland (Kiribati)',\n",
       "  'Poland (Maine)',\n",
       "  'Poland (Nowy Jork)',\n",
       "  'Poland (Ohio)',\n",
       "  'Poland (hrabstwo Herkimer)',\n",
       "  'Poland (singel)',\n",
       "  'Poland Lake',\n",
       "  'Stan (podział administracyjny)',\n",
       "  'Stany Zjednoczone',\n",
       "  'Wieś'],\n",
       " 'modified': {'page': '2024-01-10T15:08:21Z',\n",
       "  'wikidata': '2023-10-20T19:26:00Z'},\n",
       " 'wikibase': 'Q299135',\n",
       " 'wikidata_url': 'https://www.wikidata.org/wiki/Q299135',\n",
       " 'disambiguation': 37,\n",
       " 'description': 'strona ujednoznaczniająca',\n",
       " 'label': 'Poland',\n",
       " 'title': 'Poland',\n",
       " 'labels': {'P31': 'jest to',\n",
       "  'Q7208891': 'Poland',\n",
       "  'P1889': 'inne niż',\n",
       "  'Q4167410': 'strona ujednoznaczniająca w projekcie Wikimedia'},\n",
       " 'wikidata': {'jest to (P31)': 'strona ujednoznaczniająca w projekcie Wikimedia (Q4167410)',\n",
       "  'inne niż (P1889)': 'Poland (Q7208891)'},\n",
       " 'wikidata_pageid': 288340,\n",
       " 'claims': {'P31': ['Q4167410'], 'P1889': ['Q7208891']},\n",
       " 'what': 'strona ujednoznaczniająca w projekcie Wikimedia',\n",
       " 'iwlinks': ['https://pl.wiktionary.org/wiki/Poland'],\n",
       " 'wikitext': \"{{ujednoznacznienie}}\\n{{wikisłownik|Poland}}\\n* [[Poland (Kiribati)|Poland]] – wioska w [[Kiribati]], na wyspie [[Kiritimati]]\\n* [[Kult (zespół muzyczny)|Poland]] – polska grupa muzyczna\\n* [[Poland Lake]] – [[jezioro]] w [[Kanada|Kanadzie]]\\n* [[Chris Poland]] – muzyk amerykański\\n* [[Chrissi Poland]] – wokalistka i multiinstrumentalistka amerykańska\\n* [[Poland (singel)|Poland]] – singel amerykańskiego rapera [[Lil Yachty|Lil Yachty'ego]].\\nMiejscowości w [[Stany Zjednoczone|USA]]:\\n* [[Poland (hrabstwo Herkimer)|Poland]] – wieś w [[stan (podział administracyjny)|stanie]] [[Nowy Jork (stan)|Nowy Jork]], w [[hrabstwo|hrabstwie]] [[hrabstwo Herkimer|Herkimer]]\\n* [[Poland (Nowy Jork)|Poland]] – [[miasto]] w [[stan (podział administracyjny)|stanie]] [[Nowy Jork (stan)|Nowy Jork]], w [[hrabstwo|hrabstwie]] [[hrabstwo Chautauqua (Nowy Jork)|Chautauqua]]\\n* [[Poland (Ohio)|Poland]] – [[wieś]] w [[stan (podział administracyjny)|stanie]] [[Ohio]], w [[Hrabstwo|hrabstwie]] [[hrabstwo Mahoning|Mahoning]]\\n* [[Poland (Maine)|Poland]] – miasto w [[stan (podział administracyjny)|stanie]] [[Maine]], w [[Hrabstwo|hrabstwie]] [[hrabstwo Androscoggin|Androscoggin]]\\n[[Gmina|Gminy]] w [[Stany Zjednoczone|USA]]:\\n* [[gmina Poland (Arkansas)|Poland]] ([[język angielski|ang.]] ''Poland Township'') – [[gmina]] w [[stan (podział administracyjny)|stanie]] [[Arkansas]], w [[Hrabstwo|hrabstwie]] [[hrabstwo Greene (Arkansas)|Greene]]\\n* [[gmina Poland (Iowa)|Poland]] ([[język angielski|ang.]] ''Poland Township'') – [[gmina]] w [[stan (podział administracyjny)|stanie]] [[Iowa]], w [[Hrabstwo|hrabstwie]] [[hrabstwo Buena Vista|Buena Vista]]\\n* [[gmina Poland (Nowy Jork)|Poland]] ([[język angielski|ang.]] ''Poland Town'') – gmina w [[stan (podział administracyjny)|stanie]] [[Nowy Jork (stan)|Nowy Jork]], w [[Hrabstwo|hrabstwie]] [[hrabstwo Chautauqua (Nowy Jork)|Chautauqua]] \\n* [[gmina Poland (Ohio)|Poland]] ([[język angielski|ang.]] ''Poland Township'') – gmina w [[stan (podział administracyjny)|stanie]] [[Ohio]], w [[Hrabstwo|hrabstwie]] [[hrabstwo Mahoning|Mahoning]]\",\n",
       " 'parsetree': '<root><template><title>ujednoznacznienie</title></template>\\n<template lineStart=\"1\"><title>wikisłownik</title><part><name index=\"1\"/><value>Poland</value></part></template>\\n* [[Poland (Kiribati)|Poland]] – wioska w [[Kiribati]], na wyspie [[Kiritimati]]\\n* [[Kult (zespół muzyczny)|Poland]] – polska grupa muzyczna\\n* [[Poland Lake]] – [[jezioro]] w [[Kanada|Kanadzie]]\\n* [[Chris Poland]] – muzyk amerykański\\n* [[Chrissi Poland]] – wokalistka i multiinstrumentalistka amerykańska\\n* [[Poland (singel)|Poland]] – singel amerykańskiego rapera [[Lil Yachty|Lil Yachty\\'ego]].\\nMiejscowości w [[Stany Zjednoczone|USA]]:\\n* [[Poland (hrabstwo Herkimer)|Poland]] – wieś w [[stan (podział administracyjny)|stanie]] [[Nowy Jork (stan)|Nowy Jork]], w [[hrabstwo|hrabstwie]] [[hrabstwo Herkimer|Herkimer]]\\n* [[Poland (Nowy Jork)|Poland]] – [[miasto]] w [[stan (podział administracyjny)|stanie]] [[Nowy Jork (stan)|Nowy Jork]], w [[hrabstwo|hrabstwie]] [[hrabstwo Chautauqua (Nowy Jork)|Chautauqua]]\\n* [[Poland (Ohio)|Poland]] – [[wieś]] w [[stan (podział administracyjny)|stanie]] [[Ohio]], w [[Hrabstwo|hrabstwie]] [[hrabstwo Mahoning|Mahoning]]\\n* [[Poland (Maine)|Poland]] – miasto w [[stan (podział administracyjny)|stanie]] [[Maine]], w [[Hrabstwo|hrabstwie]] [[hrabstwo Androscoggin|Androscoggin]]\\n[[Gmina|Gminy]] w [[Stany Zjednoczone|USA]]:\\n* [[gmina Poland (Arkansas)|Poland]] ([[język angielski|ang.]] \\'\\'Poland Township\\'\\') – [[gmina]] w [[stan (podział administracyjny)|stanie]] [[Arkansas]], w [[Hrabstwo|hrabstwie]] [[hrabstwo Greene (Arkansas)|Greene]]\\n* [[gmina Poland (Iowa)|Poland]] ([[język angielski|ang.]] \\'\\'Poland Township\\'\\') – [[gmina]] w [[stan (podział administracyjny)|stanie]] [[Iowa]], w [[Hrabstwo|hrabstwie]] [[hrabstwo Buena Vista|Buena Vista]]\\n* [[gmina Poland (Nowy Jork)|Poland]] ([[język angielski|ang.]] \\'\\'Poland Town\\'\\') – gmina w [[stan (podział administracyjny)|stanie]] [[Nowy Jork (stan)|Nowy Jork]], w [[Hrabstwo|hrabstwie]] [[hrabstwo Chautauqua (Nowy Jork)|Chautauqua]] \\n* [[gmina Poland (Ohio)|Poland]] ([[język angielski|ang.]] \\'\\'Poland Township\\'\\') – gmina w [[stan (podział administracyjny)|stanie]] [[Ohio]], w [[Hrabstwo|hrabstwie]] [[hrabstwo Mahoning|Mahoning]]</root>',\n",
       " 'infobox': None,\n",
       " 'exrest': 'Miejscowości w USA:Poland – wieś w stanie Nowy Jork, w hrabstwie Herkimer\\nPoland – miasto w stanie Nowy Jork, w hrabstwie Chautauqua\\nPoland – wieś w stanie Ohio, w hrabstwie Mahoning\\nPoland – miasto w stanie Maine, w hrabstwie Androscoggin',\n",
       " 'exhtml': '<p>Miejscowości w USA:</p><ul><li>Poland – wieś w stanie Nowy Jork, w hrabstwie Herkimer</li>\\n<li>Poland – miasto w stanie Nowy Jork, w hrabstwie Chautauqua</li>\\n<li>Poland – wieś w stanie Ohio, w hrabstwie Mahoning</li>\\n<li>Poland – miasto w stanie Maine, w hrabstwie Androscoggin</li></ul>'}"
      ]
     },
     "execution_count": 49,
     "metadata": {},
     "output_type": "execute_result"
    }
   ],
   "source": [
    "page.data"
   ]
  },
  {
   "cell_type": "code",
   "execution_count": 50,
   "id": "149d86c4",
   "metadata": {},
   "outputs": [
    {
     "data": {
      "text/plain": [
       "dict_keys(['requests', 'WARNINGS', 'random', 'redirected', 'pageid', 'extract', 'extext', 'url', 'url_raw', 'length', 'links', 'modified', 'wikibase', 'wikidata_url', 'disambiguation', 'description', 'label', 'title', 'labels', 'wikidata', 'wikidata_pageid', 'claims', 'what', 'iwlinks', 'wikitext', 'parsetree', 'infobox', 'exrest', 'exhtml'])"
      ]
     },
     "execution_count": 50,
     "metadata": {},
     "output_type": "execute_result"
    }
   ],
   "source": [
    "page.data.keys()"
   ]
  },
  {
   "cell_type": "code",
   "execution_count": 51,
   "id": "cbf14c83",
   "metadata": {},
   "outputs": [
    {
     "data": {
      "text/plain": [
       "'<p>Miejscowości w USA:</p><ul><li>Poland – wieś w stanie Nowy Jork, w hrabstwie Herkimer</li>\\n<li>Poland – miasto w stanie Nowy Jork, w hrabstwie Chautauqua</li>\\n<li>Poland – wieś w stanie Ohio, w hrabstwie Mahoning</li>\\n<li>Poland – miasto w stanie Maine, w hrabstwie Androscoggin</li></ul>'"
      ]
     },
     "execution_count": 51,
     "metadata": {},
     "output_type": "execute_result"
    }
   ],
   "source": [
    "page.data['exhtml']"
   ]
  },
  {
   "cell_type": "code",
   "execution_count": 35,
   "id": "7e1ae2ef",
   "metadata": {},
   "outputs": [],
   "source": [
    "page.data['infobox']"
   ]
  },
  {
   "cell_type": "code",
   "execution_count": 36,
   "id": "72b2c6a1",
   "metadata": {},
   "outputs": [],
   "source": [
    "page = wptools.page(\"lohikeitto\")"
   ]
  },
  {
   "cell_type": "code",
   "execution_count": 37,
   "id": "5df4c475",
   "metadata": {},
   "outputs": [
    {
     "name": "stderr",
     "output_type": "stream",
     "text": [
      "en.wikipedia.org (parse) lohikeitto\n",
      "en.wikipedia.org (imageinfo) File:Salmon soup at Löyly, Helsinki ...\n",
      "Lohikeitto (en) data\n",
      "{\n",
      "  image: <list(1)> {'kind': 'parse-image', 'file': 'File:Salmon so...\n",
      "  infobox: <dict(8)> name, image, image_size, alternate_name, coun...\n",
      "  pageid: 26268444\n",
      "  parsetree: <str(3764)> <root><template><title>Short description<...\n",
      "  requests: <list(2)> parse, imageinfo\n",
      "  title: Lohikeitto\n",
      "  wikibase: Q1420442\n",
      "  wikidata_url: https://www.wikidata.org/wiki/Q1420442\n",
      "  wikitext: <str(1891)> {{Short description|Nordic salmon and pota...\n",
      "}\n"
     ]
    },
    {
     "data": {
      "text/plain": [
       "<wptools.page.WPToolsPage at 0x7f9a69d7fac0>"
      ]
     },
     "execution_count": 37,
     "metadata": {},
     "output_type": "execute_result"
    }
   ],
   "source": [
    "page.get_parse()"
   ]
  },
  {
   "cell_type": "code",
   "execution_count": 38,
   "id": "9fe65e1c",
   "metadata": {},
   "outputs": [
    {
     "data": {
      "text/plain": [
       "{'name': 'Salmon Soup (Lohikeitto)',\n",
       " 'image': 'Salmon soup at Löyly, Helsinki (52890138067).jpg',\n",
       " 'image_size': '250px',\n",
       " 'alternate_name': 'Creamy salmon soup, laxsoppa',\n",
       " 'country': '[[Finland]]',\n",
       " 'type': '[[Soup]]',\n",
       " 'main_ingredient': '[[Salmon]] fillets, [[potato]]es, [[leek]]s',\n",
       " 'no_recipes': 'true'}"
      ]
     },
     "execution_count": 38,
     "metadata": {},
     "output_type": "execute_result"
    }
   ],
   "source": [
    "page.data['infobox']"
   ]
  },
  {
   "cell_type": "code",
   "execution_count": 39,
   "id": "a0ed115e",
   "metadata": {},
   "outputs": [],
   "source": [
    "page = wptools.page(wikibase='Q3698703')"
   ]
  },
  {
   "cell_type": "code",
   "execution_count": 40,
   "id": "29c014a2",
   "metadata": {},
   "outputs": [
    {
     "name": "stderr",
     "output_type": "stream",
     "text": [
      "www.wikidata.org (wikidata) Q3698703\n",
      "www.wikidata.org (labels) P279|P571|P2012|Q1959325|P186|Q38|P8814...\n",
      "Note: Wikidata item Q3698703 missing 'instance of' (P31)\n",
      "en.wikipedia.org (imageinfo) File:Crostata limone e zenzero 3.jpg\n",
      "Crostata (en) data\n",
      "{\n",
      "  claims: <dict(12)> P373, P646, P279, P495, P18, P5456, P1705, P5...\n",
      "  description: Italian baked tart or pie\n",
      "  image: <list(1)> {'file': 'File:Crostata limone e zenzero 3.jpg'...\n",
      "  label: Crostata\n",
      "  labels: <dict(22)> P279, P571, P2012, Q1959325, P186, Q38, P8814...\n",
      "  modified: <dict(1)> wikidata\n",
      "  requests: <list(3)> wikidata, labels, imageinfo\n",
      "  title: Crostata\n",
      "  wikibase: Q3698703\n",
      "  wikidata: <dict(12)> Commons category (P373), Freebase ID (P646)...\n",
      "  wikidata_pageid: 3524796\n",
      "  wikidata_url: https://www.wikidata.org/wiki/Q3698703\n",
      "}\n"
     ]
    },
    {
     "data": {
      "text/plain": [
       "<wptools.page.WPToolsPage at 0x7f9a689b52e0>"
      ]
     },
     "execution_count": 40,
     "metadata": {},
     "output_type": "execute_result"
    }
   ],
   "source": [
    "page.get_wikidata()"
   ]
  },
  {
   "cell_type": "code",
   "execution_count": 41,
   "id": "6f250ad0",
   "metadata": {},
   "outputs": [
    {
     "data": {
      "text/plain": [
       "{'P279': 'subclass of',\n",
       " 'P571': 'inception',\n",
       " 'P2012': 'cuisine',\n",
       " 'Q1959325': 'shortcrust pastry',\n",
       " 'P186': 'made from material',\n",
       " 'Q38': 'Italy',\n",
       " 'P8814': 'WordNet 3.1 Synset ID',\n",
       " 'P5456': 'TasteAtlas ID',\n",
       " 'P1705': 'native label',\n",
       " 'Q1142483': 'tart',\n",
       " 'Q1269': 'jam',\n",
       " 'Q212193': 'Nutella',\n",
       " 'Q625825': 'custard',\n",
       " 'P495': 'country of origin',\n",
       " 'P646': 'Freebase ID',\n",
       " 'Q192786': 'Italian cuisine',\n",
       " 'Q216781': 'ricotta',\n",
       " 'P18': 'image',\n",
       " 'P373': 'Commons category',\n",
       " 'P508': 'BNCF Thesaurus ID',\n",
       " 'Q3314483': 'fruit',\n",
       " 'Q26791887': 'sweet pie'}"
      ]
     },
     "execution_count": 41,
     "metadata": {},
     "output_type": "execute_result"
    }
   ],
   "source": [
    "page.data['labels']"
   ]
  },
  {
   "cell_type": "code",
   "execution_count": 42,
   "id": "b63499d5",
   "metadata": {},
   "outputs": [
    {
     "data": {
      "text/plain": [
       "{'P373': ['Crostata'],\n",
       " 'P646': ['/m/0cnp1y'],\n",
       " 'P279': ['Q26791887', 'Q1142483'],\n",
       " 'P495': ['Q38'],\n",
       " 'P18': ['Crostata limone e zenzero 3.jpg'],\n",
       " 'P5456': ['crostata'],\n",
       " 'P1705': ['Crostata'],\n",
       " 'P508': ['62906'],\n",
       " 'P571': ['+1001-00-00T00:00:00Z'],\n",
       " 'P2012': ['Q192786'],\n",
       " 'P186': ['Q1959325', 'Q1269', 'Q216781', 'Q3314483', 'Q212193', 'Q625825'],\n",
       " 'P8814': ['07639542-n']}"
      ]
     },
     "execution_count": 42,
     "metadata": {},
     "output_type": "execute_result"
    }
   ],
   "source": [
    "page.data['claims']"
   ]
  },
  {
   "cell_type": "code",
   "execution_count": 43,
   "id": "cb8e61be",
   "metadata": {},
   "outputs": [
    {
     "data": {
      "text/plain": [
       "{'Commons category (P373)': 'Crostata',\n",
       " 'Freebase ID (P646)': '/m/0cnp1y',\n",
       " 'subclass of (P279)': ['sweet pie (Q26791887)', 'tart (Q1142483)'],\n",
       " 'country of origin (P495)': 'Italy (Q38)',\n",
       " 'image (P18)': 'Crostata limone e zenzero 3.jpg',\n",
       " 'TasteAtlas ID (P5456)': 'crostata',\n",
       " 'native label (P1705)': 'Crostata',\n",
       " 'BNCF Thesaurus ID (P508)': '62906',\n",
       " 'inception (P571)': '+1001-00-00T00:00:00Z',\n",
       " 'cuisine (P2012)': 'Italian cuisine (Q192786)',\n",
       " 'made from material (P186)': ['shortcrust pastry (Q1959325)',\n",
       "  'jam (Q1269)',\n",
       "  'ricotta (Q216781)',\n",
       "  'fruit (Q3314483)',\n",
       "  'Nutella (Q212193)',\n",
       "  'custard (Q625825)'],\n",
       " 'WordNet 3.1 Synset ID (P8814)': '07639542-n'}"
      ]
     },
     "execution_count": 43,
     "metadata": {},
     "output_type": "execute_result"
    }
   ],
   "source": [
    "page.data['wikidata']"
   ]
  },
  {
   "cell_type": "code",
   "execution_count": null,
   "id": "c78dd913",
   "metadata": {},
   "outputs": [],
   "source": []
  }
 ],
 "metadata": {
  "kernelspec": {
   "display_name": "Python 3 (ipykernel)",
   "language": "python",
   "name": "python3"
  },
  "language_info": {
   "codemirror_mode": {
    "name": "ipython",
    "version": 3
   },
   "file_extension": ".py",
   "mimetype": "text/x-python",
   "name": "python",
   "nbconvert_exporter": "python",
   "pygments_lexer": "ipython3",
   "version": "3.8.10"
  }
 },
 "nbformat": 4,
 "nbformat_minor": 5
}
