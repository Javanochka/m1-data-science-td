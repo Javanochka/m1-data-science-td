{
 "cells": [
  {
   "cell_type": "code",
   "execution_count": 1,
   "id": "2d84896c",
   "metadata": {},
   "outputs": [
    {
     "name": "stdout",
     "output_type": "stream",
     "text": [
      "animal_type,sex,name,age,colour\r\n",
      "cat,female,Arta,2,orange\r\n",
      "dog,male,Bork,5,brown\r\n",
      "mouse,male,Jerry,30,brown\r\n",
      "cat,male,Tom,40,blue\r\n",
      "rat,female,Lariska,25,grey\r\n"
     ]
    }
   ],
   "source": [
    "!cat animals.csv"
   ]
  },
  {
   "cell_type": "code",
   "execution_count": 2,
   "id": "eaa78510",
   "metadata": {},
   "outputs": [
    {
     "name": "stdout",
     "output_type": "stream",
     "text": [
      "Requirement already satisfied: pandas in /home/anna/Documents/PhDWork/Teaching/ex-env/lib/python3.8/site-packages (1.5.3)\r\n",
      "Requirement already satisfied: pytz>=2020.1 in /home/anna/Documents/PhDWork/Teaching/ex-env/lib/python3.8/site-packages (from pandas) (2022.7.1)\r\n",
      "Requirement already satisfied: python-dateutil>=2.8.1 in /home/anna/Documents/PhDWork/Teaching/ex-env/lib/python3.8/site-packages (from pandas) (2.8.2)\r\n",
      "Requirement already satisfied: numpy>=1.20.3; python_version < \"3.10\" in /home/anna/Documents/PhDWork/Teaching/ex-env/lib/python3.8/site-packages (from pandas) (1.23.5)\r\n",
      "Requirement already satisfied: six>=1.5 in /home/anna/Documents/PhDWork/Teaching/ex-env/lib/python3.8/site-packages (from python-dateutil>=2.8.1->pandas) (1.16.0)\r\n"
     ]
    }
   ],
   "source": [
    "!pip install pandas"
   ]
  },
  {
   "cell_type": "code",
   "execution_count": 7,
   "id": "f723999d",
   "metadata": {},
   "outputs": [],
   "source": [
    "import pandas as pd\n",
    "\n",
    "animals = pd.read_csv(\"animals.csv\", sep=',')"
   ]
  },
  {
   "cell_type": "code",
   "execution_count": 8,
   "id": "e5b8eaa7",
   "metadata": {},
   "outputs": [
    {
     "data": {
      "text/html": [
       "<div>\n",
       "<style scoped>\n",
       "    .dataframe tbody tr th:only-of-type {\n",
       "        vertical-align: middle;\n",
       "    }\n",
       "\n",
       "    .dataframe tbody tr th {\n",
       "        vertical-align: top;\n",
       "    }\n",
       "\n",
       "    .dataframe thead th {\n",
       "        text-align: right;\n",
       "    }\n",
       "</style>\n",
       "<table border=\"1\" class=\"dataframe\">\n",
       "  <thead>\n",
       "    <tr style=\"text-align: right;\">\n",
       "      <th></th>\n",
       "      <th>animal_type</th>\n",
       "      <th>sex</th>\n",
       "      <th>name</th>\n",
       "      <th>age</th>\n",
       "      <th>colour</th>\n",
       "    </tr>\n",
       "  </thead>\n",
       "  <tbody>\n",
       "    <tr>\n",
       "      <th>0</th>\n",
       "      <td>cat</td>\n",
       "      <td>female</td>\n",
       "      <td>Arta</td>\n",
       "      <td>2</td>\n",
       "      <td>orange</td>\n",
       "    </tr>\n",
       "    <tr>\n",
       "      <th>1</th>\n",
       "      <td>dog</td>\n",
       "      <td>male</td>\n",
       "      <td>Bork</td>\n",
       "      <td>5</td>\n",
       "      <td>brown</td>\n",
       "    </tr>\n",
       "    <tr>\n",
       "      <th>2</th>\n",
       "      <td>mouse</td>\n",
       "      <td>male</td>\n",
       "      <td>Jerry</td>\n",
       "      <td>30</td>\n",
       "      <td>brown</td>\n",
       "    </tr>\n",
       "    <tr>\n",
       "      <th>3</th>\n",
       "      <td>cat</td>\n",
       "      <td>male</td>\n",
       "      <td>Tom</td>\n",
       "      <td>40</td>\n",
       "      <td>blue</td>\n",
       "    </tr>\n",
       "    <tr>\n",
       "      <th>4</th>\n",
       "      <td>rat</td>\n",
       "      <td>female</td>\n",
       "      <td>Lariska</td>\n",
       "      <td>25</td>\n",
       "      <td>grey</td>\n",
       "    </tr>\n",
       "  </tbody>\n",
       "</table>\n",
       "</div>"
      ],
      "text/plain": [
       "  animal_type     sex     name  age  colour\n",
       "0         cat  female     Arta    2  orange\n",
       "1         dog    male     Bork    5   brown\n",
       "2       mouse    male    Jerry   30   brown\n",
       "3         cat    male      Tom   40    blue\n",
       "4         rat  female  Lariska   25    grey"
      ]
     },
     "execution_count": 8,
     "metadata": {},
     "output_type": "execute_result"
    }
   ],
   "source": [
    "animals"
   ]
  },
  {
   "cell_type": "code",
   "execution_count": 5,
   "id": "6cff1896",
   "metadata": {},
   "outputs": [
    {
     "name": "stdout",
     "output_type": "stream",
     "text": [
      "Help on method to_dict in module pandas.core.frame:\n",
      "\n",
      "to_dict(orient: \"Literal[('dict', 'list', 'series', 'split', 'tight', 'records', 'index')]\" = 'dict', into: 'type[dict]' = <class 'dict'>) -> 'dict | list[dict]' method of pandas.core.frame.DataFrame instance\n",
      "    Convert the DataFrame to a dictionary.\n",
      "    \n",
      "    The type of the key-value pairs can be customized with the parameters\n",
      "    (see below).\n",
      "    \n",
      "    Parameters\n",
      "    ----------\n",
      "    orient : str {'dict', 'list', 'series', 'split', 'tight', 'records', 'index'}\n",
      "        Determines the type of the values of the dictionary.\n",
      "    \n",
      "        - 'dict' (default) : dict like {column -> {index -> value}}\n",
      "        - 'list' : dict like {column -> [values]}\n",
      "        - 'series' : dict like {column -> Series(values)}\n",
      "        - 'split' : dict like\n",
      "          {'index' -> [index], 'columns' -> [columns], 'data' -> [values]}\n",
      "        - 'tight' : dict like\n",
      "          {'index' -> [index], 'columns' -> [columns], 'data' -> [values],\n",
      "          'index_names' -> [index.names], 'column_names' -> [column.names]}\n",
      "        - 'records' : list like\n",
      "          [{column -> value}, ... , {column -> value}]\n",
      "        - 'index' : dict like {index -> {column -> value}}\n",
      "    \n",
      "        Abbreviations are allowed. `s` indicates `series` and `sp`\n",
      "        indicates `split`.\n",
      "    \n",
      "        .. versionadded:: 1.4.0\n",
      "            'tight' as an allowed value for the ``orient`` argument\n",
      "    \n",
      "    into : class, default dict\n",
      "        The collections.abc.Mapping subclass used for all Mappings\n",
      "        in the return value.  Can be the actual class or an empty\n",
      "        instance of the mapping type you want.  If you want a\n",
      "        collections.defaultdict, you must pass it initialized.\n",
      "    \n",
      "    Returns\n",
      "    -------\n",
      "    dict, list or collections.abc.Mapping\n",
      "        Return a collections.abc.Mapping object representing the DataFrame.\n",
      "        The resulting transformation depends on the `orient` parameter.\n",
      "    \n",
      "    See Also\n",
      "    --------\n",
      "    DataFrame.from_dict: Create a DataFrame from a dictionary.\n",
      "    DataFrame.to_json: Convert a DataFrame to JSON format.\n",
      "    \n",
      "    Examples\n",
      "    --------\n",
      "    >>> df = pd.DataFrame({'col1': [1, 2],\n",
      "    ...                    'col2': [0.5, 0.75]},\n",
      "    ...                   index=['row1', 'row2'])\n",
      "    >>> df\n",
      "          col1  col2\n",
      "    row1     1  0.50\n",
      "    row2     2  0.75\n",
      "    >>> df.to_dict()\n",
      "    {'col1': {'row1': 1, 'row2': 2}, 'col2': {'row1': 0.5, 'row2': 0.75}}\n",
      "    \n",
      "    You can specify the return orientation.\n",
      "    \n",
      "    >>> df.to_dict('series')\n",
      "    {'col1': row1    1\n",
      "             row2    2\n",
      "    Name: col1, dtype: int64,\n",
      "    'col2': row1    0.50\n",
      "            row2    0.75\n",
      "    Name: col2, dtype: float64}\n",
      "    \n",
      "    >>> df.to_dict('split')\n",
      "    {'index': ['row1', 'row2'], 'columns': ['col1', 'col2'],\n",
      "     'data': [[1, 0.5], [2, 0.75]]}\n",
      "    \n",
      "    >>> df.to_dict('records')\n",
      "    [{'col1': 1, 'col2': 0.5}, {'col1': 2, 'col2': 0.75}]\n",
      "    \n",
      "    >>> df.to_dict('index')\n",
      "    {'row1': {'col1': 1, 'col2': 0.5}, 'row2': {'col1': 2, 'col2': 0.75}}\n",
      "    \n",
      "    >>> df.to_dict('tight')\n",
      "    {'index': ['row1', 'row2'], 'columns': ['col1', 'col2'],\n",
      "     'data': [[1, 0.5], [2, 0.75]], 'index_names': [None], 'column_names': [None]}\n",
      "    \n",
      "    You can also specify the mapping type.\n",
      "    \n",
      "    >>> from collections import OrderedDict, defaultdict\n",
      "    >>> df.to_dict(into=OrderedDict)\n",
      "    OrderedDict([('col1', OrderedDict([('row1', 1), ('row2', 2)])),\n",
      "                 ('col2', OrderedDict([('row1', 0.5), ('row2', 0.75)]))])\n",
      "    \n",
      "    If you want a `defaultdict`, you need to initialize it:\n",
      "    \n",
      "    >>> dd = defaultdict(list)\n",
      "    >>> df.to_dict('records', into=dd)\n",
      "    [defaultdict(<class 'list'>, {'col1': 1, 'col2': 0.5}),\n",
      "     defaultdict(<class 'list'>, {'col1': 2, 'col2': 0.75})]\n",
      "\n"
     ]
    }
   ],
   "source": [
    "help(animals.to_dict)"
   ]
  },
  {
   "cell_type": "code",
   "execution_count": 9,
   "id": "49f33d3b",
   "metadata": {},
   "outputs": [],
   "source": [
    "animals_dict = animals.to_dict()"
   ]
  },
  {
   "cell_type": "code",
   "execution_count": 10,
   "id": "c5459690",
   "metadata": {},
   "outputs": [
    {
     "data": {
      "text/plain": [
       "{'animal_type': {0: 'cat', 1: 'dog', 2: 'mouse', 3: 'cat', 4: 'rat'},\n",
       " 'sex': {0: 'female', 1: 'male', 2: 'male', 3: 'male', 4: 'female'},\n",
       " 'name': {0: 'Arta', 1: 'Bork', 2: 'Jerry', 3: 'Tom', 4: 'Lariska'},\n",
       " 'age': {0: 2, 1: 5, 2: 30, 3: 40, 4: 25},\n",
       " 'colour': {0: 'orange', 1: 'brown', 2: 'brown', 3: 'blue', 4: 'grey'}}"
      ]
     },
     "execution_count": 10,
     "metadata": {},
     "output_type": "execute_result"
    }
   ],
   "source": [
    "animals_dict"
   ]
  },
  {
   "cell_type": "code",
   "execution_count": 11,
   "id": "7de05d31",
   "metadata": {},
   "outputs": [],
   "source": [
    "animals_dict = animals.to_dict('list')"
   ]
  },
  {
   "cell_type": "code",
   "execution_count": 12,
   "id": "1f312c8f",
   "metadata": {},
   "outputs": [
    {
     "data": {
      "text/plain": [
       "{'animal_type': ['cat', 'dog', 'mouse', 'cat', 'rat'],\n",
       " 'sex': ['female', 'male', 'male', 'male', 'female'],\n",
       " 'name': ['Arta', 'Bork', 'Jerry', 'Tom', 'Lariska'],\n",
       " 'age': [2, 5, 30, 40, 25],\n",
       " 'colour': ['orange', 'brown', 'brown', 'blue', 'grey']}"
      ]
     },
     "execution_count": 12,
     "metadata": {},
     "output_type": "execute_result"
    }
   ],
   "source": [
    "animals_dict"
   ]
  },
  {
   "cell_type": "code",
   "execution_count": 13,
   "id": "6e3097cb",
   "metadata": {},
   "outputs": [
    {
     "data": {
      "text/plain": [
       "rec.array([(0, 'cat', 'female', 'Arta',  2, 'orange'),\n",
       "           (1, 'dog', 'male', 'Bork',  5, 'brown'),\n",
       "           (2, 'mouse', 'male', 'Jerry', 30, 'brown'),\n",
       "           (3, 'cat', 'male', 'Tom', 40, 'blue'),\n",
       "           (4, 'rat', 'female', 'Lariska', 25, 'grey')],\n",
       "          dtype=[('index', '<i8'), ('animal_type', 'O'), ('sex', 'O'), ('name', 'O'), ('age', '<i8'), ('colour', 'O')])"
      ]
     },
     "execution_count": 13,
     "metadata": {},
     "output_type": "execute_result"
    }
   ],
   "source": [
    "animals.to_records()"
   ]
  },
  {
   "cell_type": "code",
   "execution_count": 14,
   "id": "8586ced5",
   "metadata": {},
   "outputs": [
    {
     "name": "stdout",
     "output_type": "stream",
     "text": [
      "Help on method to_json in module pandas.core.generic:\n",
      "\n",
      "to_json(path_or_buf: 'FilePath | WriteBuffer[bytes] | WriteBuffer[str] | None' = None, orient: 'str | None' = None, date_format: 'str | None' = None, double_precision: 'int' = 10, force_ascii: 'bool_t' = True, date_unit: 'str' = 'ms', default_handler: 'Callable[[Any], JSONSerializable] | None' = None, lines: 'bool_t' = False, compression: 'CompressionOptions' = 'infer', index: 'bool_t' = True, indent: 'int | None' = None, storage_options: 'StorageOptions' = None) -> 'str | None' method of pandas.core.frame.DataFrame instance\n",
      "    Convert the object to a JSON string.\n",
      "    \n",
      "    Note NaN's and None will be converted to null and datetime objects\n",
      "    will be converted to UNIX timestamps.\n",
      "    \n",
      "    Parameters\n",
      "    ----------\n",
      "    path_or_buf : str, path object, file-like object, or None, default None\n",
      "        String, path object (implementing os.PathLike[str]), or file-like\n",
      "        object implementing a write() function. If None, the result is\n",
      "        returned as a string.\n",
      "    orient : str\n",
      "        Indication of expected JSON string format.\n",
      "    \n",
      "        * Series:\n",
      "    \n",
      "            - default is 'index'\n",
      "            - allowed values are: {'split', 'records', 'index', 'table'}.\n",
      "    \n",
      "        * DataFrame:\n",
      "    \n",
      "            - default is 'columns'\n",
      "            - allowed values are: {'split', 'records', 'index', 'columns',\n",
      "              'values', 'table'}.\n",
      "    \n",
      "        * The format of the JSON string:\n",
      "    \n",
      "            - 'split' : dict like {'index' -> [index], 'columns' -> [columns],\n",
      "              'data' -> [values]}\n",
      "            - 'records' : list like [{column -> value}, ... , {column -> value}]\n",
      "            - 'index' : dict like {index -> {column -> value}}\n",
      "            - 'columns' : dict like {column -> {index -> value}}\n",
      "            - 'values' : just the values array\n",
      "            - 'table' : dict like {'schema': {schema}, 'data': {data}}\n",
      "    \n",
      "            Describing the data, where data component is like ``orient='records'``.\n",
      "    \n",
      "    date_format : {None, 'epoch', 'iso'}\n",
      "        Type of date conversion. 'epoch' = epoch milliseconds,\n",
      "        'iso' = ISO8601. The default depends on the `orient`. For\n",
      "        ``orient='table'``, the default is 'iso'. For all other orients,\n",
      "        the default is 'epoch'.\n",
      "    double_precision : int, default 10\n",
      "        The number of decimal places to use when encoding\n",
      "        floating point values.\n",
      "    force_ascii : bool, default True\n",
      "        Force encoded string to be ASCII.\n",
      "    date_unit : str, default 'ms' (milliseconds)\n",
      "        The time unit to encode to, governs timestamp and ISO8601\n",
      "        precision.  One of 's', 'ms', 'us', 'ns' for second, millisecond,\n",
      "        microsecond, and nanosecond respectively.\n",
      "    default_handler : callable, default None\n",
      "        Handler to call if object cannot otherwise be converted to a\n",
      "        suitable format for JSON. Should receive a single argument which is\n",
      "        the object to convert and return a serialisable object.\n",
      "    lines : bool, default False\n",
      "        If 'orient' is 'records' write out line-delimited json format. Will\n",
      "        throw ValueError if incorrect 'orient' since others are not\n",
      "        list-like.\n",
      "    compression : str or dict, default 'infer'\n",
      "        For on-the-fly compression of the output data. If 'infer' and 'path_or_buf' is\n",
      "        path-like, then detect compression from the following extensions: '.gz',\n",
      "        '.bz2', '.zip', '.xz', '.zst', '.tar', '.tar.gz', '.tar.xz' or '.tar.bz2'\n",
      "        (otherwise no compression).\n",
      "        Set to ``None`` for no compression.\n",
      "        Can also be a dict with key ``'method'`` set\n",
      "        to one of {``'zip'``, ``'gzip'``, ``'bz2'``, ``'zstd'``, ``'tar'``} and other\n",
      "        key-value pairs are forwarded to\n",
      "        ``zipfile.ZipFile``, ``gzip.GzipFile``,\n",
      "        ``bz2.BZ2File``, ``zstandard.ZstdCompressor`` or\n",
      "        ``tarfile.TarFile``, respectively.\n",
      "        As an example, the following could be passed for faster compression and to create\n",
      "        a reproducible gzip archive:\n",
      "        ``compression={'method': 'gzip', 'compresslevel': 1, 'mtime': 1}``.\n",
      "    \n",
      "            .. versionadded:: 1.5.0\n",
      "                Added support for `.tar` files.\n",
      "    \n",
      "        .. versionchanged:: 1.4.0 Zstandard support.\n",
      "    \n",
      "    index : bool, default True\n",
      "        Whether to include the index values in the JSON string. Not\n",
      "        including the index (``index=False``) is only supported when\n",
      "        orient is 'split' or 'table'.\n",
      "    indent : int, optional\n",
      "       Length of whitespace used to indent each record.\n",
      "    \n",
      "       .. versionadded:: 1.0.0\n",
      "    \n",
      "    storage_options : dict, optional\n",
      "        Extra options that make sense for a particular storage connection, e.g.\n",
      "        host, port, username, password, etc. For HTTP(S) URLs the key-value pairs\n",
      "        are forwarded to ``urllib.request.Request`` as header options. For other\n",
      "        URLs (e.g. starting with \"s3://\", and \"gcs://\") the key-value pairs are\n",
      "        forwarded to ``fsspec.open``. Please see ``fsspec`` and ``urllib`` for more\n",
      "        details, and for more examples on storage options refer `here\n",
      "        <https://pandas.pydata.org/docs/user_guide/io.html?\n",
      "        highlight=storage_options#reading-writing-remote-files>`_.\n",
      "    \n",
      "        .. versionadded:: 1.2.0\n",
      "    \n",
      "    Returns\n",
      "    -------\n",
      "    None or str\n",
      "        If path_or_buf is None, returns the resulting json format as a\n",
      "        string. Otherwise returns None.\n",
      "    \n",
      "    See Also\n",
      "    --------\n",
      "    read_json : Convert a JSON string to pandas object.\n",
      "    \n",
      "    Notes\n",
      "    -----\n",
      "    The behavior of ``indent=0`` varies from the stdlib, which does not\n",
      "    indent the output but does insert newlines. Currently, ``indent=0``\n",
      "    and the default ``indent=None`` are equivalent in pandas, though this\n",
      "    may change in a future release.\n",
      "    \n",
      "    ``orient='table'`` contains a 'pandas_version' field under 'schema'.\n",
      "    This stores the version of `pandas` used in the latest revision of the\n",
      "    schema.\n",
      "    \n",
      "    Examples\n",
      "    --------\n",
      "    >>> import json\n",
      "    >>> df = pd.DataFrame(\n",
      "    ...     [[\"a\", \"b\"], [\"c\", \"d\"]],\n",
      "    ...     index=[\"row 1\", \"row 2\"],\n",
      "    ...     columns=[\"col 1\", \"col 2\"],\n",
      "    ... )\n",
      "    \n",
      "    >>> result = df.to_json(orient=\"split\")\n",
      "    >>> parsed = json.loads(result)\n",
      "    >>> json.dumps(parsed, indent=4)  # doctest: +SKIP\n",
      "    {\n",
      "        \"columns\": [\n",
      "            \"col 1\",\n",
      "            \"col 2\"\n",
      "        ],\n",
      "        \"index\": [\n",
      "            \"row 1\",\n",
      "            \"row 2\"\n",
      "        ],\n",
      "        \"data\": [\n",
      "            [\n",
      "                \"a\",\n",
      "                \"b\"\n",
      "            ],\n",
      "            [\n",
      "                \"c\",\n",
      "                \"d\"\n",
      "            ]\n",
      "        ]\n",
      "    }\n",
      "    \n",
      "    Encoding/decoding a Dataframe using ``'records'`` formatted JSON.\n",
      "    Note that index labels are not preserved with this encoding.\n",
      "    \n",
      "    >>> result = df.to_json(orient=\"records\")\n",
      "    >>> parsed = json.loads(result)\n",
      "    >>> json.dumps(parsed, indent=4)  # doctest: +SKIP\n",
      "    [\n",
      "        {\n",
      "            \"col 1\": \"a\",\n",
      "            \"col 2\": \"b\"\n",
      "        },\n",
      "        {\n",
      "            \"col 1\": \"c\",\n",
      "            \"col 2\": \"d\"\n",
      "        }\n",
      "    ]\n",
      "    \n",
      "    Encoding/decoding a Dataframe using ``'index'`` formatted JSON:\n",
      "    \n",
      "    >>> result = df.to_json(orient=\"index\")\n",
      "    >>> parsed = json.loads(result)\n",
      "    >>> json.dumps(parsed, indent=4)  # doctest: +SKIP\n",
      "    {\n",
      "        \"row 1\": {\n",
      "            \"col 1\": \"a\",\n",
      "            \"col 2\": \"b\"\n",
      "        },\n",
      "        \"row 2\": {\n",
      "            \"col 1\": \"c\",\n",
      "            \"col 2\": \"d\"\n",
      "        }\n",
      "    }\n",
      "    \n",
      "    Encoding/decoding a Dataframe using ``'columns'`` formatted JSON:\n",
      "    \n",
      "    >>> result = df.to_json(orient=\"columns\")\n",
      "    >>> parsed = json.loads(result)\n",
      "    >>> json.dumps(parsed, indent=4)  # doctest: +SKIP\n",
      "    {\n",
      "        \"col 1\": {\n",
      "            \"row 1\": \"a\",\n",
      "            \"row 2\": \"c\"\n",
      "        },\n",
      "        \"col 2\": {\n",
      "            \"row 1\": \"b\",\n",
      "            \"row 2\": \"d\"\n",
      "        }\n",
      "    }\n",
      "    \n",
      "    Encoding/decoding a Dataframe using ``'values'`` formatted JSON:\n",
      "    \n",
      "    >>> result = df.to_json(orient=\"values\")\n",
      "    >>> parsed = json.loads(result)\n",
      "    >>> json.dumps(parsed, indent=4)  # doctest: +SKIP\n",
      "    [\n",
      "        [\n",
      "            \"a\",\n",
      "            \"b\"\n",
      "        ],\n",
      "        [\n",
      "            \"c\",\n",
      "            \"d\"\n",
      "        ]\n",
      "    ]\n",
      "    \n",
      "    Encoding with Table Schema:\n",
      "    \n",
      "    >>> result = df.to_json(orient=\"table\")\n",
      "    >>> parsed = json.loads(result)\n",
      "    >>> json.dumps(parsed, indent=4)  # doctest: +SKIP\n",
      "    {\n",
      "        \"schema\": {\n",
      "            \"fields\": [\n",
      "                {\n",
      "                    \"name\": \"index\",\n",
      "                    \"type\": \"string\"\n",
      "                },\n",
      "                {\n",
      "                    \"name\": \"col 1\",\n",
      "                    \"type\": \"string\"\n",
      "                },\n",
      "                {\n",
      "                    \"name\": \"col 2\",\n",
      "                    \"type\": \"string\"\n",
      "                }\n",
      "            ],\n",
      "            \"primaryKey\": [\n",
      "                \"index\"\n",
      "            ],\n",
      "            \"pandas_version\": \"1.4.0\"\n",
      "        },\n",
      "        \"data\": [\n",
      "            {\n",
      "                \"index\": \"row 1\",\n",
      "                \"col 1\": \"a\",\n",
      "                \"col 2\": \"b\"\n",
      "            },\n",
      "            {\n",
      "                \"index\": \"row 2\",\n",
      "                \"col 1\": \"c\",\n",
      "                \"col 2\": \"d\"\n",
      "            }\n",
      "        ]\n",
      "    }\n",
      "\n"
     ]
    }
   ],
   "source": [
    "help(animals.to_json)"
   ]
  },
  {
   "cell_type": "code",
   "execution_count": 15,
   "id": "6705c057",
   "metadata": {},
   "outputs": [],
   "source": [
    "animals_json = animals.to_json(orient='records')"
   ]
  },
  {
   "cell_type": "code",
   "execution_count": 13,
   "id": "265778aa",
   "metadata": {},
   "outputs": [
    {
     "data": {
      "text/plain": [
       "str"
      ]
     },
     "execution_count": 13,
     "metadata": {},
     "output_type": "execute_result"
    }
   ],
   "source": [
    "type(animals_json)"
   ]
  },
  {
   "cell_type": "code",
   "execution_count": 16,
   "id": "49ba63eb",
   "metadata": {},
   "outputs": [
    {
     "data": {
      "text/plain": [
       "'[{\"animal_type\":\"cat\",\"sex\":\"female\",\"name\":\"Arta\",\"age\":2,\"colour\":\"orange\"},{\"animal_type\":\"dog\",\"sex\":\"male\",\"name\":\"Bork\",\"age\":5,\"colour\":\"brown\"},{\"animal_type\":\"mouse\",\"sex\":\"male\",\"name\":\"Jerry\",\"age\":30,\"colour\":\"brown\"},{\"animal_type\":\"cat\",\"sex\":\"male\",\"name\":\"Tom\",\"age\":40,\"colour\":\"blue\"},{\"animal_type\":\"rat\",\"sex\":\"female\",\"name\":\"Lariska\",\"age\":25,\"colour\":\"grey\"}]'"
      ]
     },
     "execution_count": 16,
     "metadata": {},
     "output_type": "execute_result"
    }
   ],
   "source": [
    "animals_json"
   ]
  },
  {
   "cell_type": "code",
   "execution_count": 17,
   "id": "2882eaf9",
   "metadata": {},
   "outputs": [],
   "source": [
    "import json"
   ]
  },
  {
   "cell_type": "code",
   "execution_count": 18,
   "id": "706f8e29",
   "metadata": {},
   "outputs": [],
   "source": [
    "animals_dict = json.loads(animals_json)"
   ]
  },
  {
   "cell_type": "code",
   "execution_count": 19,
   "id": "ddf6598e",
   "metadata": {},
   "outputs": [],
   "source": [
    "with open(\"animals.json\", 'w') as f:\n",
    "    json.dump(animals_dict, f)"
   ]
  },
  {
   "cell_type": "code",
   "execution_count": 20,
   "id": "ba94c9ff",
   "metadata": {},
   "outputs": [
    {
     "name": "stdout",
     "output_type": "stream",
     "text": [
      "animals.csv   data_formats.ipynb  marta.pkl\r\n",
      "animals.json  house_config.yaml   wikipedia_examples.ipynb\r\n"
     ]
    }
   ],
   "source": [
    "!ls"
   ]
  },
  {
   "cell_type": "code",
   "execution_count": 21,
   "id": "d48af6f5",
   "metadata": {},
   "outputs": [
    {
     "name": "stdout",
     "output_type": "stream",
     "text": [
      "[\r\n",
      "   {\r\n",
      "      \"age\" : 2,\r\n",
      "      \"animal_type\" : \"cat\",\r\n",
      "      \"colour\" : \"orange\",\r\n",
      "      \"name\" : \"Arta\",\r\n",
      "      \"sex\" : \"female\"\r\n",
      "   },\r\n",
      "   {\r\n",
      "      \"age\" : 5,\r\n",
      "      \"animal_type\" : \"dog\",\r\n",
      "      \"colour\" : \"brown\",\r\n",
      "      \"name\" : \"Bork\",\r\n",
      "      \"sex\" : \"male\"\r\n",
      "   },\r\n",
      "   {\r\n",
      "      \"age\" : 30,\r\n",
      "      \"animal_type\" : \"mouse\",\r\n",
      "      \"colour\" : \"brown\",\r\n",
      "      \"name\" : \"Jerry\",\r\n",
      "      \"sex\" : \"male\"\r\n",
      "   },\r\n",
      "   {\r\n",
      "      \"age\" : 40,\r\n",
      "      \"animal_type\" : \"cat\",\r\n",
      "      \"colour\" : \"blue\",\r\n",
      "      \"name\" : \"Tom\",\r\n",
      "      \"sex\" : \"male\"\r\n",
      "   },\r\n",
      "   {\r\n",
      "      \"age\" : 25,\r\n",
      "      \"animal_type\" : \"rat\",\r\n",
      "      \"colour\" : \"grey\",\r\n",
      "      \"name\" : \"Lariska\",\r\n",
      "      \"sex\" : \"female\"\r\n",
      "   }\r\n",
      "]\r\n"
     ]
    }
   ],
   "source": [
    "!cat animals.json | json_pp"
   ]
  },
  {
   "cell_type": "code",
   "execution_count": 22,
   "id": "333758f8",
   "metadata": {},
   "outputs": [],
   "source": [
    "import yaml"
   ]
  },
  {
   "cell_type": "code",
   "execution_count": 23,
   "id": "4c0cdd49",
   "metadata": {},
   "outputs": [],
   "source": [
    "with open(\"house_config.yaml\", 'r') as f:\n",
    "    house_config = yaml.safe_load(f)"
   ]
  },
  {
   "cell_type": "code",
   "execution_count": 24,
   "id": "021f6142",
   "metadata": {},
   "outputs": [
    {
     "data": {
      "text/plain": [
       "dict"
      ]
     },
     "execution_count": 24,
     "metadata": {},
     "output_type": "execute_result"
    }
   ],
   "source": [
    "type(house_config)"
   ]
  },
  {
   "cell_type": "code",
   "execution_count": 25,
   "id": "3c4e6103",
   "metadata": {},
   "outputs": [
    {
     "data": {
      "text/plain": [
       "{'animals': [{'arta': None,\n",
       "   'name': 'Arta',\n",
       "   'sex': 'female',\n",
       "   'type': 'cat',\n",
       "   'age': 2,\n",
       "   'colour': 'orange'},\n",
       "  {'bork': None,\n",
       "   'name': 'Bork',\n",
       "   'sex': 'male',\n",
       "   'type': 'dog',\n",
       "   'age': 5,\n",
       "   'colour': 'brown'}],\n",
       " 'people': [{'mother': None, 'name': 'Lina', 'age': 40},\n",
       "  {'father': None, 'name': 'John', 'age': 39},\n",
       "  {'child': None, 'name': 'X-Æ-17', 'age': 2}],\n",
       " 'address': '75 Magic St, Vilnius, Lithuania',\n",
       " 'welcome_message': 'Welcome to our house!'}"
      ]
     },
     "execution_count": 25,
     "metadata": {},
     "output_type": "execute_result"
    }
   ],
   "source": [
    "house_config\n"
   ]
  },
  {
   "cell_type": "code",
   "execution_count": 26,
   "id": "e8983904",
   "metadata": {},
   "outputs": [],
   "source": [
    "class Person:\n",
    "    def __init__(self, name, age):\n",
    "        self.name = name\n",
    "        self.age = age\n",
    "        \n",
    "    def say_hello(self):\n",
    "        return f\"Hello! I am {self.name}, and I am {self.age} years old\"\n",
    "    \n",
    "    def celebrate_birthday(self):\n",
    "        print(\"Yahoo! Today is my birthday!\")\n",
    "        self.age += 1\n",
    "        print(f\"Now I am {self.age} years old!\")"
   ]
  },
  {
   "cell_type": "code",
   "execution_count": 27,
   "id": "16e653df",
   "metadata": {},
   "outputs": [],
   "source": [
    "p = Person(\"Marta\", 5)"
   ]
  },
  {
   "cell_type": "code",
   "execution_count": 28,
   "id": "0970a307",
   "metadata": {},
   "outputs": [
    {
     "data": {
      "text/plain": [
       "'Hello! I am Marta, and I am 5 years old'"
      ]
     },
     "execution_count": 28,
     "metadata": {},
     "output_type": "execute_result"
    }
   ],
   "source": [
    "p.say_hello()"
   ]
  },
  {
   "cell_type": "code",
   "execution_count": 29,
   "id": "67476c0c",
   "metadata": {},
   "outputs": [
    {
     "name": "stdout",
     "output_type": "stream",
     "text": [
      "Yahoo! Today is my birthday!\n",
      "Now I am 6 years old!\n"
     ]
    }
   ],
   "source": [
    "p.celebrate_birthday()"
   ]
  },
  {
   "cell_type": "code",
   "execution_count": 30,
   "id": "1cf3b3a6",
   "metadata": {},
   "outputs": [
    {
     "data": {
      "text/plain": [
       "'Hello! I am Marta, and I am 6 years old'"
      ]
     },
     "execution_count": 30,
     "metadata": {},
     "output_type": "execute_result"
    }
   ],
   "source": [
    "p.say_hello()"
   ]
  },
  {
   "cell_type": "code",
   "execution_count": 31,
   "id": "19921197",
   "metadata": {},
   "outputs": [],
   "source": [
    "import pickle"
   ]
  },
  {
   "cell_type": "code",
   "execution_count": 32,
   "id": "85b78366",
   "metadata": {},
   "outputs": [],
   "source": [
    "with open(\"marta.pkl\", 'wb') as f:\n",
    "    pickle.dump(p, f)"
   ]
  },
  {
   "cell_type": "code",
   "execution_count": 33,
   "id": "066053b3",
   "metadata": {},
   "outputs": [
    {
     "name": "stdout",
     "output_type": "stream",
     "text": [
      "�\u0004�6\u0000\u0000\u0000\u0000\u0000\u0000\u0000�\b__main__��\u0006Person���)��}�(�\u0004name��\u0005Marta��\u0003age�K\u0006ub."
     ]
    }
   ],
   "source": [
    "!cat marta.pkl"
   ]
  },
  {
   "cell_type": "code",
   "execution_count": null,
   "id": "483b84f2",
   "metadata": {},
   "outputs": [],
   "source": []
  },
  {
   "cell_type": "code",
   "execution_count": 34,
   "id": "6d4cdc0c",
   "metadata": {},
   "outputs": [],
   "source": [
    "with open(\"marta.pkl\", \"rb\") as f:\n",
    "    np = pickle.load(f)"
   ]
  },
  {
   "cell_type": "code",
   "execution_count": 35,
   "id": "f5e91483",
   "metadata": {},
   "outputs": [
    {
     "data": {
      "text/plain": [
       "<__main__.Person at 0x7fab90c8d280>"
      ]
     },
     "execution_count": 35,
     "metadata": {},
     "output_type": "execute_result"
    }
   ],
   "source": [
    "np"
   ]
  },
  {
   "cell_type": "code",
   "execution_count": 36,
   "id": "18b3d2b6",
   "metadata": {},
   "outputs": [
    {
     "data": {
      "text/plain": [
       "'Marta'"
      ]
     },
     "execution_count": 36,
     "metadata": {},
     "output_type": "execute_result"
    }
   ],
   "source": [
    "np.name"
   ]
  },
  {
   "cell_type": "code",
   "execution_count": 37,
   "id": "5c301984",
   "metadata": {},
   "outputs": [
    {
     "data": {
      "text/plain": [
       "6"
      ]
     },
     "execution_count": 37,
     "metadata": {},
     "output_type": "execute_result"
    }
   ],
   "source": [
    "np.age"
   ]
  },
  {
   "cell_type": "code",
   "execution_count": 38,
   "id": "2ad6da16",
   "metadata": {},
   "outputs": [
    {
     "data": {
      "text/plain": [
       "'Hello! I am Marta, and I am 6 years old'"
      ]
     },
     "execution_count": 38,
     "metadata": {},
     "output_type": "execute_result"
    }
   ],
   "source": [
    "np.say_hello()"
   ]
  },
  {
   "cell_type": "code",
   "execution_count": null,
   "id": "97ae9ea0",
   "metadata": {},
   "outputs": [],
   "source": []
  }
 ],
 "metadata": {
  "kernelspec": {
   "display_name": "Python 3 (ipykernel)",
   "language": "python",
   "name": "python3"
  },
  "language_info": {
   "codemirror_mode": {
    "name": "ipython",
    "version": 3
   },
   "file_extension": ".py",
   "mimetype": "text/x-python",
   "name": "python",
   "nbconvert_exporter": "python",
   "pygments_lexer": "ipython3",
   "version": "3.8.10"
  }
 },
 "nbformat": 4,
 "nbformat_minor": 5
}
