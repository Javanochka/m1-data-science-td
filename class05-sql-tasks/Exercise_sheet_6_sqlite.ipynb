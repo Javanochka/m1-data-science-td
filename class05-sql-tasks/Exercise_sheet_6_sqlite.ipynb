{
 "cells": [
  {
   "cell_type": "markdown",
   "metadata": {},
   "source": [
    "# Exercise Sheet \\#6 - SQLite\n",
    "\n",
    "In this sheet, we will use the [SQLite sample database](http://www.sqlitetutorial.net/wp-content/uploads/2018/03/chinook.zip) to explore (and learn!) the SQL language.\n",
    "\n",
    "First, make sure (1) you installed [SQLite](https://www.sqlite.org/download.html) on your computer, and (2) you downloaded (and unzipped in your working directory) the Sample database using the link given above. Recall the Data Model of that database is available [here](http://www.sqlitetutorial.net/wp-content/uploads/2015/11/sqlite-sample-database-color.jpg).\n",
    "\n",
    "For each question below, write the corresponding query and **run it on the sample data base** using either the sqlite3 interpreter or sqlitestudio or an equivalent tool.\n",
    "\n",
    "## Exercise 1 - Using single tables\n",
    "In this exercise, you are asked to perform various tasks on single tables."
   ]
  },
  {
   "cell_type": "markdown",
   "metadata": {},
   "source": [
    "### Question 1.1\n",
    "Write a SQL query which lists the artists."
   ]
  },
  {
   "cell_type": "markdown",
   "metadata": {},
   "source": [
    "SELECT * from artists;"
   ]
  },
  {
   "cell_type": "markdown",
   "metadata": {},
   "source": [
    "1|AC/DC\n",
    "2|Accept\n",
    "3|Aerosmith\n",
    "4|Alanis Morissette\n",
    "5|Alice In Chains\n",
    "6|Antônio Carlos Jobim\n",
    "7|Apocalyptica\n",
    "8|Audioslave\n",
    "9|BackBeat\n",
    "10|Billy Cobham\n",
    "11|Black Label Society\n",
    "12|Black Sabbath\n",
    "13|Body Count\n",
    "14|Bruce Dickinson\n",
    "\n",
    "...\n"
   ]
  },
  {
   "cell_type": "markdown",
   "metadata": {},
   "source": [
    "### Question 1.2\n",
    "Write a SQL query which computes the total number of artists."
   ]
  },
  {
   "cell_type": "markdown",
   "metadata": {},
   "source": [
    "SELECT count(*)\n",
    "  FROM artists;"
   ]
  },
  {
   "cell_type": "markdown",
   "metadata": {},
   "source": [
    "275"
   ]
  },
  {
   "cell_type": "markdown",
   "metadata": {},
   "source": [
    "### Question 1.3\n",
    "Write a SQL query which counts how many distinct artists are registered."
   ]
  },
  {
   "cell_type": "markdown",
   "metadata": {},
   "source": [
    "SELECT DISTINCT count(*)\n",
    "  from artists;"
   ]
  },
  {
   "cell_type": "markdown",
   "metadata": {},
   "source": [
    "275"
   ]
  },
  {
   "cell_type": "markdown",
   "metadata": {},
   "source": [
    "### Question 1.4\n",
    "Write a SQL query which lists the artists whose name starts with N."
   ]
  },
  {
   "cell_type": "markdown",
   "metadata": {},
   "source": [
    "SELECT name FROM artists\n",
    "  WHERE name LIKE \"N%\"\n",
    "  ;"
   ]
  },
  {
   "cell_type": "code",
   "execution_count": null,
   "metadata": {},
   "outputs": [],
   "source": [
    "Ney Matogrosso\n",
    "Nando Reis\n",
    "Nirvana\n",
    "Nega Gizza\n",
    "Nação Zumbi\n",
    "Nicolaus Esterhazy Sinfonia\n",
    "Nash Ensemble"
   ]
  },
  {
   "cell_type": "markdown",
   "metadata": {},
   "source": [
    "### Question 1.5\n",
    "Write a SQL query which computes the number of tracks per album."
   ]
  },
  {
   "cell_type": "markdown",
   "metadata": {},
   "source": [
    "SELECT AlbumID, count(TrackID)\n",
    "    FROM tracks\n",
    "    GROUP BY AlbumID;"
   ]
  },
  {
   "cell_type": "markdown",
   "metadata": {},
   "source": [
    "1|10\n",
    "2|1\n",
    "3|3\n",
    "4|8\n",
    "5|15\n",
    "6|13\n",
    "7|12\n",
    "8|14\n",
    "9|8\n",
    "10|14\n",
    "11|12\n",
    "12|12\n",
    "13|8\n",
    "\n",
    "..."
   ]
  },
  {
   "cell_type": "markdown",
   "metadata": {},
   "source": [
    "### Question 1.6\n",
    "Write a SQL query which computes the average duration (in milliseconds) of songs."
   ]
  },
  {
   "cell_type": "markdown",
   "metadata": {},
   "source": [
    "SELECT AVG(Milliseconds)\n",
    "   FROM tracks\n",
    "   ;"
   ]
  },
  {
   "cell_type": "markdown",
   "metadata": {},
   "source": [
    "393599.212103911"
   ]
  },
  {
   "cell_type": "markdown",
   "metadata": {},
   "source": [
    "### Question 1.7\n",
    "Add **Bono** to the _artists_ table (make sure it gets a valid id)."
   ]
  },
  {
   "cell_type": "markdown",
   "metadata": {},
   "source": [
    "INSERT INTO artists\n",
    " (name)\n",
    " VALUES\n",
    " (\"Bono\")\n",
    " ;"
   ]
  },
  {
   "cell_type": "markdown",
   "metadata": {},
   "source": [
    "SELECT ArtistID, name\n",
    " FROM artists\n",
    " WHERE name LIKE \"Bono%\"\n",
    " ;\n"
   ]
  },
  {
   "cell_type": "markdown",
   "metadata": {},
   "source": [
    "276|Bono"
   ]
  },
  {
   "cell_type": "markdown",
   "metadata": {},
   "source": [
    "### Question 1.8\n",
    "List artists who do not appear in the _albums_ table.\n",
    "If there are any, what is the query you would use to remove them from the table ? "
   ]
  },
  {
   "cell_type": "markdown",
   "metadata": {},
   "source": [
    "SELECT ArtistID, name\n",
    "  FROM artists\n",
    "  WHERE ArtistID NOT IN (\n",
    "    SELECT ARtistID\n",
    "    FROM albums\n",
    "  )\n",
    "  ;"
   ]
  },
  {
   "cell_type": "markdown",
   "metadata": {},
   "source": [
    "25|Milton Nascimento & Bebeto\n",
    "26|Azymuth\n",
    "28|João Gilberto\n",
    "29|Bebel Gilberto\n",
    "30|Jorge Vercilo\n",
    "31|Baby Consuelo\n",
    "32|Ney Matogrosso\n",
    "33|Luiz Melodia\n",
    "34|Nando Reis\n",
    "35|Pedro Luís & A Parede\n",
    "38|Banda Black Rio\n",
    "39|Fernanda Porto\n",
    "40|Os Cariocas\n",
    "43|A Cor Do Som\n",
    "44|Kid Abelha\n",
    "45|Sandra De Sá\n",
    "47|Hermeto Pascoal\n",
    "48|Barão Vermelho\n",
    "49|Edson, DJ Marky & DJ Patife Featuring Fernanda Porto\n",
    "60|Santana Feat. Dave Matthews\n",
    "61|Santana Feat. Everlast\n",
    "62|Santana Feat. Rob Thomas\n",
    "63|Santana Feat. Lauryn Hill & Cee-Lo\n",
    "64|Santana Feat. The Project G&B\n",
    "65|Santana Feat. Maná\n",
    "66|Santana Feat. Eagle-Eye Cherry\n",
    "67|Santana Feat. Eric Clapton\n",
    "71|Vinícius De Moraes & Baden Powell\n",
    "73|Vinícius E Qurteto Em Cy\n",
    "74|Vinícius E Odette Lara\n",
    "75|Vinicius, Toquinho & Quarteto Em Cy\n",
    "107|Motörhead & Girlschool\n",
    "119|Peter Tosh\n",
    "123|R.E.M. Feat. KRS-One\n",
    "129|Simply Red\n",
    "154|Whitesnake\n",
    "160|Christina Aguilera featuring BigElf\n",
    "161|Aerosmith & Sierra Leone's Refugee Allstars\n",
    "162|Los Lonely Boys\n",
    "163|Corinne Bailey Rae\n",
    "164|Dhani Harrison & Jakob Dylan\n",
    "165|Jackson Browne\n",
    "166|Avril Lavigne\n",
    "167|Big & Rich\n",
    "168|Youssou N'Dour\n",
    "169|Black Eyed Peas\n",
    "170|Jack Johnson\n",
    "171|Ben Harper\n",
    "172|Snow Patrol\n",
    "173|Matisyahu\n",
    "174|The Postal Service\n",
    "175|Jaguares\n",
    "176|The Flaming Lips\n",
    "177|Jack's Mannequin & Mick Fleetwood\n",
    "178|Regina Spektor\n",
    "181|Xis\n",
    "182|Nega Gizza\n",
    "183|Gustavo & Andres Veiga & Salazar\n",
    "184|Rodox\n",
    "185|Charlie Brown Jr.\n",
    "186|Pedro Luís E A Parede\n",
    "187|Los Hermanos\n",
    "188|Mundo Livre S/A\n",
    "189|Otto\n",
    "190|Instituto\n",
    "191|Nação Zumbi\n",
    "192|DJ Dolores & Orchestra Santa Massa\n",
    "193|Seu Jorge\n",
    "194|Sabotage E Instituto\n",
    "195|Stereo Maracana\n",
    "239|Academy of St. Martin in the Fields, Sir Neville Marriner & William Bennett\n",
    "276|Bono"
   ]
  },
  {
   "cell_type": "markdown",
   "metadata": {},
   "source": [
    "DELETE FROM artists\n",
    "WHERE ArtistID NOT IN (\n",
    "    SELECT ArtistID\n",
    "    FROM albums\n",
    ");"
   ]
  },
  {
   "cell_type": "markdown",
   "metadata": {},
   "source": [
    "### Question 1.9\n",
    "How could you remove all artists whose name starts with \"N\" from the _artists_ table ?"
   ]
  },
  {
   "cell_type": "markdown",
   "metadata": {},
   "source": [
    "DELETE FROM artists\n",
    "WHERE name IN (\n",
    "  SELECT name FROM artists\n",
    "  WHERE name LIKE \"N%\"\n",
    ");\n",
    "\n"
   ]
  },
  {
   "cell_type": "markdown",
   "metadata": {},
   "source": [
    "## Exercise 2 - Using multiple tables\n",
    "In this exercise, you are asked to write queries which may require more than one table. "
   ]
  },
  {
   "cell_type": "markdown",
   "metadata": {},
   "source": [
    "### Question 2.1\n",
    "Write a SQL query which retrieves the list of artists (names) together with their albums recorded in the database."
   ]
  },
  {
   "cell_type": "markdown",
   "metadata": {},
   "source": [
    "SELECT artists.name, albums.Title\n",
    "FROM artists\n",
    "INNER JOIN albums ON artists.ArtistID = albums.ArtistID\n",
    ";"
   ]
  },
  {
   "cell_type": "markdown",
   "metadata": {},
   "source": [
    "AC/DC|For Those About To Rock We Salute You\n",
    "Accept|Balls to the Wall\n",
    "Accept|Restless and Wild\n",
    "AC/DC|Let There Be Rock\n",
    "Aerosmith|Big Ones\n",
    "Alanis Morissette|Jagged Little Pill\n",
    "Alice In Chains|Facelift\n",
    "Antônio Carlos Jobim|Warner 25 Anos\n",
    "Apocalyptica|Plays Metallica By Four Cellos\n",
    "Audioslave|Audioslave\n",
    "Audioslave|Out Of Exile\n",
    "\n",
    "..."
   ]
  },
  {
   "cell_type": "markdown",
   "metadata": {},
   "source": [
    "### Question 2.2\n",
    "Filter the answers from the previous question so that only artists who have more than 3 albums recorded in the database are listed."
   ]
  },
  {
   "cell_type": "markdown",
   "metadata": {},
   "source": [
    "SELECT artists.name, COUNT(albums.AlbumID) as NumberOfAlbums\n",
    "FROM artists\n",
    "INNER JOIN albums ON artists.ArtistID = albums.ArtistID\n",
    "GROUP BY artists.ArtistID, artists.name\n",
    "HAVING COUNT(albums.AlbumID) > 3;"
   ]
  },
  {
   "cell_type": "markdown",
   "metadata": {},
   "source": [
    "Various Artists|4\n",
    "Led Zeppelin|14\n",
    "Metallica|10\n",
    "Deep Purple|11\n",
    "Faith No More|4\n",
    "Foo Fighters|4\n",
    "Iron Maiden|21\n",
    "Ozzy Osbourne|6\n",
    "Pearl Jam|5\n",
    "Lost|4\n",
    "U2|10\n",
    "Van Halen|4"
   ]
  },
  {
   "cell_type": "markdown",
   "metadata": {},
   "source": [
    "### Question 2.3\n",
    "List each song together with the number of times it appears in a recorded playlist."
   ]
  },
  {
   "cell_type": "markdown",
   "metadata": {},
   "source": [
    "SELECT TrackID, count(PlaylistID)\n",
    "FROM Playlist_track\n",
    "GROUP BY TrackID\n",
    ";\n"
   ]
  },
  {
   "cell_type": "markdown",
   "metadata": {},
   "source": [
    "### Question 2.4\n",
    "List the songs whose genre is Metal. How many of them are they ?"
   ]
  },
  {
   "cell_type": "markdown",
   "metadata": {},
   "source": [
    "SELECT tracks.name\n",
    "FROM tracks\n",
    "INNER JOIN genres ON tracks.GenreID = genres.GenreID\n",
    "WHERE genres.name is 'Metal';"
   ]
  },
  {
   "cell_type": "markdown",
   "metadata": {},
   "source": [
    "Enter Sandman\n",
    "Master Of Puppets\n",
    "Harvester Of Sorrow\n",
    "The Unforgiven\n",
    "Sad But True\n",
    "Creeping Death\n",
    "Wherever I May Roam\n",
    "Welcome Home (Sanitarium)\n",
    "Intro/ Low Down\n",
    "13 Years Of Grief\n",
    "Stronger Than Death\n",
    "All For You\n",
    "Super Terrorizer\n",
    "Phoney Smile Fake Hellos\n",
    "Lost My Better Half\n",
    "Bored To Tears\n",
    "A.N.D.R.O.T.A.Z.\n",
    "Born To Booze\n",
    "World Of Trouble\n",
    "No More Tears\n",
    "The Begining... At Last\n",
    "Heart Of Gold\n",
    "Snowblind\n",
    "Like A Bird\n",
    "Blood In The Wall\n",
    "The Beginning...At Last\n",
    "Black Sabbath\n",
    "The Wizard\n",
    "Behind The Wall Of Sleep\n",
    "N.I.B.\n",
    "Evil Woman\n",
    "Sleeping Village\n",
    "Warning\n",
    "Wheels Of Confusion / The Straightener\n",
    "Tomorrow's Dream\n",
    "Changes\n",
    "FX\n",
    "Supernaut\n",
    "Snowblind\n",
    "Cornucopia\n",
    "Laguna Sunrise\n",
    "St. Vitus Dance\n",
    "Under The Sun/Every Day Comes and Goes\n",
    "King In Crimson\n",
    "Chemical Wedding\n",
    "The Tower\n",
    "Killing Floor\n",
    "Book Of Thel\n",
    "Gates Of Urizen\n",
    "Jerusalem\n",
    "Trupets Of Jericho\n",
    "Machine Men\n",
    "The Alchemist\n",
    "Realword\n",
    "Free Speech For The Dumb\n",
    "It's Electric\n",
    "Sabbra Cadabra\n",
    "Turn The Page\n",
    "Die Die My Darling\n",
    "Loverman\n",
    "Mercyful Fate\n",
    "Astronomy\n",
    "Whiskey In The Jar\n",
    "Tuesday's Gone\n",
    "The More I See\n",
    "Straight Out Of Line\n",
    "Faceless\n",
    "Changes\n",
    "Make Me Believe\n",
    "I Stand Alone\n",
    "Re-Align\n",
    "I Fucking Hate You\n",
    "Releasing The Demons\n",
    "Dead And Broken\n",
    "I Am\n",
    "The Awakening\n",
    "Serenity\n",
    "Civil War\n",
    "14 Years\n",
    "Yesterdays\n",
    "Knockin' On Heaven's Door\n",
    "Get In The Ring\n",
    "Shotgun Blues\n",
    "Breakdown\n",
    "Pretty Tied Up\n",
    "Locomotive\n",
    "So Fine\n",
    "Estranged\n",
    "You Could Be Mine\n",
    "Don't Cry\n",
    "My World\n",
    "The Number Of The Beast\n",
    "The Trooper\n",
    "Prowler\n",
    "Transylvania\n",
    "Remember Tomorrow\n",
    "Where Eagles Dare\n",
    "Sanctuary\n",
    "Running Free\n",
    "Run To The Hilss\n",
    "2 Minutes To Midnight\n",
    "Iron Maiden\n",
    "Hallowed Be Thy Name\n",
    "Be Quick Or Be Dead\n",
    "From Here To Eternity\n",
    "Can I Play With Madness\n",
    "Wasting Love\n",
    "Tailgunner\n",
    "The Evil That Men Do\n",
    "Afraid To Shoot Strangers\n",
    "Bring Your Daughter... To The Slaughter\n",
    "Heaven Can Wait\n",
    "The Clairvoyant\n",
    "Fear Of The Dark\n",
    "2 Minutes To Midnight\n",
    "The Trooper\n",
    "Revelations\n",
    "Flight Of Icarus\n",
    "Rime Of The Ancient Mariner\n",
    "Powerslave\n",
    "The Number Of The Beast\n",
    "Hallowed Be Thy Name\n",
    "Iron Maiden\n",
    "Run To The Hills\n",
    "Running Free\n",
    "Tailgunner\n",
    "Holy Smoke\n",
    "No Prayer For The Dying\n",
    "Public Enema Number One\n",
    "Fates Warning\n",
    "The Assassin\n",
    "Run Silent Run Deep\n",
    "Hooks In You\n",
    "Bring Your Daughter... ...To The Slaughter\n",
    "Mother Russia\n",
    "Where Eagles Dare\n",
    "Revelations\n",
    "Flight Of The Icarus\n",
    "Die With Your Boots On\n",
    "The Trooper\n",
    "Still Life\n",
    "Quest For Fire\n",
    "Sun And Steel\n",
    "To Tame A Land\n",
    "Aces High\n",
    "2 Minutes To Midnight\n",
    "Losfer Words\n",
    "Flash of The Blade\n",
    "Duelists\n",
    "Back in the Village\n",
    "Powerslave\n",
    "Rime of the Ancient Mariner\n",
    "Intro\n",
    "The Wicker Man\n",
    "Ghost Of The Navigator\n",
    "Brave New World\n",
    "Wrathchild\n",
    "2 Minutes To Midnight\n",
    "Blood Brothers\n",
    "Sign Of The Cross\n",
    "The Mercenary\n",
    "The Trooper\n",
    "The Evil That Men Do\n",
    "Moonchild\n",
    "Infinite Dreams\n",
    "Can I Play With Madness\n",
    "The Evil That Men Do\n",
    "Seventh Son of a Seventh Son\n",
    "The Prophecy\n",
    "The Clairvoyant\n",
    "Only the Good Die Young\n",
    "Caught Somewhere in Time\n",
    "Wasted Years\n",
    "Sea of Madness\n",
    "Heaven Can Wait\n",
    "Stranger in a Strange Land\n",
    "Alexander the Great\n",
    "De Ja Vu\n",
    "The Loneliness of the Long Dis\n",
    "22 Acacia Avenue\n",
    "Children of the Damned\n",
    "Gangland\n",
    "Hallowed Be Thy Name\n",
    "Invaders\n",
    "Run to the Hills\n",
    "The Prisoner\n",
    "The Green Manalishi\n",
    "Living After Midnight\n",
    "Breaking The Law (Live)\n",
    "Hot Rockin'\n",
    "Heading Out To The Highway (Live)\n",
    "The Hellion\n",
    "Electric Eye\n",
    "You've Got Another Thing Comin'\n",
    "Turbo Lover\n",
    "Freewheel Burning\n",
    "Some Heads Are Gonna Roll\n",
    "Metal Meltdown\n",
    "Ram It Down\n",
    "Diamonds And Rust (Live)\n",
    "Victim Of Change (Live)\n",
    "Tyrant (Live)\n",
    "Enter Sandman\n",
    "Sad But True\n",
    "Holier Than Thou\n",
    "The Unforgiven\n",
    "Wherever I May Roam\n",
    "Don't Tread On Me\n",
    "Through The Never\n",
    "Nothing Else Matters\n",
    "Of Wolf And Man\n",
    "The God That Failed\n",
    "My Friend Of Misery\n",
    "The Struggle Within\n",
    "Helpless\n",
    "The Small Hours\n",
    "The Wait\n",
    "Crash Course In Brain Surgery\n",
    "Last Caress/Green Hell\n",
    "Am I Evil?\n",
    "Blitzkrieg\n",
    "Breadfan\n",
    "The Prince\n",
    "Stone Cold Crazy\n",
    "So What\n",
    "Killing Time\n",
    "Overkill\n",
    "Damage Case\n",
    "Stone Dead Forever\n",
    "Too Late Too Late\n",
    "Hit The Lights\n",
    "The Four Horsemen\n",
    "Motorbreath\n",
    "Jump In The Fire\n",
    "(Anesthesia) Pulling Teeth\n",
    "Whiplash\n",
    "Phantom Lord\n",
    "No Remorse\n",
    "Seek & Destroy\n",
    "Metal Militia\n",
    "Ain't My Bitch\n",
    "2 X 4\n",
    "The House Jack Built\n",
    "Until It Sleeps\n",
    "King Nothing\n",
    "Hero Of The Day\n",
    "Bleeding Me\n",
    "Cure\n",
    "Poor Twisted Me\n",
    "Wasted My Hate\n",
    "Mama Said\n",
    "Thorn Within\n",
    "Ronnie\n",
    "The Outlaw Torn\n",
    "Battery\n",
    "Master Of Puppets\n",
    "The Thing That Should Not Be\n",
    "Welcome Home (Sanitarium)\n",
    "Disposable Heroes\n",
    "Leper Messiah\n",
    "Orion\n",
    "Damage Inc.\n",
    "Fuel\n",
    "The Memory Remains\n",
    "Devil's Dance\n",
    "The Unforgiven II\n",
    "Better Than You\n",
    "Slither\n",
    "Carpe Diem Baby\n",
    "Bad Seed\n",
    "Where The Wild Things Are\n",
    "Prince Charming\n",
    "Low Man's Lyric\n",
    "Attitude\n",
    "Fixxxer\n",
    "Fight Fire With Fire\n",
    "Ride The Lightning\n",
    "For Whom The Bell Tolls\n",
    "Fade To Black\n",
    "\n",
    "..."
   ]
  },
  {
   "cell_type": "markdown",
   "metadata": {},
   "source": [
    "SELECT COUNT(*)\n",
    "FROM tracks\n",
    "INNER JOIN genres ON tracks.GenreID = genres.GenreID\n",
    "WHERE genres.Name = 'Metal';\n"
   ]
  },
  {
   "cell_type": "markdown",
   "metadata": {},
   "source": [
    "374"
   ]
  },
  {
   "cell_type": "markdown",
   "metadata": {},
   "source": [
    "### Question 2.5\n",
    "How many albums and songs from the \"Philip Glass Ensemble\" are they ? "
   ]
  },
  {
   "cell_type": "markdown",
   "metadata": {},
   "source": [
    "SELECT COUNT(*)\n",
    "FROM albums\n",
    "INNER JOIN artists ON albums.ArtistID = artists.ArtistID\n",
    "WHERE artists.Name = 'Philip Glass Ensemble';\n"
   ]
  },
  {
   "cell_type": "markdown",
   "metadata": {},
   "source": [
    "1"
   ]
  },
  {
   "cell_type": "markdown",
   "metadata": {},
   "source": [
    "SELECT COUNT(*)\n",
    "FROM tracks\n",
    "INNER JOIN albums ON tracks.AlbumID = albums.AlbumID\n",
    "INNER JOIN artists ON albums.ArtistID = artists.ArtistID\n",
    "WHERE artists.Name = 'Philip Glass Ensemble';"
   ]
  },
  {
   "cell_type": "markdown",
   "metadata": {},
   "source": [
    "1"
   ]
  },
  {
   "cell_type": "markdown",
   "metadata": {},
   "source": [
    "### Question 2.6\n",
    "Which artist plays the longest song of the database ?"
   ]
  },
  {
   "cell_type": "markdown",
   "metadata": {},
   "source": [
    "SELECT artists.ArtistID, artists.name, tracks.Name as TrackName, tracks.milliseconds\n",
    "FROM artists\n",
    "JOIN tracks ON artists.name = tracks.Composer\n",
    "ORDER BY tracks.milliseconds DESC\n",
    "LIMIT 1;\n",
    "\n"
   ]
  },
  {
   "cell_type": "markdown",
   "metadata": {},
   "source": [
    "68|Miles Davis|My Funny Valentine (Live)|907520"
   ]
  },
  {
   "cell_type": "markdown",
   "metadata": {},
   "source": [
    "### Question 2.7\n",
    "Can you add new songs to the database ? What pieces of information are needed ? In what order do you add those ?"
   ]
  },
  {
   "cell_type": "markdown",
   "metadata": {},
   "source": [
    "Yes, we can add new songs to the database.\n",
    "The informations needed are : \n",
    "    TrackId\n",
    "    Name\n",
    "    AlbumId\n",
    "    MediaTypeI\n",
    "    GenreId\n",
    "    Composer\n",
    "    Milliseconds\n",
    "    Bytes\n",
    "    UnitPrice\n",
    "\n",
    "We have to first insert the TrackId\n"
   ]
  },
  {
   "cell_type": "markdown",
   "metadata": {},
   "source": [
    "### Question 2.8\n",
    "Are they genres for which there is no single song registered ?"
   ]
  },
  {
   "cell_type": "markdown",
   "metadata": {},
   "source": [
    "SELECT genres.GenreID, genres.Name\n",
    "FROM genres\n",
    "LEFT JOIN tracks ON genres.GenreID = tracks.GenreId\n",
    "WHERE tracks.GenreId IS NULL;\n"
   ]
  },
  {
   "cell_type": "code",
   "execution_count": null,
   "metadata": {},
   "outputs": [],
   "source": [
    "No match"
   ]
  },
  {
   "cell_type": "markdown",
   "metadata": {},
   "source": [
    "## Exercise 3 : to go further (to practice at home)\n",
    "Here are some additional questions for you to go further with SQL :\n",
    "\n",
    "\n",
    "3.1    Provide a query showing Customers (just their full names, customer ID and country) who are not in the US.\n",
    "\n",
    "3.2    Provide a query only showing the Customers from Brazil.\n",
    "\n",
    "3.3    Provide a query showing the Invoices of customers who are from Brazil. The resultant table should show the customer’s full name, Invoice ID, Date of the invoice and billing country.\n",
    "\n",
    "3.4    Provide a query showing only the Employees who are Sales Agents.\n",
    "\n",
    "3.5    Provide a query showing a unique list of billing countries from the Invoice table.\n",
    "\n",
    "3.6    Provide a query showing the invoices of customers who are from Brazil.\n",
    "\n",
    "3.7    Provide a query that shows the invoices associated with each sales agent. The resultant table should include the Sales Agent’s full name.\n",
    "\n",
    "3.8    Provide a query that shows the Invoice Total, Customer name, Country and Sale Agent name for all invoices and customers.\n",
    "\n",
    "3.9    How many Invoices were there in 2009 and 2011 ? What are the respective total sales for each of those years ?\n",
    "\n",
    "3.10    Looking at the InvoiceLine table, provide a query that COUNTs the number of line items for Invoice ID 37.\n",
    "\n",
    "3.11    Looking at the InvoiceLine table, provide a query that COUNTs the number of line items for each Invoice. HINT : GROUP BY\n",
    "\n",
    "3.12    Provide a query that includes the track name with each invoice line item.\n",
    "\n",
    "3.13    Provide a query that includes the purchased track name AND artist name with each invoice line item.\n",
    "\n",
    "3.14    Provide a query that shows the number of invoices per country. HINT : GROUP BY\n",
    "\n",
    "3.15    Provide a query that shows the total number of tracks in each playlist. The Playlist name should be include on the resultant table.\n",
    "\n",
    "3.16    Provide a query that shows all the Tracks, but displays no IDs. The resultant table should include the Album name, Media type and Genre.\n",
    "\n",
    "3.17    Provide a query that shows all Invoices but includes the number of invoice line items.\n",
    "\n",
    "3.18    Provide a query that shows total sales made by each sales agent.\n",
    "\n",
    "3.19    Which sales agent made the most in sales in 2009 ?\n",
    "\n",
    "3.20    Which sales agent made the most in sales in 2010 ?\n",
    "\n",
    "3.21    Which sales agent made the most in sales over all ?\n",
    "\n",
    "3.22    Provide a query that shows the number of customers assigned to each sales agent.\n",
    "\n",
    "3.23    Provide a query that shows the total sales per country. Which country’s customers spent the most ?\n",
    "\n",
    "3.24    Provide a query that shows the most purchased track of 2013.\n",
    "\n",
    "3.25    Provide a query that shows the top 5 most purchased tracks over all.\n",
    "\n",
    "3.26    Provide a query that shows the top 3 best selling artists.\n"
   ]
  },
  {
   "cell_type": "code",
   "execution_count": null,
   "metadata": {},
   "outputs": [],
   "source": []
  }
 ],
 "metadata": {
  "kernelspec": {
   "display_name": "Python 3 (ipykernel)",
   "language": "python",
   "name": "python3"
  },
  "language_info": {
   "codemirror_mode": {
    "name": "ipython",
    "version": 3
   },
   "file_extension": ".py",
   "mimetype": "text/x-python",
   "name": "python",
   "nbconvert_exporter": "python",
   "pygments_lexer": "ipython3",
   "version": "3.9.13"
  }
 },
 "nbformat": 4,
 "nbformat_minor": 2
}
