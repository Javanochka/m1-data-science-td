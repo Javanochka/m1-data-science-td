{
 "cells": [
  {
   "cell_type": "markdown",
   "metadata": {},
   "source": [
    "# Exercise sheet \\#4\n",
    "## Using APIs\n",
    "### Exercise 1\n",
    "Write a Python script which gets the list of astronauts who are currently in Space. To do so, you can use the [astro.json](http://api.open-notify.org/astros.json) OpenNotify API. "
   ]
  },
  {
   "cell_type": "code",
   "execution_count": 1,
   "metadata": {},
   "outputs": [
    {
     "data": {
      "text/plain": [
       "[{'name': 'Jasmin Moghbeli', 'craft': 'ISS'},\n",
       " {'name': 'Andreas Mogensen', 'craft': 'ISS'},\n",
       " {'name': 'Satoshi Furukawa', 'craft': 'ISS'},\n",
       " {'name': 'Konstantin Borisov', 'craft': 'ISS'},\n",
       " {'name': 'Oleg Kononenko', 'craft': 'ISS'},\n",
       " {'name': 'Nikolai Chub', 'craft': 'ISS'},\n",
       " {'name': \"Loral O'Hara\", 'craft': 'ISS'}]"
      ]
     },
     "execution_count": 1,
     "metadata": {},
     "output_type": "execute_result"
    }
   ],
   "source": [
    "import requests \n",
    "\n",
    "response = requests.get(\"http://api.open-notify.org/astros.json\")\n",
    "data = response.json()\n",
    "list_of_astros = data['people']\n",
    "list_of_astros"
   ]
  },
  {
   "cell_type": "markdown",
   "metadata": {},
   "source": [
    "### Exercise 2\n",
    "\n",
    "#### Question 2.1\n",
    "Write a Python program, which, for each astronaut found in Exercise 1, retrieves  their (English) wikipedia article and extract the article's summary and links."
   ]
  },
  {
   "cell_type": "code",
   "execution_count": 6,
   "metadata": {},
   "outputs": [
    {
     "data": {
      "text/plain": [
       "{'Jasmin Moghbeli': {'summary': 'Jasmin Moghbeli (born June 24, 1983) is an American U.S. Marine Corps test pilot and NASA astronaut.',\n",
       "  'links': ['Achievement Medal',\n",
       "   'Aerospace engineering',\n",
       "   'Air Medal',\n",
       "   'Andreas Mogensen',\n",
       "   'Arizona',\n",
       "   'Artemis program',\n",
       "   'Astronaut ranks and positions',\n",
       "   \"Bachelor's degree\",\n",
       "   'Bachelor of Science',\n",
       "   'Bad Nauheim']},\n",
       " 'Andreas Mogensen': {'summary': 'Andreas Enevold \"Andy\" Mogensen (born 2 November 1976) is a Danish engineer and ESA astronaut who is best known for being the first Dane to fly in space as part of the European Space Agency\\'s iriss program.',\n",
       "  'links': ['14th CMAS Underwater Photography World Championship',\n",
       "   '1973 Mount Gambier cave diving accident',\n",
       "   '1992 cageless shark-diving expedition',\n",
       "   '2022 European Space Agency Astronaut Group',\n",
       "   '8A4-class ROUV',\n",
       "   'AAI underwater revolver',\n",
       "   'ABISMO',\n",
       "   'ADS amphibious rifle',\n",
       "   'AIDA Hellas',\n",
       "   'AIDA International']},\n",
       " 'Satoshi Furukawa': {'summary': 'Satoshi Furukawa (古川 聡, Furukawa Satoshi, born April 4, 1964) is a Japanese surgeon and JAXA astronaut.',\n",
       "  'links': ['14th CMAS Underwater Photography World Championship',\n",
       "   '1973 Mount Gambier cave diving accident',\n",
       "   '1992 cageless shark-diving expedition',\n",
       "   '8A4-class ROUV',\n",
       "   'AAI underwater revolver',\n",
       "   'ABISMO',\n",
       "   'ADS amphibious rifle',\n",
       "   'AIDA Hellas',\n",
       "   'AIDA International',\n",
       "   'APS underwater rifle']},\n",
       " 'Konstantin Borisov': {'summary': 'Konstantin Sergeyevich Borisov (Russian: Константин Сергеевич Борисов; born 14 August 1984 in Smolensk) is a Russian cosmonaut who is currently flying on the SpaceX Crew-7 mission that launched on August 26, 2023.',\n",
       "  'links': ['Andreas Mogensen',\n",
       "   'Astronaut',\n",
       "   'China',\n",
       "   'Denmark',\n",
       "   'Expedition 69',\n",
       "   'Expedition 70',\n",
       "   'ISS year-long mission',\n",
       "   'International Space Station',\n",
       "   'Japan',\n",
       "   'Jasmin Moghbeli']},\n",
       " 'Oleg Kononenko': {'summary': 'Oleg Dmitriyevich Kononenko (Russian: Олег Дмитриевич Кононенко; Turkmen: Oleg Dmitriýewiç Kononenko; born 21 June 1964) is a Russian cosmonaut.',\n",
       "  'links': ['ABC News',\n",
       "   'Aleksey Ovchinin',\n",
       "   'Alexander Gerst',\n",
       "   'Andreas Mogensen',\n",
       "   'André Kuipers',\n",
       "   'Anne McClain',\n",
       "   'Anton Shkaplerov',\n",
       "   'Arkalyk',\n",
       "   'Associated Press',\n",
       "   'BBC News']},\n",
       " 'Nikolai Chub': {'summary': 'Nikolay Aleksandrovich Chub (Russian: Николай Александрович Чуб; born 10 June 1984 in Novocherkassk, RSFSR, USSR, now Russia) is a cosmonaut selected by the Roscosmos space agency in 2012.',\n",
       "  'links': ['Andreas Mogensen',\n",
       "   'Astronaut',\n",
       "   'Bibcode (identifier)',\n",
       "   'China',\n",
       "   'Cosmonaut',\n",
       "   'Denmark',\n",
       "   'Doi (identifier)',\n",
       "   'ESA CAVES',\n",
       "   'European Space Agency',\n",
       "   'Expedition 68']},\n",
       " \"Loral O'Hara\": {'summary': \"Loral Ashley O'Hara (born May 3, 1983) is an American engineer and NASA astronaut.\",\n",
       "  'links': ['Andreas Mogensen',\n",
       "   'Astronaut ranks and positions',\n",
       "   'Bachelor of Science',\n",
       "   'CBS Broadcasting',\n",
       "   'CBS News',\n",
       "   'Canadian Space Agency',\n",
       "   'China',\n",
       "   'Clements High School',\n",
       "   'DSV Alvin',\n",
       "   'Denmark']}}"
      ]
     },
     "execution_count": 6,
     "metadata": {},
     "output_type": "execute_result"
    }
   ],
   "source": [
    "import wikipedia \n",
    "def get_article(name):\n",
    "\t\"\"\"gets wikipedia articles for a given name\"\"\"\n",
    "\ttry: \n",
    "\t\tpage = wikipedia.page(title = name)\n",
    "\t\tsum = wikipedia.summary(name, sentences = 1)\n",
    "\t\tli = page.links[:10] #to avoid having too many links to process \n",
    "\texcept wikipedia.DisambiguationError as e:\n",
    "\t\tprint(e.options)\n",
    "\treturn sum, li\n",
    "\n",
    "astros_wikis = {}\n",
    "names = [el['name'] for el in list_of_astros]\n",
    "for name in names:\n",
    "\tsum, li = get_article(name)\n",
    "\tastros_wikis[name] = {'summary': sum, 'links': li}\n",
    "\t\n",
    "astros_wikis"
   ]
  },
  {
   "cell_type": "markdown",
   "metadata": {},
   "source": [
    "#### Question 2.2\n",
    "Extend your Python program so that it only keeps links that are pointing to wikipedia pages (in any language)."
   ]
  },
  {
   "cell_type": "code",
   "execution_count": 20,
   "metadata": {},
   "outputs": [
    {
     "data": {
      "text/plain": [
       "{'Jasmin Moghbeli': {'summary': 'Jasmin Moghbeli (born June 24, 1983) is an American U.S. Marine Corps test pilot and NASA astronaut.',\n",
       "  'links': ['Achievement Medal',\n",
       "   'Aerospace engineering',\n",
       "   'Air Medal',\n",
       "   'Andreas Mogensen',\n",
       "   'Arizona',\n",
       "   'Artemis program',\n",
       "   'Astronaut ranks and positions',\n",
       "   \"Bachelor's degree\",\n",
       "   'Bachelor of Science',\n",
       "   'Bad Nauheim']},\n",
       " 'Andreas Mogensen': {'summary': 'Andreas Enevold \"Andy\" Mogensen (born 2 November 1976) is a Danish engineer and ESA astronaut who is best known for being the first Dane to fly in space as part of the European Space Agency\\'s iriss program.',\n",
       "  'links': ['14th CMAS Underwater Photography World Championship',\n",
       "   '1973 Mount Gambier cave diving accident',\n",
       "   '1992 cageless shark-diving expedition',\n",
       "   '2022 European Space Agency Astronaut Group',\n",
       "   '8A4-class ROUV',\n",
       "   'AAI underwater revolver',\n",
       "   'ABISMO',\n",
       "   'ADS amphibious rifle',\n",
       "   'AIDA Hellas',\n",
       "   'AIDA International']},\n",
       " 'Satoshi Furukawa': {'summary': 'Satoshi Furukawa (古川 聡, Furukawa Satoshi, born April 4, 1964) is a Japanese surgeon and JAXA astronaut.',\n",
       "  'links': ['14th CMAS Underwater Photography World Championship',\n",
       "   '1973 Mount Gambier cave diving accident',\n",
       "   '1992 cageless shark-diving expedition',\n",
       "   '8A4-class ROUV',\n",
       "   'AAI underwater revolver',\n",
       "   'ABISMO',\n",
       "   'ADS amphibious rifle',\n",
       "   'AIDA Hellas',\n",
       "   'AIDA International',\n",
       "   'APS underwater rifle']},\n",
       " 'Konstantin Borisov': {'summary': 'Konstantin Sergeyevich Borisov (Russian: Константин Сергеевич Борисов; born 14 August 1984 in Smolensk) is a Russian cosmonaut who is currently flying on the SpaceX Crew-7 mission that launched on August 26, 2023.',\n",
       "  'links': ['Andreas Mogensen',\n",
       "   'Astronaut',\n",
       "   'China',\n",
       "   'Denmark',\n",
       "   'Expedition 69',\n",
       "   'Expedition 70',\n",
       "   'ISS year-long mission',\n",
       "   'International Space Station',\n",
       "   'Japan',\n",
       "   'Jasmin Moghbeli']},\n",
       " 'Oleg Kononenko': {'summary': 'Oleg Dmitriyevich Kononenko (Russian: Олег Дмитриевич Кононенко; Turkmen: Oleg Dmitriýewiç Kononenko; born 21 June 1964) is a Russian cosmonaut.',\n",
       "  'links': ['ABC News',\n",
       "   'Aleksey Ovchinin',\n",
       "   'Alexander Gerst',\n",
       "   'Andreas Mogensen',\n",
       "   'André Kuipers',\n",
       "   'Anne McClain',\n",
       "   'Anton Shkaplerov',\n",
       "   'Arkalyk',\n",
       "   'Associated Press',\n",
       "   'BBC News']},\n",
       " 'Nikolai Chub': {'summary': 'Nikolay Aleksandrovich Chub (Russian: Николай Александрович Чуб; born 10 June 1984 in Novocherkassk, RSFSR, USSR, now Russia) is a cosmonaut selected by the Roscosmos space agency in 2012.',\n",
       "  'links': ['Andreas Mogensen',\n",
       "   'Astronaut',\n",
       "   'Bibcode (identifier)',\n",
       "   'China',\n",
       "   'Cosmonaut',\n",
       "   'Denmark',\n",
       "   'Doi (identifier)',\n",
       "   'ESA CAVES',\n",
       "   'European Space Agency',\n",
       "   'Expedition 68']},\n",
       " \"Loral O'Hara\": {'summary': \"Loral Ashley O'Hara (born May 3, 1983) is an American engineer and NASA astronaut.\",\n",
       "  'links': ['Andreas Mogensen',\n",
       "   'Astronaut ranks and positions',\n",
       "   'Bachelor of Science',\n",
       "   'CBS Broadcasting',\n",
       "   'CBS News',\n",
       "   'Canadian Space Agency',\n",
       "   'China',\n",
       "   'Clements High School',\n",
       "   'DSV Alvin',\n",
       "   'Denmark']}}"
      ]
     },
     "execution_count": 20,
     "metadata": {},
     "output_type": "execute_result"
    }
   ],
   "source": [
    "def get_article(name):\n",
    "\t\"\"\"gets wikipedia articles for a given name\"\"\"\n",
    "\ttry: \n",
    "\t\tpage = wikipedia.page(title = name)\n",
    "\t\tsum = wikipedia.summary(name, sentences = 1)\n",
    "\t\tli = [l for l in page.links[:10] if len(wikipedia.search(l)) != 0]\n",
    "\n",
    "\texcept wikipedia.DisambiguationError as e:\n",
    "\t\tprint(e.options)\n",
    "\treturn sum, li\n",
    "\n",
    "\n",
    "for name in names:\n",
    "\tsum, li = get_article(name)\n",
    "\tastros_wikis[name] = {'summary': sum, 'links': li}\n",
    "\t\n",
    "astros_wikis"
   ]
  },
  {
   "cell_type": "code",
   "execution_count": 26,
   "metadata": {},
   "outputs": [
    {
     "data": {
      "text/plain": [
       "'Jasmin Moghbeli (born June 24, 1983) is an American U.S. Marine Corps test pilot and NASA astronaut.'"
      ]
     },
     "execution_count": 26,
     "metadata": {},
     "output_type": "execute_result"
    }
   ],
   "source": [
    "list(astros_wikis.keys())[0]\n",
    "astros_wikis[list(astros_wikis.keys())[0]]['summary']"
   ]
  },
  {
   "cell_type": "markdown",
   "metadata": {},
   "source": [
    "#### Question 2.3\n",
    "Extend your Python program so that it processes these links as follows:\n",
    " - it retrieves the corresponding article and then extracts its references\n"
   ]
  },
  {
   "cell_type": "code",
   "execution_count": 19,
   "metadata": {},
   "outputs": [
    {
     "name": "stdout",
     "output_type": "stream",
     "text": [
      "Page id \"c in\" does not match any pages. Try another id!\n",
      "Page id \"c in\" does not match any pages. Try another id!\n",
      "Page id \"c in\" does not match any pages. Try another id!\n",
      "Page id \"c in\" does not match any pages. Try another id!\n",
      "Page id \"c in\" does not match any pages. Try another id!\n",
      "Page id \"c in\" does not match any pages. Try another id!\n",
      "Page id \"c in\" does not match any pages. Try another id!\n"
     ]
    },
    {
     "data": {
      "text/plain": [
       "{'Jasmin Moghbeli': {'urls': ['http://www.sudestada.com.uy/Content/Articles/421a313a-d58f-462e-9b24-2504a37f6b56/Democracy-index-2014.pdf']},\n",
       " 'Andreas Mogensen': {'urls': ['http://www.sudestada.com.uy/Content/Articles/421a313a-d58f-462e-9b24-2504a37f6b56/Democracy-index-2014.pdf']},\n",
       " 'Satoshi Furukawa': {'urls': ['http://www.sudestada.com.uy/Content/Articles/421a313a-d58f-462e-9b24-2504a37f6b56/Democracy-index-2014.pdf']},\n",
       " 'Konstantin Borisov': {'urls': ['http://www.sudestada.com.uy/Content/Articles/421a313a-d58f-462e-9b24-2504a37f6b56/Democracy-index-2014.pdf']},\n",
       " 'Oleg Kononenko': {'urls': ['http://www.sudestada.com.uy/Content/Articles/421a313a-d58f-462e-9b24-2504a37f6b56/Democracy-index-2014.pdf']},\n",
       " 'Nikolai Chub': {'urls': ['http://www.sudestada.com.uy/Content/Articles/421a313a-d58f-462e-9b24-2504a37f6b56/Democracy-index-2014.pdf']},\n",
       " \"Loral O'Hara\": {'urls': ['http://www.sudestada.com.uy/Content/Articles/421a313a-d58f-462e-9b24-2504a37f6b56/Democracy-index-2014.pdf']}}"
      ]
     },
     "execution_count": 19,
     "metadata": {},
     "output_type": "execute_result"
    }
   ],
   "source": [
    "def get_articles_from_links(links):\n",
    "\t\"\"\"retrieves articles from a list of links and extracts the references\"\"\"\n",
    "\tfor l in links: \n",
    "\t\ttry: \n",
    "\t\t\trefs = wikipedia.page(title = l).references[:1]\n",
    "\t\texcept wikipedia.PageError as e:\n",
    "\t\t\tprint(e)\n",
    "\treturn refs\n",
    "\n",
    "astro_wikis_references = {}\n",
    "for name in names:\n",
    "\tastro_wikis_references[name] = {'urls': get_articles_from_links(li)}\n",
    "astro_wikis_references"
   ]
  },
  {
   "cell_type": "markdown",
   "metadata": {},
   "source": [
    "#### Question 2.4\n",
    "Extend your Python program to compute the average number of views for each astronaut's main article."
   ]
  },
  {
   "cell_type": "code",
   "execution_count": 18,
   "metadata": {},
   "outputs": [
    {
     "ename": "ImportError",
     "evalue": "pycurl: libcurl link-time ssl backends (secure-transport, openssl) do not include compile-time ssl backend (none/other)",
     "output_type": "error",
     "traceback": [
      "\u001b[0;31m---------------------------------------------------------------------------\u001b[0m",
      "\u001b[0;31mImportError\u001b[0m                               Traceback (most recent call last)",
      "Cell \u001b[0;32mIn[18], line 1\u001b[0m\n\u001b[0;32m----> 1\u001b[0m \u001b[38;5;28;01mimport\u001b[39;00m \u001b[38;5;21;01mwptools\u001b[39;00m\n\u001b[1;32m      3\u001b[0m \u001b[38;5;28;01mfor\u001b[39;00m name \u001b[38;5;129;01min\u001b[39;00m names: \n\u001b[1;32m      4\u001b[0m \tpage \u001b[38;5;241m=\u001b[39m wptools\u001b[38;5;241m.\u001b[39mpage(name)\n",
      "File \u001b[0;32m/Library/Frameworks/Python.framework/Versions/3.10/lib/python3.10/site-packages/wptools/__init__.py:23\u001b[0m\n\u001b[1;32m     20\u001b[0m __title__ \u001b[38;5;241m=\u001b[39m \u001b[38;5;124m\"\u001b[39m\u001b[38;5;124mwptools\u001b[39m\u001b[38;5;124m\"\u001b[39m\n\u001b[1;32m     21\u001b[0m __version__ \u001b[38;5;241m=\u001b[39m \u001b[38;5;124m\"\u001b[39m\u001b[38;5;124m0.4.17\u001b[39m\u001b[38;5;124m\"\u001b[39m\n\u001b[0;32m---> 23\u001b[0m \u001b[38;5;28;01mfrom\u001b[39;00m \u001b[38;5;21;01m.\u001b[39;00m \u001b[38;5;28;01mimport\u001b[39;00m core\n\u001b[1;32m     24\u001b[0m \u001b[38;5;28;01mfrom\u001b[39;00m \u001b[38;5;21;01m.\u001b[39;00m \u001b[38;5;28;01mimport\u001b[39;00m query\n\u001b[1;32m     25\u001b[0m \u001b[38;5;28;01mfrom\u001b[39;00m \u001b[38;5;21;01m.\u001b[39;00m \u001b[38;5;28;01mimport\u001b[39;00m request\n",
      "File \u001b[0;32m/Library/Frameworks/Python.framework/Versions/3.10/lib/python3.10/site-packages/wptools/core.py:14\u001b[0m\n\u001b[1;32m     10\u001b[0m \u001b[38;5;28;01mfrom\u001b[39;00m \u001b[38;5;21;01mtime\u001b[39;00m \u001b[38;5;28;01mimport\u001b[39;00m sleep\n\u001b[1;32m     12\u001b[0m \u001b[38;5;28;01mfrom\u001b[39;00m \u001b[38;5;21;01mwptools\u001b[39;00m\u001b[38;5;21;01m.\u001b[39;00m\u001b[38;5;21;01mquery\u001b[39;00m \u001b[38;5;28;01mimport\u001b[39;00m WPToolsQuery\n\u001b[0;32m---> 14\u001b[0m \u001b[38;5;28;01mfrom\u001b[39;00m \u001b[38;5;21;01m.\u001b[39;00m \u001b[38;5;28;01mimport\u001b[39;00m request\n\u001b[1;32m     15\u001b[0m \u001b[38;5;28;01mfrom\u001b[39;00m \u001b[38;5;21;01m.\u001b[39;00m \u001b[38;5;28;01mimport\u001b[39;00m utils\n\u001b[1;32m     18\u001b[0m \u001b[38;5;28;01mclass\u001b[39;00m \u001b[38;5;21;01mWPTools\u001b[39;00m(\u001b[38;5;28mobject\u001b[39m):\n",
      "File \u001b[0;32m/Library/Frameworks/Python.framework/Versions/3.10/lib/python3.10/site-packages/wptools/request.py:17\u001b[0m\n\u001b[1;32m     14\u001b[0m \u001b[38;5;28;01mimport\u001b[39;00m \u001b[38;5;21;01msys\u001b[39;00m\n\u001b[1;32m     16\u001b[0m \u001b[38;5;28;01mimport\u001b[39;00m \u001b[38;5;21;01mcertifi\u001b[39;00m\n\u001b[0;32m---> 17\u001b[0m \u001b[38;5;28;01mimport\u001b[39;00m \u001b[38;5;21;01mpycurl\u001b[39;00m\n\u001b[1;32m     19\u001b[0m \u001b[38;5;28;01mfrom\u001b[39;00m \u001b[38;5;21;01m.\u001b[39;00m \u001b[38;5;28;01mimport\u001b[39;00m __title__, __contact__, __version__\n\u001b[1;32m     22\u001b[0m \u001b[38;5;28;01mclass\u001b[39;00m \u001b[38;5;21;01mWPToolsRequest\u001b[39;00m(\u001b[38;5;28mobject\u001b[39m):\n",
      "\u001b[0;31mImportError\u001b[0m: pycurl: libcurl link-time ssl backends (secure-transport, openssl) do not include compile-time ssl backend (none/other)"
     ]
    }
   ],
   "source": [
    "import wptools  ## i keep getting the same error message, i already tried a lot to solve it but nothing worked so far...\n",
    "\n",
    "for name in names: \n",
    "\tpage = wptools.page(name)\n",
    "\ttype(page.get_more())"
   ]
  },
  {
   "cell_type": "markdown",
   "metadata": {},
   "source": [
    "#### Question 2.5\n",
    "Export the extracted information in a CSV file having the following fields:\n",
    "\n",
    "`Astronaut's name ; Article's summary ; links separated by commas ; number of views`"
   ]
  },
  {
   "cell_type": "code",
   "execution_count": 28,
   "metadata": {},
   "outputs": [],
   "source": [
    "# i create the csv file withou the number of views as wptools does not seem to be working for me \n",
    "import csv\n",
    "\n",
    "with open('astronauts_wikipedia.csv', mode='w') as f:\n",
    "    fieldnames = [\"Astronaut's name\", \"Article's summary\", \"links separated by commas\", \"number of views\"]\n",
    "    writer = csv.DictWriter(f, fieldnames=fieldnames)\n",
    "    \n",
    "    writer.writeheader()\n",
    "    writer.writerow({\"Astronaut's name\": list(astros_wikis.keys())[0], \"Article's summary\": astros_wikis[list(astros_wikis.keys())[0]]['summary'], \"links separated by commas\": astros_wikis[list(astros_wikis.keys())[0]]['links'], \"number of views\": None})\n",
    "    writer.writerow({\"Astronaut's name\": list(astros_wikis.keys())[1], \"Article's summary\": astros_wikis[list(astros_wikis.keys())[1]]['summary'], \"links separated by commas\": astros_wikis[list(astros_wikis.keys())[1]]['links'], \"number of views\": None})\n",
    "    writer.writerow({\"Astronaut's name\": list(astros_wikis.keys())[2], \"Article's summary\": astros_wikis[list(astros_wikis.keys())[2]]['summary'], \"links separated by commas\": astros_wikis[list(astros_wikis.keys())[2]]['links'], \"number of views\": None})\n",
    "    writer.writerow({\"Astronaut's name\": list(astros_wikis.keys())[3], \"Article's summary\": astros_wikis[list(astros_wikis.keys())[3]]['summary'], \"links separated by commas\": astros_wikis[list(astros_wikis.keys())[3]]['links'], \"number of views\": None})"
   ]
  },
  {
   "cell_type": "markdown",
   "metadata": {},
   "source": [
    "### Exercise 3\n",
    "#### Question 3.1 \n",
    "Using Wikipedia, compile the list of UEFA's Intertoto cup winners sorted by country."
   ]
  },
  {
   "cell_type": "code",
   "execution_count": 60,
   "metadata": {},
   "outputs": [
    {
     "name": "stdout",
     "output_type": "stream",
     "text": [
      "{'France': ['Bordeaux', 'Strasbourg', 'Guingamp', 'Auxerre', 'Bastia', 'Lyon', 'Montpellier', 'Paris Saint-Germain', 'Troyes', 'Lille', 'Lens', 'Marseille'], 'Germany': ['Karlsruher SC', 'Werder Bremen', 'VfB Stuttgart', 'VfB Stuttgart', 'Schalke 04', 'Schalke 04', 'Hamburger SV', 'Hamburger SV'], 'Denmark': ['Silkeborg'], 'Spain': ['Valencia', 'Celta Vigo', 'Málaga', 'Villarreal', 'Villarreal'], 'Italy': ['Bologna', 'Juventus', 'Udinese', 'Perugia'], 'England': ['West Ham United', 'Aston Villa', 'Fulham', 'Newcastle United'], 'Portugal': ['Braga']}\n"
     ]
    }
   ],
   "source": [
    "import requests \n",
    "from bs4 import BeautifulSoup\n",
    "\n",
    "ua = {'User-agent': 'Safari'}\n",
    "page = requests.get('https://en.wikipedia.org/wiki/List_of_UEFA_Intertoto_Cup_winners', headers = ua)\n",
    "\n",
    "soup = BeautifulSoup(page.content, 'html.parser')\n",
    "winner_countries = soup.select('caption:-soup-contains(\"UEFA Intertoto Cup winners\") ~ tbody tr td:nth-of-type(1) a[title]')\n",
    "winner_teams = soup.select('caption:-soup-contains(\"UEFA Intertoto Cup winners\") ~ tbody tr td:nth-of-type(2) a[title]')\n",
    "# only keep every second entry because they are double \n",
    "i = 0\n",
    "winners = {}\n",
    "for c, w in zip(winner_countries, winner_teams):\n",
    "\t#print(c.text, w.text)\n",
    "\tif i%2 == 0:\n",
    "\t\tif c.text in winners.keys():\n",
    "\t\t\twinners[c.text].append(w.text)\n",
    "\t\telse: \n",
    "\t\t\twinners[c.text] = [w.text]\n",
    "\ti += 1\n",
    "print(winners)\n",
    "\n",
    "\n",
    "\n",
    "\n",
    "\n",
    "#page = wikipedia.WikipediaPage(title = 'List of UEFA Intertoto Cup winners')\n",
    "\n",
    "\n",
    "\n",
    "\n"
   ]
  },
  {
   "cell_type": "markdown",
   "metadata": {},
   "source": [
    "#### Question 3.2\n",
    "Compute the number of Intertoto winners per country."
   ]
  },
  {
   "cell_type": "code",
   "execution_count": 61,
   "metadata": {},
   "outputs": [
    {
     "name": "stdout",
     "output_type": "stream",
     "text": [
      "France: 12\n",
      "Germany: 8\n",
      "Denmark: 1\n",
      "Spain: 5\n",
      "Italy: 4\n",
      "England: 4\n",
      "Portugal: 1\n"
     ]
    }
   ],
   "source": [
    "for country, teams in winners.items():\n",
    "\tprint(f'{country}: {len(teams)}')"
   ]
  },
  {
   "cell_type": "markdown",
   "metadata": {},
   "source": [
    "### Exercise 4\n",
    "\n",
    "Let's play with New York Times API! Register here to get your API access token: https://developer.nytimes.com/apis\n",
    "\n",
    "#### Question 4.1\n",
    "\n",
    "Extract for each astronaut articles in NYT mentioning them from the year 2022. Create a dictionay where by the astronauts name you could get information on number of articles published about them in 2022, links to the last 10 articles of 2022, and list of keywords which are associated with those articles, including how many times each keyword appeared. \n",
    "\n",
    "For example \n",
    "\n",
    "    {\"John Smith\": {\"articles\": [\"nytimes.com/The_Best_Astronaut\",\n",
    "                                 \"nytimes.com/Do_we_really_believe_in_space_travel\"],\n",
    "                   \"num_articles\": 2,\n",
    "                   \"keywords\": {\"space\": 2, \"celebrities\": 1}}}\n",
    "                   \n",
    "<span style=\"color:red\">ATTENTION!</span> Never publish your API access key on github or any other open website! It is only to be used by you. (Well, otherwise the API service could ban you :) )"
   ]
  },
  {
   "cell_type": "code",
   "execution_count": 18,
   "metadata": {},
   "outputs": [
    {
     "data": {
      "text/plain": [
       "{'status': 'OK',\n",
       " 'copyright': 'Copyright (c) 2024 The New York Times Company. All Rights Reserved.',\n",
       " 'response': {'docs': [], 'meta': {'hits': 0, 'offset': 0, 'time': 288}}}"
      ]
     },
     "execution_count": 18,
     "metadata": {},
     "output_type": "execute_result"
    }
   ],
   "source": [
    "import requests\n",
    "\n",
    "api_key = 'lHyaHYt8rWw70HjLQxPTXKNyRH3wekJy'\n",
    "\n",
    "def get_articles(name):\n",
    "\t#url = f\"https://api.nytimes.com/svc/search/v2/articlesearch.json\"\n",
    "\t\n",
    "\tquery = {\n",
    "        \"name\": name,\n",
    "        \"source\":('The New York Times'),\n",
    "\t\t\"pub_year\" :2022}\n",
    "\t\n",
    "\tbase_url = f'https://api.nytimes.com/svc/search/v2/articlesearch.json?q={query}'\n",
    "\n",
    "\tbase_url += '&fq='\n",
    "\tfor i in query.keys():\n",
    "\t\tbase_url += f'{i}:({query[i]}) AND '\n",
    "    # remove the last 'AND ' at the end of the loop\n",
    "\tbase_url = base_url[:-5]\n",
    "\tbase_url += f'&api-key={api_key}'\n",
    "\t\n",
    "\tresponse = requests.get(base_url)\n",
    "\tarticles = response.json()\n",
    "\n",
    "\treturn articles \n",
    "\n",
    "\n",
    "get_articles('borisov')\n",
    "\t\t\n"
   ]
  },
  {
   "cell_type": "markdown",
   "metadata": {},
   "source": [
    "#### Question 4.2. Bonus :) \n",
    "\n",
    "What happens when we want to extract links to all the articles and not just the last 10? Extend your program to iterate through pages of the query results :)"
   ]
  },
  {
   "cell_type": "code",
   "execution_count": null,
   "metadata": {},
   "outputs": [],
   "source": []
  }
 ],
 "metadata": {
  "kernelspec": {
   "display_name": "Python 3 (ipykernel)",
   "language": "python",
   "name": "python3"
  },
  "language_info": {
   "codemirror_mode": {
    "name": "ipython",
    "version": 3
   },
   "file_extension": ".py",
   "mimetype": "text/x-python",
   "name": "python",
   "nbconvert_exporter": "python",
   "pygments_lexer": "ipython3",
   "version": "3.10.7"
  }
 },
 "nbformat": 4,
 "nbformat_minor": 2
}
