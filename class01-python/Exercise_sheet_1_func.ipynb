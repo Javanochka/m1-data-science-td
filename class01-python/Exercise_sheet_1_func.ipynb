{
 "cells": [
  {
   "cell_type": "markdown",
   "metadata": {},
   "source": [
    "# Exercise Sheet \\# 1"
   ]
  },
  {
   "cell_type": "markdown",
   "metadata": {},
   "source": [
    "## Exercise 1\n",
    "Let us consider a group of friends who organised a party together. Each one brought some food to the party. To make it fair, all these friends decided that they should spend equal money. Let us develop some python program to help them do the math.\n",
    "\n",
    "### Question 1.1\n",
    "As an example, consider these friends bought the following items (together with their total price):\n",
    "\n",
    "Emilie|Paul|Jacques|Eric\n",
    ":--|:--|:--|:--\n",
    "soda,3|juice,4|apples,3|bread,1\n",
    "camembert,5|chorizo,3|cookies,2|\n",
    "beaufort,6|spam,2|\n",
    "tomatoes,3|\n",
    "\n",
    "That is, Emilie spent 17 EUR, Paul 9 EUR, Jacques 5 EUR and Eric 1 EUR.\n",
    "\n",
    "How much money each of them would have paid if they had bought food together ? "
   ]
  },
  {
   "cell_type": "markdown",
   "metadata": {},
   "source": [
    "### Question 1.2\n",
    "Define 4 variables (`emilie`, `paul`, `jacques` and `eric`) containing the items each of them brought to the party.\n",
    "As a data structure for these variables, we will use a list of tuples."
   ]
  },
  {
   "cell_type": "code",
   "execution_count": 2,
   "metadata": {},
   "outputs": [],
   "source": [
    "emilie = [('soda', 3), ('camembert', 5), ('beaufort', 6), ('tomatoes', 3)]\n",
    "paul   = [('juice', 4), ('chorizo', 3), ('spam', 2)]\n",
    "jacques= [('apples', 3), ('cookies', 2)]\n",
    "eric   = [('bread', 1)]"
   ]
  },
  {
   "cell_type": "markdown",
   "metadata": {},
   "source": [
    "### Question 1.3\n",
    "Define a function `spent` which takes as an input a list of goods and returns their total price. "
   ]
  },
  {
   "cell_type": "code",
   "execution_count": 10,
   "metadata": {},
   "outputs": [],
   "source": [
    "def spent(orders):\n",
    "    return sum([price for _, price \n",
    "                in orders])"
   ]
  },
  {
   "cell_type": "markdown",
   "metadata": {},
   "source": [
    "### Question 1.4\n",
    "What does `spent` returns when invoked with `paul` as a parameter ?"
   ]
  },
  {
   "cell_type": "code",
   "execution_count": 11,
   "metadata": {},
   "outputs": [
    {
     "data": {
      "text/plain": [
       "9"
      ]
     },
     "execution_count": 11,
     "metadata": {},
     "output_type": "execute_result"
    }
   ],
   "source": [
    "spent(paul)"
   ]
  },
  {
   "cell_type": "markdown",
   "metadata": {},
   "source": [
    "### Question 1.5\n",
    "Let us now define a variable `expenses` to encode all the expenses of the group. \n",
    "To do so, we will use a dictionary, which will associate each person (represented as a string) with her.his list of goods. "
   ]
  },
  {
   "cell_type": "code",
   "execution_count": 18,
   "metadata": {},
   "outputs": [
    {
     "data": {
      "text/plain": [
       "{'emilie': [('soda', 3), ('camembert', 5), ('beaufort', 6), ('tomatoes', 3)],\n",
       " 'paul': [('juice', 4), ('chorizo', 3), ('spam', 2)],\n",
       " 'jacques': [('apples', 3), ('cookies', 2)],\n",
       " 'eric': [('bread', 1)]}"
      ]
     },
     "execution_count": 18,
     "metadata": {},
     "output_type": "execute_result"
    }
   ],
   "source": [
    "\n",
    "expenses = {\n",
    "    'emilie': emilie,\n",
    "    'paul': paul,\n",
    "    'jacques': jacques,\n",
    "    'eric': eric,\n",
    "}\n",
    "expenses"
   ]
  },
  {
   "cell_type": "markdown",
   "metadata": {},
   "source": [
    "### Question 1.6\n",
    "Define a function `total` which computes, from a dictionary of expenses, the total amount of money spent."
   ]
  },
  {
   "cell_type": "code",
   "execution_count": 13,
   "metadata": {},
   "outputs": [
    {
     "data": {
      "text/plain": [
       "{'Paul': 9, 'Emile': 17, 'Jacques': 5, 'Eric': 1}"
      ]
     },
     "execution_count": 13,
     "metadata": {},
     "output_type": "execute_result"
    }
   ],
   "source": [
    "# expenses = {\"Paul\": spent(paul), \"Emile\": spent(emilie), \"Jacques\": spent(jacques), \"Eric\": spent(eric)}\n",
    "# expenses"
   ]
  },
  {
   "cell_type": "code",
   "execution_count": 19,
   "metadata": {},
   "outputs": [],
   "source": [
    "def total(expenses):\n",
    "    return sum([spent(orders) for orders in expenses.values()])"
   ]
  },
  {
   "cell_type": "code",
   "execution_count": 20,
   "metadata": {},
   "outputs": [
    {
     "name": "stdout",
     "output_type": "stream",
     "text": [
      "The total amount of money spent is 32 euros\n"
     ]
    }
   ],
   "source": [
    "expense = total(expenses)\n",
    "print(f\"The total amount of money spent is {expense} euros\")"
   ]
  },
  {
   "cell_type": "markdown",
   "metadata": {},
   "source": [
    "### Question 1.7\n",
    "What is the total amount of money spent by Emilie, Paul, Jacques and Eric ?"
   ]
  },
  {
   "cell_type": "code",
   "execution_count": 15,
   "metadata": {},
   "outputs": [
    {
     "data": {
      "text/plain": [
       "32"
      ]
     },
     "execution_count": 15,
     "metadata": {},
     "output_type": "execute_result"
    }
   ],
   "source": []
  },
  {
   "cell_type": "markdown",
   "metadata": {},
   "source": [
    "### Question 1.8\n",
    "Define a function `fair` which takes as an input a dictionary of expenses, and which returns a list of pairs _(person, money)_ indicating for each person, how much money she.he should pay (negative number) or receive (positive number)."
   ]
  },
  {
   "cell_type": "code",
   "execution_count": 22,
   "metadata": {},
   "outputs": [
    {
     "data": {
      "text/plain": [
       "{'emilie': -9.0, 'paul': -1.0, 'jacques': 3.0, 'eric': 7.0}"
      ]
     },
     "execution_count": 22,
     "metadata": {},
     "output_type": "execute_result"
    }
   ],
   "source": [
    "def fair(expenses):\n",
    "    money_spent = total(expenses)\n",
    "    number_of_people = len(expenses)\n",
    "    amount_per_person = money_spent / number_of_people\n",
    "    return {name: amount_per_person - spent(orders) for name, orders in expenses.items()}\n",
    "\n",
    "fair(expenses)"
   ]
  },
  {
   "cell_type": "markdown",
   "metadata": {},
   "source": [
    "### Question 1.9\n",
    "What does `fair` returns when invoked with `expenses` as an input parameter ?"
   ]
  },
  {
   "cell_type": "code",
   "execution_count": 13,
   "metadata": {},
   "outputs": [
    {
     "data": {
      "text/plain": [
       "[('emilie', 9.0), ('paul', 1.0), ('jacques', -3.0), ('eric', -7.0)]"
      ]
     },
     "execution_count": 13,
     "metadata": {},
     "output_type": "execute_result"
    }
   ],
   "source": [
    "fair(expenses)"
   ]
  },
  {
   "cell_type": "markdown",
   "metadata": {},
   "source": [
    "## Exercise 2\n",
    "Let us consider recipies made of ingredients, which are sold in some shops. Recipies are python dictionary associating a recipy name with a preparation time, a cooking time and a difficulty score. Ingredients is a dictionary associating a name with a season (that is, when can these be found, for instance from May/5 til July/7). Shops finally is a dictionary associating a shop name with two booleans: one for indicating whether the shop is open on Sundays and one whether the shop only accepts cash.\n",
    "![diagram](https://mastertal.gitlab.io/UE803/notebooks/images/recipy.png)\n",
    "\n",
    "Examples of recipies include:\n",
    "<pre>recipies = { 'Kouglof' : (20, 20, 5), 'Banana Split' : (5, 0, 1), ... }</pre>\n",
    "Examples of ingredients include:\n",
    "<pre>ingredients = { 'strawberry' : (5, 7), 'flour' : (1, 12), ...}</pre>\n",
    "Examples of shops include:\n",
    "<pre>shops = { 'BuyOrganic' : (False , False), ...}</pre>\n",
    "The relations between a recipy and its ingredients are represented as follows:\n",
    "<pre>contains = [('Kouglof', 'flour'), ('Kouglof', 'sugar'), ...]</pre>\n",
    "and that between ingredients and shops:\n",
    "<pre> sold_in = [('flour', 'BuyOrganic'), ...]</pre>\n",
    "In the following questions, you are asked to define functions and to test them.\n",
    "\n",
    "To do so, define a dictionary containing 3 recipies, each one using 5 ingredients of your choices (they do not have to be real recipies :-) and make up 3 shops selling these ingredients."
   ]
  },
  {
   "cell_type": "code",
   "execution_count": 34,
   "metadata": {},
   "outputs": [],
   "source": [
    "recipies = {\"Ndole\": (25, 45, 20), \n",
    "            \"Eru\": (20, 30, 10), \n",
    "            \"Koki\": (12, 0, 65)}\n",
    "ingredients = {\"peanut_butter\": (6, 8), \n",
    "               \"spinach\": (9, 10), \n",
    "               \"fish\": (5, 7), \n",
    "               \"okok\": (4, 6), \n",
    "               \"beans\": (1, 10), \n",
    "               \"palm_oil\": (2, 3), \n",
    "               \"onions\": (0, 4), \n",
    "               \"pepper\": (2, 7), \n",
    "               \"corn\": (8, 3), \n",
    "               \"meat\": (5, 2), \n",
    "               \"prawns\": (3, 5),\n",
    "                 \"garlic\": (1, 2)}\n",
    "shops = {\"Nkwen\": (False, True), \n",
    "         \"Bamenda\": (True, False), \n",
    "         \"Buea\": (True, True)}\n",
    "contains = [(\"Ndole\", \"peanut_butter\"), (\"Ndole\", \"spinach\"), \n",
    "            (\"Ndole\", \"fish\"), (\"Ndole\", \"meat\"), \n",
    "            (\"Ndole\", \"onions\"), (\"Eru\", \"okok\"), (\"Eru\", \"palm_oil\"), \n",
    "            (\"Eru\", \"onions\"), (\"Eru\", \"pepper\"), (\"Eru\", \"prawns\"), \n",
    "            (\"Koki\", \"beans\"), (\"Koki\", \"palm_oil\"), (\"Koki\", \"pepper\"), \n",
    "            (\"Koki\", \"corn\"), (\"Koki\", \"garlic\")]\n",
    "sold_in = [(\"peanut_butter\", \"Nkwen\"), (\"spinach\", \"Bamenda\"),\n",
    "           (\"fish\", \"Buea\"), (\"okok\", \"Bamenda\"), \n",
    "           (\"beans\", \"Nkwen\"), (\"palm_oil\", \"Buea\"), \n",
    "           (\"onions\", \"Buea\"), (\"pepper\", \"Nkwen\"), \n",
    "           (\"corn\", \"Buea\"), (\"meat\", \"Nkwen\"), \n",
    "           (\"prawns\", \"Bamenda\"), (\"garlic\", \"Buea\"), (\"fish\", \"Nkwen\"), \n",
    "           (\"okok\", \"Buea\"), (\"garlic\", \"Nkwen\"),]"
   ]
  },
  {
   "cell_type": "markdown",
   "metadata": {},
   "source": [
    "### Question 2.1\n",
    "Define a function `in_recipy` which computes the list of recipies containing a given ingredient."
   ]
  },
  {
   "cell_type": "code",
   "execution_count": 28,
   "metadata": {},
   "outputs": [
    {
     "data": {
      "text/plain": [
       "{'okok': ['Eru'],\n",
       " 'fish': ['Ndole'],\n",
       " 'meat': ['Ndole'],\n",
       " 'peanut_butter': ['Ndole'],\n",
       " 'garlic': ['Koki'],\n",
       " 'beans': ['Koki'],\n",
       " 'onions': ['Ndole', 'Eru'],\n",
       " 'prawns': ['Eru'],\n",
       " 'corn': ['Koki'],\n",
       " 'palm_oil': ['Eru', 'Koki'],\n",
       " 'pepper': ['Eru', 'Koki'],\n",
       " 'spinach': ['Ndole']}"
      ]
     },
     "execution_count": 28,
     "metadata": {},
     "output_type": "execute_result"
    }
   ],
   "source": [
    "def in_recipy(contains):\n",
    "    return {ingredient: [recipy for recipy, ing in contains if ing == ingredient] for ingredient in set([ing for _, ing in contains])}\n",
    "\n",
    "in_recipy(contains)"
   ]
  },
  {
   "cell_type": "markdown",
   "metadata": {},
   "source": [
    "### Question 2.2\n",
    "Define a function `sold` which computes the list of shops where a given ingredient can be bought."
   ]
  },
  {
   "cell_type": "code",
   "execution_count": 35,
   "metadata": {},
   "outputs": [
    {
     "data": {
      "text/plain": [
       "{'fish': ['Buea', 'Nkwen'],\n",
       " 'meat': ['Nkwen'],\n",
       " 'peanut_butter': ['Nkwen'],\n",
       " 'garlic': ['Buea', 'Nkwen'],\n",
       " 'beans': ['Nkwen'],\n",
       " 'onions': ['Buea'],\n",
       " 'prawns': ['Bamenda'],\n",
       " 'corn': ['Buea'],\n",
       " 'spinach': ['Bamenda'],\n",
       " 'palm_oil': ['Buea'],\n",
       " 'pepper': ['Nkwen'],\n",
       " 'okok': ['Bamenda', 'Buea']}"
      ]
     },
     "execution_count": 35,
     "metadata": {},
     "output_type": "execute_result"
    }
   ],
   "source": [
    "def sold(sold_in):\n",
    "    return {ingredient: [shop for ing, shop in sold_in if ing == ingredient] for ingredient in set([ing for ing, _ in sold_in])}\n",
    "\n",
    "sold(sold_in)\n"
   ]
  },
  {
   "cell_type": "markdown",
   "metadata": {},
   "source": [
    "### Question 2.3\n",
    "Define a function `sunday` which computes the list of ingredients which can be bought on a sunday. "
   ]
  },
  {
   "cell_type": "code",
   "execution_count": 45,
   "metadata": {},
   "outputs": [
    {
     "ename": "TypeError",
     "evalue": "cannot unpack non-iterable bool object",
     "output_type": "error",
     "traceback": [
      "\u001b[0;31m---------------------------------------------------------------------------\u001b[0m",
      "\u001b[0;31mTypeError\u001b[0m                                 Traceback (most recent call last)",
      "Cell \u001b[0;32mIn[45], line 6\u001b[0m\n\u001b[1;32m      3\u001b[0m     ing_sold \u001b[38;5;241m=\u001b[39m [ing \u001b[38;5;28;01mfor\u001b[39;00m ing, shop \u001b[38;5;129;01min\u001b[39;00m sold_in \u001b[38;5;28;01mif\u001b[39;00m shop \u001b[38;5;129;01min\u001b[39;00m \u001b[38;5;28mopen\u001b[39m]\n\u001b[1;32m      4\u001b[0m     \u001b[38;5;28;01mreturn\u001b[39;00m ing_sold\n\u001b[0;32m----> 6\u001b[0m \u001b[43msunday\u001b[49m\u001b[43m(\u001b[49m\u001b[43mshops\u001b[49m\u001b[43m,\u001b[49m\u001b[43m \u001b[49m\u001b[43mingredients\u001b[49m\u001b[43m)\u001b[49m\n",
      "Cell \u001b[0;32mIn[45], line 2\u001b[0m, in \u001b[0;36msunday\u001b[0;34m(shops, ingredients)\u001b[0m\n\u001b[1;32m      1\u001b[0m \u001b[38;5;28;01mdef\u001b[39;00m \u001b[38;5;21msunday\u001b[39m(shops, ingredients):\n\u001b[0;32m----> 2\u001b[0m     \u001b[38;5;28mopen\u001b[39m \u001b[38;5;241m=\u001b[39m [shop \u001b[38;5;28;01mfor\u001b[39;00m shop, (openSunday, cashOnly) \u001b[38;5;129;01min\u001b[39;00m shops\u001b[38;5;241m.\u001b[39mvalues() \u001b[38;5;28;01mif\u001b[39;00m openSunday]\n\u001b[1;32m      3\u001b[0m     ing_sold \u001b[38;5;241m=\u001b[39m [ing \u001b[38;5;28;01mfor\u001b[39;00m ing, shop \u001b[38;5;129;01min\u001b[39;00m sold_in \u001b[38;5;28;01mif\u001b[39;00m shop \u001b[38;5;129;01min\u001b[39;00m \u001b[38;5;28mopen\u001b[39m]\n\u001b[1;32m      4\u001b[0m     \u001b[38;5;28;01mreturn\u001b[39;00m ing_sold\n",
      "Cell \u001b[0;32mIn[45], line 2\u001b[0m, in \u001b[0;36m<listcomp>\u001b[0;34m(.0)\u001b[0m\n\u001b[1;32m      1\u001b[0m \u001b[38;5;28;01mdef\u001b[39;00m \u001b[38;5;21msunday\u001b[39m(shops, ingredients):\n\u001b[0;32m----> 2\u001b[0m     \u001b[38;5;28mopen\u001b[39m \u001b[38;5;241m=\u001b[39m [shop \u001b[38;5;28;01mfor\u001b[39;00m shop, (openSunday, cashOnly) \u001b[38;5;129;01min\u001b[39;00m shops\u001b[38;5;241m.\u001b[39mvalues() \u001b[38;5;28;01mif\u001b[39;00m openSunday]\n\u001b[1;32m      3\u001b[0m     ing_sold \u001b[38;5;241m=\u001b[39m [ing \u001b[38;5;28;01mfor\u001b[39;00m ing, shop \u001b[38;5;129;01min\u001b[39;00m sold_in \u001b[38;5;28;01mif\u001b[39;00m shop \u001b[38;5;129;01min\u001b[39;00m \u001b[38;5;28mopen\u001b[39m]\n\u001b[1;32m      4\u001b[0m     \u001b[38;5;28;01mreturn\u001b[39;00m ing_sold\n",
      "\u001b[0;31mTypeError\u001b[0m: cannot unpack non-iterable bool object"
     ]
    }
   ],
   "source": [
    "def sunday(shops, ingredients):\n",
    "    open = [shop for shop, (openSunday, cashOnly) in shops.values() if openSunday]\n",
    "    ing_sold = [ing for ing, shop in sold_in if shop in open]\n",
    "    return ing_sold\n"
   ]
  },
  {
   "cell_type": "markdown",
   "metadata": {},
   "source": [
    "### Question 2.4\n",
    "Define a function `convert` which turns a list of ingredients such as `contains` into a dictionary associating a recipy name with a list of ingredients. "
   ]
  },
  {
   "cell_type": "code",
   "execution_count": 44,
   "metadata": {},
   "outputs": [
    {
     "data": {
      "text/plain": [
       "{'Koki': ['beans', 'palm_oil', 'pepper', 'corn', 'garlic'],\n",
       " 'Ndole': ['peanut_butter', 'spinach', 'fish', 'meat', 'onions'],\n",
       " 'Eru': ['okok', 'palm_oil', 'onions', 'pepper', 'prawns']}"
      ]
     },
     "execution_count": 44,
     "metadata": {},
     "output_type": "execute_result"
    }
   ],
   "source": [
    "def in_recipy(contains):\n",
    "    return {recipy: [ing for rec, ing in contains if rec == recipy] for recipy in set([rec for rec, ing in contains])}\n",
    "in_recipy(contains)"
   ]
  },
  {
   "cell_type": "markdown",
   "metadata": {},
   "source": [
    "### Question 2.5\n",
    "Define a function `this_month` which computes the list of recipies which can be cooked on a given month."
   ]
  },
  {
   "cell_type": "code",
   "execution_count": null,
   "metadata": {},
   "outputs": [],
   "source": [
    "# def this_month()"
   ]
  }
 ],
 "metadata": {
  "kernelspec": {
   "display_name": "Python 3",
   "language": "python",
   "name": "python3"
  },
  "language_info": {
   "codemirror_mode": {
    "name": "ipython",
    "version": 3
   },
   "file_extension": ".py",
   "mimetype": "text/x-python",
   "name": "python",
   "nbconvert_exporter": "python",
   "pygments_lexer": "ipython3",
   "version": "3.10.12"
  }
 },
 "nbformat": 4,
 "nbformat_minor": 2
}
