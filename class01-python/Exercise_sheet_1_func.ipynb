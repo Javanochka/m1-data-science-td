{
 "cells": [
  {
   "cell_type": "markdown",
   "metadata": {},
   "source": [
    "# Exercise Sheet \\# 1"
   ]
  },
  {
   "cell_type": "markdown",
   "metadata": {},
   "source": [
    "## Exercise 1\n",
    "Let us consider a group of friends who organised a party together. Each one brought some food to the party. To make it fair, all these friends decided that they should spend equal money. Let us develop some python program to help them do the math.\n",
    "\n",
    "### Question 1.1\n",
    "As an example, consider these friends bought the following items (together with their total price):\n",
    "\n",
    "Emilie|Paul|Jacques|Eric\n",
    ":--|:--|:--|:--\n",
    "soda,3|juice,4|apples,3|bread,1\n",
    "camembert,5|chorizo,3|cookies,2|\n",
    "beaufort,6|spam,2|\n",
    "tomatoes,3|\n",
    "\n",
    "That is, Emilie spent 17 EUR, Paul 9 EUR, Jacques 5 EUR and Eric 1 EUR.\n",
    "\n",
    "How much money each of them would have paid if they had bought food together ? "
   ]
  },
  {
   "cell_type": "markdown",
   "metadata": {},
   "source": [
    "### Question 1.2\n",
    "Define 4 variables (`emilie`, `paul`, `jacques` and `eric`) containing the items each of them brought to the party.\n",
    "As a data structure for these variables, we will use a list of tuples."
   ]
  },
  {
   "cell_type": "code",
   "execution_count": 1,
   "metadata": {},
   "outputs": [],
   "source": [
    "emilie = [('soda', 3), ('camembert', 5), ('beaufort', 6), ('tomatoes', 3)]\n",
    "paul   = [('juice', 4), ('chorizo', 3), ('spam', 2)]\n",
    "jacques= [('apples', 3), ('cookies', 2)]\n",
    "eric   = [('bread', 1)]"
   ]
  },
  {
   "cell_type": "markdown",
   "metadata": {},
   "source": [
    "### Question 1.3\n",
    "Define a function `spent` which takes as an input a list of goods and returns their total price. "
   ]
  },
  {
   "cell_type": "code",
   "execution_count": 2,
   "metadata": {},
   "outputs": [],
   "source": [
    "def spent(goods):\n",
    "    '''\n",
    "    return the total amount of money spent by one person\n",
    "    goods: list\n",
    "    '''\n",
    "    total = 0\n",
    "    \n",
    "    for good in goods:\n",
    "        total += good[1]\n",
    "        \n",
    "    return total"
   ]
  },
  {
   "cell_type": "markdown",
   "metadata": {},
   "source": [
    "### Question 1.4\n",
    "What does `spent` returns when invoked with `paul` as a parameter ?"
   ]
  },
  {
   "cell_type": "code",
   "execution_count": 3,
   "metadata": {},
   "outputs": [
    {
     "data": {
      "text/plain": [
       "9"
      ]
     },
     "execution_count": 3,
     "metadata": {},
     "output_type": "execute_result"
    }
   ],
   "source": [
    "spent(paul)"
   ]
  },
  {
   "cell_type": "markdown",
   "metadata": {},
   "source": [
    "### Question 1.5\n",
    "Let us now define a variable `expenses` to encode all the expenses of the group. \n",
    "To do so, we will use a dictionary, which will associate each person (represented as a string) with her.his list of goods. "
   ]
  },
  {
   "cell_type": "code",
   "execution_count": 4,
   "metadata": {},
   "outputs": [],
   "source": [
    "expenses = {\n",
    "    'emilie': emilie,\n",
    "    'paul': paul,\n",
    "    'jacques': jacques,\n",
    "    'eric': eric\n",
    "}"
   ]
  },
  {
   "cell_type": "markdown",
   "metadata": {},
   "source": [
    "### Question 1.6\n",
    "Define a function `total` which computes, from a dictionary of expenses, the total amount of money spent."
   ]
  },
  {
   "cell_type": "code",
   "execution_count": 7,
   "metadata": {},
   "outputs": [],
   "source": [
    "def total(expenses):\n",
    "    '''\n",
    "    return the total amount of money spent by all the people\n",
    "    expenses: dict\n",
    "    '''\n",
    "    total = 0\n",
    "    \n",
    "    for key, value in expenses.items():\n",
    "        total += spent(value)\n",
    "        \n",
    "    return total"
   ]
  },
  {
   "cell_type": "markdown",
   "metadata": {},
   "source": [
    "### Question 1.7\n",
    "What is the total amount of money spent by Emilie, Paul, Jacques and Eric ?"
   ]
  },
  {
   "cell_type": "code",
   "execution_count": 8,
   "metadata": {},
   "outputs": [
    {
     "data": {
      "text/plain": [
       "32"
      ]
     },
     "execution_count": 8,
     "metadata": {},
     "output_type": "execute_result"
    }
   ],
   "source": [
    "total(expenses)"
   ]
  },
  {
   "cell_type": "markdown",
   "metadata": {},
   "source": [
    "### Question 1.8\n",
    "Define a function `fair` which takes as an input a dictionary of expenses, and which returns a list of pairs _(person, money)_ indicating for each person, how much money she.he should pay (negative number) or receive (positive number)."
   ]
  },
  {
   "cell_type": "code",
   "execution_count": 9,
   "metadata": {},
   "outputs": [],
   "source": [
    "def fair(expenses):\n",
    "    '''\n",
    "    return a list of tuples containing the person and the amount of money that should be paid / received\n",
    "    expenses: dict\n",
    "    '''\n",
    "    result = []\n",
    "    fair_amount = total(expenses) / len(expenses)\n",
    "    \n",
    "    for key, value in expenses.items():\n",
    "        result.append((key, spent(value) - fair_amount))\n",
    "        \n",
    "    return result"
   ]
  },
  {
   "cell_type": "markdown",
   "metadata": {},
   "source": [
    "### Question 1.9\n",
    "What does `fair` returns when invoked with `expenses` as an input parameter ?"
   ]
  },
  {
   "cell_type": "code",
   "execution_count": 10,
   "metadata": {},
   "outputs": [
    {
     "data": {
      "text/plain": [
       "[('emilie', 9.0), ('paul', 1.0), ('jacques', -3.0), ('eric', -7.0)]"
      ]
     },
     "execution_count": 10,
     "metadata": {},
     "output_type": "execute_result"
    }
   ],
   "source": [
    "fair(expenses)"
   ]
  },
  {
   "cell_type": "markdown",
   "metadata": {},
   "source": [
    "## Exercise 2\n",
    "Let us consider recipies made of ingredients, which are sold in some shops. Recipies are python dictionary associating a recipy name with a preparation time, a cooking time and a difficulty score. Ingredients is a dictionary associating a name with a season (that is, when can these be found, for instance from May/5 til July/7). Shops finally is a dictionary associating a shop name with two booleans: one for indicating whether the shop is open on Sundays and one whether the shop only accepts cash.\n",
    "![diagram](https://mastertal.gitlab.io/UE803/notebooks/images/recipy.png)\n",
    "\n",
    "Examples of recipies include:\n",
    "<pre>recipies = { 'Kouglof' : (20, 20, 5), 'Banana Split' : (5, 0, 1), ... }</pre>\n",
    "Examples of ingredients include:\n",
    "<pre>ingredients = { 'strawberry' : (5, 7), 'flour' : (1, 12), ...}</pre>\n",
    "Examples of shops include:\n",
    "<pre>shops = { 'BuyOrganic' : (False , False), ...}</pre>\n",
    "The relations between a recipy and its ingredients are represented as follows:\n",
    "<pre>contains = [('Kouglof', 'flour'), ('Kouglof', 'sugar'), ...]</pre>\n",
    "and that between ingredients and shops:\n",
    "<pre> sold_in = [('flour', 'BuyOrganic'), ...]</pre>\n",
    "In the following questions, you are asked to define functions and to test them.\n",
    "\n",
    "To do so, define a dictionary containing 3 recipies, each one using 5 ingredients of your choices (they do not have to be real recipies :-) and make up 3 shops selling these ingredients."
   ]
  },
  {
   "cell_type": "code",
   "execution_count": 6,
   "metadata": {},
   "outputs": [],
   "source": [
    "recipies = {\n",
    "    'Fried Rice': (15, 15, 5),\n",
    "    'Fried Chicken': (30, 15, 10),\n",
    "    'Steak': (10, 10, 10)\n",
    "}\n",
    "\n",
    "ingredients = {\n",
    "    'rice': (1, 8),\n",
    "    'chicken': (3, 7),\n",
    "    'beef': (5, 8),\n",
    "    'flour': (2, 10),\n",
    "    'carrot': (4, 10),\n",
    "    'bean': (8, 12),\n",
    "    'ketchup': (1, 12),\n",
    "    'salt': (1, 12),\n",
    "    'oil': (2, 12)\n",
    "}\n",
    "\n",
    "contains = [('Fried Rice', 'rice'), ('Fried Rice', 'carrot'), ('Fried Rice', 'beef'), \n",
    "            ('Fried Rice', 'chicken'), ('Fried Rice', 'bean'), ('Fried Chicken', 'chicken'), \n",
    "            ('Fried Chicken', 'flour'), ('Fried Chicken', 'ketchup'), ('Fried Chicken', 'salt'), \n",
    "            ('Fried Chicken', 'oil'), ('Steak', 'beef'), ('Steak', 'salt'), ('Steak', 'oil'), \n",
    "            ('Steak', 'ketchup'), ('Steak', 'bean')]\n",
    "\n",
    "shops = {\n",
    "    'BuyOrganic': (False, True),\n",
    "    'Costco': (True, False),\n",
    "    'Auchan': (False, False)\n",
    "}\n",
    "\n",
    "sold_in = [('rice', 'BuyOrganic'), ('rice', 'Auchan'), ('chicken', 'Auchan'), ('chicken', 'Costco'),\n",
    "           ('beef', 'Costco'), ('beef', 'Auchan'), ('flour', 'Auchan'), ('carrot', 'Costco'),\n",
    "           ('carrot', 'BuyOrganic'), ('bean', 'BuyOrganic'), ('ketchup', 'Costco'), ('ketchup', 'BuyOrganic'),\n",
    "           ('salt', 'Auchan'), ('salt', 'Costco'), ('oil', 'Auchan')]"
   ]
  },
  {
   "cell_type": "markdown",
   "metadata": {},
   "source": [
    "### Question 2.1\n",
    "Define a function `in_recipy` which computes the list of recipies containing a given ingredient."
   ]
  },
  {
   "cell_type": "code",
   "execution_count": 16,
   "metadata": {},
   "outputs": [],
   "source": [
    "def in_recipy(ingredient):\n",
    "    '''\n",
    "    return a list of recipies that contain the specified ingredient\n",
    "    ingredient: str\n",
    "    '''\n",
    "    results = []\n",
    "    \n",
    "    for pair in contains:\n",
    "        if pair[1] == ingredient:\n",
    "            results.append(pair[0])\n",
    "        \n",
    "    return list(set(results))"
   ]
  },
  {
   "cell_type": "markdown",
   "metadata": {},
   "source": [
    "### Question 2.2\n",
    "Define a function `sold` which computes the list of shops where a given ingredient can be bought."
   ]
  },
  {
   "cell_type": "code",
   "execution_count": 19,
   "metadata": {},
   "outputs": [],
   "source": [
    "def sold(ingredient):\n",
    "    '''\n",
    "    return a list of shops that sell the specified ingredient\n",
    "    ingredient: str\n",
    "    '''\n",
    "    results = []\n",
    "    \n",
    "    for pair in sold_in:\n",
    "        if pair[0] == ingredient:\n",
    "            results.append(pair[1])\n",
    "            \n",
    "    return list(set(results))"
   ]
  },
  {
   "cell_type": "markdown",
   "metadata": {},
   "source": [
    "### Question 2.3\n",
    "Define a function `sunday` which computes the list of ingredients which can be bought on a sunday. "
   ]
  },
  {
   "cell_type": "code",
   "execution_count": 27,
   "metadata": {},
   "outputs": [],
   "source": [
    "def sunday():\n",
    "    '''\n",
    "    return a list of ingredients that can be bought on Sunday\n",
    "    '''\n",
    "    results = []\n",
    "    \n",
    "    sunday_shops = []\n",
    "    for k, v in shops.items():\n",
    "        if v[0] == True:\n",
    "            sunday_shops.append(k)\n",
    "            \n",
    "    for pair in sold_in:\n",
    "        if pair[1] in sunday_shops:\n",
    "            results.append(pair[0])\n",
    "            \n",
    "    return list(set(results))"
   ]
  },
  {
   "cell_type": "markdown",
   "metadata": {},
   "source": [
    "### Question 2.4\n",
    "Define a function `convert` which turns a list of ingredients such as `contains` into a dictionary associating a recipy name with a list of ingredients. "
   ]
  },
  {
   "cell_type": "code",
   "execution_count": 38,
   "metadata": {},
   "outputs": [],
   "source": [
    "def convert(list_of_ingredients):\n",
    "    '''\n",
    "    return a dict associating a recipy name and a list of ingredients\n",
    "    list_of_ingredients: list of tuples\n",
    "    '''\n",
    "    results = {}\n",
    "    \n",
    "    for pair in list_of_ingredients:\n",
    "        if pair[0] not in results.keys():\n",
    "            results[pair[0]] = []\n",
    "        results[pair[0]].append(pair[1])\n",
    "        \n",
    "    return results"
   ]
  },
  {
   "cell_type": "markdown",
   "metadata": {},
   "source": [
    "### Question 2.5\n",
    "Define a function `this_month` which computes the list of recipies which can be cooked on a given month."
   ]
  },
  {
   "cell_type": "code",
   "execution_count": 47,
   "metadata": {},
   "outputs": [],
   "source": [
    "def this_month(month):\n",
    "    '''\n",
    "    return a list of recipies that can be cooked on the specified month\n",
    "    month: integer\n",
    "    '''\n",
    "    recipies = convert(contains)\n",
    "    \n",
    "    for k, v in recipies.items():\n",
    "        for ingredient in v:\n",
    "            if month <= ingredients[ingredient][0] or month >= ingredients[ingredient][1]:\n",
    "                recipies[k] = False\n",
    "                break\n",
    "    \n",
    "    results = [k for k, v in recipies.items() if v != False]\n",
    "    return results"
   ]
  }
 ],
 "metadata": {
  "kernelspec": {
   "display_name": "Python 3 (ipykernel)",
   "language": "python",
   "name": "python3"
  },
  "language_info": {
   "codemirror_mode": {
    "name": "ipython",
    "version": 3
   },
   "file_extension": ".py",
   "mimetype": "text/x-python",
   "name": "python",
   "nbconvert_exporter": "python",
   "pygments_lexer": "ipython3",
   "version": "3.10.6"
  }
 },
 "nbformat": 4,
 "nbformat_minor": 2
}
