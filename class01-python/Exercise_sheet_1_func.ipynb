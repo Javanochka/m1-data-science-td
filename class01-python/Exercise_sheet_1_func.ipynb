{
 "cells": [
  {
   "cell_type": "markdown",
   "metadata": {},
   "source": [
    "# Exercise Sheet \\# 1"
   ]
  },
  {
   "cell_type": "markdown",
   "metadata": {},
   "source": [
    "## Exercise 1\n",
    "Let us consider a group of friends who organised a party together. Each one brought some food to the party. To make it fair, all these friends decided that they should spend equal money. Let us develop some python program to help them do the math.\n",
    "\n",
    "### Question 1.1\n",
    "As an example, consider these friends bought the following items (together with their total price):\n",
    "\n",
    "Emilie|Paul|Jacques|Eric\n",
    ":--|:--|:--|:--\n",
    "soda,3|juice,4|apples,3|bread,1\n",
    "camembert,5|chorizo,3|cookies,2|\n",
    "beaufort,6|spam,2|\n",
    "tomatoes,3|\n",
    "\n",
    "That is, Emilie spent 17 EUR, Paul 9 EUR, Jacques 5 EUR and Eric 1 EUR.\n",
    "\n",
    "How much money each of them would have paid if they had bought food together ? "
   ]
  },
  {
   "cell_type": "markdown",
   "metadata": {},
   "source": [
    "### Question 1.2\n",
    "Define 4 variables (`emilie`, `paul`, `jacques` and `eric`) containing the items each of them brought to the party.\n",
    "As a data structure for these variables, we will use a list of tuples."
   ]
  },
  {
   "cell_type": "code",
   "execution_count": 3,
   "metadata": {},
   "outputs": [],
   "source": [
    "emilie = [('soda', 3), ('camembert', 5), ('beaufort', 6), ('tomatoes', 3)]\n",
    "paul   = [('juice', 4), ('chorizo', 3), ('spam', 2)]\n",
    "jacques= [('apples', 3), ('cookies', 2)]\n",
    "eric   = [('bread', 1)]"
   ]
  },
  {
   "cell_type": "markdown",
   "metadata": {},
   "source": [
    "### Question 1.3\n",
    "Define a function `spent` which takes as an input a list of goods and returns their total price. "
   ]
  },
  {
   "cell_type": "code",
   "execution_count": 1,
   "metadata": {},
   "outputs": [],
   "source": [
    "def spent(list_of_goods):\n",
    "    \"\"\" calculates total price a person has paid for items in list\"\"\"\n",
    "    total = 0\n",
    "    for _, price in list_of_goods:\n",
    "        total += price\n",
    "    return total"
   ]
  },
  {
   "cell_type": "markdown",
   "metadata": {},
   "source": [
    "### Question 1.4\n",
    "What does `spent` returns when invoked with `paul` as a parameter ?"
   ]
  },
  {
   "cell_type": "code",
   "execution_count": 4,
   "metadata": {},
   "outputs": [
    {
     "name": "stdout",
     "output_type": "stream",
     "text": [
      "9\n"
     ]
    }
   ],
   "source": [
    "print(spent(paul))"
   ]
  },
  {
   "cell_type": "markdown",
   "metadata": {},
   "source": [
    "### Question 1.5\n",
    "Let us now define a variable `expenses` to encode all the expenses of the group. \n",
    "To do so, we will use a dictionary, which will associate each person (represented as a string) with her.his list of goods. "
   ]
  },
  {
   "cell_type": "code",
   "execution_count": 6,
   "metadata": {},
   "outputs": [
    {
     "name": "stdout",
     "output_type": "stream",
     "text": [
      "{'emilie': [('soda', 3), ('camembert', 5), ('beaufort', 6), ('tomatoes', 3)], 'paul': [('juice', 4), ('chorizo', 3), ('spam', 2)], 'jacques': [('apples', 3), ('cookies', 2)], 'eric': [('bread', 1)]}\n"
     ]
    }
   ],
   "source": [
    "expenses = {'emilie': emilie, 'paul': paul, 'jacques': jacques, 'eric': eric}\n",
    "print(expenses)"
   ]
  },
  {
   "cell_type": "markdown",
   "metadata": {},
   "source": [
    "### Question 1.6\n",
    "Define a function `total` which computes, from a dictionary of expenses, the total amount of money spent."
   ]
  },
  {
   "cell_type": "code",
   "execution_count": 5,
   "metadata": {},
   "outputs": [],
   "source": [
    "def total(dico_of_expenses):\n",
    "    \"\"\"computes total amount of money spent\"\"\"\n",
    "    total_all = 0\n",
    "    for lst in dico_of_expenses.values(): \n",
    "        total_all += spent(lst)\n",
    "    return total_all"
   ]
  },
  {
   "cell_type": "markdown",
   "metadata": {},
   "source": [
    "### Question 1.7\n",
    "What is the total amount of money spent by Emilie, Paul, Jacques and Eric ?"
   ]
  },
  {
   "cell_type": "code",
   "execution_count": 15,
   "metadata": {},
   "outputs": [
    {
     "data": {
      "text/plain": [
       "32"
      ]
     },
     "execution_count": 15,
     "metadata": {},
     "output_type": "execute_result"
    }
   ],
   "source": []
  },
  {
   "cell_type": "markdown",
   "metadata": {},
   "source": [
    "### Question 1.8\n",
    "Define a function `fair` which takes as an input a dictionary of expenses, and which returns a list of pairs _(person, money)_ indicating for each person, how much money she.he should pay (negative number) or receive (positive number)."
   ]
  },
  {
   "cell_type": "code",
   "execution_count": 12,
   "metadata": {},
   "outputs": [],
   "source": [
    "def fair(dico_of_expenses):\n",
    "    \"\"\"returns how much each person should pay or receive\"\"\"\n",
    "    fair_price = []\n",
    "    price_per_person = total(dico_of_expenses)/len(dico_of_expenses)\n",
    "    for person, expenses in dico_of_expenses.items():\n",
    "        paid = spent(expenses) \n",
    "        fair_price.append((person, paid-price_per_person))\n",
    "    return fair_price"
   ]
  },
  {
   "cell_type": "markdown",
   "metadata": {},
   "source": [
    "### Question 1.9\n",
    "What does `fair` returns when invoked with `expenses` as an input parameter ?"
   ]
  },
  {
   "cell_type": "code",
   "execution_count": 13,
   "metadata": {},
   "outputs": [
    {
     "data": {
      "text/plain": [
       "[('emilie', 9.0), ('paul', 1.0), ('jacques', -3.0), ('eric', -7.0)]"
      ]
     },
     "execution_count": 13,
     "metadata": {},
     "output_type": "execute_result"
    }
   ],
   "source": []
  },
  {
   "cell_type": "markdown",
   "metadata": {},
   "source": [
    "## Exercise 2\n",
    "Let us consider recipies made of ingredients, which are sold in some shops. Recipies are python dictionary associating a recipy name with a preparation time, a cooking time and a difficulty score. Ingredients is a dictionary associating a name with a season (that is, when can these be found, for instance from May/5 til July/7). Shops finally is a dictionary associating a shop name with two booleans: one for indicating whether the shop is open on Sundays and one whether the shop only accepts cash.\n",
    "![diagram](https://mastertal.gitlab.io/UE803/notebooks/images/recipy.png)\n",
    "\n",
    "Examples of recipies include:\n",
    "<pre>recipies = { 'Kouglof' : (20, 20, 5), 'Banana Split' : (5, 0, 1), ... }</pre>\n",
    "Examples of ingredients include:\n",
    "<pre>ingredients = { 'strawberry' : (5, 7), 'flour' : (1, 12), ...}</pre>\n",
    "Examples of shops include:\n",
    "<pre>shops = { 'BuyOrganic' : (False , False), ...}</pre>\n",
    "The relations between a recipy and its ingredients are represented as follows:\n",
    "<pre>contains = [('Kouglof', 'flour'), ('Kouglof', 'sugar'), ...]</pre>\n",
    "and that between ingredients and shops:\n",
    "<pre> sold_in = [('flour', 'BuyOrganic'), ...]</pre>\n",
    "In the following questions, you are asked to define functions and to test them.\n",
    "\n",
    "To do so, define a dictionary containing 3 recipies, each one using 5 ingredients of your choices (they do not have to be real recipies :-) and make up 3 shops selling these ingredients."
   ]
  },
  {
   "cell_type": "code",
   "execution_count": 12,
   "metadata": {},
   "outputs": [],
   "source": [
    "recipes = {'banana bread': (20, 40, 3), 'curry': (20, 20, 2), 'porridge': (5, 10, 1)}\n",
    "ingredients = {'bananas': (1, 12), 'flour': (1, 12), 'sugar': (1, 12), 'nuts': (8, 11), 'carrots': (3, 10), \n",
    "               'ginger': (1, 12), 'broccoli': (3, 9), 'coconut': (1, 12), 'oats': (1, 12), 'berries': (5, 8), 'milk': (1, 12),\n",
    "               'cinnamon': (1, 12)}\n",
    "shops = {'carrefour': (True, False), 'leclerc': (False, False), 'superu': (False, False)}\n",
    "contains = [('banana bread', 'flour'), ('banana bread', 'bananas'), ('banana bread', 'sugar'), ('banana bread', 'nuts'), ('banana bread', 'cinnamon'), \n",
    "            ('curry', 'carrots'), ('curry', 'ginger'), ('curry', 'broccoli'), ('curry', 'coconut'), ('curry', 'nuts'), \n",
    "            ('porridge', 'oats'), ('porridge', 'berries'), ('porridge', 'milk'), ('porridge', 'cinnamon'), ('porridge', 'nuts')]\n",
    "sold_in = [('bananas', 'carrefour'), ('flour', 'leclerc'), ('sugar', 'leclerc'), ('nuts', 'superu'), ('carrots', 'leclerc'), \n",
    "           ('ginger', 'carrefour'), ('broccoli', 'carrefour'), ('coconut', 'superu'), ('oats', 'leclerc'), ('berries', 'carrefour'), \n",
    "           ('milk', 'leclerc'), ('cinnamon', 'superu')]"
   ]
  },
  {
   "cell_type": "markdown",
   "metadata": {},
   "source": [
    "### Question 2.1\n",
    "Define a function `in_recipy` which computes the list of recipies containing a given ingredient."
   ]
  },
  {
   "cell_type": "code",
   "execution_count": 13,
   "metadata": {},
   "outputs": [],
   "source": [
    "def in_recipy(ingredient):\n",
    "    recipes = []\n",
    "    for recipe, ingred in contains: \n",
    "        if ingredient.lower() == ingred:\n",
    "            recipes.append(recipe)\n",
    "    return recipes"
   ]
  },
  {
   "cell_type": "code",
   "execution_count": 14,
   "metadata": {},
   "outputs": [
    {
     "data": {
      "text/plain": [
       "['banana bread', 'curry', 'porridge']"
      ]
     },
     "execution_count": 14,
     "metadata": {},
     "output_type": "execute_result"
    }
   ],
   "source": [
    "in_recipy('nuts')"
   ]
  },
  {
   "cell_type": "markdown",
   "metadata": {},
   "source": [
    "### Question 2.2\n",
    "Define a function `sold` which computes the list of shops where a given ingredient can be bought."
   ]
  },
  {
   "cell_type": "code",
   "execution_count": 15,
   "metadata": {},
   "outputs": [],
   "source": [
    "def sold(ingredient):\n",
    "    shops = []\n",
    "    for ingred, shop in sold_in:\n",
    "        if ingred == ingredient.lower():\n",
    "            shops.append(shop)\n",
    "    return shops"
   ]
  },
  {
   "cell_type": "code",
   "execution_count": 16,
   "metadata": {},
   "outputs": [
    {
     "data": {
      "text/plain": [
       "['carrefour']"
      ]
     },
     "execution_count": 16,
     "metadata": {},
     "output_type": "execute_result"
    }
   ],
   "source": [
    "sold('bananas')"
   ]
  },
  {
   "cell_type": "markdown",
   "metadata": {},
   "source": [
    "### Question 2.3\n",
    "Define a function `sunday` which computes the list of ingredients which can be bought on a sunday. "
   ]
  },
  {
   "cell_type": "code",
   "execution_count": 17,
   "metadata": {},
   "outputs": [],
   "source": [
    "def sunday():\n",
    "    shops_list = []\n",
    "    for shop, info in shops.items():\n",
    "        if info[0]:\n",
    "            shops_list.append(shop)\n",
    "    ingredients = []\n",
    "    for ingred, shop in sold_in:\n",
    "        if shop in shops_list:\n",
    "            ingredients.append(ingred)\n",
    "    return ingredients"
   ]
  },
  {
   "cell_type": "code",
   "execution_count": 18,
   "metadata": {},
   "outputs": [
    {
     "data": {
      "text/plain": [
       "['bananas', 'ginger', 'broccoli', 'berries']"
      ]
     },
     "execution_count": 18,
     "metadata": {},
     "output_type": "execute_result"
    }
   ],
   "source": [
    "sunday()"
   ]
  },
  {
   "cell_type": "markdown",
   "metadata": {},
   "source": [
    "### Question 2.4\n",
    "Define a function `convert` which turns a list of ingredients such as `contains` into a dictionary associating a recipy name with a list of ingredients. "
   ]
  },
  {
   "cell_type": "code",
   "execution_count": 19,
   "metadata": {},
   "outputs": [],
   "source": [
    "def convert(list_of_ingredients):\n",
    "    recipe_dictionary = {}\n",
    "    for recipe, ingredient in list_of_ingredients: \n",
    "        if recipe not in recipe_dictionary.keys():\n",
    "            recipe_dictionary[recipe] = [ingredient]\n",
    "        else: \n",
    "            recipe_dictionary[recipe].append(ingredient)\n",
    "    return recipe_dictionary\n"
   ]
  },
  {
   "cell_type": "code",
   "execution_count": 20,
   "metadata": {},
   "outputs": [
    {
     "data": {
      "text/plain": [
       "{'banana bread': ['flour', 'bananas', 'sugar', 'nuts', 'cinnamon'],\n",
       " 'curry': ['carrots', 'ginger', 'broccoli', 'coconut', 'nuts'],\n",
       " 'porridge': ['oats', 'berries', 'milk', 'cinnamon', 'nuts']}"
      ]
     },
     "execution_count": 20,
     "metadata": {},
     "output_type": "execute_result"
    }
   ],
   "source": [
    "convert(contains)"
   ]
  },
  {
   "cell_type": "markdown",
   "metadata": {},
   "source": [
    "### Question 2.5\n",
    "Define a function `this_month` which computes the list of recipies which can be cooked on a given month."
   ]
  },
  {
   "cell_type": "code",
   "execution_count": 48,
   "metadata": {},
   "outputs": [],
   "source": [
    "def this_month(month):\n",
    "    ingredients_list = []\n",
    "    for ingredient, season in ingredients.items(): \n",
    "        if season[0] <= month <= season[1]:\n",
    "            ingredients_list.append(ingredient)\n",
    "    print(ingredients_list)\n",
    "    recipe_dictionary = {}\n",
    "    for recipe, ingred in contains: \n",
    "        if ingred in ingredients_list: \n",
    "            if recipe not in recipe_dictionary.keys():\n",
    "               recipe_dictionary[recipe] = [ingred]\n",
    "            else: \n",
    "               recipe_dictionary[recipe].append(ingred)\n",
    "    recipes = []\n",
    "    print(recipe_dictionary)\n",
    "    for recipe, ingred in recipe_dictionary.items(): \n",
    "        if len(ingred) == 5:\n",
    "            recipes.append(recipe)\n",
    "    return recipes\n",
    "        "
   ]
  },
  {
   "cell_type": "code",
   "execution_count": 51,
   "metadata": {},
   "outputs": [
    {
     "name": "stdout",
     "output_type": "stream",
     "text": [
      "['bananas', 'flour', 'sugar', 'nuts', 'carrots', 'ginger', 'broccoli', 'coconut', 'oats', 'berries', 'milk', 'cinnamon']\n",
      "{'banana bread': ['flour', 'bananas', 'sugar', 'nuts', 'cinnamon'], 'curry': ['carrots', 'ginger', 'broccoli', 'coconut', 'nuts'], 'porridge': ['oats', 'berries', 'milk', 'cinnamon', 'nuts']}\n"
     ]
    },
    {
     "data": {
      "text/plain": [
       "['banana bread', 'curry', 'porridge']"
      ]
     },
     "execution_count": 51,
     "metadata": {},
     "output_type": "execute_result"
    }
   ],
   "source": [
    "this_month(8)"
   ]
  },
  {
   "cell_type": "code",
   "execution_count": null,
   "metadata": {},
   "outputs": [],
   "source": []
  }
 ],
 "metadata": {
  "kernelspec": {
   "display_name": "Python 3 (ipykernel)",
   "language": "python",
   "name": "python3"
  },
  "language_info": {
   "codemirror_mode": {
    "name": "ipython",
    "version": 3
   },
   "file_extension": ".py",
   "mimetype": "text/x-python",
   "name": "python",
   "nbconvert_exporter": "python",
   "pygments_lexer": "ipython3",
   "version": "3.10.7"
  }
 },
 "nbformat": 4,
 "nbformat_minor": 4
}
