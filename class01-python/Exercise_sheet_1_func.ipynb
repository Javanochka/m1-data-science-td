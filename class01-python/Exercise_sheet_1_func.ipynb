{
 "cells": [
  {
   "cell_type": "markdown",
   "metadata": {},
   "source": [
    "# Exercise Sheet \\# 1"
   ]
  },
  {
   "cell_type": "markdown",
   "metadata": {},
   "source": [
    "## Exercise 1\n",
    "Let us consider a group of friends who organised a party together. Each one brought some food to the party. To make it fair, all these friends decided that they should spend equal money. Let us develop some python program to help them do the math.\n",
    "\n",
    "### Question 1.1\n",
    "As an example, consider these friends bought the following items (together with their total price):\n",
    "\n",
    "Emilie|Paul|Jacques|Eric\n",
    ":--|:--|:--|:--\n",
    "soda,3|juice,4|apples,3|bread,1\n",
    "camembert,5|chorizo,3|cookies,2|\n",
    "beaufort,6|spam,2|\n",
    "tomatoes,3|\n",
    "\n",
    "That is, Emilie spent 17 EUR, Paul 9 EUR, Jacques 5 EUR and Eric 1 EUR.\n",
    "\n",
    "How much money each of them would have paid if they had bought food together ? "
   ]
  },
  {
   "cell_type": "markdown",
   "metadata": {},
   "source": [
    "### Question 1.2\n",
    "Define 4 variables (`emilie`, `paul`, `jacques` and `eric`) containing the items each of them brought to the party.\n",
    "As a data structure for these variables, we will use a list of tuples."
   ]
  },
  {
   "cell_type": "code",
   "execution_count": 2,
   "metadata": {},
   "outputs": [],
   "source": [
    "emilie = [('soda', 3), ('camembert', 5), ('beaufort', 6), ('tomatoes', 3)]\n",
    "paul   = [('juice', 4), ('chorizo', 3), ('spam', 2)]\n",
    "jacques= [('apples', 3), ('cookies', 2)]\n",
    "eric   = [('bread', 1)]"
   ]
  },
  {
   "cell_type": "markdown",
   "metadata": {},
   "source": [
    "### Question 1.3\n",
    "Define a function `spent` which takes as an input a list of goods and returns their total price. "
   ]
  },
  {
   "cell_type": "code",
   "execution_count": 9,
   "metadata": {},
   "outputs": [],
   "source": [
    "def spent(list_of_goods):\n",
    "    total_price = 0\n",
    "    for item in list_of_goods:\n",
    "        total_price += item[1]\n",
    "    return total_price\n"
   ]
  },
  {
   "cell_type": "markdown",
   "metadata": {},
   "source": [
    "### Question 1.4\n",
    "What does `spent` returns when invoked with `paul` as a parameter ?"
   ]
  },
  {
   "cell_type": "code",
   "execution_count": 10,
   "metadata": {},
   "outputs": [
    {
     "data": {
      "text/plain": [
       "9"
      ]
     },
     "execution_count": 10,
     "metadata": {},
     "output_type": "execute_result"
    }
   ],
   "source": [
    "spent(paul)"
   ]
  },
  {
   "cell_type": "markdown",
   "metadata": {},
   "source": [
    "### Question 1.5\n",
    "Let us now define a variable `expenses` to encode all the expenses of the group. \n",
    "To do so, we will use a dictionary, which will associate each person (represented as a string) with her.his list of goods. "
   ]
  },
  {
   "cell_type": "code",
   "execution_count": 11,
   "metadata": {},
   "outputs": [],
   "source": [
    "expenses = {\"emilie\":emilie, \"paul\":paul, \"jacques\":jacques, \"eric\":eric}"
   ]
  },
  {
   "cell_type": "markdown",
   "metadata": {},
   "source": [
    "### Question 1.6\n",
    "Define a function `total` which computes, from a dictionary of expenses, the total amount of money spent."
   ]
  },
  {
   "cell_type": "code",
   "execution_count": 12,
   "metadata": {},
   "outputs": [],
   "source": [
    "def total(dictionary_of_expenses):\n",
    "    total_amount_of_money_spent = 0\n",
    "    for value in dictionary_of_expenses.values():\n",
    "        for item in value:\n",
    "            total_amount_of_money_spent += item[1]\n",
    "    return total_amount_of_money_spent"
   ]
  },
  {
   "cell_type": "markdown",
   "metadata": {},
   "source": [
    "### Question 1.7\n",
    "What is the total amount of money spent by Emilie, Paul, Jacques and Eric ?"
   ]
  },
  {
   "cell_type": "code",
   "execution_count": 13,
   "metadata": {},
   "outputs": [
    {
     "data": {
      "text/plain": [
       "32"
      ]
     },
     "execution_count": 13,
     "metadata": {},
     "output_type": "execute_result"
    }
   ],
   "source": [
    "total(expenses)"
   ]
  },
  {
   "cell_type": "markdown",
   "metadata": {},
   "source": [
    "### Question 1.8\n",
    "Define a function `fair` which takes as an input a dictionary of expenses, and which returns a list of pairs _(person, money)_ indicating for each person, how much money she.he should pay (negative number) or receive (positive number)."
   ]
  },
  {
   "cell_type": "code",
   "execution_count": 19,
   "metadata": {},
   "outputs": [],
   "source": [
    "def fair(dictionary_of_expenses):\n",
    "    amount_to_pay_per_head = total(dictionary_of_expenses)/len(dictionary_of_expenses)\n",
    "    list_of_pairs = []\n",
    "    for key, value in dictionary_of_expenses.items():\n",
    "        person = key\n",
    "        money = spent(value) - amount_to_pay_per_head\n",
    "        list_of_pairs.append((person, money))\n",
    "    return list_of_pairs"
   ]
  },
  {
   "cell_type": "markdown",
   "metadata": {},
   "source": [
    "### Question 1.9\n",
    "What does `fair` returns when invoked with `expenses` as an input parameter ?"
   ]
  },
  {
   "cell_type": "code",
   "execution_count": 20,
   "metadata": {},
   "outputs": [
    {
     "data": {
      "text/plain": [
       "[('emilie', 9.0), ('paul', 1.0), ('jacques', -3.0), ('eric', -7.0)]"
      ]
     },
     "execution_count": 20,
     "metadata": {},
     "output_type": "execute_result"
    }
   ],
   "source": [
    "fair(expenses)"
   ]
  },
  {
   "cell_type": "markdown",
   "metadata": {},
   "source": [
    "## Exercise 2\n",
    "Let us consider recipies made of ingredients, which are sold in some shops. Recipies are python dictionary associating a recipy name with a preparation time, a cooking time and a difficulty score. Ingredients is a dictionary associating a name with a season (that is, when can these be found, for instance from May/5 til July/7). Shops finally is a dictionary associating a shop name with two booleans: one for indicating whether the shop is open on Sundays and one whether the shop only accepts cash.\n",
    "![diagram](https://mastertal.gitlab.io/UE803/notebooks/images/recipy.png)\n",
    "\n",
    "Examples of recipies include:\n",
    "<pre>recipies = { 'Kouglof' : (20, 20, 5), 'Banana Split' : (5, 0, 1), ... }</pre>\n",
    "Examples of ingredients include:\n",
    "<pre>ingredients = { 'strawberry' : (5, 7), 'flour' : (1, 12), ...}</pre>\n",
    "Examples of shops include:\n",
    "<pre>shops = { 'BuyOrganic' : (False , False), ...}</pre>\n",
    "The relations between a recipy and its ingredients are represented as follows:\n",
    "<pre>contains = [('Kouglof', 'flour'), ('Kouglof', 'sugar'), ...]</pre>\n",
    "and that between ingredients and shops:\n",
    "<pre> sold_in = [('flour', 'BuyOrganic'), ...]</pre>\n",
    "In the following questions, you are asked to define functions and to test them.\n",
    "\n",
    "To do so, define a dictionary containing 3 recipies, each one using 5 ingredients of your choices (they do not have to be real recipies :-) and make up 3 shops selling these ingredients."
   ]
  },
  {
   "cell_type": "code",
   "execution_count": null,
   "metadata": {},
   "outputs": [],
   "source": []
  },
  {
   "cell_type": "code",
   "execution_count": 44,
   "metadata": {},
   "outputs": [],
   "source": [
    "recipes = {\"pancake\": (10, 10, 2), \"muffin\": (15, 30, 4), \"crepe\": (10, 10, 3), \"cookie\": (15, 35, 5), \"cake\": (15, 40, 5)}\n",
    "ingredients = {\"strawberry\" : (5, 7), \"flour\" : (1, 12), \"sugar\": (1, 12), \"banana\":(3, 4), \"chocolate\":(1,12), \"milk\":(1,12), \"egg\":(1,12), \"vanilla essence\":(1,12), \"butter\":(1,12), \"almond\":(8,11)}\n",
    "shops = {\"BuyOrganic\":(False, False), \"Auchan\":(False, True), \"Lidl\":(False, True), \"E.Lecrec\":(True, True), \"Monoprix\":(False, False), \"Carrefour\":(True, True)}\n",
    "\n",
    "contains = [(\"cake\", \"flour\"), (\"cake\", \"sugar\"), (\"cake\", \"butter\"), (\"cake\", \"egg\"), (\"cake\", \"chocolate\"), (\"pancake\", \"flour\"), (\"pancake\", \"sugar\"), (\"pancake\", \"butter\"), (\"pancake\", \"egg\"), (\"pancake\", \"milk\"), (\"cookie\", \"flour\"), (\"cookie\", \"sugar\"), (\"cookie\", \"butter\"), (\"cookie\", \"egg\"), (\"cookie\", \"almond\") ]\n",
    "sold_in = [(\"flour\", \"BuyOrganic\"), (\"flour\", \"Auchan\"), (\"flour\", \"Lidl\"), (\"sugar\", \"Auchan\"), (\"sugar\", \"Carrefour\"), (\"sugar\", \"E.Lecrec\"), (\"sugar\", \"Monoprix\"), (\"butter\", \"Monoprix\"), (\"butter\", \"Auchan\"), (\"egg\", \"E.Lecrec\"), (\"chocolate\", \"Carrefour\"), (\"milk\", \"Lidl\"), (\"almond\", \"Monoprix\") ]\n"
   ]
  },
  {
   "cell_type": "markdown",
   "metadata": {},
   "source": [
    "### Question 2.1\n",
    "Define a function `in_recipy` which computes the list of recipies containing a given ingredient."
   ]
  },
  {
   "cell_type": "code",
   "execution_count": 30,
   "metadata": {},
   "outputs": [
    {
     "data": {
      "text/plain": [
       "['cookie']"
      ]
     },
     "execution_count": 30,
     "metadata": {},
     "output_type": "execute_result"
    }
   ],
   "source": [
    "def in_recipy(given_list, given_ingredient):\n",
    "    list_of_recipes_containing_a_given_ingredient = []\n",
    "    for el in given_list:\n",
    "        if el[1] == given_ingredient:\n",
    "           list_of_recipes_containing_a_given_ingredient.append(el[0]) \n",
    "    return (list_of_recipes_containing_a_given_ingredient)\n",
    "\n",
    "in_recipy(contains, \"almond\")"
   ]
  },
  {
   "cell_type": "markdown",
   "metadata": {},
   "source": [
    "### Question 2.2\n",
    "Define a function `sold` which computes the list of shops where a given ingredient can be bought."
   ]
  },
  {
   "cell_type": "code",
   "execution_count": 34,
   "metadata": {},
   "outputs": [
    {
     "data": {
      "text/plain": [
       "['Auchan', 'Carrefour', 'E.Lecrec', 'Monoprix']"
      ]
     },
     "execution_count": 34,
     "metadata": {},
     "output_type": "execute_result"
    }
   ],
   "source": [
    "def sold(given_list, given_ingredient):\n",
    "    list_of_shops_where_a_given_ingredient_can_be_bought = []\n",
    "    for el in given_list:\n",
    "        if el[0] == given_ingredient:\n",
    "           list_of_shops_where_a_given_ingredient_can_be_bought.append(el[1]) \n",
    "    return (list_of_shops_where_a_given_ingredient_can_be_bought)\n",
    "\n",
    "sold(sold_in, \"sugar\")"
   ]
  },
  {
   "cell_type": "markdown",
   "metadata": {},
   "source": [
    "### Question 2.3\n",
    "Define a function `sunday` which computes the list of ingredients which can be bought on a sunday. "
   ]
  },
  {
   "cell_type": "code",
   "execution_count": 35,
   "metadata": {},
   "outputs": [
    {
     "data": {
      "text/plain": [
       "{'chocolate', 'egg', 'sugar'}"
      ]
     },
     "execution_count": 35,
     "metadata": {},
     "output_type": "execute_result"
    }
   ],
   "source": [
    "def sunday(dict1, list1):\n",
    "    list_of_ingredients_which_can_be_bought_on_a_sunday = []\n",
    "    for key,value in dict1.items():\n",
    "        if value[0]== True:\n",
    "            for item in list1:\n",
    "                if item[1] == key:\n",
    "                   list_of_ingredients_which_can_be_bought_on_a_sunday.append(item[0]) \n",
    "    return (set(list_of_ingredients_which_can_be_bought_on_a_sunday))\n",
    "\n",
    "sunday(shops, sold_in)"
   ]
  },
  {
   "cell_type": "markdown",
   "metadata": {},
   "source": [
    "### Question 2.4\n",
    "Define a function `convert` which turns a list of ingredients such as `contains` into a dictionary associating a recipy name with a list of ingredients. "
   ]
  },
  {
   "cell_type": "code",
   "execution_count": 47,
   "metadata": {},
   "outputs": [
    {
     "name": "stdout",
     "output_type": "stream",
     "text": [
      "{'cake': ['flour', 'sugar', 'butter', 'egg', 'chocolate'], 'pancake': ['flour', 'sugar', 'butter', 'egg', 'milk'], 'cookie': ['flour', 'sugar', 'butter', 'egg', 'almond']}\n"
     ]
    }
   ],
   "source": [
    "def convert(list2):\n",
    "    dict_recipe_ingredient = {}\n",
    "    for item in list2:\n",
    "        recipe, ingredient = item\n",
    "        if recipe not in dict_recipe_ingredient:\n",
    "            dict_recipe_ingredient[recipe] = [ingredient]\n",
    "        else:\n",
    "            dict_recipe_ingredient[recipe].append(ingredient)\n",
    "    return dict_recipe_ingredient\n",
    "\n",
    "z = convert(contains)\n",
    "print(z)"
   ]
  },
  {
   "cell_type": "markdown",
   "metadata": {},
   "source": [
    "### Question 2.5\n",
    "Define a function `this_month` which computes the list of recipies which can be cooked on a given month."
   ]
  },
  {
   "cell_type": "code",
   "execution_count": 54,
   "metadata": {},
   "outputs": [
    {
     "data": {
      "text/plain": [
       "[]"
      ]
     },
     "execution_count": 54,
     "metadata": {},
     "output_type": "execute_result"
    }
   ],
   "source": [
    "from collections import Counter\n",
    "def this_month(dict2, number_of_the_month):\n",
    "    list_ingredient_month = []\n",
    "    list_recipe_month = []\n",
    "    for key,value in dict2.items():\n",
    "        if value[0] <=number_of_the_month <= value[1]:\n",
    "            list_ingredient_month.append(key)\n",
    "    for key,value in z.items():\n",
    "        if Counter(list_ingredient_month) == Counter(value):\n",
    "            list_recipe_month.append(key)\n",
    "    return list_recipe_month\n",
    "            \n",
    "this_month(ingredients, 5)"
   ]
  }
 ],
 "metadata": {
  "kernelspec": {
   "display_name": "Python 3",
   "language": "python",
   "name": "python3"
  },
  "language_info": {
   "codemirror_mode": {
    "name": "ipython",
    "version": 3
   },
   "file_extension": ".py",
   "mimetype": "text/x-python",
   "name": "python",
   "nbconvert_exporter": "python",
   "pygments_lexer": "ipython3",
   "version": "3.11.7"
  }
 },
 "nbformat": 4,
 "nbformat_minor": 2
}
