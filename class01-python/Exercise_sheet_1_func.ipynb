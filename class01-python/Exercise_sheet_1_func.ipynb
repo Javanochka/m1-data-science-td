{
 "cells": [
  {
   "cell_type": "markdown",
   "metadata": {},
   "source": [
    "# Exercise Sheet \\# 1"
   ]
  },
  {
   "cell_type": "markdown",
   "metadata": {},
   "source": [
    "## Exercise 1\n",
    "Let us consider a group of friends who organised a party together. Each one brought some food to the party. To make it fair, all these friends decided that they should spend equal money. Let us develop some python program to help them do the math.\n",
    "\n",
    "### Question 1.1\n",
    "As an example, consider these friends bought the following items (together with their total price):\n",
    "\n",
    "Emilie|Paul|Jacques|Eric\n",
    ":--|:--|:--|:--\n",
    "soda,3|juice,4|apples,3|bread,1\n",
    "camembert,5|chorizo,3|cookies,2|\n",
    "beaufort,6|spam,2|\n",
    "tomatoes,3|\n",
    "\n",
    "That is, Emilie spent 17 EUR, Paul 9 EUR, Jacques 5 EUR and Eric 1 EUR.\n",
    "\n",
    "How much money each of them would have paid if they had bought food together ? "
   ]
  },
  {
   "cell_type": "code",
   "execution_count": 1,
   "metadata": {},
   "outputs": [
    {
     "name": "stdout",
     "output_type": "stream",
     "text": [
      "32\n",
      "5\n",
      "Wow! You all spent 5 euros\n"
     ]
    }
   ],
   "source": [
    "#Option 1: static values\n",
    "emilie_total = 17\n",
    "paul_total = 9\n",
    "jacques_total = 5\n",
    "eric_total = 1\n",
    "\n",
    "total_sum = emilie_total + paul_total + jacques_total + eric_total\n",
    "print(total_sum)\n",
    "\n",
    "#option 2: 'UX' taken into account (dinamyc values)\n",
    "friends = input(('Hi! Please enter the list of your friends here separated by commas: '))\n",
    "print(friends)\n",
    "list_friends = friends.split(', ')\n",
    "list_expenses = []\n",
    "for friend in list_friends:\n",
    "    ammount_spent = int(input(f'Hi, {friend}! Please tell me how much you spent in total: '))\n",
    "    list_expenses.append(ammount_spent)\n",
    "total_spent = sum(list_expenses)\n",
    "print(f'Wow! You all spent {total_spent} euros')\n"
   ]
  },
  {
   "cell_type": "markdown",
   "metadata": {},
   "source": [
    "### Question 1.2\n",
    "Define 4 variables (`emilie`, `paul`, `jacques` and `eric`) containing the items each of them brought to the party.\n",
    "As a data structure for these variables, we will use a list of tuples."
   ]
  },
  {
   "cell_type": "code",
   "execution_count": 8,
   "metadata": {},
   "outputs": [],
   "source": [
    "emilie = [('soda', 3), ('camembert', 5), ('beaufort', 6), ('tomatoes', 3)]\n",
    "paul   = [('juice', 4), ('chorizo', 3), ('spam', 2)]\n",
    "jacques= [('apples', 3), ('cookies', 2)]\n",
    "eric   = [('bread', 1)]"
   ]
  },
  {
   "cell_type": "markdown",
   "metadata": {},
   "source": [
    "### Question 1.3\n",
    "Define a function `spent` which takes as an input a list of goods and returns their total price. "
   ]
  },
  {
   "cell_type": "code",
   "execution_count": 12,
   "metadata": {},
   "outputs": [],
   "source": [
    "def spent (list_goods):\n",
    "    '''\n",
    "    This function takes a list of tuples and sums the values of each item\n",
    "    Parameters:\n",
    "    -list: a list of tuples with the name of the item, and its value\n",
    "    Return:\n",
    "    -Total: integer with the values\n",
    "    '''\n",
    "    total = 0\n",
    "    for _, price in list_goods: #_ works as a wildcard\n",
    "        total += price\n",
    "    return total"
   ]
  },
  {
   "cell_type": "markdown",
   "metadata": {},
   "source": [
    "### Question 1.4\n",
    "What does `spent` returns when invoked with `paul` as a parameter ?"
   ]
  },
  {
   "cell_type": "code",
   "execution_count": 13,
   "metadata": {},
   "outputs": [
    {
     "data": {
      "text/plain": [
       "9"
      ]
     },
     "execution_count": 13,
     "metadata": {},
     "output_type": "execute_result"
    }
   ],
   "source": [
    "spent(paul)"
   ]
  },
  {
   "cell_type": "markdown",
   "metadata": {},
   "source": [
    "### Question 1.5\n",
    "Let us now define a variable `expenses` to encode all the expenses of the group. \n",
    "To do so, we will use a dictionary, which will associate each person (represented as a string) with her.his list of goods. "
   ]
  },
  {
   "cell_type": "code",
   "execution_count": 14,
   "metadata": {},
   "outputs": [
    {
     "name": "stdout",
     "output_type": "stream",
     "text": [
      "{'emilie': [('soda', 3), ('camembert', 5), ('beaufort', 6), ('tomatoes', 3)], 'paul': [('juice', 4), ('chorizo', 3), ('spam', 2)], 'jacques': [('apples', 3), ('cookies', 2)], 'eric': [('bread', 1)]}\n"
     ]
    }
   ],
   "source": [
    "dict_group = {'emilie':emilie, 'paul': paul, 'jacques': jacques, 'eric':eric}\n",
    "print(dict_group)\n"
   ]
  },
  {
   "cell_type": "markdown",
   "metadata": {},
   "source": [
    "### Question 1.6\n",
    "Define a function `total` which computes, from a dictionary of expenses, the total amount of money spent."
   ]
  },
  {
   "cell_type": "code",
   "execution_count": 15,
   "metadata": {},
   "outputs": [],
   "source": [
    "def total(dict_expenses):\n",
    "    '''\n",
    "    This function takes the total of expenses asociated to a person and returns the total ammount spent\n",
    "    Parameters:\n",
    "    - Dict: Dictionary where the key is the name of the person and the value is a list of tuples with item and ammount spent\n",
    "    Return:\n",
    "    - total: integer with the total spent\n",
    "    '''\n",
    "    total = 0\n",
    "    for element in dict_expenses:\n",
    "        indiv_spent = spent(dict_expenses[element])\n",
    "        total += indiv_spent\n",
    "    return total"
   ]
  },
  {
   "cell_type": "markdown",
   "metadata": {},
   "source": [
    "### Question 1.7\n",
    "What is the total amount of money spent by Emilie, Paul, Jacques and Eric ?"
   ]
  },
  {
   "cell_type": "code",
   "execution_count": 16,
   "metadata": {},
   "outputs": [
    {
     "data": {
      "text/plain": [
       "32"
      ]
     },
     "execution_count": 16,
     "metadata": {},
     "output_type": "execute_result"
    }
   ],
   "source": [
    "total(dict_group)"
   ]
  },
  {
   "cell_type": "markdown",
   "metadata": {},
   "source": [
    "### Question 1.8\n",
    "Define a function `fair` which takes as an input a dictionary of expenses, and which returns a list of pairs _(person, money)_ indicating for each person, how much money she.he should pay (negative number) or receive (positive number)."
   ]
  },
  {
   "cell_type": "code",
   "execution_count": 17,
   "metadata": {},
   "outputs": [],
   "source": [
    "def fair(dict_expenses):\n",
    "    '''\n",
    "\n",
    "    '''\n",
    "    total_ammount = total(dict_expenses)\n",
    "    avg_spent = total_ammount / len(dict_expenses)\n",
    "    \n",
    "    settlement = []\n",
    "    for element in dict_expenses:\n",
    "        person_total = spent(dict_expenses[element])\n",
    "        difference = person_total - avg_spent\n",
    "        settlement.append((element, difference))\n",
    "\n",
    "    return settlement\n"
   ]
  },
  {
   "cell_type": "markdown",
   "metadata": {},
   "source": [
    "### Question 1.9\n",
    "What does `fair` returns when invoked with `expenses` as an input parameter ?"
   ]
  },
  {
   "cell_type": "code",
   "execution_count": 18,
   "metadata": {},
   "outputs": [
    {
     "data": {
      "text/plain": [
       "[('emilie', 9.0), ('paul', 1.0), ('jacques', -3.0), ('eric', -7.0)]"
      ]
     },
     "execution_count": 18,
     "metadata": {},
     "output_type": "execute_result"
    }
   ],
   "source": [
    "fair(dict_group)"
   ]
  },
  {
   "cell_type": "markdown",
   "metadata": {},
   "source": [
    "## Exercise 2\n",
    "Let us consider recipies made of ingredients, which are sold in some shops. Recipies are python dictionary associating a recipy name with a preparation time, a cooking time and a difficulty score. Ingredients is a dictionary associating a name with a season (that is, when can these be found, for instance from May/5 til July/7). Shops finally is a dictionary associating a shop name with two booleans: one for indicating whether the shop is open on Sundays and one whether the shop only accepts cash.\n",
    "![diagram](https://mastertal.gitlab.io/UE803/notebooks/images/recipy.png)\n",
    "\n",
    "Examples of recipies include:\n",
    "<pre>recipies = { 'Kouglof' : (20, 20, 5), 'Banana Split' : (5, 0, 1), ... }</pre>\n",
    "Examples of ingredients include:\n",
    "<pre>ingredients = { 'strawberry' : (5, 7), 'flour' : (1, 12), ...}</pre>\n",
    "Examples of shops include:\n",
    "<pre>shops = { 'BuyOrganic' : (False , False), ...}</pre>\n",
    "The relations between a recipy and its ingredients are represented as follows:\n",
    "<pre>contains = [('Kouglof', 'flour'), ('Kouglof', 'sugar'), ...]</pre>\n",
    "and that between ingredients and shops:\n",
    "<pre> sold_in = [('flour', 'BuyOrganic'), ...]</pre>\n",
    "In the following questions, you are asked to define functions and to test them.\n",
    "\n",
    "To do so, define a dictionary containing 3 recipies, each one using 5 ingredients of your choices (they do not have to be real recipies :-) and make up 3 shops selling these ingredients."
   ]
  },
  {
   "cell_type": "code",
   "execution_count": 1,
   "metadata": {},
   "outputs": [],
   "source": [
    "recipies = {'Quiche':(20, 30, 3), 'Roast meat and potatoes': (15, 45, 5), 'Banana bread':(15, 30, 6)}\n",
    "ingredients = {'Steak':(1,12), 'Banana':(6,12), 'Potatoes':(1,12),'Eggs':(1,12), 'Flour':(1,12)}\n",
    "shops = {'Casino':(True, False), 'Lidl':(False, False), 'Epicerie':(True, False)}\n",
    "\n",
    "## Relations ## \n",
    "\n",
    "contains = [('Quiche', 'Potatoes'), ('Quiche', 'Eggs'), ('Roast meat and potatoes', 'Potatoes'), ('Roast meat and potatoes', 'Steak'),\n",
    "            ('Banana bread', 'Banana'), ('Banana bread', 'Eggs'), ('Banana bread', 'Flour')]\n",
    "\n",
    "sold_in = [('Steak','Lidl'), ('Banana','Casino'),('Banana','Epicerie'),('Potatoes','Casino'),('Potatoes','Lidl'),('Potatoes','Epicerie'),\n",
    "           ('Eggs','Lidl'),('Eggs','Casino'),('Eggs','Epicerie'),('Flour','Lidl'),('Flour','Casino')]"
   ]
  },
  {
   "cell_type": "markdown",
   "metadata": {},
   "source": [
    "### Question 2.1\n",
    "Define a function `in_recipy` which computes the list of recipies containing a given ingredient."
   ]
  },
  {
   "cell_type": "code",
   "execution_count": 2,
   "metadata": {},
   "outputs": [],
   "source": [
    "def in_recipy(ingredient_target, list_recipies):\n",
    "    '''\n",
    "    This function searchs a determinate ingrediente in a list of recipies\n",
    "    Parameters:\n",
    "    -Ingredient: str with the target ingredient\n",
    "    -list_recipies: list of tuples where you got the recipy and the ingredients it has\n",
    "    Return:\n",
    "    -list_recipies_target = a list with all the recipies that contain that ingredient\n",
    "    '''\n",
    "    list_recipies_target = []\n",
    "    for recipy, ingredient in list_recipies:\n",
    "        if ingredient.lower() == ingredient_target.lower():\n",
    "            list_recipies_target.append(recipy)\n",
    "    return list_recipies_target"
   ]
  },
  {
   "cell_type": "code",
   "execution_count": 3,
   "metadata": {},
   "outputs": [
    {
     "data": {
      "text/plain": [
       "['Quiche', 'Banana bread']"
      ]
     },
     "execution_count": 3,
     "metadata": {},
     "output_type": "execute_result"
    }
   ],
   "source": [
    "in_recipy('Eggs', contains)"
   ]
  },
  {
   "cell_type": "markdown",
   "metadata": {},
   "source": [
    "### Question 2.2\n",
    "Define a function `sold` which computes the list of shops where a given ingredient can be bought."
   ]
  },
  {
   "cell_type": "code",
   "execution_count": 4,
   "metadata": {},
   "outputs": [],
   "source": [
    "def sold(ingredient_target, list_shops):\n",
    "    '''\n",
    "    This function searchs where the target ingredient can be found from a list of shops\n",
    "    Parameters:\n",
    "    -ingredient_target = str \n",
    "    -list_shops: list of tuples with the name of the shop and the ingredient\n",
    "    Return:\n",
    "    -list_shops_target: list of shops where you can find the target ingredient\n",
    "    '''\n",
    "    list_shops_target = []\n",
    "    for ingredient, shop in list_shops:\n",
    "        if ingredient_target.lower() == ingredient.lower():\n",
    "            list_shops_target.append(shop)\n",
    "    return list_shops_target"
   ]
  },
  {
   "cell_type": "code",
   "execution_count": 5,
   "metadata": {},
   "outputs": [
    {
     "data": {
      "text/plain": [
       "['Lidl', 'Casino', 'Epicerie']"
      ]
     },
     "execution_count": 5,
     "metadata": {},
     "output_type": "execute_result"
    }
   ],
   "source": [
    "sold('Eggs', sold_in)"
   ]
  },
  {
   "cell_type": "markdown",
   "metadata": {},
   "source": [
    "### Question 2.3\n",
    "Define a function `sunday` which computes the list of ingredients which can be bought on a sunday. "
   ]
  },
  {
   "cell_type": "code",
   "execution_count": 6,
   "metadata": {},
   "outputs": [],
   "source": [
    "def sunday(ingredient_target, list_shops, dict_shops):\n",
    "    '''\n",
    "    This function searchs if the target ingredient you are looking for is possible to buy it on sundays. \n",
    "    To achieve this, it will compare both the information of the shops and where X ingredient is found.\n",
    "    Parameters:\n",
    "    -ingredient_target = str with the target ingredient\n",
    "    -list_shops = list of tuples where you got the ingredient and where you can buy it\n",
    "    -dict_shops = dictionary that contains the information about payment methods and if opens or not on sundays\n",
    "    Return:\n",
    "    -list_available_sunday = list of str of where you can buy your desired ingredient on sundays\n",
    "    '''\n",
    "    list_available_sunday = []\n",
    "    list_general_availability = sold(ingredient_target, list_shops)\n",
    "    print(f'This shops sell {ingredient_target}: {list_general_availability}')\n",
    "    for shop in dict_shops:\n",
    "        shop_info = dict_shops.get(shop)\n",
    "        if shop_info and shop_info[0]:\n",
    "            list_available_sunday.append(shop)\n",
    "    return f'This shops open on sunday: {list_available_sunday}'\n",
    "    "
   ]
  },
  {
   "cell_type": "code",
   "execution_count": 7,
   "metadata": {},
   "outputs": [
    {
     "name": "stdout",
     "output_type": "stream",
     "text": [
      "This shops sell Eggs: ['Lidl', 'Casino', 'Epicerie']\n"
     ]
    },
    {
     "data": {
      "text/plain": [
       "\"This shops open on sunday: ['Casino', 'Epicerie']\""
      ]
     },
     "execution_count": 7,
     "metadata": {},
     "output_type": "execute_result"
    }
   ],
   "source": [
    "sunday('Eggs', sold_in, shops)"
   ]
  },
  {
   "cell_type": "markdown",
   "metadata": {},
   "source": [
    "### Question 2.4\n",
    "Define a function `convert` which turns a list of ingredients such as `contains` into a dictionary associating a recipy name with a list of ingredients. "
   ]
  },
  {
   "cell_type": "code",
   "execution_count": 8,
   "metadata": {},
   "outputs": [],
   "source": [
    "def unify_recipes(contains, recipes):\n",
    "    unified_dict = {}\n",
    "    \n",
    "    for dish, ingredient in contains:\n",
    "        if dish not in unified_dict:\n",
    "            unified_dict[dish] = {'recipe_information': recipes.get(dish, ()), 'ingredients': []}\n",
    "        unified_dict[dish]['ingredients'].append(ingredient)\n",
    "    \n",
    "    for dish, info in recipes.items():\n",
    "        if dish not in unified_dict:\n",
    "            unified_dict[dish] = {'recipe_information': info, 'ingredients': []}\n",
    "    \n",
    "    return unified_dict"
   ]
  },
  {
   "cell_type": "code",
   "execution_count": 9,
   "metadata": {},
   "outputs": [
    {
     "data": {
      "text/plain": [
       "{'Quiche': {'recipe_information': (20, 30, 3),\n",
       "  'ingredients': ['Potatoes', 'Eggs']},\n",
       " 'Roast meat and potatoes': {'recipe_information': (15, 45, 5),\n",
       "  'ingredients': ['Potatoes', 'Steak']},\n",
       " 'Banana bread': {'recipe_information': (15, 30, 6),\n",
       "  'ingredients': ['Banana', 'Eggs', 'Flour']}}"
      ]
     },
     "execution_count": 9,
     "metadata": {},
     "output_type": "execute_result"
    }
   ],
   "source": [
    "unify_recipes(contains, recipies)"
   ]
  },
  {
   "cell_type": "markdown",
   "metadata": {},
   "source": [
    "### Question 2.5\n",
    "Define a function `this_month` which computes the list of recipies which can be cooked on a given month."
   ]
  },
  {
   "cell_type": "code",
   "execution_count": 13,
   "metadata": {},
   "outputs": [],
   "source": [
    "# Helper function to convert the list of ingredients into a dictionary mapping each recipe to its full list of ingredients\n",
    "def convert(list_ingredients, dict_recipies):\n",
    "    recipe_ingredients = {}\n",
    "    for recipe, ingredient in list_ingredients:\n",
    "        if recipe in recipe_ingredients:\n",
    "            recipe_ingredients[recipe].add(ingredient)\n",
    "        else:\n",
    "            recipe_ingredients[recipe] = {ingredient}\n",
    "\n",
    "    for recipe in dict_recipies:\n",
    "        if recipe not in recipe_ingredients:\n",
    "            recipe_ingredients[recipe] = set()\n",
    "\n",
    "    return {recipe: list(ingredients) for recipe, ingredients in recipe_ingredients.items()}\n",
    "\n",
    "\n",
    "def available_recipes(target_month, list_ingredients, dict_recipies, ingredients_details):\n",
    "    '''\n",
    "    Provides a list of recipes that can be prepared in a given month based on the availability of their ingredients.\n",
    "    \n",
    "    Parameters:\n",
    "    - target_month (int): The month (1-12) when you want to prepare the recipe.\n",
    "    - list_ingredients (list of tuples): Associates a recipe with its ingredients. Each tuple contains the name of a recipe and an ingredient.\n",
    "    - dict_recipies (dict): A dictionary of recipes with further information. Each key is a string representing the name of the recipe, and each value is a tuple with times and complexity.\n",
    "    - ingredients_details (dict): A dictionary where keys are ingredient names and values are tuples indicating the range of months (start, end) when the ingredient is available.\n",
    "    \n",
    "    Returns:\n",
    "    - available_recipes (list of str): A list of recipes that can be prepared in the given month.\n",
    "    \n",
    "    This function first unifies the list of ingredients into a dictionary mapping each recipe to its full list of ingredients. It then checks the availability of each ingredient in the target month and compiles a list of recipes that can be prepared with the available ingredients.\n",
    "    '''\n",
    "    full_dict = convert(list_ingredients, dict_recipies)\n",
    "    available_recipes = []\n",
    "\n",
    "    for recipe, ingredients in full_dict.items():\n",
    "        if all(target_month >= ingredients_details.get(ingredient, (1, 12))[0] and target_month <= ingredients_details.get(ingredient, (1, 12))[1] for ingredient in ingredients):\n",
    "            available_recipes.append(recipe)\n",
    "\n",
    "    return available_recipes\n"
   ]
  },
  {
   "cell_type": "code",
   "execution_count": 18,
   "metadata": {},
   "outputs": [
    {
     "data": {
      "text/plain": [
       "['Quiche', 'Roast meat and potatoes']"
      ]
     },
     "execution_count": 18,
     "metadata": {},
     "output_type": "execute_result"
    }
   ],
   "source": [
    "available_recipes(5, contains, recipies, ingredients)"
   ]
  }
 ],
 "metadata": {
  "kernelspec": {
   "display_name": "Python 3",
   "language": "python",
   "name": "python3"
  },
  "language_info": {
   "codemirror_mode": {
    "name": "ipython",
    "version": 3
   },
   "file_extension": ".py",
   "mimetype": "text/x-python",
   "name": "python",
   "nbconvert_exporter": "python",
   "pygments_lexer": "ipython3",
   "version": "3.11.5"
  }
 },
 "nbformat": 4,
 "nbformat_minor": 2
}
