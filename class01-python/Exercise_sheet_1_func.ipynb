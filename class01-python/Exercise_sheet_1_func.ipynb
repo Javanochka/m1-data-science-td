{
 "cells": [
  {
   "cell_type": "markdown",
   "metadata": {},
   "source": [
    "# Exercise Sheet \\# 1"
   ]
  },
  {
   "cell_type": "markdown",
   "metadata": {},
   "source": [
    "## Exercise 1\n",
    "Let us consider a group of friends who organised a party together. Each one brought some food to the party. To make it fair, all these friends decided that they should spend equal money. Let us develop some python program to help them do the math.\n",
    "\n",
    "### Question 1.1\n",
    "As an example, consider these friends bought the following items (together with their total price):\n",
    "\n",
    "Emilie|Paul|Jacques|Eric\n",
    ":--|:--|:--|:--\n",
    "soda,3|juice,4|apples,3|bread,1\n",
    "camembert,5|chorizo,3|cookies,2|\n",
    "beaufort,6|spam,2|\n",
    "tomatoes,3|\n",
    "\n",
    "That is, Emilie spent 17 EUR, Paul 9 EUR, Jacques 5 EUR and Eric 1 EUR.\n",
    "\n",
    "How much money each of them would have paid if they had bought food together ? "
   ]
  },
  {
   "cell_type": "markdown",
   "metadata": {},
   "source": [
    "### Question 1.2\n",
    "Define 4 variables (`emilie`, `paul`, `jacques` and `eric`) containing the items each of them brought to the party.\n",
    "As a data structure for these variables, we will use a list of tuples."
   ]
  },
  {
   "cell_type": "code",
   "execution_count": 15,
   "metadata": {},
   "outputs": [],
   "source": [
    "emilie = [('soda', 3), ('camembert', 5), ('beaufort', 6), ('tomatoes', 3)]\n",
    "paul   = [('juice', 4), ('chorizo', 3), ('spam', 2)]\n",
    "jacques= [('apples', 3), ('cookies', 2)]\n",
    "eric   = [('bread', 1)]"
   ]
  },
  {
   "cell_type": "markdown",
   "metadata": {},
   "source": [
    "### Question 1.3\n",
    "Define a function `spent` which takes as an input a list of goods and returns their total price. "
   ]
  },
  {
   "cell_type": "code",
   "execution_count": 16,
   "metadata": {},
   "outputs": [
    {
     "data": {
      "text/plain": [
       "17"
      ]
     },
     "execution_count": 16,
     "metadata": {},
     "output_type": "execute_result"
    }
   ],
   "source": [
    "def spent(person):\n",
    "\n",
    "    res = 0\n",
    "    for tupl in person:\n",
    "        res = res + tupl[1]\n",
    "    return res\n",
    "spent(emilie)"
   ]
  },
  {
   "cell_type": "markdown",
   "metadata": {},
   "source": [
    "### Question 1.4\n",
    "What does `spent` returns when invoked with `paul` as a parameter ?"
   ]
  },
  {
   "cell_type": "code",
   "execution_count": 17,
   "metadata": {},
   "outputs": [
    {
     "data": {
      "text/plain": [
       "9"
      ]
     },
     "execution_count": 17,
     "metadata": {},
     "output_type": "execute_result"
    }
   ],
   "source": [
    "spent(paul)"
   ]
  },
  {
   "cell_type": "markdown",
   "metadata": {},
   "source": [
    "### Question 1.5\n",
    "Let us now define a variable `expenses` to encode all the expenses of the group. \n",
    "To do so, we will use a dictionary, which will associate each person (represented as a string) with her.his list of goods. "
   ]
  },
  {
   "cell_type": "code",
   "execution_count": 18,
   "metadata": {},
   "outputs": [
    {
     "name": "stdout",
     "output_type": "stream",
     "text": [
      "{'Emily': {'soda': 3, 'camembert': 5, 'beaufort': 6, 'tomatoes': 3}, 'Paul': {'juice': 4, 'chorizo': 3, 'spam': 2}, 'Jacques': {'apples': 3, 'cookies': 2}, 'Eric': {'bread': 1}}\n"
     ]
    }
   ],
   "source": [
    "expenses = {'Emily':{'soda':3, 'camembert': 5, 'beaufort': 6, 'tomatoes': 3},\n",
    "            'Paul':{'juice': 4, 'chorizo': 3, 'spam': 2},\n",
    "            'Jacques':{'apples': 3, 'cookies': 2},'Eric':{'bread':1}}\n",
    "print(expenses)"
   ]
  },
  {
   "cell_type": "markdown",
   "metadata": {},
   "source": [
    "### Question 1.6\n",
    "Define a function `total` which computes, from a dictionary of expenses, the total amount of money spent."
   ]
  },
  {
   "cell_type": "code",
   "execution_count": 19,
   "metadata": {},
   "outputs": [
    {
     "data": {
      "text/plain": [
       "32"
      ]
     },
     "execution_count": 19,
     "metadata": {},
     "output_type": "execute_result"
    }
   ],
   "source": [
    "def total(dexpenses):\n",
    "    res = 0\n",
    "    for k,v in expenses.items():\n",
    "        for n in v.keys():\n",
    "            res = res + v[n]\n",
    "    return res\n",
    "total(expenses)\n"
   ]
  },
  {
   "cell_type": "markdown",
   "metadata": {},
   "source": [
    "### Question 1.7\n",
    "What is the total amount of money spent by Emilie, Paul, Jacques and Eric ?"
   ]
  },
  {
   "cell_type": "code",
   "execution_count": null,
   "metadata": {},
   "outputs": [],
   "source": []
  },
  {
   "cell_type": "markdown",
   "metadata": {},
   "source": [
    "### Question 1.8\n",
    "Define a function `fair` which takes as an input a dictionary of expenses, and which returns a list of pairs _(person, money)_ indicating for each person, how much money she.he should pay (negative number) or receive (positive number)."
   ]
  },
  {
   "cell_type": "code",
   "execution_count": 20,
   "metadata": {},
   "outputs": [],
   "source": [
    "def fair(dexpenses):\n",
    "    result = []\n",
    "    total_money = total(dexpenses)\n",
    "    number_of_people = len(dexpenses)\n",
    "    fair_share = total_money / number_of_people\n",
    "    \n",
    "    for person, goods in dexpenses.items():\n",
    "        person_total = sum(goods.values())\n",
    "        result.append((person, person_total - fair_share))\n",
    "    return result"
   ]
  },
  {
   "cell_type": "markdown",
   "metadata": {},
   "source": [
    "### Question 1.9\n",
    "What does `fair` returns when invoked with `expenses` as an input parameter ?"
   ]
  },
  {
   "cell_type": "code",
   "execution_count": 21,
   "metadata": {},
   "outputs": [
    {
     "name": "stdout",
     "output_type": "stream",
     "text": [
      "[('Emily', 9.0), ('Paul', 1.0), ('Jacques', -3.0), ('Eric', -7.0)]\n"
     ]
    }
   ],
   "source": [
    "fair_expenses = fair(expenses)\n",
    "print(fair_expenses)"
   ]
  },
  {
   "cell_type": "markdown",
   "metadata": {},
   "source": [
    "## Exercise 2\n",
    "Let us consider recipies made of ingredients, which are sold in some shops. Recipies are python dictionary associating a recipy name with a preparation time, a cooking time and a difficulty score. Ingredients is a dictionary associating a name with a season (that is, when can these be found, for instance from May/5 til July/7). Shops finally is a dictionary associating a shop name with two booleans: one for indicating whether the shop is open on Sundays and one whether the shop only accepts cash.\n",
    "![diagram](https://mastertal.gitlab.io/UE803/notebooks/images/recipy.png)\n",
    "\n",
    "Examples of recipies include:\n",
    "<pre>recipies = { 'Kouglof' : (20, 20, 5), 'Banana Split' : (5, 0, 1), ... }</pre>\n",
    "Examples of ingredients include:\n",
    "<pre>ingredients = { 'strawberry' : (5, 7), 'flour' : (1, 12), ...}</pre>\n",
    "Examples of shops include:\n",
    "<pre>shops = { 'BuyOrganic' : (False , False), ...}</pre>\n",
    "The relations between a recipy and its ingredients are represented as follows:\n",
    "<pre>contains = [('Kouglof', 'flour'), ('Kouglof', 'sugar'), ...]</pre>\n",
    "and that between ingredients and shops:\n",
    "<pre> sold_in = [('flour', 'BuyOrganic'), ...]</pre>\n",
    "In the following questions, you are asked to define functions and to test them.\n",
    "\n",
    "To do so, define a dictionary containing 3 recipies, each one using 5 ingredients of your choices (they do not have to be real recipies :-) and make up 3 shops selling these ingredients."
   ]
  },
  {
   "cell_type": "code",
   "execution_count": 22,
   "metadata": {},
   "outputs": [],
   "source": [
    "data = {\n",
    "    'recipes': {\n",
    "        'Kouglof': {\n",
    "            \n",
    "            'ingredients': ['flour', 'sugar', 'strawberry', 'salt', 'ice cream']\n",
    "        },\n",
    "        'Banana Split': {\n",
    "            \n",
    "            'ingredients': ['ice cream', 'strawberry', 'sugar', 'flour', 'salt']\n",
    "        },\n",
    "        'Pancakes': {\n",
    "            \n",
    "            'ingredients': ['flour', 'sugar', 'salt', 'strawberry', 'ice cream']\n",
    "        }\n",
    "    },\n",
    "    'ingredients': {\n",
    "        'strawberry': {'season': (5, 7)},\n",
    "        'flour': {'season': (1, 12)},\n",
    "        'sugar': {'season': (1, 12)},\n",
    "        'salt': {'season': (1, 12)},\n",
    "        'ice cream': {'season': (1, 12)}\n",
    "    },\n",
    "    'shops': {\n",
    "        'BuyOrganic': {\n",
    "            'openSunday': False,\n",
    "            'cashOnly': False,\n",
    "            'sells': ['flour', 'sugar']\n",
    "        },\n",
    "        'FreshMarket': {\n",
    "            'openSunday': True,\n",
    "            'cashOnly': False,\n",
    "            'sells': ['strawberry', 'ice cream']\n",
    "        },\n",
    "        'SeasonsGrocery': {\n",
    "            'openSunday': True,\n",
    "            'cashOnly': True,\n",
    "            'sells': ['salt']\n",
    "        }\n",
    "    }\n",
    "}\n",
    "\n"
   ]
  },
  {
   "cell_type": "markdown",
   "metadata": {},
   "source": [
    "### Question 2.1\n",
    "Define a function `in_recipy` which computes the list of recipies containing a given ingredient."
   ]
  },
  {
   "cell_type": "code",
   "execution_count": 23,
   "metadata": {},
   "outputs": [
    {
     "data": {
      "text/plain": [
       "['Kouglof', 'Banana Split', 'Pancakes']"
      ]
     },
     "execution_count": 23,
     "metadata": {},
     "output_type": "execute_result"
    }
   ],
   "source": [
    "def in_recipy(ingredient, data):\n",
    "    recipes_with_ingredient = []\n",
    "    for recipe_name, recipe_details in data['recipes'].items():\n",
    "        if ingredient in recipe_details['ingredients']:\n",
    "            recipes_with_ingredient.append(recipe_name)\n",
    "    return recipes_with_ingredient\n",
    "\n",
    "recipes_containing_sugar = in_recipy('sugar', data)\n",
    "recipes_containing_sugar"
   ]
  },
  {
   "cell_type": "markdown",
   "metadata": {},
   "source": [
    "### Question 2.2\n",
    "Define a function `sold` which computes the list of shops where a given ingredient can be bought."
   ]
  },
  {
   "cell_type": "code",
   "execution_count": 24,
   "metadata": {},
   "outputs": [
    {
     "name": "stdout",
     "output_type": "stream",
     "text": [
      "['BuyOrganic']\n"
     ]
    }
   ],
   "source": [
    "def sold(ingredient, data):\n",
    "    shops_selling_ingredient = []\n",
    "    for shop_name, shop_details in data['shops'].items():\n",
    "        if ingredient in shop_details['sells']:\n",
    "            shops_selling_ingredient.append(shop_name)\n",
    "    return shops_selling_ingredient\n",
    "    \n",
    "shops_selling_sugar = sold('sugar', data)\n",
    "print(shops_selling_sugar)"
   ]
  },
  {
   "cell_type": "markdown",
   "metadata": {},
   "source": [
    "### Question 2.3\n",
    "Define a function `sunday` which computes the list of ingredients which can be bought on a sunday. "
   ]
  },
  {
   "cell_type": "code",
   "execution_count": 25,
   "metadata": {},
   "outputs": [
    {
     "data": {
      "text/plain": [
       "['ice cream', 'salt', 'strawberry']"
      ]
     },
     "execution_count": 25,
     "metadata": {},
     "output_type": "execute_result"
    }
   ],
   "source": [
    "def sunday(data):\n",
    "    sunday_ingredients = set()\n",
    "    for shop, details in data['shops'].items():\n",
    "        if details['openSunday']:\n",
    "            for ingredient in details['sells']:\n",
    "                sunday_ingredients.add(ingredient)\n",
    "    return list(sunday_ingredients)\n",
    "\n",
    "sunday(data)\n"
   ]
  },
  {
   "cell_type": "markdown",
   "metadata": {},
   "source": [
    "### Question 2.4\n",
    "Define a function `convert` which turns a list of ingredients such as `contains` into a dictionary associating a recipy name with a list of ingredients. "
   ]
  },
  {
   "cell_type": "code",
   "execution_count": 26,
   "metadata": {},
   "outputs": [],
   "source": [
    "def convert(data, contains):\n",
    "    result = {}\n",
    "    for recipe_name, details in data['recipes'].items():\n",
    "        # Check if any ingredient in 'contains' is in the recipe's ingredients\n",
    "        if any(ingredient in details['ingredients'] for ingredient in contains):\n",
    "            # If so, add the recipe name and its ingredients to the result dictionary\n",
    "            result[recipe_name] = details['ingredients']\n",
    "    return result\n",
    "\n",
    "# Example usage of the function with a list of ingredients\n",
    "contains = ['strawberry', 'salt']\n",
    "converted_data = convert(data, contains)"
   ]
  },
  {
   "cell_type": "markdown",
   "metadata": {},
   "source": [
    "### Question 2.5\n",
    "Define a function `this_month` which computes the list of recipies which can be cooked on a given month."
   ]
  },
  {
   "cell_type": "code",
   "execution_count": 28,
   "metadata": {},
   "outputs": [],
   "source": [
    "def this_month(data, month):\n",
    "    result = [] \n",
    "    for recipe_name, recipe_details in data['recipes'].items(): \n",
    "        can_cook = True  \n",
    "        for ingredient in recipe_details['ingredients']: \n",
    "            ingredient_season = data['ingredients'][ingredient]['season']  \n",
    "            if month < ingredient_season[0] or month > ingredient_season[1]:  \n",
    "                can_cook = False  \n",
    "                break  \n",
    "        if can_cook:  \n",
    "            result.append(recipe_name)  \n",
    "    return result\n",
    "\n",
    "\n",
    "\n"
   ]
  },
  {
   "cell_type": "code",
   "execution_count": null,
   "metadata": {},
   "outputs": [],
   "source": []
  }
 ],
 "metadata": {
  "kernelspec": {
   "display_name": "Python 3 (ipykernel)",
   "language": "python",
   "name": "python3"
  },
  "language_info": {
   "codemirror_mode": {
    "name": "ipython",
    "version": 3
   },
   "file_extension": ".py",
   "mimetype": "text/x-python",
   "name": "python",
   "nbconvert_exporter": "python",
   "pygments_lexer": "ipython3",
   "version": "3.10.6"
  }
 },
 "nbformat": 4,
 "nbformat_minor": 4
}
