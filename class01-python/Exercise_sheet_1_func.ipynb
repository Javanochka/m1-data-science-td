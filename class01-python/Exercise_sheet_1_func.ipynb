{
 "cells": [
  {
   "cell_type": "markdown",
   "metadata": {},
   "source": [
    "# Exercise Sheet \\# 1"
   ]
  },
  {
   "cell_type": "markdown",
   "metadata": {},
   "source": [
    "## Exercise 1\n",
    "Let us consider a group of friends who organised a party together. Each one brought some food to the party. To make it fair, all these friends decided that they should spend equal money. Let us develop some python program to help them do the math.\n",
    "\n",
    "### Question 1.1\n",
    "As an example, consider these friends bought the following items (together with their total price):\n",
    "\n",
    "Emilie|Paul|Jacques|Eric\n",
    ":--|:--|:--|:--\n",
    "soda,3|juice,4|apples,3|bread,1\n",
    "camembert,5|chorizo,3|cookies,2|\n",
    "beaufort,6|spam,2|\n",
    "tomatoes,3|\n",
    "\n",
    "That is, Emilie spent 17 EUR, Paul 9 EUR, Jacques 5 EUR and Eric 1 EUR.\n",
    "\n",
    "How much money each of them would have paid if they had bought food together ? "
   ]
  },
  {
   "cell_type": "markdown",
   "metadata": {},
   "source": [
    "### Question 1.2\n",
    "Define 4 variables (`emilie`, `paul`, `jacques` and `eric`) containing the items each of them brought to the party.\n",
    "As a data structure for these variables, we will use a list of tuples."
   ]
  },
  {
   "cell_type": "code",
   "execution_count": 3,
   "metadata": {},
   "outputs": [],
   "source": [
    "emilie = [('soda', 3), ('camembert', 5), ('beaufort', 6), ('tomatoes', 3)]\n",
    "paul   = [('juice', 4), ('chorizo', 3), ('spam', 2)]\n",
    "jacques= [('apples', 3), ('cookies', 2)]\n",
    "eric   = [('bread', 1)]"
   ]
  },
  {
   "cell_type": "markdown",
   "metadata": {},
   "source": [
    "### Question 1.3\n",
    "Define a function `spent` which takes as an input a list of goods and returns their total price. "
   ]
  },
  {
   "cell_type": "code",
   "execution_count": 1,
   "metadata": {},
   "outputs": [],
   "source": [
    "def spent(goods):\n",
    "    return sum(g[1] for g in goods)"
   ]
  },
  {
   "cell_type": "markdown",
   "metadata": {},
   "source": [
    "### Question 1.4\n",
    "What does `spent` returns when invoked with `paul` as a parameter ?"
   ]
  },
  {
   "cell_type": "code",
   "execution_count": 4,
   "metadata": {},
   "outputs": [
    {
     "name": "stdout",
     "output_type": "stream",
     "text": [
      "9\n"
     ]
    }
   ],
   "source": [
    "print(spent(paul))"
   ]
  },
  {
   "cell_type": "markdown",
   "metadata": {},
   "source": [
    "### Question 1.5\n",
    "Let us now define a variable `expenses` to encode all the expenses of the group. \n",
    "To do so, we will use a dictionary, which will associate each person (represented as a string) with her.his list of goods. "
   ]
  },
  {
   "cell_type": "code",
   "execution_count": 5,
   "metadata": {},
   "outputs": [
    {
     "name": "stdout",
     "output_type": "stream",
     "text": [
      "[('soda', 3), ('camembert', 5), ('beaufort', 6), ('tomatoes', 3)]\n"
     ]
    }
   ],
   "source": [
    "expenses={\"Emilie\":emilie, \"Paul\":paul, \"Jacques\":jacques, \"Eric\":eric}\n",
    "print(expenses[\"Emilie\"])"
   ]
  },
  {
   "cell_type": "markdown",
   "metadata": {},
   "source": [
    "### Question 1.6\n",
    "Define a function `total` which computes, from a dictionary of expenses, the total amount of money spent."
   ]
  },
  {
   "cell_type": "code",
   "execution_count": 6,
   "metadata": {},
   "outputs": [],
   "source": [
    "def total(expenses):\n",
    "    return sum(spent(e) for e in list(expenses.values()))"
   ]
  },
  {
   "cell_type": "markdown",
   "metadata": {},
   "source": [
    "### Question 1.7\n",
    "What is the total amount of money spent by Emilie, Paul, Jacques and Eric ?"
   ]
  },
  {
   "cell_type": "code",
   "execution_count": 7,
   "metadata": {},
   "outputs": [
    {
     "name": "stdout",
     "output_type": "stream",
     "text": [
      "32\n"
     ]
    }
   ],
   "source": [
    "print(total(expenses))"
   ]
  },
  {
   "cell_type": "markdown",
   "metadata": {},
   "source": [
    "### Question 1.8\n",
    "Define a function `fair` which takes as an input a dictionary of expenses, and which returns a list of pairs _(person, money)_ indicating for each person, how much money she.he should pay (negative number) or receive (positive number)."
   ]
  },
  {
   "cell_type": "code",
   "execution_count": 8,
   "metadata": {},
   "outputs": [],
   "source": [
    "def fair(expenses):\n",
    "    average = total(expenses)/len(expenses)\n",
    "    return [(person, spent(goods)-average) for person,goods in expenses.items()]"
   ]
  },
  {
   "cell_type": "markdown",
   "metadata": {},
   "source": [
    "### Question 1.9\n",
    "What does `fair` returns when invoked with `expenses` as an input parameter ?"
   ]
  },
  {
   "cell_type": "code",
   "execution_count": 9,
   "metadata": {},
   "outputs": [
    {
     "name": "stdout",
     "output_type": "stream",
     "text": [
      "[('Emilie', 9.0), ('Paul', 1.0), ('Jacques', -3.0), ('Eric', -7.0)]\n"
     ]
    }
   ],
   "source": [
    "print(fair(expenses))"
   ]
  },
  {
   "cell_type": "markdown",
   "metadata": {},
   "source": [
    "## Exercise 2\n",
    "Let us consider recipies made of ingredients, which are sold in some shops. Recipies are python dictionary associating a recipy name with a preparation time, a cooking time and a difficulty score. Ingredients is a dictionary associating a name with a season (that is, when can these be found, for instance from May/5 til July/7). Shops finally is a dictionary associating a shop name with two booleans: one for indicating whether the shop is open on Sundays and one whether the shop only accepts cash.\n",
    "![diagram](https://mastertal.gitlab.io/UE803/notebooks/images/recipy.png)\n",
    "\n",
    "Examples of recipies include:\n",
    "<pre>recipies = { 'Kouglof' : (20, 20, 5), 'Banana Split' : (5, 0, 1), ... }</pre>\n",
    "Examples of ingredients include:\n",
    "<pre>ingredients = { 'strawberry' : (5, 7), 'flour' : (1, 12), ...}</pre>\n",
    "Examples of shops include:\n",
    "<pre>shops = { 'BuyOrganic' : (False , False), ...}</pre>\n",
    "The relations between a recipy and its ingredients are represented as follows:\n",
    "<pre>contains = [('Kouglof', 'flour'), ('Kouglof', 'sugar'), ...]</pre>\n",
    "and that between ingredients and shops:\n",
    "<pre> sold_in = [('flour', 'BuyOrganic'), ...]</pre>\n",
    "In the following questions, you are asked to define functions and to test them.\n",
    "\n",
    "To do so, define a dictionary containing 3 recipies, each one using 5 ingredients of your choices (they do not have to be real recipies :-) and make up 3 shops selling these ingredients."
   ]
  },
  {
   "cell_type": "code",
   "execution_count": 10,
   "metadata": {},
   "outputs": [],
   "source": [
    "recipes = {'Pesto tart' : (5,30,1), 'Lazy student pasta' : (5,10,1), 'Cantonese rice' : (15,10,1)}\n",
    "\n",
    "ingredients = {'pesto' : (5,8), 'tomato' : (5,9), 'mozarella' : (4,7), 'dough' : (1,12), 'olive oil' : (1,12),\n",
    "              'mushrooms': (10,11), 'ricotta' : (2,6), 'cherry tomato' : (7,9), 'onions' : (4,9), 'pasta' : (1,12),\n",
    "              'carrots' : (7,10), 'peas' : (4,7), 'corn' : (7,8), 'soy sauce' : (1,12), 'rice' : (9,10)}\n",
    "\n",
    "shops = {\"Vegans'n'roses\" : (False, True), \"Thai Tanic\" : (True,True), \"Dalida kupim\" : (True,False)}\n",
    "\n",
    "contains = [('Pesto tart','pesto'),('Pesto tart','tomato'),('Pesto tart','mozarella'),('Pesto tart','dough'),('Pesto tart','olive oil'),\n",
    "            ('Lazy student pasta','mushrooms'),('Lazy student pasta','ricotta'),('Lazy student pasta','tomato'),('Lazy student pasta','onions'),('Lazy student pasta','pasta'),\n",
    "            ('Cantonese rice','carrots'),('Cantonese rice','peas'),('Cantonese rice','corn'),('Cantonese rice','soy sauce'),('Cantonese rice','rice')]\n",
    "\n",
    "sold_in = [('pesto','Dalida kupim'),('tomato',\"Vegans'n'roses\"),('mozarella','Dalida kupim'),('dough','Dalida kupim'),('olive oil','Dalida kupim'),\n",
    "           ('mushrooms',\"Vegans'n'roses\"),('ricotta','Dalida kupim'),('onions',\"Vegans'n'roses\"),('pasta','Dalida kupim'),\n",
    "           ('carrots',\"Vegans'n'roses\"),('peas',\"Vegans'n'roses\"),('corn',\"Vegans'n'roses\"),('soy sauce','Thai Tanic'),('rice','Thai Tanic')]          "
   ]
  },
  {
   "cell_type": "markdown",
   "metadata": {},
   "source": [
    "### Question 2.1\n",
    "Define a function `in_recipy` which computes the list of recipies containing a given ingredient."
   ]
  },
  {
   "cell_type": "code",
   "execution_count": 11,
   "metadata": {},
   "outputs": [
    {
     "name": "stdout",
     "output_type": "stream",
     "text": [
      "['Cantonese rice']\n",
      "['Pesto tart', 'Lazy student pasta']\n"
     ]
    }
   ],
   "source": [
    "def in_recipe(ingredient):\n",
    "    return [c[0] for c in contains  if c[1]==ingredient]\n",
    "\n",
    "print(in_recipe('rice'))\n",
    "print(in_recipe('tomato'))"
   ]
  },
  {
   "cell_type": "markdown",
   "metadata": {},
   "source": [
    "### Question 2.2\n",
    "Define a function `sold` which computes the list of shops where a given ingredient can be bought."
   ]
  },
  {
   "cell_type": "code",
   "execution_count": 12,
   "metadata": {},
   "outputs": [
    {
     "name": "stdout",
     "output_type": "stream",
     "text": [
      "['Dalida kupim']\n",
      "['Thai Tanic']\n"
     ]
    }
   ],
   "source": [
    "def sold(ingredient):\n",
    "    return [s[1] for s in sold_in if s[0]==ingredient]\n",
    "\n",
    "print(sold('ricotta'))\n",
    "print(sold('soy sauce'))"
   ]
  },
  {
   "cell_type": "markdown",
   "metadata": {},
   "source": [
    "### Question 2.3\n",
    "Define a function `sunday` which computes the list of ingredients which can be bought on a sunday. "
   ]
  },
  {
   "cell_type": "code",
   "execution_count": 13,
   "metadata": {},
   "outputs": [
    {
     "name": "stdout",
     "output_type": "stream",
     "text": [
      "['pesto', 'mozarella', 'dough', 'olive oil', 'ricotta', 'pasta', 'soy sauce', 'rice']\n"
     ]
    }
   ],
   "source": [
    "def sunday():\n",
    "    return [ingredient for (ingredient,shop) in sold_in if shops[shop][0]]\n",
    "\n",
    "print(sunday())"
   ]
  },
  {
   "cell_type": "markdown",
   "metadata": {},
   "source": [
    "### Question 2.4\n",
    "Define a function `convert` which turns a list of ingredients such as `contains` into a dictionary associating a recipy name with a list of ingredients. "
   ]
  },
  {
   "cell_type": "code",
   "execution_count": 14,
   "metadata": {},
   "outputs": [
    {
     "name": "stdout",
     "output_type": "stream",
     "text": [
      "{'Pesto tart': ['pesto', 'tomato', 'mozarella', 'dough', 'olive oil'], 'Lazy student pasta': ['mushrooms', 'ricotta', 'tomato', 'onions', 'pasta'], 'Cantonese rice': ['carrots', 'peas', 'corn', 'soy sauce', 'rice']}\n"
     ]
    }
   ],
   "source": [
    "def convert():\n",
    "    return {recipe: [c[1] for c in contains if c[0] == recipe] for recipe in recipes}\n",
    "\n",
    "print(convert())"
   ]
  },
  {
   "cell_type": "markdown",
   "metadata": {},
   "source": [
    "### Question 2.5\n",
    "Define a function `this_month` which computes the list of recipies which can be cooked on a given month."
   ]
  },
  {
   "cell_type": "code",
   "execution_count": 15,
   "metadata": {},
   "outputs": [
    {
     "name": "stdout",
     "output_type": "stream",
     "text": [
      "['pesto', 'tomato', 'mozarella', 'dough', 'olive oil', 'ricotta', 'onions', 'pasta', 'peas', 'soy sauce']\n",
      "['pesto', 'tomato', 'mozarella', 'dough', 'olive oil', 'cherry tomato', 'onions', 'pasta', 'carrots', 'peas', 'corn', 'soy sauce']\n"
     ]
    }
   ],
   "source": [
    "def this_month(month):\n",
    "    return [ingredient for ingredient,period in ingredients.items() if (month>=period[0] and month<=period[1])]\n",
    "\n",
    "print(this_month(5))\n",
    "print(this_month(7))"
   ]
  },
  {
   "cell_type": "code",
   "execution_count": null,
   "metadata": {},
   "outputs": [],
   "source": []
  }
 ],
 "metadata": {
  "kernelspec": {
   "display_name": "Python 3 (ipykernel)",
   "language": "python",
   "name": "python3"
  },
  "language_info": {
   "codemirror_mode": {
    "name": "ipython",
    "version": 3
   },
   "file_extension": ".py",
   "mimetype": "text/x-python",
   "name": "python",
   "nbconvert_exporter": "python",
   "pygments_lexer": "ipython3",
   "version": "3.10.12"
  }
 },
 "nbformat": 4,
 "nbformat_minor": 4
}
