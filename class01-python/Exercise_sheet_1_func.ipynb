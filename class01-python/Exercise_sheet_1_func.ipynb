{
 "cells": [
  {
   "cell_type": "markdown",
   "metadata": {},
   "source": [
    "# Exercise Sheet \\# 1"
   ]
  },
  {
   "cell_type": "markdown",
   "metadata": {},
   "source": [
    "## Exercise 1\n",
    "Let us consider a group of friends who organised a party together. Each one brought some food to the party. To make it fair, all these friends decided that they should spend equal money. Let us develop some python program to help them do the math.\n",
    "\n",
    "### Question 1.1\n",
    "As an example, consider these friends bought the following items (together with their total price):\n",
    "\n",
    "Emilie|Paul|Jacques|Eric\n",
    ":--|:--|:--|:--\n",
    "soda,3|juice,4|apples,3|bread,1\n",
    "camembert,5|chorizo,3|cookies,2|\n",
    "beaufort,6|spam,2|\n",
    "tomatoes,3|\n",
    "\n",
    "That is, Emilie spent 17 EUR, Paul 9 EUR, Jacques 5 EUR and Eric 1 EUR.\n",
    "\n",
    "How much money each of them would have paid if they had bought food together ? "
   ]
  },
  {
   "cell_type": "markdown",
   "metadata": {},
   "source": [
    "### Question 1.2\n",
    "Define 4 variables (`emilie`, `paul`, `jacques` and `eric`) containing the items each of them brought to the party.\n",
    "As a data structure for these variables, we will use a list of tuples."
   ]
  },
  {
   "cell_type": "code",
   "execution_count": 45,
   "metadata": {},
   "outputs": [],
   "source": [
    "emilie = [('soda', 3), ('camembert', 5), ('beaufort', 6), ('tomatoes', 3)]\n",
    "paul   = [('juice', 4), ('chorizo', 3), ('spam', 2)]\n",
    "jacques= [('apples', 3), ('cookies', 2)]\n",
    "eric   = [('bread', 1)]"
   ]
  },
  {
   "cell_type": "markdown",
   "metadata": {},
   "source": [
    "### Question 1.3\n",
    "Define a function `spent` which takes as an input a list of goods and returns their total price. "
   ]
  },
  {
   "cell_type": "code",
   "execution_count": 46,
   "metadata": {},
   "outputs": [],
   "source": [
    "def spent(l):\n",
    "    total = 0\n",
    "    for (good, price) in l:\n",
    "        total += price\n",
    "    return total"
   ]
  },
  {
   "cell_type": "markdown",
   "metadata": {},
   "source": [
    "### Question 1.4\n",
    "What does `spent` returns when invoked with `paul` as a parameter ?"
   ]
  },
  {
   "cell_type": "code",
   "execution_count": 47,
   "metadata": {},
   "outputs": [
    {
     "data": {
      "text/plain": [
       "9"
      ]
     },
     "execution_count": 47,
     "metadata": {},
     "output_type": "execute_result"
    }
   ],
   "source": [
    "spent(paul)"
   ]
  },
  {
   "cell_type": "markdown",
   "metadata": {},
   "source": [
    "### Question 1.5\n",
    "Let us now define a variable `expenses` to encode all the expenses of the group. \n",
    "To do so, we will use a dictionary, which will associate each person (represented as a string) with her.his list of goods. "
   ]
  },
  {
   "cell_type": "code",
   "execution_count": 48,
   "metadata": {},
   "outputs": [],
   "source": [
    "expenses = {\"emilie\":emilie,\"paul\":paul,\"jacques\":jacques,\"eric\":eric}"
   ]
  },
  {
   "cell_type": "markdown",
   "metadata": {},
   "source": [
    "### Question 1.6\n",
    "Define a function `total` which computes, from a dictionary of expenses, the total amount of money spent."
   ]
  },
  {
   "cell_type": "code",
   "execution_count": 49,
   "metadata": {},
   "outputs": [],
   "source": [
    "def total(d):\n",
    "    total = 0\n",
    "    for _,expenses in d.items():\n",
    "        for _,price in expenses:\n",
    "            total += price\n",
    "    return total"
   ]
  },
  {
   "cell_type": "markdown",
   "metadata": {},
   "source": [
    "### Question 1.7\n",
    "What is the total amount of money spent by Emilie, Paul, Jacques and Eric ?"
   ]
  },
  {
   "cell_type": "code",
   "execution_count": 50,
   "metadata": {},
   "outputs": [
    {
     "data": {
      "text/plain": [
       "32"
      ]
     },
     "execution_count": 50,
     "metadata": {},
     "output_type": "execute_result"
    }
   ],
   "source": [
    "total(expenses)"
   ]
  },
  {
   "cell_type": "markdown",
   "metadata": {},
   "source": [
    "### Question 1.8\n",
    "Define a function `fair` which takes as an input a dictionary of expenses, and which returns a list of pairs _(person, money)_ indicating for each person, how much money she.he should pay (negative number) or receive (positive number)."
   ]
  },
  {
   "cell_type": "code",
   "execution_count": 51,
   "metadata": {},
   "outputs": [],
   "source": [
    "def fair(d):\n",
    "    expected = total(d) / len(d.keys())\n",
    "    l = []\n",
    "    for person in d.keys():\n",
    "        due = spent(d[person]) - expected\n",
    "        l.append((person,due))\n",
    "    return l"
   ]
  },
  {
   "cell_type": "markdown",
   "metadata": {},
   "source": [
    "### Question 1.9\n",
    "What does `fair` returns when invoked with `expenses` as an input parameter ?"
   ]
  },
  {
   "cell_type": "code",
   "execution_count": 52,
   "metadata": {},
   "outputs": [
    {
     "data": {
      "text/plain": [
       "[('emilie', 9.0), ('paul', 1.0), ('jacques', -3.0), ('eric', -7.0)]"
      ]
     },
     "execution_count": 52,
     "metadata": {},
     "output_type": "execute_result"
    }
   ],
   "source": [
    "fair(expenses)"
   ]
  },
  {
   "cell_type": "markdown",
   "metadata": {},
   "source": [
    "## Exercise 2\n",
    "Let us consider recipies made of ingredients, which are sold in some shops. Recipies are python dictionary associating a recipy name with a preparation time, a cooking time and a difficulty score. Ingredients is a dictionary associating a name with a season (that is, when can these be found, for instance from May/5 til July/7). Shops finally is a dictionary associating a shop name with two booleans: one for indicating whether the shop is open on Sundays and one whether the shop only accepts cash.\n",
    "![diagram](https://mastertal.gitlab.io/UE803/notebooks/images/recipy.png)\n",
    "\n",
    "Examples of recipies include:\n",
    "<pre>recipies = { 'Kouglof' : (20, 20, 5), 'Banana Split' : (5, 0, 1), ... }</pre>\n",
    "Examples of ingredients include:\n",
    "<pre>ingredients = { 'strawberry' : (5, 7), 'flour' : (1, 12), ...}</pre>\n",
    "Examples of shops include:\n",
    "<pre>shops = { 'BuyOrganic' : (False , False), ...}</pre>\n",
    "The relations between a recipy and its ingredients are represented as follows:\n",
    "<pre>contains = [('Kouglof', 'flour'), ('Kouglof', 'sugar'), ...]</pre>\n",
    "and that between ingredients and shops:\n",
    "<pre> sold_in = [('flour', 'BuyOrganic'), ...]</pre>\n",
    "In the following questions, you are asked to define functions and to test them.\n",
    "\n",
    "To do so, define a dictionary containing 3 recipies, each one using 5 ingredients of your choices (they do not have to be real recipies :-) and make up 3 shops selling these ingredients."
   ]
  },
  {
   "cell_type": "code",
   "execution_count": 53,
   "metadata": {},
   "outputs": [],
   "source": [
    "recipies    = {\"Onigiri\": (5,5,3), \"Pasta\":(0,9,2),\"Tuna\":(3,0,0)}\n",
    "ingredients = {\"rice\":(1,12),\"salmon\":(6,9),\"aneth\":(4,10),\"nori\":(1,12), \"cream\":(1,12),\"coquillettes\":(1,12),\"chorizo\":(1,12),\"mushrooms\":(9,5),\"origan\":(4,10),\"tuna\":(4,12),\"mayonnaise\":(1,12),\"corn\":(4,8),\"spice\":(1,12)},\n",
    "shops       = {\"Poissonnerie\":(True,False),\"Baba\":(True,True),\"Asia\":(False,True)}\n",
    "contains    = [(\"Onigiri\",\"rice\"),(\"Onigiri\",\"salmon\"),(\"Onigiri\",\"aneth\"),(\"Onigiri\",\"nori\"),(\"Onigiri\",\"cream\"),(\"Pasta\",\"coquillettes\"),(\"Pasta\",\"chorizo\"),(\"Pasta\",\"cream\"),(\"Pasta\",\"mushrooms\"),(\"Pasta\",\"origan\"),(\"Tuna\",\"tuna\"),(\"Tuna\",\"aneth\"),(\"Tuna\",\"mayonnaise\"),(\"Tuna\",\"corn\"),(\"Tuna\",\"spice\")]\n",
    "sold_in     = [(\"rice\", \"Baba\"), (\"salmon\",\"Poissonnerie\"),(\"aneth\",\"Baba\"),(\"nori\",\"Asia\"),(\"cream\",\"Baba\"),(\"coquillettes\",\"Baba\"),(\"chorizo\",\"Baba\"),(\"mushrooms\",\"Asia\"),(\"origan\",\"Baba\"),(\"tuna\",\"Poissonnerie\"),(\"mayonnaise\",\"Baba\"),(\"corn\",\"Baba\"),(\"spice\",\"Asia\")]"
   ]
  },
  {
   "cell_type": "markdown",
   "metadata": {},
   "source": [
    "### Question 2.1\n",
    "Define a function `in_recipy` which computes the list of recipies containing a given ingredient."
   ]
  },
  {
   "cell_type": "code",
   "execution_count": 54,
   "metadata": {},
   "outputs": [],
   "source": [
    "def in_recipy(contents,x):\n",
    "    l = []\n",
    "    for r_name, i_name in contents:\n",
    "        if x == i_name:\n",
    "            l.append(r_name)\n",
    "    return l"
   ]
  },
  {
   "cell_type": "markdown",
   "metadata": {},
   "source": [
    "### Question 2.2\n",
    "Define a function `sold` which computes the list of shops where a given ingredient can be bought."
   ]
  },
  {
   "cell_type": "code",
   "execution_count": 55,
   "metadata": {},
   "outputs": [],
   "source": [
    "def sold(what_list,x):\n",
    "    l = []\n",
    "    for i_name,s_name in what_list:\n",
    "        if i_name == x:\n",
    "            l.append(s_name)\n",
    "    return l"
   ]
  },
  {
   "cell_type": "markdown",
   "metadata": {},
   "source": [
    "### Question 2.3\n",
    "Define a function `sunday` which computes the list of ingredients which can be bought on a sunday. "
   ]
  },
  {
   "cell_type": "code",
   "execution_count": 56,
   "metadata": {},
   "outputs": [],
   "source": [
    "def sunday(d_shops,what_list):\n",
    "    l_ingredients = []\n",
    "    for shop in d_shop:\n",
    "        if d_shops[shop][0]:\n",
    "            for i_name, s_name in what_list:\n",
    "                if s_name == shop:\n",
    "                    l_ingredients.append(i_name)\n",
    "    return l_ingredients #beware of duplicate ingredients !"
   ]
  },
  {
   "cell_type": "markdown",
   "metadata": {},
   "source": [
    "### Question 2.4\n",
    "Define a function `convert` which turns a list of ingredients such as `contains` into a dictionary associating a recipy name with a list of ingredients. "
   ]
  },
  {
   "cell_type": "code",
   "execution_count": 57,
   "metadata": {},
   "outputs": [],
   "source": [
    "def convert(contains_relations):\n",
    "    output_dictionary = {}\n",
    "    for recipy, recipy_ingredient in contains_relations:\n",
    "        if recipy not in output_dictionary:\n",
    "            output_dictionary[recipy] = []\n",
    "        output_dictionary[recipy].append(recipy_ingredient)\n",
    "\n",
    "    return output_dictionary"
   ]
  },
  {
   "cell_type": "code",
   "execution_count": 58,
   "metadata": {},
   "outputs": [
    {
     "data": {
      "text/plain": [
       "{'Onigiri': ['rice', 'salmon', 'aneth', 'nori', 'cream'],\n",
       " 'Pasta': ['coquillettes', 'chorizo', 'cream', 'mushrooms', 'origan'],\n",
       " 'Tuna': ['tuna', 'aneth', 'mayonnaise', 'corn', 'spice']}"
      ]
     },
     "execution_count": 58,
     "metadata": {},
     "output_type": "execute_result"
    }
   ],
   "source": [
    "convert(contains)"
   ]
  },
  {
   "cell_type": "markdown",
   "metadata": {},
   "source": [
    "### Question 2.5\n",
    "Define a function `this_month` which computes the list of recipies which can be cooked on a given month."
   ]
  },
  {
   "cell_type": "code",
   "execution_count": 59,
   "metadata": {},
   "outputs": [
    {
     "name": "stdout",
     "output_type": "stream",
     "text": [
      "['Summer salad', 'Summer salad', 'Summer salad']\n",
      "['Potato soup']\n"
     ]
    }
   ],
   "source": [
    "from collections import defaultdict\n",
    "\n",
    "def this_month(recipes, month):\n",
    "    ingredients_by_month = defaultdict(list)\n",
    "    for recipe in recipes:\n",
    "        for ingredient in recipe[\"ingredients\"]:\n",
    "            ingredients_by_month[ingredient[\"season\"]].append(recipe[\"name\"])\n",
    "\n",
    "    return ingredients_by_month[month]\n",
    "\n",
    "recipes = [\n",
    "    {\n",
    "        \"name\": \"Roasted carrots\",\n",
    "        \"ingredients\": [\n",
    "            {\"name\": \"carrots\", \"season\": \"autumn\"},\n",
    "            {\"name\": \"olive oil\", \"season\": \"year-round\"},\n",
    "            {\"name\": \"salt\", \"season\": \"year-round\"}\n",
    "        ]\n",
    "    },\n",
    "    {\n",
    "        \"name\": \"Summer salad\",\n",
    "        \"ingredients\": [\n",
    "            {\"name\": \"lettuce\", \"season\": \"summer\"},\n",
    "            {\"name\": \"tomatoes\", \"season\": \"summer\"},\n",
    "            {\"name\": \"cucumber\", \"season\": \"summer\"}\n",
    "        ]\n",
    "    },\n",
    "    {\n",
    "        \"name\": \"Potato soup\",\n",
    "        \"ingredients\": [\n",
    "            {\"name\": \"potatoes\", \"season\": \"winter\"},\n",
    "            {\"name\": \"onion\", \"season\": \"year-round\"},\n",
    "            {\"name\": \"butter\", \"season\": \"year-round\"}\n",
    "        ]\n",
    "    },\n",
    "]\n",
    "\n",
    "print(this_month(recipes, \"summer\"))\n",
    "# Output: [\"Summer salad\"]\n",
    "\n",
    "print(this_month(recipes, \"winter\"))\n",
    "# Output: [\"Potato soup\"]\n"
   ]
  }
 ],
 "metadata": {
  "kernelspec": {
   "display_name": "Python 3 (ipykernel)",
   "language": "python",
   "name": "python3"
  },
  "language_info": {
   "codemirror_mode": {
    "name": "ipython",
    "version": 3
   },
   "file_extension": ".py",
   "mimetype": "text/x-python",
   "name": "python",
   "nbconvert_exporter": "python",
   "pygments_lexer": "ipython3",
   "version": "3.9.12"
  }
 },
 "nbformat": 4,
 "nbformat_minor": 2
}
