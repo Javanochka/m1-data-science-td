{
 "cells": [
  {
   "cell_type": "markdown",
   "metadata": {},
   "source": [
    "# Exercise Sheet \\# 1"
   ]
  },
  {
   "cell_type": "markdown",
   "metadata": {},
   "source": [
    "## Exercise 1\n",
    "Let us consider a group of friends who organised a party together. Each one brought some food to the party. To make it fair, all these friends decided that they should spend equal money. Let us develop some python program to help them do the math.\n",
    "\n",
    "### Question 1.1\n",
    "As an example, consider these friends bought the following items (together with their total price):\n",
    "\n",
    "Emilie|Paul|Jacques|Eric\n",
    ":--|:--|:--|:--\n",
    "soda,3|juice,4|apples,3|bread,1\n",
    "camembert,5|chorizo,3|cookies,2|\n",
    "beaufort,6|spam,2|\n",
    "tomatoes,3|\n",
    "\n",
    "That is, Emilie spent 17 EUR, Paul 9 EUR, Jacques 5 EUR and Eric 1 EUR.\n",
    "\n",
    "How much money each of them would have paid if they had bought food together ? "
   ]
  },
  {
   "cell_type": "markdown",
   "metadata": {},
   "source": [
    "### Question 1.2\n",
    "Define 4 variables (`emilie`, `paul`, `jacques` and `eric`) containing the items each of them brought to the party.\n",
    "As a data structure for these variables, we will use a list of tuples."
   ]
  },
  {
   "cell_type": "code",
   "execution_count": 59,
   "metadata": {},
   "outputs": [],
   "source": [
    "emilie = [('soda', 3), ('camembert', 5), ('beaufort', 6), ('tomatoes', 3)]\n",
    "paul   = [('juice', 4), ('chorizo', 3), ('spam', 2)]\n",
    "jacques= [('apples', 3), ('cookies', 2)]\n",
    "eric   = [('bread', 1)]"
   ]
  },
  {
   "cell_type": "markdown",
   "metadata": {},
   "source": [
    "### Question 1.3\n",
    "Define a function `spent` which takes as an input a list of goods and returns their total price. "
   ]
  },
  {
   "cell_type": "code",
   "execution_count": 60,
   "metadata": {},
   "outputs": [
    {
     "name": "stdout",
     "output_type": "stream",
     "text": [
      "17\n"
     ]
    }
   ],
   "source": [
    "def spent(shoplist):\n",
    "    return sum([price for item, price in shoplist])\n",
    "\n",
    "print(spent(emilie))"
   ]
  },
  {
   "cell_type": "markdown",
   "metadata": {},
   "source": [
    "### Question 1.4\n",
    "What does `spent` returns when invoked with `paul` as a parameter ?"
   ]
  },
  {
   "cell_type": "code",
   "execution_count": 61,
   "metadata": {},
   "outputs": [
    {
     "name": "stdout",
     "output_type": "stream",
     "text": [
      "9\n"
     ]
    }
   ],
   "source": [
    "print(spent(paul))"
   ]
  },
  {
   "cell_type": "markdown",
   "metadata": {},
   "source": [
    "### Question 1.5\n",
    "Let us now define a variable `expenses` to encode all the expenses of the group. \n",
    "To do so, we will use a dictionary, which will associate each person (represented as a string) with her.his list of goods. "
   ]
  },
  {
   "cell_type": "code",
   "execution_count": 62,
   "metadata": {},
   "outputs": [],
   "source": [
    "expenses = {\n",
    "    'emilie': emilie,\n",
    "    'paul': paul,\n",
    "    'jacques': jacques,\n",
    "    'eric': eric,\n",
    "}"
   ]
  },
  {
   "cell_type": "markdown",
   "metadata": {},
   "source": [
    "### Question 1.6\n",
    "Define a function `total` which computes, from a dictionary of expenses, the total amount of money spent."
   ]
  },
  {
   "cell_type": "code",
   "execution_count": 63,
   "metadata": {},
   "outputs": [],
   "source": [
    "def total(expenses):\n",
    "    return sum([spent(shoplist) for shoplist in expenses.values()])"
   ]
  },
  {
   "cell_type": "markdown",
   "metadata": {},
   "source": [
    "### Question 1.7\n",
    "What is the total amount of money spent by Emilie, Paul, Jacques and Eric ?"
   ]
  },
  {
   "cell_type": "code",
   "execution_count": 64,
   "metadata": {},
   "outputs": [
    {
     "name": "stdout",
     "output_type": "stream",
     "text": [
      "32\n"
     ]
    }
   ],
   "source": [
    "print(total(expenses))"
   ]
  },
  {
   "cell_type": "markdown",
   "metadata": {},
   "source": [
    "### Question 1.8\n",
    "Define a function `fair` which takes as an input a dictionary of expenses, and which returns a list of pairs _(person, money)_ indicating for each person, how much money she.he should pay (negative number) or receive (positive number)."
   ]
  },
  {
   "cell_type": "code",
   "execution_count": 65,
   "metadata": {},
   "outputs": [],
   "source": [
    "def fair(expenses):\n",
    "\n",
    "    total_spent = total(expenses)\n",
    "    nb_people = len(expenses)\n",
    "\n",
    "    fair_amount = total_spent / nb_people\n",
    "\n",
    "    return {name: fair_amount - spent(shoplist) for name, shoplist in expenses.items()}"
   ]
  },
  {
   "cell_type": "markdown",
   "metadata": {},
   "source": [
    "### Question 1.9\n",
    "What does `fair` returns when invoked with `expenses` as an input parameter ?"
   ]
  },
  {
   "cell_type": "code",
   "execution_count": 66,
   "metadata": {},
   "outputs": [
    {
     "name": "stdout",
     "output_type": "stream",
     "text": [
      "{'emilie': -9.0, 'paul': -1.0, 'jacques': 3.0, 'eric': 7.0}\n"
     ]
    }
   ],
   "source": [
    "print(fair(expenses))"
   ]
  },
  {
   "cell_type": "markdown",
   "metadata": {},
   "source": [
    "## Exercise 2\n",
    "Let us consider recipies made of ingredients, which are sold in some shops. Recipies are python dictionary associating a recipy name with a preparation time, a cooking time and a difficulty score. Ingredients is a dictionary associating a name with a season (that is, when can these be found, for instance from May/5 til July/7). Shops finally is a dictionary associating a shop name with two booleans: one for indicating whether the shop is open on Sundays and one whether the shop only accepts cash.\n",
    "![diagram](https://mastertal.gitlab.io/UE803/notebooks/images/recipy.png)\n",
    "\n",
    "Examples of recipies include:\n",
    "<pre>recipies = { 'Kouglof' : (20, 20, 5), 'Banana Split' : (5, 0, 1), ... }</pre>\n",
    "Examples of ingredients include:\n",
    "<pre>ingredients = { 'strawberry' : (5, 7), 'flour' : (1, 12), ...}</pre>\n",
    "Examples of shops include:\n",
    "<pre>shops = { 'BuyOrganic' : (False , False), ...}</pre>\n",
    "The relations between a recipy and its ingredients are represented as follows:\n",
    "<pre>contains = [('Kouglof', 'flour'), ('Kouglof', 'sugar'), ...]</pre>\n",
    "and that between ingredients and shops:\n",
    "<pre> sold_in = [('flour', 'BuyOrganic'), ...]</pre>\n",
    "In the following questions, you are asked to define functions and to test them.\n",
    "\n",
    "To do so, define a dictionary containing 3 recipies, each one using 5 ingredients of your choices (they do not have to be real recipies :-) and make up 3 shops selling these ingredients."
   ]
  },
  {
   "cell_type": "code",
   "execution_count": 67,
   "metadata": {},
   "outputs": [],
   "source": [
    "recipies = {\n",
    "  'pasta' : (10, 5 , 17),\n",
    "  'pizza' : (5, 2, 3),\n",
    "  'salad' : (3, 1, 5)\n",
    "}\n",
    "\n",
    "ingredients = {\n",
    "  'tomatoes' : (3, 7),\n",
    "  'flour' : (2, 5),\n",
    "  'cheese' : (5, 11),\n",
    "  'olive oil' : (3, 8),\n",
    "  'lettuce' : (2, 3)\n",
    "}\n",
    "\n",
    "shops = {\n",
    "  'paul': (False, False),\n",
    "  'jacques': (False, True),\n",
    "  'eric': (True, False)\n",
    "}\n",
    "\n",
    "contains = [('pasta', 'tomatoes'), ('pasta', 'flour'), ('pasta', 'cheese'), ('pizza', 'flour'), ('pizza', 'cheese'), ('pizza', 'tomatoes'), ('salad', 'lettuce'), ('salad', 'olive oil')]\n",
    "\n",
    "sold_in = [('tomatoes', 'paul'), ('flour', 'paul'), ('cheese', 'paul'), ('olive oil', 'jacques'), ('lettuce', 'jacques'), ('flour', 'eric'), ('cheese', 'eric'), ('tomatoes', 'eric')]"
   ]
  },
  {
   "cell_type": "markdown",
   "metadata": {},
   "source": [
    "### Question 2.1\n",
    "Define a function `in_recipy` which computes the list of recipies containing a given ingredient."
   ]
  },
  {
   "cell_type": "code",
   "execution_count": 68,
   "metadata": {},
   "outputs": [
    {
     "name": "stdout",
     "output_type": "stream",
     "text": [
      "['pasta', 'pizza']\n"
     ]
    }
   ],
   "source": [
    "def in_recipy(ingredient, contains):\n",
    "    return [recipy for recipy, ing in contains if ing == ingredient]\n",
    "\n",
    "print(in_recipy('tomatoes', contains))"
   ]
  },
  {
   "cell_type": "markdown",
   "metadata": {},
   "source": [
    "### Question 2.2\n",
    "Define a function `sold` which computes the list of shops where a given ingredient can be bought."
   ]
  },
  {
   "cell_type": "code",
   "execution_count": 69,
   "metadata": {},
   "outputs": [
    {
     "name": "stdout",
     "output_type": "stream",
     "text": [
      "['paul', 'eric']\n"
     ]
    }
   ],
   "source": [
    "def sold(ingredient, sold_in):\n",
    "    return [shop for ing, shop in sold_in if ing == ingredient]\n",
    "\n",
    "print(sold('tomatoes', sold_in))"
   ]
  },
  {
   "cell_type": "markdown",
   "metadata": {},
   "source": [
    "### Question 2.3\n",
    "Define a function `sunday` which computes the list of ingredients which can be bought on a sunday. "
   ]
  },
  {
   "cell_type": "code",
   "execution_count": 70,
   "metadata": {},
   "outputs": [
    {
     "name": "stdout",
     "output_type": "stream",
     "text": [
      "['flour', 'cheese', 'tomatoes']\n"
     ]
    }
   ],
   "source": [
    "def sunday(ingredients, shops):\n",
    "    # check all shops open on sunday\n",
    "    open_shops = [shop for shop, (openSunday, cashOnly) in shops.items() if openSunday]\n",
    "    # check all ingredients sold in open shops\n",
    "    sold_ingredients = [ing for ing, shop in sold_in if shop in open_shops]\n",
    "    return sold_ingredients\n",
    "\n",
    "\n",
    "print(sunday(ingredients, shops))\n"
   ]
  },
  {
   "cell_type": "markdown",
   "metadata": {},
   "source": [
    "### Question 2.4\n",
    "Define a function `convert` which turns a list of ingredients such as `contains` into a dictionary associating a recipy name with a list of ingredients."
   ]
  },
  {
   "cell_type": "code",
   "execution_count": 71,
   "metadata": {},
   "outputs": [
    {
     "name": "stdout",
     "output_type": "stream",
     "text": [
      "{'pasta': ['tomatoes', 'flour', 'cheese'], 'pizza': ['flour', 'cheese', 'tomatoes'], 'salad': ['lettuce', 'olive oil']}\n"
     ]
    }
   ],
   "source": [
    "\n",
    "def convert(contains):\n",
    "    recipy_ingredients = {}\n",
    "    for recipy, ing in contains:\n",
    "        if recipy not in recipy_ingredients:\n",
    "            recipy_ingredients[recipy] = []\n",
    "        recipy_ingredients[recipy].append(ing)\n",
    "    return recipy_ingredients\n",
    "\n",
    "print(convert(contains))"
   ]
  },
  {
   "cell_type": "markdown",
   "metadata": {},
   "source": [
    "### Question 2.5\n",
    "Define a function `this_month` which computes the list of recipies which can be cooked on a given month."
   ]
  },
  {
   "cell_type": "code",
   "execution_count": 72,
   "metadata": {},
   "outputs": [
    {
     "name": "stdout",
     "output_type": "stream",
     "text": [
      "['tomatoes', 'flour', 'cheese', 'olive oil']\n"
     ]
    }
   ],
   "source": [
    "def this_month(ingredients, month):\n",
    "    return [ing for ing, (fromMonth, toMonth) in ingredients.items() if fromMonth <= month <= toMonth]\n",
    "\n",
    "print(this_month(ingredients, 5))\n"
   ]
  },
  {
   "cell_type": "code",
   "execution_count": null,
   "metadata": {},
   "outputs": [],
   "source": []
  }
 ],
 "metadata": {
  "kernelspec": {
   "display_name": "Python 3",
   "language": "python",
   "name": "python3"
  },
  "language_info": {
   "codemirror_mode": {
    "name": "ipython",
    "version": 3
   },
   "file_extension": ".py",
   "mimetype": "text/x-python",
   "name": "python",
   "nbconvert_exporter": "python",
   "pygments_lexer": "ipython3",
   "version": "3.11.4"
  }
 },
 "nbformat": 4,
 "nbformat_minor": 2
}
