{
 "cells": [
  {
   "cell_type": "markdown",
   "metadata": {},
   "source": [
    "# Exercise Sheet \\# 1"
   ]
  },
  {
   "cell_type": "markdown",
   "metadata": {},
   "source": [
    "## Exercise 1\n",
    "Let us consider a group of friends who organised a party together. Each one brought some food to the party. To make it fair, all these friends decided that they should spend equal money. Let us develop some python program to help them do the math.\n",
    "\n",
    "### Question 1.1\n",
    "As an example, consider these friends bought the following items (together with their total price):\n",
    "\n",
    "Emilie|Paul|Jacques|Eric\n",
    ":--|:--|:--|:--\n",
    "soda,3|juice,4|apples,3|bread,1\n",
    "camembert,5|chorizo,3|cookies,2|\n",
    "beaufort,6|spam,2|\n",
    "tomatoes,3|\n",
    "\n",
    "That is, Emilie spent 17 EUR, Paul 9 EUR, Jacques 5 EUR and Eric 1 EUR.\n",
    "\n",
    "How much money each of them would have paid if they had bought food together ? "
   ]
  },
  {
   "cell_type": "code",
   "execution_count": null,
   "metadata": {},
   "outputs": [],
   "source": [
    "#Option 1: static values\n",
    "emilie_total = 17\n",
    "paul_total = 9\n",
    "jacques_total = 5\n",
    "eric_total = 1\n",
    "\n",
    "total_sum = emilie_total + paul_total + jacques_total + eric_total\n",
    "print(total_sum)\n",
    "\n",
    "#option 2: 'UX' taken into account (dinamyc values)\n",
    "friends = input(('Hi! Please enter the list of your friends here separated by commas: '))\n",
    "print(friends)\n",
    "list_friends = friends.split(', ')\n",
    "list_expenses = []\n",
    "for friend in list_friends:\n",
    "    ammount_spent = int(input(f'Hi, {friend}! Please tell me how much you spent in total: '))\n",
    "    list_expenses.append(ammount_spent)\n",
    "total_spent = sum(list_expenses)\n",
    "print(f'Wow! You all spent {total_spent} euros')"
   ]
  },
  {
   "cell_type": "markdown",
   "metadata": {},
   "source": [
    "### Question 1.2\n",
    "Define 4 variables (`emilie`, `paul`, `jacques` and `eric`) containing the items each of them brought to the party.\n",
    "As a data structure for these variables, we will use a list of tuples."
   ]
  },
  {
   "cell_type": "code",
   "execution_count": 3,
   "metadata": {},
   "outputs": [],
   "source": [
    "emilie = [('soda', 3), ('camembert', 5), ('beaufort', 6), ('tomatoes', 3)]\n",
    "paul   = [('juice', 4), ('chorizo', 3), ('spam', 2)]\n",
    "jacques= [('apples', 3), ('cookies', 2)]\n",
    "eric   = [('bread', 1)]"
   ]
  },
  {
   "cell_type": "markdown",
   "metadata": {},
   "source": [
    "### Question 1.3\n",
    "Define a function `spent` which takes as an input a list of goods and returns their total price. "
   ]
  },
  {
   "cell_type": "code",
   "execution_count": 4,
   "metadata": {},
   "outputs": [],
   "source": [
    "def spent (list):\n",
    "    '''\n",
    "    This function takes a list of tuples and sums the values of each item\n",
    "    Parameters:\n",
    "    -list: a list of tuples with the name of the item, and its value\n",
    "    Return:\n",
    "    -Total: integer with the values\n",
    "    '''\n",
    "    total = 0\n",
    "    for item, price in list:\n",
    "        total += price\n",
    "    return total"
   ]
  },
  {
   "cell_type": "markdown",
   "metadata": {},
   "source": [
    "### Question 1.4\n",
    "What does `spent` returns when invoked with `paul` as a parameter ?"
   ]
  },
  {
   "cell_type": "code",
   "execution_count": 5,
   "metadata": {},
   "outputs": [
    {
     "data": {
      "text/plain": [
       "9"
      ]
     },
     "execution_count": 5,
     "metadata": {},
     "output_type": "execute_result"
    }
   ],
   "source": [
    "spent(paul)"
   ]
  },
  {
   "cell_type": "markdown",
   "metadata": {},
   "source": [
    "### Question 1.5\n",
    "Let us now define a variable `expenses` to encode all the expenses of the group. \n",
    "To do so, we will use a dictionary, which will associate each person (represented as a string) with her.his list of goods. "
   ]
  },
  {
   "cell_type": "code",
   "execution_count": 7,
   "metadata": {},
   "outputs": [
    {
     "data": {
      "text/plain": [
       "[('soda', 3), ('camembert', 5), ('beaufort', 6), ('tomatoes', 3)]"
      ]
     },
     "execution_count": 7,
     "metadata": {},
     "output_type": "execute_result"
    }
   ],
   "source": [
    "dict_group = {'emilie':emilie, 'paul': paul, 'jacques': jacques, 'eric':eric}\n",
    "print(dict_group)"
   ]
  },
  {
   "cell_type": "markdown",
   "metadata": {},
   "source": [
    "### Question 1.6\n",
    "Define a function `total` which computes, from a dictionary of expenses, the total amount of money spent."
   ]
  },
  {
   "cell_type": "code",
   "execution_count": 14,
   "metadata": {},
   "outputs": [],
   "source": [
    "def total(dict):\n",
    "    '''\n",
    "    This function takes the total of expenses asociated to a person and returns the total ammount spent\n",
    "    Parameters:\n",
    "    - Dict: Dictionary where the key is the name of the person and the value is a list of tuples with item and ammount spent\n",
    "    Return:\n",
    "    - total: integer with the total spent\n",
    "    '''\n",
    "    total = 0\n",
    "    for element in dict:\n",
    "        indiv_spent = spent(dict[element])\n",
    "        total += indiv_spent\n",
    "    return total"
   ]
  },
  {
   "cell_type": "markdown",
   "metadata": {},
   "source": [
    "### Question 1.7\n",
    "What is the total amount of money spent by Emilie, Paul, Jacques and Eric ?"
   ]
  },
  {
   "cell_type": "code",
   "execution_count": 15,
   "metadata": {},
   "outputs": [
    {
     "data": {
      "text/plain": [
       "32"
      ]
     },
     "execution_count": 15,
     "metadata": {},
     "output_type": "execute_result"
    }
   ],
   "source": [
    "total(dict_group)"
   ]
  },
  {
   "cell_type": "markdown",
   "metadata": {},
   "source": [
    "### Question 1.8\n",
    "Define a function `fair` which takes as an input a dictionary of expenses, and which returns a list of pairs _(person, money)_ indicating for each person, how much money she.he should pay (negative number) or receive (positive number)."
   ]
  },
  {
   "cell_type": "code",
   "execution_count": 12,
   "metadata": {},
   "outputs": [],
   "source": [
    "def fair(dict):\n",
    "    '''\n",
    "\n",
    "    '''\n",
    "    total_ammount = total(dict)\n",
    "    avg_spent = total_ammount / len(dict)\n",
    "    \n",
    "    settlement = []\n",
    "    for element in dict:\n",
    "        person_total = spent(dict[element])\n",
    "        difference = person_total - avg_spent\n",
    "        settlement.append((element, difference))\n",
    "\n",
    "    return settlement"
   ]
  },
  {
   "cell_type": "markdown",
   "metadata": {},
   "source": [
    "### Question 1.9\n",
    "What does `fair` returns when invoked with `expenses` as an input parameter ?"
   ]
  },
  {
   "cell_type": "code",
   "execution_count": 13,
   "metadata": {},
   "outputs": [
    {
     "data": {
      "text/plain": [
       "[('emilie', 9.0), ('paul', 1.0), ('jacques', -3.0), ('eric', -7.0)]"
      ]
     },
     "execution_count": 13,
     "metadata": {},
     "output_type": "execute_result"
    }
   ],
   "source": [
    "fair(dict_group)"
   ]
  },
  {
   "cell_type": "markdown",
   "metadata": {},
   "source": [
    "## Exercise 2\n",
    "Let us consider recipies made of ingredients, which are sold in some shops. Recipies are python dictionary associating a recipy name with a preparation time, a cooking time and a difficulty score. Ingredients is a dictionary associating a name with a season (that is, when can these be found, for instance from May/5 til July/7). Shops finally is a dictionary associating a shop name with two booleans: one for indicating whether the shop is open on Sundays and one whether the shop only accepts cash.\n",
    "![diagram](https://mastertal.gitlab.io/UE803/notebooks/images/recipy.png)\n",
    "\n",
    "Examples of recipies include:\n",
    "<pre>recipies = { 'Kouglof' : (20, 20, 5), 'Banana Split' : (5, 0, 1), ... }</pre>\n",
    "Examples of ingredients include:\n",
    "<pre>ingredients = { 'strawberry' : (5, 7), 'flour' : (1, 12), ...}</pre>\n",
    "Examples of shops include:\n",
    "<pre>shops = { 'BuyOrganic' : (False , False), ...}</pre>\n",
    "The relations between a recipy and its ingredients are represented as follows:\n",
    "<pre>contains = [('Kouglof', 'flour'), ('Kouglof', 'sugar'), ...]</pre>\n",
    "and that between ingredients and shops:\n",
    "<pre> sold_in = [('flour', 'BuyOrganic'), ...]</pre>\n",
    "In the following questions, you are asked to define functions and to test them.\n",
    "\n",
    "To do so, define a dictionary containing 3 recipies, each one using 5 ingredients of your choices (they do not have to be real recipies :-) and make up 3 shops selling these ingredients."
   ]
  },
  {
   "cell_type": "code",
   "execution_count": 19,
   "metadata": {},
   "outputs": [],
   "source": [
    "recipies = {'Quiche':(20, 30, 3), 'Roast meat and potatoes': (15, 45, 5), 'Banana bread':(15, 30, 6)}\n",
    "ingredients = {'Steak':(1,12), 'Banana':(6,12), 'Potatoes':(1,12),'Eggs':(1,12), 'Flour':(1,12)}\n",
    "shops = {'Casino':(True, False), 'Lidl':(False, False), 'Epicerie':(True, False)}\n",
    "\n",
    "## Relations ## \n",
    "\n",
    "contains = [('Quiche', 'Potatoes'), ('Quiche', 'Eggs'), ('Roast meat and potatoes', 'Potatoes'), ('Roast meat and potatoes', 'Steak'),\n",
    "            ('Banana bread', 'Banana'), ('Banana bread', 'Eggs'), ('Banana bread', 'Flour')]\n",
    "\n",
    "sold_in = [('Steak','Lidl'), ('Banana','Casino'),('Banana','Epicerie'),('Potatoes','Casino'),('Potatoes','Lidl'),('Potatoes','Epicerie'),\n",
    "           ('Eggs','Lidl'),('Eggs','Casino'),('Eggs','Epicerie'),('Flour','Lidl'),('Flour','Casino')]"
   ]
  },
  {
   "cell_type": "markdown",
   "metadata": {},
   "source": [
    "### Question 2.1\n",
    "Define a function `in_recipy` which computes the list of recipies containing a given ingredient."
   ]
  },
  {
   "cell_type": "code",
   "execution_count": 21,
   "metadata": {},
   "outputs": [],
   "source": [
    "def in_recipy(ingredient_target, list_recipies):\n",
    "    '''\n",
    "    This function searchs a determinate ingrediente in a list of recipies\n",
    "    Parameters:\n",
    "    -Ingredient: str with the target ingredient\n",
    "    -list_recipies: list of tuples where you got the recipy and the ingredients it has\n",
    "    Return:\n",
    "    -list_recipies_target = a list with all the recipies that contain that ingredient\n",
    "    '''\n",
    "    list_recipies_target = []\n",
    "    for recipy, ingredient in list_recipies:\n",
    "        if ingredient.lower() == ingredient_target.lower():\n",
    "            list_recipies_target.append(recipy)\n",
    "    return list_recipies_target"
   ]
  },
  {
   "cell_type": "code",
   "execution_count": null,
   "metadata": {},
   "outputs": [],
   "source": [
    "in_recipy('Eggs', contains)"
   ]
  },
  {
   "cell_type": "markdown",
   "metadata": {},
   "source": [
    "### Question 2.2\n",
    "Define a function `sold` which computes the list of shops where a given ingredient can be bought."
   ]
  },
  {
   "cell_type": "code",
   "execution_count": 22,
   "metadata": {},
   "outputs": [],
   "source": [
    "def sold(ingredient_target, list_shops):\n",
    "    '''\n",
    "    This function searchs where the target ingredient can be found from a list of shops\n",
    "    Parameters:\n",
    "    -ingredient_target = str \n",
    "    -list_shops: list of tuples with the name of the shop and the ingredient\n",
    "    Return:\n",
    "    -list_shops_target: list of shops where you can find the target ingredient\n",
    "    '''\n",
    "    list_shops_target = []\n",
    "    for ingredient, shop in list_shops:\n",
    "        if ingredient_target.lower() == ingredient.lower():\n",
    "            list_shops_target.append(shop)\n",
    "    return list_shops_target"
   ]
  },
  {
   "cell_type": "code",
   "execution_count": null,
   "metadata": {},
   "outputs": [],
   "source": [
    "sold('Eggs', sold_in)"
   ]
  },
  {
   "cell_type": "markdown",
   "metadata": {},
   "source": [
    "### Question 2.3\n",
    "Define a function `sunday` which computes the list of ingredients which can be bought on a sunday. "
   ]
  },
  {
   "cell_type": "code",
   "execution_count": 25,
   "metadata": {},
   "outputs": [],
   "source": [
    "def sunday(ingredient_target, list_shops, dict_shops):\n",
    "    '''\n",
    "    This function searchs if the target ingredient you are looking for is possible to buy it on sundays. \n",
    "    To achieve this, it will compare both the information of the shops and where X ingredient is found.\n",
    "    Parameters:\n",
    "    -ingredient_target = str with the target ingredient\n",
    "    -list_shops = list of tuples where you got the ingredient and where you can buy it\n",
    "    -dict_shops = dictionary that contains the information about payment methods and if opens or not on sundays\n",
    "    Return:\n",
    "    -list_available_sunday = list of str of where you can buy your desired ingredient on sundays\n",
    "    '''\n",
    "    list_available_sunday = []\n",
    "    list_general_availability = sold(ingredient_target, list_shops)\n",
    "    print(list_general_availability)\n",
    "    for shop in dict_shops:\n",
    "        shop_info = dict_shops.get(shop)\n",
    "        if shop_info and shop_info[0]:\n",
    "            list_available_sunday.append(shop)\n",
    "    return list_available_sunday"
   ]
  },
  {
   "cell_type": "code",
   "execution_count": null,
   "metadata": {},
   "outputs": [],
   "source": [
    "sunday('Eggs', sold_in, shops)"
   ]
  },
  {
   "cell_type": "markdown",
   "metadata": {},
   "source": [
    "### Question 2.4\n",
    "Define a function `convert` which turns a list of ingredients such as `contains` into a dictionary associating a recipy name with a list of ingredients. "
   ]
  },
  {
   "cell_type": "code",
   "execution_count": null,
   "metadata": {},
   "outputs": [],
   "source": [
    "def convert(list_ingredients, dict_recipies):\n",
    "    '''\n",
    "    This function takes a list of ingredientes and a dictionary of recipies to unifiy them into a dictionary containing ingredients of X recipy.\n",
    "    Parameters:\n",
    "    -list_ingredients = list of tuples where each tuple contains the name of a recipy and an ingredient\n",
    "    -dict_recipies = a dict of recipies where each key represents a str with the name of the recipy, and each value is a tuple with times and complexity\n",
    "    Returns:\n",
    "    -dict_recipies_complete = a dict with a new key named 'recipe_ingredients' and a list of the ingredients\n",
    "    '''\n",
    "    dict_recipies_complete = dict_recipies.copy()\n",
    "\n",
    "    ingredients_dict = {}\n",
    "\n",
    "    for recipy_name, ingredient in list_ingredients:\n",
    "        if recipy_name + '_ingredients' in ingredients_dict:\n",
    "            ingredients_dict[recipy_name + '_ingredients'].append(ingredient)\n",
    "        else:\n",
    "            ingredients_dict[recipy_name + '_ingredients'] = [ingredient]\n",
    "\n",
    "    dict_recipies_complete.update(ingredients_dict)\n",
    "\n",
    "    return dict_recipies_complete"
   ]
  },
  {
   "cell_type": "code",
   "execution_count": null,
   "metadata": {},
   "outputs": [],
   "source": [
    "convert(contains, recipies)"
   ]
  },
  {
   "cell_type": "markdown",
   "metadata": {},
   "source": [
    "### Question 2.5\n",
    "Define a function `this_month` which computes the list of recipies which can be cooked on a given month."
   ]
  },
  {
   "cell_type": "code",
   "execution_count": null,
   "metadata": {},
   "outputs": [],
   "source": [
    "def this_month(target_recipy, target_month, list_ingredients, dict_recipies, ingredients_details):\n",
    "    '''\n",
    "    Determines if it's possible to prepare a specified recipe in a given month based on the availability of its ingredients.\n",
    "    \n",
    "    Parameters:\n",
    "    - target_recipy (str): The name of the recipe you want to prepare.\n",
    "    - target_month (int): The month (1-12) when you want to prepare the recipe.\n",
    "    - list_ingredients (list of tuples): Associates a recipe with its ingredients. Each tuple contains the name of a recipe and an ingredient.\n",
    "    - dict_recipies (dict): A dictionary of recipes with further information. Each key is a string representing the name of the recipe, and each value is a tuple with times and complexity.\n",
    "    - ingredients_details (dict): A dictionary where keys are ingredient names and values are tuples indicating the range of months (start, end) when the ingredient is available.\n",
    "    \n",
    "    Returns:\n",
    "    - message (str): A message indicating whether it is possible to prepare the specified recipe in the given month or not, based on the availability of all required ingredients.\n",
    "    \n",
    "    This function first unifies the list of ingredients into a dictionary, mapping each recipe to its full list of ingredients. It then iterates over the ingredient details to extract the availability range for each ingredient. If any ingredient required for the target recipe is not available in the target month, it returns a message stating that the recipe cannot be prepared. Otherwise, it indicates that the recipe can be prepared.\n",
    "    '''\n",
    "    full_dict = convert(list_ingredients, dict_recipies)\n",
    "    \n",
    "    my_ingredients = full_dict.get(f\"{target_recipy}_ingredients\", [])\n",
    "    \n",
    "    for ingredient in my_ingredients:\n",
    "        \n",
    "        available_range = ingredients_details.get(ingredient)\n",
    "        if available_range:\n",
    "            \n",
    "            if not (available_range[0] <= target_month <= available_range[1]):\n",
    "                \n",
    "                return f\"It's not possible to prepare {target_recipy} in month {target_month} due to ingredient availability.\"\n",
    "    \n",
    "    return f\"It's possible to prepare {target_recipy} in month {target_month}.\""
   ]
  },
  {
   "cell_type": "code",
   "execution_count": null,
   "metadata": {},
   "outputs": [],
   "source": [
    "this_month('Banana bread', 2, contains, recipies, ingredients)"
   ]
  }
 ],
 "metadata": {
  "kernelspec": {
   "display_name": "Python 3",
   "language": "python",
   "name": "python3"
  },
  "language_info": {
   "codemirror_mode": {
    "name": "ipython",
    "version": 3
   },
   "file_extension": ".py",
   "mimetype": "text/x-python",
   "name": "python",
   "nbconvert_exporter": "python",
   "pygments_lexer": "ipython3",
   "version": "3.8.5"
  }
 },
 "nbformat": 4,
 "nbformat_minor": 2
}
