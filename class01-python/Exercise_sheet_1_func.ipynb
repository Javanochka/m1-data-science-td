{
 "cells": [
  {
   "cell_type": "markdown",
   "metadata": {},
   "source": [
    "# Exercise Sheet \\# 1"
   ]
  },
  {
   "cell_type": "markdown",
   "metadata": {},
   "source": [
    "## Exercise 1\n",
    "Let us consider a group of friends who organised a party together. Each one brought some food to the party. To make it fair, all these friends decided that they should spend equal money. Let us develop some python program to help them do the math.\n",
    "\n",
    "### Question 1.1\n",
    "As an example, consider these friends bought the following items (together with their total price):\n",
    "\n",
    "Emilie|Paul|Jacques|Eric\n",
    ":--|:--|:--|:--\n",
    "soda,3|juice,4|apples,3|bread,1\n",
    "camembert,5|chorizo,3|cookies,2|\n",
    "beaufort,6|spam,2|\n",
    "tomatoes,3|\n",
    "\n",
    "That is, Emilie spent 17 EUR, Paul 9 EUR, Jacques 5 EUR and Eric 1 EUR.\n",
    "\n",
    "How much money each of them would have paid if they had bought food together ? "
   ]
  },
  {
   "cell_type": "markdown",
   "metadata": {},
   "source": [
    "### Question 1.2\n",
    "Define 4 variables (`emilie`, `paul`, `jacques` and `eric`) containing the items each of them brought to the party.\n",
    "As a data structure for these variables, we will use a list of tuples."
   ]
  },
  {
   "cell_type": "code",
   "execution_count": 3,
   "metadata": {},
   "outputs": [],
   "source": [
    "emilie = [('soda', 3), ('camembert', 5), ('beaufort', 6), ('tomatoes', 3)]\n",
    "paul   = [('juice', 4), ('chorizo', 3), ('spam', 2)]\n",
    "jacques= [('apples', 3), ('cookies', 2)]\n",
    "eric   = [('bread', 1)]"
   ]
  },
  {
   "cell_type": "markdown",
   "metadata": {},
   "source": [
    "### Question 1.3\n",
    "Define a function `spent` which takes as an input a list of goods and returns their total price. "
   ]
  },
  {
   "cell_type": "code",
   "execution_count": 4,
   "metadata": {},
   "outputs": [],
   "source": []
  },
  {
   "cell_type": "markdown",
   "metadata": {},
   "source": [
    "### Question 1.4\n",
    "What does `spent` returns when invoked with `paul` as a parameter ?"
   ]
  },
  {
   "cell_type": "code",
   "execution_count": 5,
   "metadata": {},
   "outputs": [
    {
     "data": {
      "text/plain": [
       "9"
      ]
     },
     "execution_count": 5,
     "metadata": {},
     "output_type": "execute_result"
    }
   ],
   "source": []
  },
  {
   "cell_type": "markdown",
   "metadata": {},
   "source": [
    "### Question 1.5\n",
    "Let us now define a variable `expenses` to encode all the expenses of the group. \n",
    "To do so, we will use a dictionary, which will associate each person (represented as a string) with her.his list of goods. "
   ]
  },
  {
   "cell_type": "code",
   "execution_count": 7,
   "metadata": {},
   "outputs": [
    {
     "data": {
      "text/plain": [
       "[('soda', 3), ('camembert', 5), ('beaufort', 6), ('tomatoes', 3)]"
      ]
     },
     "execution_count": 7,
     "metadata": {},
     "output_type": "execute_result"
    }
   ],
   "source": []
  },
  {
   "cell_type": "markdown",
   "metadata": {},
   "source": [
    "### Question 1.6\n",
    "Define a function `total` which computes, from a dictionary of expenses, the total amount of money spent."
   ]
  },
  {
   "cell_type": "code",
   "execution_count": 14,
   "metadata": {},
   "outputs": [],
   "source": []
  },
  {
   "cell_type": "markdown",
   "metadata": {},
   "source": [
    "### Question 1.7\n",
    "What is the total amount of money spent by Emilie, Paul, Jacques and Eric ?"
   ]
  },
  {
   "cell_type": "code",
   "execution_count": 15,
   "metadata": {},
   "outputs": [
    {
     "data": {
      "text/plain": [
       "32"
      ]
     },
     "execution_count": 15,
     "metadata": {},
     "output_type": "execute_result"
    }
   ],
   "source": []
  },
  {
   "cell_type": "markdown",
   "metadata": {},
   "source": [
    "### Question 1.8\n",
    "Define a function `fair` which takes as an input a dictionary of expenses, and which returns a list of pairs _(person, money)_ indicating for each person, how much money she.he should pay (negative number) or receive (positive number)."
   ]
  },
  {
   "cell_type": "code",
   "execution_count": 12,
   "metadata": {},
   "outputs": [],
   "source": [
    "def fair(dictionary_of_expenses):\n",
    "    fair_share = total(dictionary_of_expenses)"
   ]
  },
  {
   "cell_type": "markdown",
   "metadata": {},
   "source": [
    "### Question 1.9\n",
    "What does `fair` returns when invoked with `expenses` as an input parameter ?"
   ]
  },
  {
   "cell_type": "code",
   "execution_count": 13,
   "metadata": {},
   "outputs": [
    {
     "data": {
      "text/plain": [
       "[('emilie', 9.0), ('paul', 1.0), ('jacques', -3.0), ('eric', -7.0)]"
      ]
     },
     "execution_count": 13,
     "metadata": {},
     "output_type": "execute_result"
    }
   ],
   "source": []
  },
  {
   "cell_type": "markdown",
   "metadata": {},
   "source": [
    "## Exercise 2\n",
    "Let us consider recipies made of ingredients, which are sold in some shops. Recipies are python dictionary associating a recipy name with a preparation time, a cooking time and a difficulty score. Ingredients is a dictionary associating a name with a season (that is, when can these be found, for instance from May/5 til July/7). Shops finally is a dictionary associating a shop name with two booleans: one for indicating whether the shop is open on Sundays and one whether the shop only accepts cash.\n",
    "![diagram](https://mastertal.gitlab.io/UE803/notebooks/images/recipy.png)\n",
    "\n",
    "Examples of recipies include:\n",
    "<pre>recipies = { 'Kouglof' : (20, 20, 5), 'Banana Split' : (5, 0, 1), ... }</pre>\n",
    "Examples of ingredients include:\n",
    "<pre>ingredients = { 'strawberry' : (5, 7), 'flour' : (1, 12), ...}</pre>\n",
    "Examples of shops include:\n",
    "<pre>shops = { 'BuyOrganic' : (False , False), ...}</pre>\n",
    "The relations between a recipy and its ingredients are represented as follows:\n",
    "<pre>contains = [('Kouglof', 'flour'), ('Kouglof', 'sugar'), ...]</pre>\n",
    "and that between ingredients and shops:\n",
    "<pre> sold_in = [('flour', 'BuyOrganic'), ...]</pre>\n",
    "In the following questions, you are asked to define functions and to test them.\n",
    "\n",
    "To do so, define a dictionary containing 3 recipies, each one using 5 ingredients of your choices (they do not have to be real recipies :-) and make up 3 shops selling these ingredients."
   ]
  },
  {
   "cell_type": "code",
   "execution_count": 21,
   "metadata": {},
   "outputs": [],
   "source": [
    "recipies = { 'Kouglof' : (20, 20, 5), 'Banana Split' : (5, 0, 1), 'TheRecipe': (5, 3, 1)}\n",
    "ingredients = { 'strawberry' : (5, 7), 'flour' : (1, 12), 'banana' : (3, 12), 'cucumber' : (4, 9), 'tomato' : (6, 9)\n",
    ", 'apple' : (1, 4), 'rice' : (4, 9), 'lentils' : (3, 5), 'onions' : (6, 8), 'sugar':(1, 8)}\n",
    "shops = { 'BuyOrganic' : (False , False), 'SupaShop' : (True , False), 'Shoppo' : (True , False)}\n",
    "contains = [('Kouglof', 'flour'), ('Kouglof', 'sugar'), ('Kouglof', 'sugar'), ('Kouglof', 'sugar'), ('Kouglof', 'sugar'),\n",
    "('Banana Split', 'strawberry'), ('Banana Split', 'banana'), ('Banana Split', 'apple'), ('Banana Split', 'sugar'), ('Banana Split', 'flour'),\n",
    "('TheRecipe', 'flour'), ('TheRecipe', 'tomato'), ('TheRecipe', 'cucumber'), ('TheRecipe', 'onions'), ('TheRecipe', 'lentils')]\n",
    "sold_in = [('flour', 'BuyOrganic'), ('strawberry', 'BuyOrganic'), ('tomato', 'BuyOrganic'), ('lentils', 'BuyOrganic'), ('rice', 'BuyOrganic')\n",
    ", ('apple', 'SupaShop'), ('onions', 'SupaShop'), ('cucumber', 'SupaShop'), ('banana', 'SupaShop')\n",
    ", ('strawberry', 'SupaShop'), ('banana', 'Shoppo'), ('apple', 'Shoppo')]"
   ]
  },
  {
   "cell_type": "markdown",
   "metadata": {},
   "source": [
    "### Question 2.1\n",
    "Define a function `in_recipy` which computes the list of recipies containing a given ingredient."
   ]
  },
  {
   "cell_type": "code",
   "execution_count": 9,
   "metadata": {},
   "outputs": [],
   "source": [
    "def in_recipy(ingredient, contains_relations):\n",
    "    contain_ingredient = []\n",
    "    for recipy, recipy_ingredient in contains_relations:\n",
    "        if recipy_ingredient == ingredient:\n",
    "            contain_ingredient.append(recipy)\n",
    "    return contain_ingredient"
   ]
  },
  {
   "cell_type": "code",
   "execution_count": 10,
   "metadata": {},
   "outputs": [
    {
     "data": {
      "text/plain": [
       "['TheRecipe']"
      ]
     },
     "execution_count": 10,
     "metadata": {},
     "output_type": "execute_result"
    }
   ],
   "source": [
    "in_recipy('tomato', contains)"
   ]
  },
  {
   "cell_type": "markdown",
   "metadata": {},
   "source": [
    "### Question 2.2\n",
    "Define a function `sold` which computes the list of shops where a given ingredient can be bought."
   ]
  },
  {
   "cell_type": "code",
   "execution_count": 22,
   "metadata": {},
   "outputs": [],
   "source": []
  },
  {
   "cell_type": "markdown",
   "metadata": {},
   "source": [
    "### Question 2.3\n",
    "Define a function `sunday` which computes the list of ingredients which can be bought on a sunday. "
   ]
  },
  {
   "cell_type": "code",
   "execution_count": 12,
   "metadata": {},
   "outputs": [],
   "source": [
    "def sunday(sold_in_relations, shops_list):\n",
    "    sunday_ingredients = []\n",
    "    for sold_ingredient, shop in sold_in_relations:\n",
    "        if shops_list[shop][0] and sold_ingredient not in sunday_ingredients:\n",
    "            sunday_ingredients.append(sold_ingredient)\n",
    "    return sunday_ingredients"
   ]
  },
  {
   "cell_type": "code",
   "execution_count": 13,
   "metadata": {},
   "outputs": [
    {
     "data": {
      "text/plain": [
       "['apple', 'onions', 'cucumber', 'banana', 'strawberry']"
      ]
     },
     "execution_count": 13,
     "metadata": {},
     "output_type": "execute_result"
    }
   ],
   "source": [
    "sunday(sold_in, shops)"
   ]
  },
  {
   "cell_type": "markdown",
   "metadata": {},
   "source": [
    "### Question 2.4\n",
    "Define a function `convert` which turns a list of ingredients such as `contains` into a dictionary associating a recipy name with a list of ingredients. "
   ]
  },
  {
   "cell_type": "code",
   "execution_count": 15,
   "metadata": {},
   "outputs": [],
   "source": [
    "def convert(contains_relations):\n",
    "    output_dictionary = {}\n",
    "    for recipy, recipy_ingredient in contains_relations:\n",
    "        if recipy not in output_dictionary:\n",
    "            output_dictionary[recipy] = []\n",
    "        output_dictionary[recipy].append(recipy_ingredient)\n",
    "\n",
    "    return output_dictionary"
   ]
  },
  {
   "cell_type": "code",
   "execution_count": 16,
   "metadata": {},
   "outputs": [
    {
     "data": {
      "text/plain": [
       "{'Kouglof': ['flour', 'sugar', 'sugar', 'sugar', 'sugar'],\n",
       " 'Banana Split': ['strawberry', 'banana', 'apple', 'sugar', 'flour'],\n",
       " 'TheRecipe': ['flour', 'tomato', 'cucumber', 'onions', 'lentils']}"
      ]
     },
     "execution_count": 16,
     "metadata": {},
     "output_type": "execute_result"
    }
   ],
   "source": [
    "convert(contains)"
   ]
  },
  {
   "cell_type": "markdown",
   "metadata": {},
   "source": [
    "### Question 2.5\n",
    "Define a function `this_month` which computes the list of recipies which can be cooked on a given month."
   ]
  },
  {
   "cell_type": "code",
   "execution_count": 31,
   "metadata": {},
   "outputs": [],
   "source": [
    "def this_month(current_month, contains_relations, ingredients_list):\n",
    "    doable_recipes = []\n",
    "    all_recepies = convert(contains_relations)\n",
    "    for recipy, ingredients in all_recepies.items():\n",
    "        is_available = True\n",
    "        for ingredient in ingredients:\n",
    "            if current_month < ingredients_list[ingredient][0] and current_month > ingredients_list[ingredient][1]:\n",
    "                print(ingredients_list[ingredient])\n",
    "                is_available = False\n",
    "                break\n",
    "        if is_available:\n",
    "            doable_recipes.append(recipy)\n",
    "    return doable_recipes"
   ]
  },
  {
   "cell_type": "code",
   "execution_count": 32,
   "metadata": {},
   "outputs": [
    {
     "name": "stdout",
     "output_type": "stream",
     "text": [
      "['Kouglof', 'Banana Split', 'TheRecipe']\n",
      "['Kouglof', 'Banana Split', 'TheRecipe']\n",
      "['Kouglof', 'Banana Split', 'TheRecipe']\n",
      "['Kouglof', 'Banana Split', 'TheRecipe']\n",
      "['Kouglof', 'Banana Split', 'TheRecipe']\n",
      "['Kouglof', 'Banana Split', 'TheRecipe']\n",
      "['Kouglof', 'Banana Split', 'TheRecipe']\n",
      "['Kouglof', 'Banana Split', 'TheRecipe']\n",
      "['Kouglof', 'Banana Split', 'TheRecipe']\n",
      "['Kouglof', 'Banana Split', 'TheRecipe']\n",
      "['Kouglof', 'Banana Split', 'TheRecipe']\n",
      "['Kouglof', 'Banana Split', 'TheRecipe']\n"
     ]
    }
   ],
   "source": [
    "for m in range(1, 13):\n",
    "    print(this_month(m, contains, ingredients))"
   ]
  }
 ],
 "metadata": {
  "kernelspec": {
   "display_name": "Python 3",
   "language": "python",
   "name": "python3"
  },
  "language_info": {
   "codemirror_mode": {
    "name": "ipython",
    "version": 3
   },
   "file_extension": ".py",
   "mimetype": "text/x-python",
   "name": "python",
   "nbconvert_exporter": "python",
   "pygments_lexer": "ipython3",
   "version": "3.10.8"
  },
  "vscode": {
   "interpreter": {
    "hash": "b0fa6594d8f4cbf19f97940f81e996739fb7646882a419484c72d19e05852a7e"
   }
  }
 },
 "nbformat": 4,
 "nbformat_minor": 2
}
