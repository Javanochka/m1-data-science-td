{
 "cells": [
  {
   "cell_type": "markdown",
   "metadata": {},
   "source": [
    "# Exercise sheet \\#2\n"
   ]
  },
  {
   "cell_type": "markdown",
   "metadata": {},
   "source": [
    "## Exercise 1\n",
    "In this exercise, we will program an ATM. An ATM is a device which can deliver/receive bank notes to/from customers, depending on the amount of money they have on their bank account.\n",
    "\n",
    "### Question 1.1\n",
    "First, we will represent customers as entities whose attributes are:\n",
    "- name (str)\n",
    "- birthdate (str of the form xx/xx/xxxx)\n",
    "- account_number (str)\n",
    "- secret_code (str) made of 4 digits\n",
    "- balance (float)\n",
    "\n",
    "Define a class `Customer` together with its `__init__` method allowing users to create customers.\n"
   ]
  },
  {
   "cell_type": "code",
   "execution_count": 3,
   "metadata": {},
   "outputs": [],
   "source": []
  },
  {
   "cell_type": "markdown",
   "metadata": {},
   "source": [
    "### Question 1.2\n",
    "Add a method `debit` in the class `customer` which takes as an input a float and if there is enough money on the bank account, decreases the balance accordingly. If this is not the case, this method will print a warning message on the console and return `None`."
   ]
  },
  {
   "cell_type": "code",
   "execution_count": 4,
   "metadata": {},
   "outputs": [],
   "source": []
  },
  {
   "cell_type": "markdown",
   "metadata": {},
   "source": [
    "### Question 1.3\n",
    "Add a method `credit` to the class `customer` which can be used to increase the amount of money of the curstomer's account."
   ]
  },
  {
   "cell_type": "code",
   "execution_count": 5,
   "metadata": {},
   "outputs": [],
   "source": []
  },
  {
   "cell_type": "markdown",
   "metadata": {},
   "source": [
    "### Question 1.4\n",
    "In some context, one may be interested in displaying the pieces of information which characterize a given customer. To do so, we use a method named `__str__` and which is invoked when we call `print(str(x))` with `x` of type `customer`.\n",
    "Define this method to return strings of the following form:\n",
    "\n",
    "`Pierre Poljak, born on 2002/06/12, account 001213, 2504.25 EUR` "
   ]
  },
  {
   "cell_type": "code",
   "execution_count": 6,
   "metadata": {},
   "outputs": [],
   "source": []
  },
  {
   "cell_type": "markdown",
   "metadata": {},
   "source": [
    "### Question 1.5\n",
    "We will now define an `ATM` class, whose attributes are:\n",
    " - a list of customers `lcustomers`\n",
    " - a number of 50-EUR bank notes `n50`\n",
    " - a number of 20-EUR bank notes `n20`\n",
    " - a number of 10-EUR bank notes `n10`\n",
    " \n",
    "together with an `__init__` method so that ATMs can be created."
   ]
  },
  {
   "cell_type": "code",
   "execution_count": 4,
   "metadata": {},
   "outputs": [],
   "source": []
  },
  {
   "cell_type": "markdown",
   "metadata": {},
   "source": [
    "### Question 1.6\n",
    "Add to the ATM class, a method `verify` which takes as an input an account number, and a secret code, and check (i) whether the account number is valid (that is, whether it appears among the customers), and (ii) whether the given secret code is identical to the secret code stored in the corresponding customer's pieces of information. This method returns `True` if the verification succeeds and `False` otherwise."
   ]
  },
  {
   "cell_type": "code",
   "execution_count": null,
   "metadata": {},
   "outputs": [],
   "source": []
  },
  {
   "cell_type": "markdown",
   "metadata": {},
   "source": [
    "### Question 1.7\n",
    "Define a method `change` which computes, for a given amount of money, the corresponding numbers of 10, 20 and 50 bank-notes."
   ]
  },
  {
   "cell_type": "code",
   "execution_count": null,
   "metadata": {},
   "outputs": [],
   "source": []
  },
  {
   "cell_type": "markdown",
   "metadata": {},
   "source": [
    "### Question 1.8\n",
    "Add to the ATM class, two methods named `debit` and `credit` which takes as inputs an account number and an amount of money, and applies the corresponding debit/credit (do not forget to check that there are enough bank notes in the ATM). These methods returns the new customer balance. "
   ]
  },
  {
   "cell_type": "code",
   "execution_count": null,
   "metadata": {},
   "outputs": [],
   "source": []
  },
  {
   "cell_type": "markdown",
   "metadata": {},
   "source": [
    "### Question 1.9\n",
    "Add to the ATM class a method `run` which execute an infinite loop, waiting for a user to enter an account number. When such a number is typed, it then asks for the secret code, and if it succeeds, it displays a menu allowing the user to either withdraw money or make a deposit. "
   ]
  },
  {
   "cell_type": "code",
   "execution_count": null,
   "metadata": {},
   "outputs": [],
   "source": []
  },
  {
   "cell_type": "markdown",
   "metadata": {},
   "source": [
    "### Question 1.10\n",
    "Finally, run the following code (it should not trigger any error):"
   ]
  },
  {
   "cell_type": "code",
   "execution_count": 7,
   "metadata": {},
   "outputs": [
    {
     "name": "stdout",
     "output_type": "stream",
     "text": [
      "Welcome\n"
     ]
    }
   ],
   "source": [
    "if __name__=='__main__':\n",
    "    print('Welcome')\n",
    "    customer1 = Customer('Pierre Poljak', '2002/06/12', '001213', '0000', 2504.25)\n",
    "    customer2 = Customer('Matthieu Poljak', '2006/03/18', '001214', '0110', 504.45)\n",
    "    customer3 = Customer('Louis Poljak', '1998/12/12', '001215', '0020', 20004.23)\n",
    "    customer4 = Customer('Sophie Poljak', '2000/02/02', '001216', '0200', 5502.00)\n",
    "    #atm = ATM([customer1, customer2, customer3, customer4], 20, 20, 20)\n",
    "    #atm.run()"
   ]
  },
  {
   "cell_type": "markdown",
   "metadata": {},
   "source": [
    "## Exercise 2\n",
    "In this exercise, we will use the `list` class provided by Python.\n",
    "First, let us check that lists are indeed classes:"
   ]
  },
  {
   "cell_type": "code",
   "execution_count": 8,
   "metadata": {},
   "outputs": [
    {
     "data": {
      "text/plain": [
       "list"
      ]
     },
     "execution_count": 8,
     "metadata": {},
     "output_type": "execute_result"
    }
   ],
   "source": [
    "l = [2,4,5]\n",
    "type(l)"
   ]
  },
  {
   "cell_type": "markdown",
   "metadata": {},
   "source": [
    "The `help` function permits us to list the methods available for using lists"
   ]
  },
  {
   "cell_type": "code",
   "execution_count": 9,
   "metadata": {},
   "outputs": [
    {
     "name": "stdout",
     "output_type": "stream",
     "text": [
      "Help on list object:\n",
      "\n",
      "class list(object)\n",
      " |  list() -> new empty list\n",
      " |  list(iterable) -> new list initialized from iterable's items\n",
      " |  \n",
      " |  Methods defined here:\n",
      " |  \n",
      " |  __add__(self, value, /)\n",
      " |      Return self+value.\n",
      " |  \n",
      " |  __contains__(self, key, /)\n",
      " |      Return key in self.\n",
      " |  \n",
      " |  __delitem__(self, key, /)\n",
      " |      Delete self[key].\n",
      " |  \n",
      " |  __eq__(self, value, /)\n",
      " |      Return self==value.\n",
      " |  \n",
      " |  __ge__(self, value, /)\n",
      " |      Return self>=value.\n",
      " |  \n",
      " |  __getattribute__(self, name, /)\n",
      " |      Return getattr(self, name).\n",
      " |  \n",
      " |  __getitem__(...)\n",
      " |      x.__getitem__(y) <==> x[y]\n",
      " |  \n",
      " |  __gt__(self, value, /)\n",
      " |      Return self>value.\n",
      " |  \n",
      " |  __iadd__(self, value, /)\n",
      " |      Implement self+=value.\n",
      " |  \n",
      " |  __imul__(self, value, /)\n",
      " |      Implement self*=value.\n",
      " |  \n",
      " |  __init__(self, /, *args, **kwargs)\n",
      " |      Initialize self.  See help(type(self)) for accurate signature.\n",
      " |  \n",
      " |  __iter__(self, /)\n",
      " |      Implement iter(self).\n",
      " |  \n",
      " |  __le__(self, value, /)\n",
      " |      Return self<=value.\n",
      " |  \n",
      " |  __len__(self, /)\n",
      " |      Return len(self).\n",
      " |  \n",
      " |  __lt__(self, value, /)\n",
      " |      Return self<value.\n",
      " |  \n",
      " |  __mul__(self, value, /)\n",
      " |      Return self*value.\n",
      " |  \n",
      " |  __ne__(self, value, /)\n",
      " |      Return self!=value.\n",
      " |  \n",
      " |  __new__(*args, **kwargs) from builtins.type\n",
      " |      Create and return a new object.  See help(type) for accurate signature.\n",
      " |  \n",
      " |  __repr__(self, /)\n",
      " |      Return repr(self).\n",
      " |  \n",
      " |  __reversed__(...)\n",
      " |      L.__reversed__() -- return a reverse iterator over the list\n",
      " |  \n",
      " |  __rmul__(self, value, /)\n",
      " |      Return value*self.\n",
      " |  \n",
      " |  __setitem__(self, key, value, /)\n",
      " |      Set self[key] to value.\n",
      " |  \n",
      " |  __sizeof__(...)\n",
      " |      L.__sizeof__() -- size of L in memory, in bytes\n",
      " |  \n",
      " |  append(...)\n",
      " |      L.append(object) -> None -- append object to end\n",
      " |  \n",
      " |  clear(...)\n",
      " |      L.clear() -> None -- remove all items from L\n",
      " |  \n",
      " |  copy(...)\n",
      " |      L.copy() -> list -- a shallow copy of L\n",
      " |  \n",
      " |  count(...)\n",
      " |      L.count(value) -> integer -- return number of occurrences of value\n",
      " |  \n",
      " |  extend(...)\n",
      " |      L.extend(iterable) -> None -- extend list by appending elements from the iterable\n",
      " |  \n",
      " |  index(...)\n",
      " |      L.index(value, [start, [stop]]) -> integer -- return first index of value.\n",
      " |      Raises ValueError if the value is not present.\n",
      " |  \n",
      " |  insert(...)\n",
      " |      L.insert(index, object) -- insert object before index\n",
      " |  \n",
      " |  pop(...)\n",
      " |      L.pop([index]) -> item -- remove and return item at index (default last).\n",
      " |      Raises IndexError if list is empty or index is out of range.\n",
      " |  \n",
      " |  remove(...)\n",
      " |      L.remove(value) -> None -- remove first occurrence of value.\n",
      " |      Raises ValueError if the value is not present.\n",
      " |  \n",
      " |  reverse(...)\n",
      " |      L.reverse() -- reverse *IN PLACE*\n",
      " |  \n",
      " |  sort(...)\n",
      " |      L.sort(key=None, reverse=False) -> None -- stable sort *IN PLACE*\n",
      " |  \n",
      " |  ----------------------------------------------------------------------\n",
      " |  Data and other attributes defined here:\n",
      " |  \n",
      " |  __hash__ = None\n",
      "\n"
     ]
    }
   ],
   "source": [
    "help(l)"
   ]
  },
  {
   "cell_type": "markdown",
   "metadata": {},
   "source": [
    "The list class will be used to implement a basic _calculator_, which can only compute the value of arithmetic expressions written in the [Reverse Polish Notation](https://en.wikipedia.org/wiki/Reverse_Polish_notation).\n",
    "For instance, it can compute the results of expressions such as \"3 2 + 5 *\" (which gives 25).\n",
    "\n",
    "To do this, it uses a stack. More precisely, it reads the expression from left to right, when a number is read, it goes onto the stack, when an operator is read, the two numbers of the top of the stack are retrieved, the elementary computation is done and the result is stored back onto the stack. When the expression has been processed, the result of the evaluation can be found on the top of the stack, as illustrated below:\n",
    "\n",
    "![rpn](images/NPI_stack.jpg)\n",
    "\n",
    "### Question 2.1\n",
    "Define a `stack` class which contains an attribute of type `list` named `l`, and the following methods:\n",
    "\n",
    "- `_init__` (which creates an empty stack)\n",
    "- `push` (which push some value onto the stack)\n",
    "- `pop` (which returns the value on the top of the stack and removes it from the stack)\n"
   ]
  },
  {
   "cell_type": "code",
   "execution_count": null,
   "metadata": {},
   "outputs": [],
   "source": []
  },
  {
   "cell_type": "markdown",
   "metadata": {},
   "source": [
    "### Question 2.2\n",
    "Define a class `calculator` which contains an attribute `memory` of type `stack` together with the following methods:\n",
    "\n",
    "- `__init__` (which launches a calculator)\n",
    "- `eval` (which takes an arithmetic expression such as \"3 5 +\" as input and returns its value ; note that numbers and operators are separated by singles spaces)\n"
   ]
  },
  {
   "cell_type": "code",
   "execution_count": null,
   "metadata": {},
   "outputs": [],
   "source": []
  },
  {
   "cell_type": "markdown",
   "metadata": {},
   "source": [
    "### Question 3.3\n",
    "Uncomment and run the code below:"
   ]
  },
  {
   "cell_type": "code",
   "execution_count": 2,
   "metadata": {},
   "outputs": [],
   "source": [
    "if __name__=='__main__':\n",
    "    #c = calculator()\n",
    "    #e = input('Please enter an expression in Reverse Polish Notation:')\n",
    "    #print(c.eval(e))\n",
    "    pass"
   ]
  }
 ],
 "metadata": {
  "kernelspec": {
   "display_name": "Python 3",
   "language": "python",
   "name": "python3"
  },
  "language_info": {
   "codemirror_mode": {
    "name": "ipython",
    "version": 3
   },
   "file_extension": ".py",
   "mimetype": "text/x-python",
   "name": "python",
   "nbconvert_exporter": "python",
   "pygments_lexer": "ipython3",
   "version": "3.8.5"
  }
 },
 "nbformat": 4,
 "nbformat_minor": 2
}
