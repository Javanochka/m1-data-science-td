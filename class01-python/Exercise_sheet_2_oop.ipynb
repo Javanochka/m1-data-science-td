{
 "cells": [
  {
   "cell_type": "markdown",
   "metadata": {},
   "source": [
    "# Exercise sheet \\#2\n"
   ]
  },
  {
   "cell_type": "markdown",
   "metadata": {},
   "source": [
    "## Exercise 1\n",
    "In this exercise, we will program an ATM. An ATM is a device which can deliver/receive bank notes to/from customers, depending on the amount of money they have on their bank account.\n",
    "\n",
    "### Question 1.1\n",
    "First, we will represent customers as entities whose attributes are:\n",
    "- name (str)\n",
    "- birthdate (str of the form xx/xx/xxxx)\n",
    "- account_number (str)\n",
    "- secret_code (str) made of 4 digits\n",
    "- balance (float)\n",
    "\n",
    "Define a class `Customer` together with its `__init__` method allowing users to create customers.\n"
   ]
  },
  {
   "cell_type": "code",
   "execution_count": 1,
   "metadata": {},
   "outputs": [],
   "source": [
    "class Customer:\n",
    "    def __init__(self, \n",
    "                name : str = 'Pierre Poljak',\n",
    "                birthdate : str = '12/06/2002',\n",
    "                account_number : str ='001213',\n",
    "                secret_code : str = '0088',\n",
    "                balance : float = 0.0) -> None:\n",
    "        self.name = name\n",
    "        self.birthdate = birthdate\n",
    "        self.account_number = account_number\n",
    "        self.secret_code = secret_code\n",
    "        self.balance = balance"
   ]
  },
  {
   "cell_type": "markdown",
   "metadata": {},
   "source": [
    "### Question 1.2\n",
    "Add a method `debit` in the class `customer` which takes as an input a float and if there is enough money on the bank account, decreases the balance accordingly. If this is not the case, this method will print a warning message on the console and return `None`."
   ]
  },
  {
   "cell_type": "code",
   "execution_count": 2,
   "metadata": {},
   "outputs": [],
   "source": [
    "class Customer:\n",
    "    def __init__(self, \n",
    "                name : str = 'Pierre Poljak',\n",
    "                birthdate : str = '12/06/2002',\n",
    "                account_number : str ='001213',\n",
    "                secret_code : str = '0088',\n",
    "                balance : float = 0.0) -> None:\n",
    "        self.name = name\n",
    "        self.birthdate = birthdate\n",
    "        self.account_number = account_number\n",
    "        self.secret_code = secret_code\n",
    "        self.balance = balance\n",
    "\n",
    "    def debit(self, amount: float) -> None:\n",
    "        if self.balance >= amount:\n",
    "            self.balance -= amount\n",
    "        else:\n",
    "            print(\"Insufficient balance.\")"
   ]
  },
  {
   "cell_type": "markdown",
   "metadata": {},
   "source": [
    "### Question 1.3\n",
    "Add a method `credit` to the class `customer` which can be used to increase the amount of money of the curstomer's account."
   ]
  },
  {
   "cell_type": "code",
   "execution_count": 3,
   "metadata": {},
   "outputs": [],
   "source": [
    "class Customer:\n",
    "    def __init__(self, \n",
    "                name : str = 'Pierre Poljak',\n",
    "                birthdate : str = '12/06/2002',\n",
    "                account_number : str ='001213',\n",
    "                secret_code : str = '0088',\n",
    "                balance : float = 0.0) -> None:\n",
    "        self.name = name\n",
    "        self.birthdate = birthdate\n",
    "        self.account_number = account_number\n",
    "        self.secret_code = secret_code\n",
    "        self.balance = balance\n",
    "\n",
    "    def debit(self, amount: float) -> None:\n",
    "        if self.balance >= amount:\n",
    "            self.balance -= amount\n",
    "        else:\n",
    "            print(\"Insufficient balance.\")\n",
    "    \n",
    "    def credit(self, amount: float) -> None:\n",
    "        self.balance += amount\n",
    "    "
   ]
  },
  {
   "cell_type": "markdown",
   "metadata": {},
   "source": [
    "### Question 1.4\n",
    "In some context, one may be interested in displaying the pieces of information which characterize a given customer. To do so, we use a method named `__str__` and which is invoked when we call `print(str(x))` with `x` of type `customer`.\n",
    "Define this method to return strings of the following form:\n",
    "\n",
    "`Pierre Poljak, born on 2002/06/12, account 001213, 2504.25 EUR` "
   ]
  },
  {
   "cell_type": "code",
   "execution_count": 4,
   "metadata": {},
   "outputs": [],
   "source": [
    "class Customer:\n",
    "    def __init__(self, \n",
    "                name : str = 'Pierre Poljak',\n",
    "                birthdate : str = '12/06/2002',\n",
    "                account_number : str ='001213',\n",
    "                secret_code : str = '0088',\n",
    "                balance : float = 0.0) -> None:\n",
    "        self.name = name\n",
    "        self.birthdate = birthdate\n",
    "        self.account_number = account_number\n",
    "        self.secret_code = secret_code\n",
    "        self.balance = balance\n",
    "\n",
    "    def debit(self, amount: float) -> None:\n",
    "        if self.balance >= amount:\n",
    "            self.balance -= amount\n",
    "        else:\n",
    "            print(\"Insufficient balance.\")\n",
    "    \n",
    "    def credit(self, amount: float) -> None:\n",
    "        self.balance += amount\n",
    "\n",
    "    def __str__(self) -> str:\n",
    "        return f\"{self.name}, born on {self.birthdate}, account {self.account_number}, {self.balance} EUR\""
   ]
  },
  {
   "cell_type": "markdown",
   "metadata": {},
   "source": [
    "### Question 1.5\n",
    "We will now define an `ATM` class, whose attributes are:\n",
    " - a list of customers `lcustomers`\n",
    " - a number of 50-EUR bank notes `n50`\n",
    " - a number of 20-EUR bank notes `n20`\n",
    " - a number of 10-EUR bank notes `n10`\n",
    " \n",
    "together with an `__init__` method so that ATMs can be created."
   ]
  },
  {
   "cell_type": "code",
   "execution_count": 5,
   "metadata": {},
   "outputs": [],
   "source": [
    "class ATM:\n",
    "    def __init__(self, lcustomers:list = None, n50:int = 0, n20:int = 0, n10:int =0):\n",
    "        if not lcustomers:\n",
    "            lcustomers = []\n",
    "        self.lcustomers = lcustomers\n",
    "        self.n50 = n50\n",
    "        self.n20 = n20\n",
    "        self.n10 = n10\n"
   ]
  },
  {
   "cell_type": "markdown",
   "metadata": {},
   "source": [
    "### Question 1.6\n",
    "Add to the ATM class, a method `verify` which takes as an input an account number, and a secret code, and check (i) whether the account number is valid (that is, whether it appears among the customers), and (ii) whether the given secret code is identical to the secret code stored in the corresponding customer's pieces of information. This method returns `True` if the verification succeeds and `False` otherwise."
   ]
  },
  {
   "cell_type": "code",
   "execution_count": 6,
   "metadata": {},
   "outputs": [],
   "source": [
    "class ATM:\n",
    "    def __init__(self, lcustomers:list = None, n50:int = 0, n20:int = 0, n10:int =0):\n",
    "        if not lcustomers:\n",
    "            lcustomers = []\n",
    "        self.lcustomers = lcustomers\n",
    "        self.n50 = n50\n",
    "        self.n20 = n20\n",
    "        self.n10 = n10\n",
    "\n",
    "    def verify(self, account_number: str, secret_code: str) -> bool:\n",
    "        for customer in self.lcustomers:\n",
    "            if customer.account_number == account_number and customer.secret_code == secret_code:\n",
    "                return True\n",
    "        return False\n",
    "    "
   ]
  },
  {
   "cell_type": "markdown",
   "metadata": {},
   "source": [
    "### Question 1.7\n",
    "Define a method `change` which computes, for a given amount of money, the corresponding numbers of 10, 20 and 50 bank-notes."
   ]
  },
  {
   "cell_type": "code",
   "execution_count": 7,
   "metadata": {},
   "outputs": [],
   "source": [
    "class ATM:\n",
    "    def __init__(self, lcustomers:list = None, n50:int = 0, n20:int = 0, n10:int =0):\n",
    "        if not lcustomers:\n",
    "            lcustomers = []\n",
    "        self.lcustomers = lcustomers\n",
    "        self.n50 = n50\n",
    "        self.n20 = n20\n",
    "        self.n10 = n10\n",
    "\n",
    "    def verify(self, account_number: str, secret_code: str) -> bool:\n",
    "        for customer in self.lcustomers:\n",
    "            if customer.account_number == account_number and customer.secret_code == secret_code:\n",
    "                return True\n",
    "        return False\n",
    "        \n",
    "    def change(self, amount: int) -> tuple:\n",
    "        n50 = amount // 50\n",
    "        amount %= 50\n",
    "        n20 = amount // 20\n",
    "        amount %= 20\n",
    "        n10 = amount // 10\n",
    "        return n10, n20, n50\n",
    "    "
   ]
  },
  {
   "cell_type": "markdown",
   "metadata": {},
   "source": [
    "### Question 1.8\n",
    "Add to the ATM class, two methods named `debit` and `credit` which takes as inputs an account number and an amount of money, and applies the corresponding debit/credit (do not forget to check that there are enough bank notes in the ATM). These methods returns the new customer balance. "
   ]
  },
  {
   "cell_type": "code",
   "execution_count": 8,
   "metadata": {},
   "outputs": [],
   "source": [
    "class ATM:\n",
    "    def __init__(self, lcustomers:list = None, n50:int = 0, n20:int = 0, n10:int =0):\n",
    "        if not lcustomers:\n",
    "            lcustomers = []\n",
    "        self.lcustomers = lcustomers\n",
    "        self.n50 = n50\n",
    "        self.n20 = n20\n",
    "        self.n10 = n10\n",
    "\n",
    "    def verify(self, account_number: str, secret_code: str) -> bool:\n",
    "        for customer in self.lcustomers:\n",
    "            if customer.account_number == account_number and customer.secret_code == secret_code:\n",
    "                return True\n",
    "        return False\n",
    "        \n",
    "    def change(self, amount: int) -> tuple:\n",
    "        n50 = amount // 50\n",
    "        amount %= 50\n",
    "        n20 = amount // 20\n",
    "        amount %= 20\n",
    "        n10 = amount // 10\n",
    "        return n10, n20, n50\n",
    "    \n",
    "    def debit(self, account_number: str, amount: float) -> None:\n",
    "        for customer in self.lcustomers:\n",
    "            if customer.account_number == account_number:\n",
    "                if self.n50 * 50 + self.n20 * 20 + self.n10 * 10 >= amount:\n",
    "                    customer.debit(amount)\n",
    "                    return \n",
    "                else:\n",
    "                    print(\"Insufficient bank notes in the ATM.\")\n",
    "                    return \n",
    "        print(\"Account number not found.\")\n",
    "    \n",
    "    def credit(self, account_number: str, amount: float) -> None:\n",
    "        for customer in self.lcustomers:\n",
    "            if customer.account_number == account_number:\n",
    "                customer.credit(amount)\n",
    "                return \n",
    "        print(\"Account number not found.\")\n",
    "    "
   ]
  },
  {
   "cell_type": "markdown",
   "metadata": {},
   "source": [
    "### Question 1.9\n",
    "Add to the ATM class a method `run` which execute an infinite loop, waiting for a user to enter an account number. When such a number is typed, it then asks for the secret code, and if it succeeds, it displays a menu allowing the user to either withdraw money or make a deposit. "
   ]
  },
  {
   "cell_type": "code",
   "execution_count": 9,
   "metadata": {},
   "outputs": [],
   "source": [
    "class ATM:\n",
    "    def __init__(self, lcustomers:list = None, n50:int = 0, n20:int = 0, n10:int =0):\n",
    "        if not lcustomers:\n",
    "            lcustomers = []\n",
    "        self.lcustomers = lcustomers\n",
    "        self.n50 = n50\n",
    "        self.n20 = n20\n",
    "        self.n10 = n10\n",
    "\n",
    "    def verify(self, account_number: str, secret_code: str) -> bool:\n",
    "        for customer in self.lcustomers:\n",
    "            if customer.account_number == account_number and customer.secret_code == secret_code:\n",
    "                return True\n",
    "        return False\n",
    "        \n",
    "    def change(self, amount: int) -> tuple:\n",
    "        n50 = amount // 50\n",
    "        amount %= 50\n",
    "        n20 = amount // 20\n",
    "        amount %= 20\n",
    "        n10 = amount // 10\n",
    "        return n10, n20, n50\n",
    "    \n",
    "    def is_withdrawable(self, n10: int, n20: int, n50: int) -> bool:\n",
    "        return self.n10 >= n10 and self.n20 >= n20 and self.n50 >= n50\n",
    "\n",
    "    def update_inventory(self, n10: int, n20: int, n50: int) -> None:\n",
    "        self.n10 -= n10\n",
    "        self.n20 -= n20\n",
    "        self.n50 -= n50\n",
    "    \n",
    "    def debit(self, account_number: str, amount: float) -> None:\n",
    "        for customer in self.lcustomers:\n",
    "            if customer.account_number == account_number:\n",
    "                if amount % 10 != 0:\n",
    "                    print(\"The requested amount is not dispensable. Please request an amount divisible by 10.\")\n",
    "                    return\n",
    "                n10, n20, n50 = self.change(int(amount))\n",
    "                if self.is_withdrawable(n10, n20, n50):\n",
    "                    customer.debit(amount)\n",
    "                    self.update_inventory(n10, n20, n50)\n",
    "                    print(f\"Transaction successful. You will receive {n50} x $50, {n20} x $20, {n10} x $10 notes.\")\n",
    "                    return\n",
    "                else:\n",
    "                    print(\"Insufficient bank notes in the ATM.\")\n",
    "                    return\n",
    "        print(\"Account number not found.\")\n",
    "    \n",
    "\n",
    "\n",
    "\n",
    "    def credit(self, account_number: str, amount: float) -> None:\n",
    "        for customer in self.lcustomers:\n",
    "            if customer.account_number == account_number:\n",
    "                customer.credit(amount)\n",
    "                return None\n",
    "        print(\"Account number not found.\")\n",
    "    \n",
    "\n",
    "    def run(self) -> None:\n",
    "        while True:\n",
    "            account_number = input(\"Enter your account number: \")\n",
    "            secret_code = input(\"Enter your secret code: \")\n",
    "            if self.verify(account_number, secret_code):\n",
    "                print(\"1. Debit\")\n",
    "                print(\"2. Credit\")\n",
    "                print(\"3. Exit\")\n",
    "                choice = input(\"Enter your choice: \")\n",
    "                if choice == '1':\n",
    "                    amount = float(input(\"Enter the amount to debit: \"))\n",
    "                    self.debit(account_number, amount)\n",
    "                elif choice == '2':\n",
    "                    amount = float(input(\"Enter the amount to credit: \"))\n",
    "                    self.credit(account_number, amount)\n",
    "                elif choice == '3':\n",
    "                    break\n",
    "                else:\n",
    "                    print(\"Invalid choice.\")\n",
    "            else:\n",
    "                print(\"Invalid account number or secret code.\")\n",
    "        print(\"Goodbye.\")\n",
    "    "
   ]
  },
  {
   "cell_type": "markdown",
   "metadata": {},
   "source": [
    "### Question 1.10\n",
    "Finally, run the following code (it should not trigger any error):"
   ]
  },
  {
   "cell_type": "code",
   "execution_count": 10,
   "metadata": {},
   "outputs": [
    {
     "name": "stdout",
     "output_type": "stream",
     "text": [
      "Welcome\n",
      "1. Debit\n",
      "2. Credit\n",
      "3. Exit\n",
      "Goodbye.\n"
     ]
    }
   ],
   "source": [
    "if __name__=='__main__':\n",
    "    print('Welcome')\n",
    "    customer1 = Customer('Pierre Poljak', '2002/06/12', '001213', '0000', 2504.25)\n",
    "    customer2 = Customer('Matthieu Poljak', '2006/03/18', '001214', '0110', 504.45)\n",
    "    customer3 = Customer('Louis Poljak', '1998/12/12', '001215', '0020', 20004.23)\n",
    "    customer4 = Customer('Sophie Poljak', '2000/02/02', '001216', '0200', 5502.00)\n",
    "    atm = ATM([customer1, customer2, customer3, customer4], 20, 20, 20)\n",
    "    atm.run()"
   ]
  },
  {
   "cell_type": "markdown",
   "metadata": {},
   "source": [
    "## Exercise 2\n",
    "In this exercise, we will use the `list` class provided by Python.\n",
    "First, let us check that lists are indeed classes:"
   ]
  },
  {
   "cell_type": "code",
   "execution_count": 11,
   "metadata": {},
   "outputs": [
    {
     "data": {
      "text/plain": [
       "list"
      ]
     },
     "execution_count": 11,
     "metadata": {},
     "output_type": "execute_result"
    }
   ],
   "source": [
    "l = [2,4,5]\n",
    "type(l)"
   ]
  },
  {
   "cell_type": "markdown",
   "metadata": {},
   "source": [
    "The `help` function permits us to list the methods available for using lists"
   ]
  },
  {
   "cell_type": "code",
   "execution_count": 12,
   "metadata": {},
   "outputs": [
    {
     "name": "stdout",
     "output_type": "stream",
     "text": [
      "Help on list object:\n",
      "\n",
      "class list(object)\n",
      " |  list(iterable=(), /)\n",
      " |  \n",
      " |  Built-in mutable sequence.\n",
      " |  \n",
      " |  If no argument is given, the constructor creates a new empty list.\n",
      " |  The argument must be an iterable if specified.\n",
      " |  \n",
      " |  Methods defined here:\n",
      " |  \n",
      " |  __add__(self, value, /)\n",
      " |      Return self+value.\n",
      " |  \n",
      " |  __contains__(self, key, /)\n",
      " |      Return key in self.\n",
      " |  \n",
      " |  __delitem__(self, key, /)\n",
      " |      Delete self[key].\n",
      " |  \n",
      " |  __eq__(self, value, /)\n",
      " |      Return self==value.\n",
      " |  \n",
      " |  __ge__(self, value, /)\n",
      " |      Return self>=value.\n",
      " |  \n",
      " |  __getattribute__(self, name, /)\n",
      " |      Return getattr(self, name).\n",
      " |  \n",
      " |  __getitem__(...)\n",
      " |      x.__getitem__(y) <==> x[y]\n",
      " |  \n",
      " |  __gt__(self, value, /)\n",
      " |      Return self>value.\n",
      " |  \n",
      " |  __iadd__(self, value, /)\n",
      " |      Implement self+=value.\n",
      " |  \n",
      " |  __imul__(self, value, /)\n",
      " |      Implement self*=value.\n",
      " |  \n",
      " |  __init__(self, /, *args, **kwargs)\n",
      " |      Initialize self.  See help(type(self)) for accurate signature.\n",
      " |  \n",
      " |  __iter__(self, /)\n",
      " |      Implement iter(self).\n",
      " |  \n",
      " |  __le__(self, value, /)\n",
      " |      Return self<=value.\n",
      " |  \n",
      " |  __len__(self, /)\n",
      " |      Return len(self).\n",
      " |  \n",
      " |  __lt__(self, value, /)\n",
      " |      Return self<value.\n",
      " |  \n",
      " |  __mul__(self, value, /)\n",
      " |      Return self*value.\n",
      " |  \n",
      " |  __ne__(self, value, /)\n",
      " |      Return self!=value.\n",
      " |  \n",
      " |  __repr__(self, /)\n",
      " |      Return repr(self).\n",
      " |  \n",
      " |  __reversed__(self, /)\n",
      " |      Return a reverse iterator over the list.\n",
      " |  \n",
      " |  __rmul__(self, value, /)\n",
      " |      Return value*self.\n",
      " |  \n",
      " |  __setitem__(self, key, value, /)\n",
      " |      Set self[key] to value.\n",
      " |  \n",
      " |  __sizeof__(self, /)\n",
      " |      Return the size of the list in memory, in bytes.\n",
      " |  \n",
      " |  append(self, object, /)\n",
      " |      Append object to the end of the list.\n",
      " |  \n",
      " |  clear(self, /)\n",
      " |      Remove all items from list.\n",
      " |  \n",
      " |  copy(self, /)\n",
      " |      Return a shallow copy of the list.\n",
      " |  \n",
      " |  count(self, value, /)\n",
      " |      Return number of occurrences of value.\n",
      " |  \n",
      " |  extend(self, iterable, /)\n",
      " |      Extend list by appending elements from the iterable.\n",
      " |  \n",
      " |  index(self, value, start=0, stop=9223372036854775807, /)\n",
      " |      Return first index of value.\n",
      " |      \n",
      " |      Raises ValueError if the value is not present.\n",
      " |  \n",
      " |  insert(self, index, object, /)\n",
      " |      Insert object before index.\n",
      " |  \n",
      " |  pop(self, index=-1, /)\n",
      " |      Remove and return item at index (default last).\n",
      " |      \n",
      " |      Raises IndexError if list is empty or index is out of range.\n",
      " |  \n",
      " |  remove(self, value, /)\n",
      " |      Remove first occurrence of value.\n",
      " |      \n",
      " |      Raises ValueError if the value is not present.\n",
      " |  \n",
      " |  reverse(self, /)\n",
      " |      Reverse *IN PLACE*.\n",
      " |  \n",
      " |  sort(self, /, *, key=None, reverse=False)\n",
      " |      Sort the list in ascending order and return None.\n",
      " |      \n",
      " |      The sort is in-place (i.e. the list itself is modified) and stable (i.e. the\n",
      " |      order of two equal elements is maintained).\n",
      " |      \n",
      " |      If a key function is given, apply it once to each list item and sort them,\n",
      " |      ascending or descending, according to their function values.\n",
      " |      \n",
      " |      The reverse flag can be set to sort in descending order.\n",
      " |  \n",
      " |  ----------------------------------------------------------------------\n",
      " |  Class methods defined here:\n",
      " |  \n",
      " |  __class_getitem__(...) from builtins.type\n",
      " |      See PEP 585\n",
      " |  \n",
      " |  ----------------------------------------------------------------------\n",
      " |  Static methods defined here:\n",
      " |  \n",
      " |  __new__(*args, **kwargs) from builtins.type\n",
      " |      Create and return a new object.  See help(type) for accurate signature.\n",
      " |  \n",
      " |  ----------------------------------------------------------------------\n",
      " |  Data and other attributes defined here:\n",
      " |  \n",
      " |  __hash__ = None\n",
      "\n"
     ]
    }
   ],
   "source": [
    "help(l)"
   ]
  },
  {
   "cell_type": "markdown",
   "metadata": {},
   "source": [
    "The list class will be used to implement a basic _calculator_, which can only compute the value of arithmetic expressions written in the [Reverse Polish Notation](https://en.wikipedia.org/wiki/Reverse_Polish_notation).\n",
    "For instance, it can compute the results of expressions such as \"3 2 + 5 *\" (which gives 25).\n",
    "\n",
    "To do this, it uses a stack. More precisely, it reads the expression from left to right, when a number is read, it goes onto the stack, when an operator is read, the two numbers of the top of the stack are retrieved, the elementary computation is done and the result is stored back onto the stack. When the expression has been processed, the result of the evaluation can be found on the top of the stack, as illustrated below:\n",
    "\n",
    "![rpn](images/NPI_stack.jpg)\n",
    "\n",
    "### Question 2.1\n",
    "Define a `stack` class which contains an attribute of type `list` named `l`, and the following methods:\n",
    "\n",
    "- `_init__` (which creates an empty stack)\n",
    "- `push` (which push some value onto the stack)\n",
    "- `pop` (which returns the value on the top of the stack and removes it from the stack)\n"
   ]
  },
  {
   "cell_type": "code",
   "execution_count": 13,
   "metadata": {},
   "outputs": [],
   "source": [
    "class Stack:\n",
    "    def __init__(self) -> None:\n",
    "        self.l = []\n",
    "\n",
    "    def push(self, value) -> None:\n",
    "        self.l.append(value)\n",
    "\n",
    "    def pop(self):\n",
    "        return self.l.pop() if self.l else None"
   ]
  },
  {
   "cell_type": "markdown",
   "metadata": {},
   "source": [
    "### Question 2.2\n",
    "Define a class `calculator` which contains an attribute `memory` of type `stack` together with the following methods:\n",
    "\n",
    "- `__init__` (which launches a calculator)\n",
    "- `eval` (which takes an arithmetic expression such as \"3 5 +\" as input and returns its value ; note that numbers and operators are separated by singles spaces)\n"
   ]
  },
  {
   "cell_type": "code",
   "execution_count": 27,
   "metadata": {},
   "outputs": [],
   "source": [
    "class Calculator:\n",
    "    def __init__(self) -> None:\n",
    "        self.memory = Stack()\n",
    "    \n",
    "    def eval(self, s:str)-> float:\n",
    "        s = s.split()\n",
    "        for i in s:\n",
    "            if i.isdigit():\n",
    "                self.memory.push(float(i))\n",
    "            else:\n",
    "                b = self.memory.pop()\n",
    "                a = self.memory.pop()\n",
    "                if i == '+':\n",
    "                    self.memory.push(a+b)\n",
    "                elif i == '-':\n",
    "                    self.memory.push(a-b)\n",
    "                elif i == '*':\n",
    "                    self.memory.push(a*b)\n",
    "                elif i == '/':\n",
    "                    self.memory.push(a/b)\n",
    "        return self.memory.pop()"
   ]
  },
  {
   "cell_type": "markdown",
   "metadata": {},
   "source": [
    "### Question 3.3\n",
    "Uncomment and run the code below:"
   ]
  },
  {
   "cell_type": "code",
   "execution_count": 31,
   "metadata": {},
   "outputs": [
    {
     "name": "stdout",
     "output_type": "stream",
     "text": [
      "-100.0\n"
     ]
    }
   ],
   "source": [
    "if __name__=='__main__':\n",
    "    c = Calculator()\n",
    "    #e = input('Please enter an expression in Reverse Polish Notation:')\n",
    "    # e = '3 4 +'\n",
    "    # print(c.eval('3 4 +'))\n",
    "    print(c.eval('3 43 - 5 * 2 /'))\n",
    "    # pass"
   ]
  }
 ],
 "metadata": {
  "kernelspec": {
   "display_name": "Python 3",
   "language": "python",
   "name": "python3"
  },
  "language_info": {
   "codemirror_mode": {
    "name": "ipython",
    "version": 3
   },
   "file_extension": ".py",
   "mimetype": "text/x-python",
   "name": "python",
   "nbconvert_exporter": "python",
   "pygments_lexer": "ipython3",
   "version": "3.11.4"
  }
 },
 "nbformat": 4,
 "nbformat_minor": 2
}
