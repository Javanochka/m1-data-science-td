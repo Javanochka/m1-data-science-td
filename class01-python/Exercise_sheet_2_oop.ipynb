{
 "cells": [
  {
   "cell_type": "markdown",
   "metadata": {},
   "source": [
    "# Exercise sheet \\#2\n"
   ]
  },
  {
   "cell_type": "markdown",
   "metadata": {},
   "source": [
    "## Exercise 1\n",
    "In this exercise, we will program an ATM. An ATM is a device which can deliver/receive bank notes to/from customers, depending on the amount of money they have on their bank account.\n",
    "\n",
    "### Question 1.1\n",
    "First, we will represent customers as entities whose attributes are:\n",
    "- name (str)\n",
    "- birthdate (str of the form xx/xx/xxxx)\n",
    "- account_number (str)\n",
    "- secret_code (str) made of 4 digits\n",
    "- balance (float)\n",
    "\n",
    "Define a class `Customer` together with its `__init__` method allowing users to create customers.\n"
   ]
  },
  {
   "cell_type": "code",
   "execution_count": 1,
   "metadata": {},
   "outputs": [],
   "source": [
    "class Customer():\n",
    "\tdef __init__(self, name:str, birthdate:str, account_number:str, secret_code:str, balance:float):\n",
    "\t\tself.name = name\n",
    "\t\tself.birthdate = birthdate\n",
    "\t\tself.account_number = account_number\n",
    "\t\tself.secret_code = secret_code\n",
    "\t\tself.balance = balance"
   ]
  },
  {
   "cell_type": "markdown",
   "metadata": {},
   "source": [
    "### Question 1.2\n",
    "Add a method `debit` in the class `customer` which takes as an input a float and if there is enough money on the bank account, decreases the balance accordingly. If this is not the case, this method will print a warning message on the console and return `None`."
   ]
  },
  {
   "cell_type": "code",
   "execution_count": 11,
   "metadata": {},
   "outputs": [],
   "source": [
    "class Customer():\n",
    "\tdef __init__(self, name:str, birthdate:str, account_number:str, secret_code:str, balance:float):\n",
    "\t\tself.name = name\n",
    "\t\tself.birthdate = birthdate\n",
    "\t\tself.account_number = account_number\n",
    "\t\tself.secret_code = secret_code\n",
    "\t\tself.balance = balance\n",
    "\n",
    "\tdef debit(self, amount):\n",
    "\t\t\"\"\"debits the bank account with the amount if enough money omn the account\"\"\"\n",
    "\t\tif self.balance >= amount:\n",
    "\t\t\tself.balance -= amount \n",
    "\t\t\treturn self.balance\n",
    "\t\telse: \n",
    "\t\t\tprint('There is not enough money on the account')\n",
    "\t\t\treturn False "
   ]
  },
  {
   "cell_type": "markdown",
   "metadata": {},
   "source": [
    "### Question 1.3\n",
    "Add a method `credit` to the class `customer` which can be used to increase the amount of money of the curstomer's account."
   ]
  },
  {
   "cell_type": "code",
   "execution_count": 3,
   "metadata": {},
   "outputs": [],
   "source": [
    "class Customer():\n",
    "\tdef __init__(self, name:str, birthdate:str, account_number:str, secret_code:str, balance:float):\n",
    "\t\tself.name = name\n",
    "\t\tself.birthdate = birthdate\n",
    "\t\tself.account_number = account_number\n",
    "\t\tself.secret_code = secret_code\n",
    "\t\tself.balance = balance\n",
    "\n",
    "\tdef debit(self, amount:float):\n",
    "\t\t\"\"\"debits the bank account with the amount if enough money omn the account\"\"\"\n",
    "\t\tif self.balance > amount:\n",
    "\t\t\tself.balance -= amount \n",
    "\t\t\treturn self.balance\n",
    "\t\telse: \n",
    "\t\t\tprint('There is not enough money on the account')\n",
    "\t\t\treturn False \n",
    "\t\n",
    "\tdef credit(self, credit_amount:float):\n",
    "\t\t\"\"\"increases the balance\"\"\"\n",
    "\t\tself.balance += credit_amount \n",
    "\t\treturn self.balance"
   ]
  },
  {
   "cell_type": "markdown",
   "metadata": {},
   "source": [
    "### Question 1.4\n",
    "In some context, one may be interested in displaying the pieces of information which characterize a given customer. To do so, we use a method named `__str__` and which is invoked when we call `print(str(x))` with `x` of type `customer`.\n",
    "Define this method to return strings of the following form:\n",
    "\n",
    "`Pierre Poljak, born on 2002/06/12, account 001213, 2504.25 EUR` "
   ]
  },
  {
   "cell_type": "code",
   "execution_count": 4,
   "metadata": {},
   "outputs": [],
   "source": [
    "class Customer():\n",
    "\tdef __init__(self, name:str, birthdate:str, account_number:str, secret_code:str, balance:float):\n",
    "\t\tself.name = name\n",
    "\t\tself.birthdate = birthdate\n",
    "\t\tself.account_number = account_number\n",
    "\t\tself.secret_code = secret_code\n",
    "\t\tself.balance = balance\n",
    "\n",
    "\tdef debit(self, amount:float):\n",
    "\t\t\"\"\"debits the bank account with the amount if enough money omn the account\"\"\"\n",
    "\t\tif self.balance > amount:\n",
    "\t\t\tself.balance -= amount \n",
    "\t\t\treturn self.balance\n",
    "\t\telse: \n",
    "\t\t\tprint('There is not enough money on the account')\n",
    "\t\t\treturn False \n",
    "\t\n",
    "\tdef credit(self, credit_amount:float):\n",
    "\t\t\"\"\"increases the balance\"\"\"\n",
    "\t\tself.balance += credit_amount \n",
    "\t\treturn self.balance\n",
    "\t\n",
    "\tdef __str__(self) -> str:\n",
    "\t\treturn f'{self.name}, born on {self.birthdate}, account {self.account_number}, {self.balance} EUR'"
   ]
  },
  {
   "cell_type": "markdown",
   "metadata": {},
   "source": [
    "### Question 1.5\n",
    "We will now define an `ATM` class, whose attributes are:\n",
    " - a list of customers `lcustomers`\n",
    " - a number of 50-EUR bank notes `n50`\n",
    " - a number of 20-EUR bank notes `n20`\n",
    " - a number of 10-EUR bank notes `n10`\n",
    " \n",
    "together with an `__init__` method so that ATMs can be created."
   ]
  },
  {
   "cell_type": "code",
   "execution_count": 5,
   "metadata": {},
   "outputs": [],
   "source": [
    "class ATM():\n",
    "\tdef __init__(self, lcustomers:list, n50, n20, n10):\n",
    "\t\tself.lcustomers = lcustomers\n",
    "\t\tself.n50 = n50\n",
    "\t\tself.n20 = n20\n",
    "\t\tself.n10 = n10"
   ]
  },
  {
   "cell_type": "markdown",
   "metadata": {},
   "source": [
    "### Question 1.6\n",
    "Add to the ATM class, a method `verify` which takes as an input an account number, and a secret code, and check (i) whether the account number is valid (that is, whether it appears among the customers), and (ii) whether the given secret code is identical to the secret code stored in the corresponding customer's pieces of information. This method returns `True` if the verification succeeds and `False` otherwise."
   ]
  },
  {
   "cell_type": "code",
   "execution_count": 6,
   "metadata": {},
   "outputs": [],
   "source": [
    "class ATM():\n",
    "\tdef __init__(self, lcustomers:list, n50, n20, n10):\n",
    "\t\tself.lcustomers = lcustomers\n",
    "\t\tself.n50 = n50\n",
    "\t\tself.n20 = n20\n",
    "\t\tself.n10 = n10\n",
    "\t\n",
    "\tdef verify(self, account_number, secret_code):\n",
    "\t\t\"\"\"verifies whehter account number is valid and whether secret code is identical to the one stored in cutomer's pieces of information\"\"\"\n",
    "\t\tfor c in self.lcustomers:\n",
    "\t\t\tif account_number == c.account_number and secret_code == c.secret_code:\n",
    "\t\t\t\treturn True \n",
    "\t\t\telse: \n",
    "\t\t\t\treturn False "
   ]
  },
  {
   "cell_type": "markdown",
   "metadata": {},
   "source": [
    "### Question 1.7\n",
    "Define a method `change` which computes, for a given amount of money, the corresponding numbers of 10, 20 and 50 bank-notes."
   ]
  },
  {
   "cell_type": "code",
   "execution_count": 12,
   "metadata": {},
   "outputs": [],
   "source": [
    "class ATM():\n",
    "\tdef __init__(self, lcustomers:list, n50, n20, n10):\n",
    "\t\tself.lcustomers = lcustomers\n",
    "\t\tself.n50 = n50\n",
    "\t\tself.n20 = n20\n",
    "\t\tself.n10 = n10\n",
    "\t\n",
    "\tdef verify(self, account_number, secret_code):\n",
    "\t\t\"\"\"verifies whehter account number is valid and whether secret code is identical to the one stored in cutomer's pieces of information\"\"\"\n",
    "\t\tfor c in self.lcustomers:\n",
    "\t\t\tif account_number == c.account_number and secret_code == c.secret_code:\n",
    "\t\t\t\treturn True \n",
    "\t\t\telse: \n",
    "\t\t\t\treturn False \n",
    "\t\n",
    "\tdef change(self, amount):\n",
    "\t\t\"\"\"computes for given amount of money the corresponding numbers of 10, 20 and 50 bank notes\"\"\"\n",
    "\t\tnote_50 = amount//50\n",
    "\t\tif note_50 < self.n50:\n",
    "\t\t\t#self.n50 -= note_50\n",
    "\t\t\tamount = amount%50\n",
    "\t\telse:\n",
    "\t\t\tnote_50 = 0\n",
    "\t\t\n",
    "\t\tnote_20 = amount//20\n",
    "\t\tif note_20 < self.n20:\n",
    "\t\t\t#self.n20 -= note_20\n",
    "\t\t\tamount = amount%20\n",
    "\t\telse:\n",
    "\t\t\tnote_20 = 0\n",
    "\t\t\n",
    "\t\tnote_10 = amount//10\n",
    "\t\tif note_10 < self.n10:\n",
    "\t\t\t#self.n10 -= note_10\n",
    "\t\t\tamount = amount%10\n",
    "\t\telse: \n",
    "\t\t\tnote_10 = 0\n",
    "\t\treturn f'50€ bank notes: {note_50}, 20€ bank notes: {note_20}, 10€ bank notes: {note_10}'"
   ]
  },
  {
   "cell_type": "markdown",
   "metadata": {},
   "source": [
    "### Question 1.8\n",
    "Add to the ATM class, two methods named `debit` and `credit` which takes as inputs an account number and an amount of money, and applies the corresponding debit/credit (do not forget to check that there are enough bank notes in the ATM). These methods returns the new customer balance. "
   ]
  },
  {
   "cell_type": "code",
   "execution_count": 8,
   "metadata": {},
   "outputs": [],
   "source": [
    "class ATM():\n",
    "\tdef __init__(self, lcustomers:list, n50, n20, n10):\n",
    "\t\tself.lcustomers = lcustomers\n",
    "\t\tself.n50 = n50\n",
    "\t\tself.n20 = n20\n",
    "\t\tself.n10 = n10\n",
    "\t\n",
    "\tdef verify(self, account_number, secret_code):\n",
    "\t\t\"\"\"verifies whehter account number is valid and whether secret code is identical to the one stored in cutomer's pieces of information\"\"\"\n",
    "\t\tfor c in self.lcustomers:\n",
    "\t\t\tif account_number == c.account_number and secret_code == c.secret_code:\n",
    "\t\t\t\treturn True \n",
    "\t\t\telse: \n",
    "\t\t\t\treturn False \n",
    "\t\n",
    "\tdef change(self, amount):\n",
    "\t\t\"\"\"computes for given amount of money the corresponding numbers of 10, 20 and 50 bank notes\"\"\"\n",
    "\t\tnote_50 = amount//50\n",
    "\t\tif note_50 < self.n50:\n",
    "\t\t\t#self.n50 -= note_50\n",
    "\t\t\tamount = amount%50\n",
    "\t\telse:\n",
    "\t\t\tnote_50 = 0\n",
    "\t\t\n",
    "\t\tnote_20 = amount//20\n",
    "\t\tif note_20 < self.n20:\n",
    "\t\t\t#self.n20 -= note_20\n",
    "\t\t\tamount = amount%20\n",
    "\t\telse:\n",
    "\t\t\tnote_20 = 0\n",
    "\t\t\n",
    "\t\tnote_10 = amount//10\n",
    "\t\tif note_10 < self.n10:\n",
    "\t\t\t#self.n10 -= note_10\n",
    "\t\t\tamount = amount%10\n",
    "\t\telse: \n",
    "\t\t\tnote_10 = 0\n",
    "\t\treturn (note_50, note_20, note_10)\n",
    "\t\n",
    "\tdef debit(self, account_number, amount):\n",
    "\t\t\"\"\"takes the money from the customers account\"\"\"\n",
    "\t\tif amount < self.n50*50+self.n20*20+self.n10*10:\n",
    "\t\t\tfor c in self.lcustomers:\n",
    "\t\t\t\tif account_number == c.account_number: \n",
    "\t\t\t\t\tself.n50 -= self.change(amount)[0]\n",
    "\t\t\t\t\tself.n20 -= self.change(amount)[1]\n",
    "\t\t\t\t\tself.n10 -= self.change(amount)[2]\n",
    "\t\t\t\t\treturn c.debit(amount)\n",
    "\t\t\t\t\n",
    "\tdef credit(self, account_number, amount):\n",
    "\t\t\"\"\"gives the money to the customers account\"\"\"\n",
    "\t\tfor c in self.lcustomers:\n",
    "\t\t\tif account_number == c.account_number: \n",
    "\t\t\t\tself.n50 += self.change(amount)[0]\n",
    "\t\t\t\tself.n20 += self.change(amount)[1]\n",
    "\t\t\t\tself.n10 += self.change(amount)[2]\n",
    "\t\t\t\treturn c.credit(amount)"
   ]
  },
  {
   "cell_type": "markdown",
   "metadata": {},
   "source": [
    "### Question 1.9\n",
    "Add to the ATM class a method `run` which execute an infinite loop, waiting for a user to enter an account number. When such a number is typed, it then asks for the secret code, and if it succeeds, it displays a menu allowing the user to either withdraw money or make a deposit. "
   ]
  },
  {
   "cell_type": "code",
   "execution_count": 9,
   "metadata": {},
   "outputs": [],
   "source": [
    "class ATM():\n",
    "\tdef __init__(self, lcustomers:list, n50, n20, n10):\n",
    "\t\tself.lcustomers = lcustomers\n",
    "\t\tself.n50 = n50\n",
    "\t\tself.n20 = n20\n",
    "\t\tself.n10 = n10\n",
    "\t\n",
    "\tdef verify(self, account_number, secret_code):\n",
    "\t\t\"\"\"verifies whehter account number is valid and whether secret code is identical to the one stored in cutomer's pieces of information\"\"\"\n",
    "\t\tfor c in self.lcustomers:\n",
    "\t\t\tif account_number == c.account_number and secret_code == c.secret_code:\n",
    "\t\t\t\treturn True \n",
    "\t\t\telse: \n",
    "\t\t\t\treturn False \n",
    "\t\n",
    "\tdef change(self, amount):\n",
    "\t\t\"\"\"computes for given amount of money the corresponding numbers of 10, 20 and 50 bank notes\"\"\"\n",
    "\t\tnote_50 = amount//50\n",
    "\t\tif note_50 < self.n50:\n",
    "\t\t\t#self.n50 -= note_50\n",
    "\t\t\tamount = amount%50\n",
    "\t\telse:\n",
    "\t\t\tnote_50 = 0\n",
    "\t\t\n",
    "\t\tnote_20 = amount//20\n",
    "\t\tif note_20 < self.n20:\n",
    "\t\t\t#self.n20 -= note_20\n",
    "\t\t\tamount = amount%20\n",
    "\t\telse:\n",
    "\t\t\tnote_20 = 0\n",
    "\t\t\n",
    "\t\tnote_10 = amount//10\n",
    "\t\tif note_10 < self.n10:\n",
    "\t\t\t#self.n10 -= note_10\n",
    "\t\t\tamount = amount%10\n",
    "\t\telse: \n",
    "\t\t\tnote_10 = 0\n",
    "\t\treturn (note_50, note_20, note_10)\n",
    "\t\n",
    "\tdef debit(self, account_number, amount):\n",
    "\t\t\"\"\"takes the money from the customers account\"\"\"\n",
    "\t\tif amount < self.n50*50+self.n20*20+self.n10*10:\n",
    "\t\t\tfor c in self.lcustomers:\n",
    "\t\t\t\tif account_number == c.account_number: \n",
    "\t\t\t\t\tself.n50 -= self.change(amount)[0]\n",
    "\t\t\t\t\tself.n20 -= self.change(amount)[1]\n",
    "\t\t\t\t\tself.n10 -= self.change(amount)[2]\n",
    "\t\t\t\t\treturn c.debit(amount)\n",
    "\t\t\t\t\n",
    "\tdef credit(self, account_number, amount):\n",
    "\t\t\"\"\"gives the money to the customers account\"\"\"\n",
    "\t\tfor c in self.lcustomers:\n",
    "\t\t\tif account_number == c.account_number: \n",
    "\t\t\t\tself.n50 += self.change(amount)[0]\n",
    "\t\t\t\tself.n20 += self.change(amount)[1]\n",
    "\t\t\t\tself.n10 += self.change(amount)[2]\n",
    "\t\t\t\treturn c.credit(amount)\n",
    "\t\t\t\n",
    "\tdef run(self):\n",
    "\t\tnumber = ''\n",
    "\t\twhile number == '': \n",
    "\t\t\tnumber = input('Please enter an account number')\t\n",
    "\t\tfor c in self.lcustomers:\n",
    "\t\t\tif number == c.account_number:\n",
    "\t\t\t\tsecret_code = ''\n",
    "\t\t\t\twhile secret_code == '':\n",
    "\t\t\t\t\tsecret_code = input('Please enter your secret code')\n",
    "\t\t\t\tif c.secret_code == secret_code:\n",
    "\t\t\t\t\tprint(f'You can either withdraw money or make a deposit')\n",
    "\t\t\t\t\treturn True\n",
    "\t\treturn False  "
   ]
  },
  {
   "cell_type": "code",
   "execution_count": null,
   "metadata": {},
   "outputs": [],
   "source": [
    "# solution from chatGPT for the \"run\" method\n",
    "   def run(self):\n",
    "        while True:\n",
    "            account_number = input(\"Enter your account number (or 'exit' to quit): \")\n",
    "            if account_number.lower() == 'exit':\n",
    "                break\n",
    "            secret_code = input(\"Enter your secret code: \")\n",
    "            if self.verify(account_number, secret_code):\n",
    "                print(\"Welcome!\")\n",
    "                while True:\n",
    "                    print(\"\\nMenu:\")\n",
    "                    print(\"1. Withdraw money\")\n",
    "                    print(\"2. Make a deposit\")\n",
    "                    print(\"3. Exit\")\n",
    "                    choice = input(\"Enter your choice: \")\n",
    "                    if choice == '1':\n",
    "                        amount = int(input(\"Enter the amount to withdraw: \"))\n",
    "                        if self.debit(account_number, secret_code, amount):\n",
    "                            print(\"Money withdrawn successfully.\")\n",
    "                        else:\n",
    "                            print(\"Insufficient funds or invalid amount.\")\n",
    "                    elif choice == '2':\n",
    "                        amount = int(input(\"Enter the amount to deposit: \"))\n",
    "                        if self.credit(account_number, secret_code, amount):\n",
    "                            print(\"Money deposited successfully.\")\n",
    "                        else:\n",
    "                            print(\"Invalid amount.\")\n",
    "                    elif choice == '3':\n",
    "                        print(\"Exiting menu.\")\n",
    "                        break\n",
    "                    else:\n",
    "                        print(\"Invalid choice. Please try again.\")\n",
    "            else:\n",
    "                print(\"Invalid account number or secret code.\")\n"
   ]
  },
  {
   "cell_type": "markdown",
   "metadata": {},
   "source": [
    "### Question 1.10\n",
    "Finally, run the following code (it should not trigger any error):"
   ]
  },
  {
   "cell_type": "code",
   "execution_count": 7,
   "metadata": {},
   "outputs": [
    {
     "name": "stdout",
     "output_type": "stream",
     "text": [
      "Welcome\n"
     ]
    }
   ],
   "source": [
    "if __name__=='__main__':\n",
    "    print('Welcome')\n",
    "    customer1 = Customer('Pierre Poljak', '2002/06/12', '001213', '0000', 2504.25)\n",
    "    customer2 = Customer('Matthieu Poljak', '2006/03/18', '001214', '0110', 504.45)\n",
    "    customer3 = Customer('Louis Poljak', '1998/12/12', '001215', '0020', 20004.23)\n",
    "    customer4 = Customer('Sophie Poljak', '2000/02/02', '001216', '0200', 5502.00)\n",
    "    #atm = ATM([customer1, customer2, customer3, customer4], 20, 20, 20)\n",
    "    #atm.run()"
   ]
  },
  {
   "cell_type": "markdown",
   "metadata": {},
   "source": [
    "## Exercise 2\n",
    "In this exercise, we will use the `list` class provided by Python.\n",
    "First, let us check that lists are indeed classes:"
   ]
  },
  {
   "cell_type": "code",
   "execution_count": 8,
   "metadata": {},
   "outputs": [
    {
     "data": {
      "text/plain": [
       "list"
      ]
     },
     "execution_count": 8,
     "metadata": {},
     "output_type": "execute_result"
    }
   ],
   "source": [
    "l = [2,4,5]\n",
    "type(l)"
   ]
  },
  {
   "cell_type": "markdown",
   "metadata": {},
   "source": [
    "The `help` function permits us to list the methods available for using lists"
   ]
  },
  {
   "cell_type": "code",
   "execution_count": 9,
   "metadata": {},
   "outputs": [
    {
     "name": "stdout",
     "output_type": "stream",
     "text": [
      "Help on list object:\n",
      "\n",
      "class list(object)\n",
      " |  list() -> new empty list\n",
      " |  list(iterable) -> new list initialized from iterable's items\n",
      " |  \n",
      " |  Methods defined here:\n",
      " |  \n",
      " |  __add__(self, value, /)\n",
      " |      Return self+value.\n",
      " |  \n",
      " |  __contains__(self, key, /)\n",
      " |      Return key in self.\n",
      " |  \n",
      " |  __delitem__(self, key, /)\n",
      " |      Delete self[key].\n",
      " |  \n",
      " |  __eq__(self, value, /)\n",
      " |      Return self==value.\n",
      " |  \n",
      " |  __ge__(self, value, /)\n",
      " |      Return self>=value.\n",
      " |  \n",
      " |  __getattribute__(self, name, /)\n",
      " |      Return getattr(self, name).\n",
      " |  \n",
      " |  __getitem__(...)\n",
      " |      x.__getitem__(y) <==> x[y]\n",
      " |  \n",
      " |  __gt__(self, value, /)\n",
      " |      Return self>value.\n",
      " |  \n",
      " |  __iadd__(self, value, /)\n",
      " |      Implement self+=value.\n",
      " |  \n",
      " |  __imul__(self, value, /)\n",
      " |      Implement self*=value.\n",
      " |  \n",
      " |  __init__(self, /, *args, **kwargs)\n",
      " |      Initialize self.  See help(type(self)) for accurate signature.\n",
      " |  \n",
      " |  __iter__(self, /)\n",
      " |      Implement iter(self).\n",
      " |  \n",
      " |  __le__(self, value, /)\n",
      " |      Return self<=value.\n",
      " |  \n",
      " |  __len__(self, /)\n",
      " |      Return len(self).\n",
      " |  \n",
      " |  __lt__(self, value, /)\n",
      " |      Return self<value.\n",
      " |  \n",
      " |  __mul__(self, value, /)\n",
      " |      Return self*value.\n",
      " |  \n",
      " |  __ne__(self, value, /)\n",
      " |      Return self!=value.\n",
      " |  \n",
      " |  __new__(*args, **kwargs) from builtins.type\n",
      " |      Create and return a new object.  See help(type) for accurate signature.\n",
      " |  \n",
      " |  __repr__(self, /)\n",
      " |      Return repr(self).\n",
      " |  \n",
      " |  __reversed__(...)\n",
      " |      L.__reversed__() -- return a reverse iterator over the list\n",
      " |  \n",
      " |  __rmul__(self, value, /)\n",
      " |      Return value*self.\n",
      " |  \n",
      " |  __setitem__(self, key, value, /)\n",
      " |      Set self[key] to value.\n",
      " |  \n",
      " |  __sizeof__(...)\n",
      " |      L.__sizeof__() -- size of L in memory, in bytes\n",
      " |  \n",
      " |  append(...)\n",
      " |      L.append(object) -> None -- append object to end\n",
      " |  \n",
      " |  clear(...)\n",
      " |      L.clear() -> None -- remove all items from L\n",
      " |  \n",
      " |  copy(...)\n",
      " |      L.copy() -> list -- a shallow copy of L\n",
      " |  \n",
      " |  count(...)\n",
      " |      L.count(value) -> integer -- return number of occurrences of value\n",
      " |  \n",
      " |  extend(...)\n",
      " |      L.extend(iterable) -> None -- extend list by appending elements from the iterable\n",
      " |  \n",
      " |  index(...)\n",
      " |      L.index(value, [start, [stop]]) -> integer -- return first index of value.\n",
      " |      Raises ValueError if the value is not present.\n",
      " |  \n",
      " |  insert(...)\n",
      " |      L.insert(index, object) -- insert object before index\n",
      " |  \n",
      " |  pop(...)\n",
      " |      L.pop([index]) -> item -- remove and return item at index (default last).\n",
      " |      Raises IndexError if list is empty or index is out of range.\n",
      " |  \n",
      " |  remove(...)\n",
      " |      L.remove(value) -> None -- remove first occurrence of value.\n",
      " |      Raises ValueError if the value is not present.\n",
      " |  \n",
      " |  reverse(...)\n",
      " |      L.reverse() -- reverse *IN PLACE*\n",
      " |  \n",
      " |  sort(...)\n",
      " |      L.sort(key=None, reverse=False) -> None -- stable sort *IN PLACE*\n",
      " |  \n",
      " |  ----------------------------------------------------------------------\n",
      " |  Data and other attributes defined here:\n",
      " |  \n",
      " |  __hash__ = None\n",
      "\n"
     ]
    }
   ],
   "source": [
    "help(l)"
   ]
  },
  {
   "cell_type": "markdown",
   "metadata": {},
   "source": [
    "The list class will be used to implement a basic _calculator_, which can only compute the value of arithmetic expressions written in the [Reverse Polish Notation](https://en.wikipedia.org/wiki/Reverse_Polish_notation).\n",
    "For instance, it can compute the results of expressions such as \"3 2 + 5 *\" (which gives 25).\n",
    "\n",
    "To do this, it uses a stack. More precisely, it reads the expression from left to right, when a number is read, it goes onto the stack, when an operator is read, the two numbers of the top of the stack are retrieved, the elementary computation is done and the result is stored back onto the stack. When the expression has been processed, the result of the evaluation can be found on the top of the stack, as illustrated below:\n",
    "\n",
    "![rpn](images/NPI_stack.jpg)\n",
    "\n",
    "### Question 2.1\n",
    "Define a `stack` class which contains an attribute of type `list` named `l`, and the following methods:\n",
    "\n",
    "- `_init__` (which creates an empty stack)\n",
    "- `push` (which push some value onto the stack)\n",
    "- `pop` (which returns the value on the top of the stack and removes it from the stack)\n"
   ]
  },
  {
   "cell_type": "code",
   "execution_count": 13,
   "metadata": {},
   "outputs": [],
   "source": [
    "class Stack():\n",
    "\tdef __init(self):\n",
    "\t\tself.stack = []\n",
    "\t\n",
    "\tdef push(self, element):\n",
    "\t\t\"\"\"pushes value onto the stack\"\"\"\n",
    "\t\tself.stack.add(element)\n",
    "\t\treturn self.stack[-1]\n",
    "\t\n",
    "\tdef pop(self):\n",
    "\t\t\"\"\"returns value on top of stack and removes it from stack\"\"\"\n",
    "\t\treturn self.stack.pop()"
   ]
  },
  {
   "cell_type": "markdown",
   "metadata": {},
   "source": [
    "### Question 2.2\n",
    "Define a class `calculator` which contains an attribute `memory` of type `stack` together with the following methods:\n",
    "\n",
    "- `__init__` (which launches a calculator)\n",
    "- `eval` (which takes an arithmetic expression such as \"3 5 +\" as input and returns its value ; note that numbers and operators are separated by singles spaces)\n"
   ]
  },
  {
   "cell_type": "code",
   "execution_count": null,
   "metadata": {},
   "outputs": [],
   "source": [
    "class Calculator():\n",
    "\tdef __init__(self):\n",
    "\t\tself.memory = Stack() \n",
    "\n",
    "\tdef eval(self, expression):\n",
    "\t\t\"\"\"takes an arithmetic expression and returns its value\"\"\"\n",
    "\t\tex_list = []\n",
    "\t\tops = ['+', '-', '*', '/', '^']\n",
    "\t\toperation = []\n",
    "\t\tfor el in expression: \n",
    "\t\t\tex_list.append(el)\n",
    "\t\twhile len(ex_list) > 0:\n",
    "\t\t\tval = ''\n",
    "\t\t\twhile val not in ops: \n",
    "\t\t\t\tval = self.memory.push(ex_list)\n",
    "\t\t\tval1 = self.memory.pop()\n",
    "\t\t\tval2 = self.memory.pop()\n",
    "\t\t\toperation.extend([val1, val, val2])\n",
    "\t\treturn operation\n"
   ]
  },
  {
   "cell_type": "markdown",
   "metadata": {},
   "source": [
    "### Question 3.3\n",
    "Uncomment and run the code below:"
   ]
  },
  {
   "cell_type": "code",
   "execution_count": 2,
   "metadata": {},
   "outputs": [],
   "source": [
    "if __name__=='__main__':\n",
    "    #c = calculator()\n",
    "    #e = input('Please enter an expression in Reverse Polish Notation:')\n",
    "    #print(c.eval(e))\n",
    "    pass"
   ]
  }
 ],
 "metadata": {
  "kernelspec": {
   "display_name": "Python 3 (ipykernel)",
   "language": "python",
   "name": "python3"
  },
  "language_info": {
   "codemirror_mode": {
    "name": "ipython",
    "version": 3
   },
   "file_extension": ".py",
   "mimetype": "text/x-python",
   "name": "python",
   "nbconvert_exporter": "python",
   "pygments_lexer": "ipython3",
   "version": "3.10.7"
  }
 },
 "nbformat": 4,
 "nbformat_minor": 4
}
