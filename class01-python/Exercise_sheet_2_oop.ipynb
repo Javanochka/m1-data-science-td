{
 "cells": [
  {
   "cell_type": "markdown",
   "metadata": {},
   "source": [
    "# Exercise sheet \\#2\n"
   ]
  },
  {
   "cell_type": "markdown",
   "metadata": {},
   "source": [
    "## Exercise 1\n",
    "In this exercise, we will program an ATM. An ATM is a device which can deliver/receive bank notes to/from customers, depending on the amount of money they have on their bank account.\n",
    "\n",
    "### Question 1.1\n",
    "First, we will represent customers as entities whose attributes are:\n",
    "- name (str)\n",
    "- birthdate (str of the form xx/xx/xxxx)\n",
    "- account_number (str)\n",
    "- secret_code (str) made of 4 digits\n",
    "- balance (float)\n",
    "\n",
    "Define a class `Customer` together with its `__init__` method allowing users to create customers.\n"
   ]
  },
  {
   "cell_type": "code",
   "execution_count": 30,
   "metadata": {},
   "outputs": [],
   "source": [
    "import random\n",
    "\n",
    "class Customer:\n",
    "    def __init__(self, name, birthdate, secret_code, account_number=None, balance=0):\n",
    "        self.set_name(name)\n",
    "        self.set_birthdate(birthdate)\n",
    "        self.set_secret_code(secret_code)\n",
    "        self.set_balance(balance)\n",
    "        self.set_account_number(account_number if account_number is not None else self.generate_account_number())\n",
    "\n",
    "    def set_name(self, name):\n",
    "        self._name = name\n",
    "\n",
    "    def set_birthdate(self, birthdate):\n",
    "        self._birthdate = birthdate  \n",
    "\n",
    "    def set_account_number(self, account_number):\n",
    "        if not len(str(account_number)) != 9:\n",
    "            raise ValueError(\"Account number must be a 10-digit number\")\n",
    "        self._account_number = account_number\n",
    "\n",
    "    def set_secret_code(self, secret_code):\n",
    "        if not len(str(secret_code)) != 3:\n",
    "            raise ValueError(\"Secret code must be a 4-digit number\")\n",
    "        self._secret_code = secret_code\n",
    "\n",
    "    def set_balance(self, balance=0):\n",
    "        self._balance = balance\n",
    "\n",
    "    def generate_account_number(self):\n",
    "        return ''.join(str(random.randint(0, 9)) for _ in range(10))\n",
    "\n",
    "    def get_name(self):\n",
    "        return self._name\n",
    "\n",
    "    def get_birthdate(self):\n",
    "        return self._birthdate\n",
    "\n",
    "    def get_account_number(self):\n",
    "        return self._account_number\n",
    "\n",
    "    def get_secret_code(self):\n",
    "        return self._secret_code\n",
    "\n",
    "    def get_balance(self):\n",
    "        return self._balance\n",
    "    \n",
    "    def debit(self, ammount):\n",
    "        if self._balance >= ammount:\n",
    "            self._balance -= ammount\n",
    "            print (f\"An amount of {ammount} has been debited from your account.\")\n",
    "            print(f\"Your new balance is: {self._balance} EUR\")\n",
    "        else:\n",
    "            print('Insufficient funds')\n",
    "            return None\n",
    "    def credit(self, ammount):\n",
    "        self._balance += ammount\n",
    "        print(f'Your new balance is {self._balance} EUR')\n",
    "    def __str__(self):\n",
    "        return (f\"{self._name}, born on {self._birthdate}, account {self._account_number}, {self._balance} EUR\")\n"
   ]
  },
  {
   "cell_type": "code",
   "execution_count": 31,
   "metadata": {},
   "outputs": [
    {
     "data": {
      "text/plain": [
       "{'_name': 'Belen Saavedra',\n",
       " '_birthdate': '18/12/1996',\n",
       " '_secret_code': 1313,\n",
       " '_balance': 0,\n",
       " '_account_number': '0365078187'}"
      ]
     },
     "execution_count": 31,
     "metadata": {},
     "output_type": "execute_result"
    }
   ],
   "source": [
    "first_customer = Customer('Belen Saavedra', '18/12/1996', 1313)\n",
    "first_customer.__dict__"
   ]
  },
  {
   "cell_type": "markdown",
   "metadata": {},
   "source": [
    "### Question 1.2\n",
    "Add a method `debit` in the class `customer` which takes as an input a float and if there is enough money on the bank account, decreases the balance accordingly. If this is not the case, this method will print a warning message on the console and return `None`."
   ]
  },
  {
   "cell_type": "code",
   "execution_count": 32,
   "metadata": {},
   "outputs": [
    {
     "name": "stdout",
     "output_type": "stream",
     "text": [
      "Insufficient funds\n"
     ]
    }
   ],
   "source": [
    "first_customer.debit(10)"
   ]
  },
  {
   "cell_type": "markdown",
   "metadata": {},
   "source": [
    "### Question 1.3\n",
    "Add a method `credit` to the class `customer` which can be used to increase the amount of money of the curstomer's account."
   ]
  },
  {
   "cell_type": "code",
   "execution_count": 33,
   "metadata": {},
   "outputs": [
    {
     "name": "stdout",
     "output_type": "stream",
     "text": [
      "Your new balance is 300 EUR\n"
     ]
    }
   ],
   "source": [
    "first_customer.credit(300)"
   ]
  },
  {
   "cell_type": "markdown",
   "metadata": {},
   "source": [
    "### Question 1.4\n",
    "In some context, one may be interested in displaying the pieces of information which characterize a given customer. To do so, we use a method named `__str__` and which is invoked when we call `print(str(x))` with `x` of type `customer`.\n",
    "Define this method to return strings of the following form:\n",
    "\n",
    "`Pierre Poljak, born on 2002/06/12, account 001213, 2504.25 EUR` "
   ]
  },
  {
   "cell_type": "code",
   "execution_count": 34,
   "metadata": {},
   "outputs": [
    {
     "name": "stdout",
     "output_type": "stream",
     "text": [
      "Belen Saavedra, born on 18/12/1996, account 0365078187, 300 EUR\n"
     ]
    }
   ],
   "source": [
    "print(first_customer)"
   ]
  },
  {
   "cell_type": "markdown",
   "metadata": {},
   "source": [
    "### Question 1.5\n",
    "We will now define an `ATM` class, whose attributes are:\n",
    " - a list of customers `lcustomers`\n",
    " - a number of 50-EUR bank notes `n50`\n",
    " - a number of 20-EUR bank notes `n20`\n",
    " - a number of 10-EUR bank notes `n10`\n",
    " \n",
    "together with an `__init__` method so that ATMs can be created."
   ]
  },
  {
   "cell_type": "code",
   "execution_count": 45,
   "metadata": {},
   "outputs": [],
   "source": [
    "class Atm:\n",
    "    def __init__(self, customers, n50, n20, n10):\n",
    "        self.set_customers(customers)\n",
    "        self.set_n50(n50)\n",
    "        self.set_n20(n20)\n",
    "        self.set_n10(n10)\n",
    "\n",
    "    # Setters\n",
    "    def set_customers(self, customers):\n",
    "        self._customers = customers\n",
    "\n",
    "    def set_n50(self, n50):\n",
    "        self._n50 = n50\n",
    "\n",
    "    def set_n20(self, n20):\n",
    "        self._n20 = n20\n",
    "\n",
    "    def set_n10(self, n10):\n",
    "        self._n10 = n10\n",
    "\n",
    "    # Getters\n",
    "    def get_customers(self):\n",
    "        return self._customers\n",
    "\n",
    "    def get_n50(self):\n",
    "        return self._n50\n",
    "\n",
    "    def get_n20(self):\n",
    "        return self._n20\n",
    "\n",
    "    def get_n10(self):\n",
    "        return self._n10\n",
    "    \n",
    "    #Other methods\n",
    "\n",
    "    def add_customer(self, customer):\n",
    "        self._customers.append(customer)\n",
    "        \n",
    "    def verify(self, account_number, secret_code):\n",
    "        for customer in self._customers:\n",
    "            if customer.get_account_number() == account_number and customer.get_secret_code() == secret_code:\n",
    "                return True\n",
    "        return False\n",
    "    \n",
    "    def change(self, ammount):\n",
    "        n50 = ammount // 50\n",
    "        ammount %= 50 \n",
    "        n20 = ammount // 20\n",
    "        ammount %=20\n",
    "        n10 = ammount // 10\n",
    "        ammount %= 10 \n",
    "        return n50, n20, n10\n",
    "    \n",
    "    def debit(self, account_number, amount):\n",
    "        customer = next((cust for cust in self._customers if cust.get_account_number() == account_number), None)\n",
    "        if customer and customer.get_balance() >= amount:\n",
    "            customer.debit(amount)  \n",
    "            return customer.get_balance()\n",
    "        else:\n",
    "            return \"Insufficient funds in account or ATM.\"\n",
    "\n",
    "    def credit(self, account_number, amount):\n",
    "        customer = next((cust for cust in self._customers if cust.get_account_number() == account_number), None)\n",
    "        if customer:\n",
    "            customer.credit(amount)  \n",
    "            return customer.get_balance()\n",
    "        else:\n",
    "            return \"Account not found.\"\n",
    "    \n",
    "    def run(self):\n",
    "        while True:\n",
    "            account_number = input(\"Please enter your account number (or 'exit' to quit): \")\n",
    "            if account_number == 'exit':\n",
    "                break\n",
    "            \n",
    "            customer = next((cust for cust in self._customers if cust.get_account_number() == account_number), None)\n",
    "            if not customer:\n",
    "                print(\"Account not found. Try again.\")\n",
    "                continue\n",
    "            \n",
    "            secret_code = input(\"Please enter your secret code: \")\n",
    "            if customer.get_secret_code() == secret_code:\n",
    "                choice = input(\"Enter 'withdraw' to withdraw money or 'deposit' to deposit money: \")\n",
    "                if choice == 'withdraw':\n",
    "                    amount = float(input(\"Enter the amount to withdraw: \"))\n",
    "                    self.debit(account_number, amount)\n",
    "                elif choice == 'deposit':\n",
    "                    amount = float(input(\"Enter the amount to deposit: \"))\n",
    "                    self.credit(account_number, amount)\n",
    "            else:\n",
    "                print(\"Invalid secret code.\")\n"
   ]
  },
  {
   "cell_type": "markdown",
   "metadata": {},
   "source": [
    "### Question 1.6\n",
    "Add to the ATM class, a method `verify` which takes as an input an account number, and a secret code, and check (i) whether the account number is valid (that is, whether it appears among the customers), and (ii) whether the given secret code is identical to the secret code stored in the corresponding customer's pieces of information. This method returns `True` if the verification succeeds and `False` otherwise."
   ]
  },
  {
   "cell_type": "code",
   "execution_count": 47,
   "metadata": {},
   "outputs": [],
   "source": [
    "atm = Atm([], 50, 50, 50)\n",
    "atm.add_customer(first_customer)"
   ]
  },
  {
   "cell_type": "code",
   "execution_count": 58,
   "metadata": {},
   "outputs": [
    {
     "name": "stdout",
     "output_type": "stream",
     "text": [
      "False\n",
      "True\n"
     ]
    }
   ],
   "source": [
    "is_valid_customer = atm.verify('1234567890', 1234) #fake number\n",
    "print(is_valid_customer)\n",
    "\n",
    "valid_customer = atm.verify('0365078187', 1313) #The only one added\n",
    "print(valid_customer)"
   ]
  },
  {
   "cell_type": "markdown",
   "metadata": {},
   "source": [
    "### Question 1.7\n",
    "Define a method `change` which computes, for a given amount of money, the corresponding numbers of 10, 20 and 50 bank-notes."
   ]
  },
  {
   "cell_type": "code",
   "execution_count": 52,
   "metadata": {},
   "outputs": [
    {
     "data": {
      "text/plain": [
       "(10, 0, 0)"
      ]
     },
     "execution_count": 52,
     "metadata": {},
     "output_type": "execute_result"
    }
   ],
   "source": [
    "atm.change(500)"
   ]
  },
  {
   "cell_type": "markdown",
   "metadata": {},
   "source": [
    "### Question 1.8\n",
    "Add to the ATM class, two methods named `debit` and `credit` which takes as inputs an account number and an amount of money, and applies the corresponding debit/credit (do not forget to check that there are enough bank notes in the ATM). These methods returns the new customer balance. "
   ]
  },
  {
   "cell_type": "code",
   "execution_count": 54,
   "metadata": {},
   "outputs": [
    {
     "name": "stdout",
     "output_type": "stream",
     "text": [
      "Your new balance is 900 EUR\n"
     ]
    },
    {
     "data": {
      "text/plain": [
       "'Insufficient funds in account or ATM.'"
      ]
     },
     "execution_count": 54,
     "metadata": {},
     "output_type": "execute_result"
    }
   ],
   "source": [
    "atm.credit('0365078187', 300)\n",
    "atm.debit('0365078187', 1500) #Not enough funds!"
   ]
  },
  {
   "cell_type": "markdown",
   "metadata": {},
   "source": [
    "### Question 1.9\n",
    "Add to the ATM class a method `run` which execute an infinite loop, waiting for a user to enter an account number. When such a number is typed, it then asks for the secret code, and if it succeeds, it displays a menu allowing the user to either withdraw money or make a deposit. "
   ]
  },
  {
   "cell_type": "code",
   "execution_count": 59,
   "metadata": {},
   "outputs": [
    {
     "name": "stdout",
     "output_type": "stream",
     "text": [
      "Invalid secret code.\n",
      "Account not found. Try again.\n",
      "Account not found. Try again.\n",
      "Account not found. Try again.\n",
      "Account not found. Try again.\n",
      "Account not found. Try again.\n",
      "Account not found. Try again.\n",
      "Account not found. Try again.\n",
      "Account not found. Try again.\n",
      "Account not found. Try again.\n",
      "Account not found. Try again.\n",
      "Account not found. Try again.\n",
      "Account not found. Try again.\n"
     ]
    },
    {
     "ename": "KeyboardInterrupt",
     "evalue": "Interrupted by user",
     "output_type": "error",
     "traceback": [
      "\u001b[1;31m---------------------------------------------------------------------------\u001b[0m",
      "\u001b[1;31mKeyboardInterrupt\u001b[0m                         Traceback (most recent call last)",
      "Input \u001b[1;32mIn [59]\u001b[0m, in \u001b[0;36m<module>\u001b[1;34m\u001b[0m\n\u001b[1;32m----> 1\u001b[0m \u001b[43matm\u001b[49m\u001b[38;5;241;43m.\u001b[39;49m\u001b[43mrun\u001b[49m\u001b[43m(\u001b[49m\u001b[43m)\u001b[49m\n",
      "Input \u001b[1;32mIn [45]\u001b[0m, in \u001b[0;36mAtm.run\u001b[1;34m(self)\u001b[0m\n\u001b[0;32m     70\u001b[0m \u001b[38;5;28;01mdef\u001b[39;00m \u001b[38;5;21mrun\u001b[39m(\u001b[38;5;28mself\u001b[39m):\n\u001b[0;32m     71\u001b[0m     \u001b[38;5;28;01mwhile\u001b[39;00m \u001b[38;5;28;01mTrue\u001b[39;00m:\n\u001b[1;32m---> 72\u001b[0m         account_number \u001b[38;5;241m=\u001b[39m \u001b[38;5;28;43minput\u001b[39;49m\u001b[43m(\u001b[49m\u001b[38;5;124;43m\"\u001b[39;49m\u001b[38;5;124;43mPlease enter your account number (or \u001b[39;49m\u001b[38;5;124;43m'\u001b[39;49m\u001b[38;5;124;43mexit\u001b[39;49m\u001b[38;5;124;43m'\u001b[39;49m\u001b[38;5;124;43m to quit): \u001b[39;49m\u001b[38;5;124;43m\"\u001b[39;49m\u001b[43m)\u001b[49m\n\u001b[0;32m     73\u001b[0m         \u001b[38;5;28;01mif\u001b[39;00m account_number \u001b[38;5;241m==\u001b[39m \u001b[38;5;124m'\u001b[39m\u001b[38;5;124mexit\u001b[39m\u001b[38;5;124m'\u001b[39m:\n\u001b[0;32m     74\u001b[0m             \u001b[38;5;28;01mbreak\u001b[39;00m\n",
      "File \u001b[1;32m~\\AppData\\Local\\Packages\\PythonSoftwareFoundation.Python.3.9_qbz5n2kfra8p0\\LocalCache\\local-packages\\Python39\\site-packages\\ipykernel\\kernelbase.py:1044\u001b[0m, in \u001b[0;36mKernel.raw_input\u001b[1;34m(self, prompt)\u001b[0m\n\u001b[0;32m   1040\u001b[0m \u001b[38;5;28;01mif\u001b[39;00m \u001b[38;5;129;01mnot\u001b[39;00m \u001b[38;5;28mself\u001b[39m\u001b[38;5;241m.\u001b[39m_allow_stdin:\n\u001b[0;32m   1041\u001b[0m     \u001b[38;5;28;01mraise\u001b[39;00m StdinNotImplementedError(\n\u001b[0;32m   1042\u001b[0m         \u001b[38;5;124m\"\u001b[39m\u001b[38;5;124mraw_input was called, but this frontend does not support input requests.\u001b[39m\u001b[38;5;124m\"\u001b[39m\n\u001b[0;32m   1043\u001b[0m     )\n\u001b[1;32m-> 1044\u001b[0m \u001b[38;5;28;01mreturn\u001b[39;00m \u001b[38;5;28;43mself\u001b[39;49m\u001b[38;5;241;43m.\u001b[39;49m\u001b[43m_input_request\u001b[49m\u001b[43m(\u001b[49m\n\u001b[0;32m   1045\u001b[0m \u001b[43m    \u001b[49m\u001b[38;5;28;43mstr\u001b[39;49m\u001b[43m(\u001b[49m\u001b[43mprompt\u001b[49m\u001b[43m)\u001b[49m\u001b[43m,\u001b[49m\n\u001b[0;32m   1046\u001b[0m \u001b[43m    \u001b[49m\u001b[38;5;28;43mself\u001b[39;49m\u001b[38;5;241;43m.\u001b[39;49m\u001b[43m_parent_ident\u001b[49m\u001b[43m[\u001b[49m\u001b[38;5;124;43m\"\u001b[39;49m\u001b[38;5;124;43mshell\u001b[39;49m\u001b[38;5;124;43m\"\u001b[39;49m\u001b[43m]\u001b[49m\u001b[43m,\u001b[49m\n\u001b[0;32m   1047\u001b[0m \u001b[43m    \u001b[49m\u001b[38;5;28;43mself\u001b[39;49m\u001b[38;5;241;43m.\u001b[39;49m\u001b[43mget_parent\u001b[49m\u001b[43m(\u001b[49m\u001b[38;5;124;43m\"\u001b[39;49m\u001b[38;5;124;43mshell\u001b[39;49m\u001b[38;5;124;43m\"\u001b[39;49m\u001b[43m)\u001b[49m\u001b[43m,\u001b[49m\n\u001b[0;32m   1048\u001b[0m \u001b[43m    \u001b[49m\u001b[43mpassword\u001b[49m\u001b[38;5;241;43m=\u001b[39;49m\u001b[38;5;28;43;01mFalse\u001b[39;49;00m\u001b[43m,\u001b[49m\n\u001b[0;32m   1049\u001b[0m \u001b[43m\u001b[49m\u001b[43m)\u001b[49m\n",
      "File \u001b[1;32m~\\AppData\\Local\\Packages\\PythonSoftwareFoundation.Python.3.9_qbz5n2kfra8p0\\LocalCache\\local-packages\\Python39\\site-packages\\ipykernel\\kernelbase.py:1089\u001b[0m, in \u001b[0;36mKernel._input_request\u001b[1;34m(self, prompt, ident, parent, password)\u001b[0m\n\u001b[0;32m   1086\u001b[0m             \u001b[38;5;28;01mbreak\u001b[39;00m\n\u001b[0;32m   1087\u001b[0m \u001b[38;5;28;01mexcept\u001b[39;00m \u001b[38;5;167;01mKeyboardInterrupt\u001b[39;00m:\n\u001b[0;32m   1088\u001b[0m     \u001b[38;5;66;03m# re-raise KeyboardInterrupt, to truncate traceback\u001b[39;00m\n\u001b[1;32m-> 1089\u001b[0m     \u001b[38;5;28;01mraise\u001b[39;00m \u001b[38;5;167;01mKeyboardInterrupt\u001b[39;00m(\u001b[38;5;124m\"\u001b[39m\u001b[38;5;124mInterrupted by user\u001b[39m\u001b[38;5;124m\"\u001b[39m) \u001b[38;5;28;01mfrom\u001b[39;00m \u001b[38;5;28;01mNone\u001b[39;00m\n\u001b[0;32m   1090\u001b[0m \u001b[38;5;28;01mexcept\u001b[39;00m \u001b[38;5;167;01mException\u001b[39;00m:\n\u001b[0;32m   1091\u001b[0m     \u001b[38;5;28mself\u001b[39m\u001b[38;5;241m.\u001b[39mlog\u001b[38;5;241m.\u001b[39mwarning(\u001b[38;5;124m\"\u001b[39m\u001b[38;5;124mInvalid Message:\u001b[39m\u001b[38;5;124m\"\u001b[39m, exc_info\u001b[38;5;241m=\u001b[39m\u001b[38;5;28;01mTrue\u001b[39;00m)\n",
      "\u001b[1;31mKeyboardInterrupt\u001b[0m: Interrupted by user"
     ]
    }
   ],
   "source": [
    "atm.run() # I have no idea what's happening. The verify one says its ok, its on the database. But now its on infinite loop ?"
   ]
  },
  {
   "cell_type": "markdown",
   "metadata": {},
   "source": [
    "### Question 1.10\n",
    "Finally, run the following code (it should not trigger any error):"
   ]
  },
  {
   "cell_type": "code",
   "execution_count": 61,
   "metadata": {},
   "outputs": [
    {
     "name": "stdout",
     "output_type": "stream",
     "text": [
      "Welcome\n"
     ]
    }
   ],
   "source": [
    "if __name__=='__main__':\n",
    "    print('Welcome')\n",
    "    customer1 = Customer('Pierre Poljak', '2002/06/12', '001213', '0000', 2504.25)\n",
    "    customer2 = Customer('Matthieu Poljak', '2006/03/18', '001214', '0110', 504.45)\n",
    "    customer3 = Customer('Louis Poljak', '1998/12/12', '001215', '0020', 20004.23)\n",
    "    customer4 = Customer('Sophie Poljak', '2000/02/02', '001216', '0200', 5502.00)\n",
    "    #atm = ATM([customer1, customer2, customer3, customer4], 20, 20, 20)\n",
    "    #atm.run()"
   ]
  },
  {
   "cell_type": "markdown",
   "metadata": {},
   "source": [
    "## Exercise 2\n",
    "In this exercise, we will use the `list` class provided by Python.\n",
    "First, let us check that lists are indeed classes:"
   ]
  },
  {
   "cell_type": "code",
   "execution_count": 62,
   "metadata": {},
   "outputs": [
    {
     "data": {
      "text/plain": [
       "list"
      ]
     },
     "execution_count": 62,
     "metadata": {},
     "output_type": "execute_result"
    }
   ],
   "source": [
    "l = [2,4,5]\n",
    "type(l)"
   ]
  },
  {
   "cell_type": "markdown",
   "metadata": {},
   "source": [
    "The `help` function permits us to list the methods available for using lists"
   ]
  },
  {
   "cell_type": "code",
   "execution_count": 63,
   "metadata": {},
   "outputs": [
    {
     "name": "stdout",
     "output_type": "stream",
     "text": [
      "Help on list object:\n",
      "\n",
      "class list(object)\n",
      " |  list(iterable=(), /)\n",
      " |  \n",
      " |  Built-in mutable sequence.\n",
      " |  \n",
      " |  If no argument is given, the constructor creates a new empty list.\n",
      " |  The argument must be an iterable if specified.\n",
      " |  \n",
      " |  Methods defined here:\n",
      " |  \n",
      " |  __add__(self, value, /)\n",
      " |      Return self+value.\n",
      " |  \n",
      " |  __contains__(self, key, /)\n",
      " |      Return key in self.\n",
      " |  \n",
      " |  __delitem__(self, key, /)\n",
      " |      Delete self[key].\n",
      " |  \n",
      " |  __eq__(self, value, /)\n",
      " |      Return self==value.\n",
      " |  \n",
      " |  __ge__(self, value, /)\n",
      " |      Return self>=value.\n",
      " |  \n",
      " |  __getattribute__(self, name, /)\n",
      " |      Return getattr(self, name).\n",
      " |  \n",
      " |  __getitem__(...)\n",
      " |      x.__getitem__(y) <==> x[y]\n",
      " |  \n",
      " |  __gt__(self, value, /)\n",
      " |      Return self>value.\n",
      " |  \n",
      " |  __iadd__(self, value, /)\n",
      " |      Implement self+=value.\n",
      " |  \n",
      " |  __imul__(self, value, /)\n",
      " |      Implement self*=value.\n",
      " |  \n",
      " |  __init__(self, /, *args, **kwargs)\n",
      " |      Initialize self.  See help(type(self)) for accurate signature.\n",
      " |  \n",
      " |  __iter__(self, /)\n",
      " |      Implement iter(self).\n",
      " |  \n",
      " |  __le__(self, value, /)\n",
      " |      Return self<=value.\n",
      " |  \n",
      " |  __len__(self, /)\n",
      " |      Return len(self).\n",
      " |  \n",
      " |  __lt__(self, value, /)\n",
      " |      Return self<value.\n",
      " |  \n",
      " |  __mul__(self, value, /)\n",
      " |      Return self*value.\n",
      " |  \n",
      " |  __ne__(self, value, /)\n",
      " |      Return self!=value.\n",
      " |  \n",
      " |  __repr__(self, /)\n",
      " |      Return repr(self).\n",
      " |  \n",
      " |  __reversed__(self, /)\n",
      " |      Return a reverse iterator over the list.\n",
      " |  \n",
      " |  __rmul__(self, value, /)\n",
      " |      Return value*self.\n",
      " |  \n",
      " |  __setitem__(self, key, value, /)\n",
      " |      Set self[key] to value.\n",
      " |  \n",
      " |  __sizeof__(self, /)\n",
      " |      Return the size of the list in memory, in bytes.\n",
      " |  \n",
      " |  append(self, object, /)\n",
      " |      Append object to the end of the list.\n",
      " |  \n",
      " |  clear(self, /)\n",
      " |      Remove all items from list.\n",
      " |  \n",
      " |  copy(self, /)\n",
      " |      Return a shallow copy of the list.\n",
      " |  \n",
      " |  count(self, value, /)\n",
      " |      Return number of occurrences of value.\n",
      " |  \n",
      " |  extend(self, iterable, /)\n",
      " |      Extend list by appending elements from the iterable.\n",
      " |  \n",
      " |  index(self, value, start=0, stop=9223372036854775807, /)\n",
      " |      Return first index of value.\n",
      " |      \n",
      " |      Raises ValueError if the value is not present.\n",
      " |  \n",
      " |  insert(self, index, object, /)\n",
      " |      Insert object before index.\n",
      " |  \n",
      " |  pop(self, index=-1, /)\n",
      " |      Remove and return item at index (default last).\n",
      " |      \n",
      " |      Raises IndexError if list is empty or index is out of range.\n",
      " |  \n",
      " |  remove(self, value, /)\n",
      " |      Remove first occurrence of value.\n",
      " |      \n",
      " |      Raises ValueError if the value is not present.\n",
      " |  \n",
      " |  reverse(self, /)\n",
      " |      Reverse *IN PLACE*.\n",
      " |  \n",
      " |  sort(self, /, *, key=None, reverse=False)\n",
      " |      Sort the list in ascending order and return None.\n",
      " |      \n",
      " |      The sort is in-place (i.e. the list itself is modified) and stable (i.e. the\n",
      " |      order of two equal elements is maintained).\n",
      " |      \n",
      " |      If a key function is given, apply it once to each list item and sort them,\n",
      " |      ascending or descending, according to their function values.\n",
      " |      \n",
      " |      The reverse flag can be set to sort in descending order.\n",
      " |  \n",
      " |  ----------------------------------------------------------------------\n",
      " |  Class methods defined here:\n",
      " |  \n",
      " |  __class_getitem__(...) from builtins.type\n",
      " |      See PEP 585\n",
      " |  \n",
      " |  ----------------------------------------------------------------------\n",
      " |  Static methods defined here:\n",
      " |  \n",
      " |  __new__(*args, **kwargs) from builtins.type\n",
      " |      Create and return a new object.  See help(type) for accurate signature.\n",
      " |  \n",
      " |  ----------------------------------------------------------------------\n",
      " |  Data and other attributes defined here:\n",
      " |  \n",
      " |  __hash__ = None\n",
      "\n"
     ]
    }
   ],
   "source": [
    "help(l)"
   ]
  },
  {
   "cell_type": "markdown",
   "metadata": {},
   "source": [
    "The list class will be used to implement a basic _calculator_, which can only compute the value of arithmetic expressions written in the [Reverse Polish Notation](https://en.wikipedia.org/wiki/Reverse_Polish_notation).\n",
    "For instance, it can compute the results of expressions such as \"3 2 + 5 *\" (which gives 25).\n",
    "\n",
    "To do this, it uses a stack. More precisely, it reads the expression from left to right, when a number is read, it goes onto the stack, when an operator is read, the two numbers of the top of the stack are retrieved, the elementary computation is done and the result is stored back onto the stack. When the expression has been processed, the result of the evaluation can be found on the top of the stack, as illustrated below:\n",
    "\n",
    "![rpn](images/NPI_stack.jpg)\n",
    "\n",
    "### Question 2.1\n",
    "Define a `stack` class which contains an attribute of type `list` named `l`, and the following methods:\n",
    "\n",
    "- `_init__` (which creates an empty stack)\n",
    "- `push` (which push some value onto the stack)\n",
    "- `pop` (which returns the value on the top of the stack and removes it from the stack)\n"
   ]
  },
  {
   "cell_type": "code",
   "execution_count": 64,
   "metadata": {},
   "outputs": [],
   "source": [
    "class Stack:\n",
    "    def __init__(self):\n",
    "        self._items = []\n",
    "\n",
    "    def push(self, item):\n",
    "        self._items.append(item)\n",
    "\n",
    "    def pop(self):\n",
    "        if not self.is_empty():\n",
    "            return self._items.pop()\n",
    "        else:\n",
    "            raise IndexError(\"pop from empty stack\")\n",
    "\n",
    "    def is_empty(self):\n",
    "        return len(self._items) == 0\n",
    "\n",
    "    def top(self):\n",
    "        if not self.is_empty():\n",
    "            return self._items[-1]\n",
    "        else:\n",
    "            raise IndexError(\"top from empty stack\")"
   ]
  },
  {
   "cell_type": "markdown",
   "metadata": {},
   "source": [
    "### Question 2.2\n",
    "Define a class `calculator` which contains an attribute `memory` of type `stack` together with the following methods:\n",
    "\n",
    "- `__init__` (which launches a calculator)\n",
    "- `eval` (which takes an arithmetic expression such as \"3 5 +\" as input and returns its value ; note that numbers and operators are separated by singles spaces)\n"
   ]
  },
  {
   "cell_type": "code",
   "execution_count": null,
   "metadata": {},
   "outputs": [],
   "source": []
  },
  {
   "cell_type": "markdown",
   "metadata": {},
   "source": [
    "### Question 3.3\n",
    "Uncomment and run the code below:"
   ]
  },
  {
   "cell_type": "code",
   "execution_count": 2,
   "metadata": {},
   "outputs": [],
   "source": [
    "if __name__=='__main__':\n",
    "    #c = calculator()\n",
    "    #e = input('Please enter an expression in Reverse Polish Notation:')\n",
    "    #print(c.eval(e))\n",
    "    pass"
   ]
  }
 ],
 "metadata": {
  "kernelspec": {
   "display_name": "Python 3",
   "language": "python",
   "name": "python3"
  },
  "language_info": {
   "codemirror_mode": {
    "name": "ipython",
    "version": 3
   },
   "file_extension": ".py",
   "mimetype": "text/x-python",
   "name": "python",
   "nbconvert_exporter": "python",
   "pygments_lexer": "ipython3",
   "version": "3.9.13"
  }
 },
 "nbformat": 4,
 "nbformat_minor": 2
}
