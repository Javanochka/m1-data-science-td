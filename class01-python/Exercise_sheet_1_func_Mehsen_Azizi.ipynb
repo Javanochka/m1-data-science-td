{
  "cells": [
    {
      "cell_type": "markdown",
      "metadata": {
        "id": "1Lsvd1TlwxtE"
      },
      "source": [
        "# Exercise Sheet \\# 1"
      ]
    },
    {
      "cell_type": "markdown",
      "metadata": {
        "id": "NHMOqTlFwxtJ"
      },
      "source": [
        "## Exercise 1\n",
        "Let us consider a group of friends who organised a party together. Each one brought some food to the party. To make it fair, all these friends decided that they should spend equal money. Let us develop some python program to help them do the math.\n",
        "\n",
        "### Question 1.1\n",
        "As an example, consider these friends bought the following items (together with their total price):\n",
        "\n",
        "Emilie|Paul|Jacques|Eric\n",
        ":--|:--|:--|:--\n",
        "soda,3|juice,4|apples,3|bread,1\n",
        "camembert,5|chorizo,3|cookies,2|\n",
        "beaufort,6|spam,2|\n",
        "tomatoes,3|\n",
        "\n",
        "That is, Emilie spent 17 EUR, Paul 9 EUR, Jacques 5 EUR and Eric 1 EUR.\n",
        "\n",
        "How much money each of them would have paid if they had bought food together ?"
      ]
    },
    {
      "cell_type": "code",
      "source": [
        "emilie_spent = 17\n",
        "paul_spent = 9\n",
        "jacques_spent = 5\n",
        "eric_spent = 1\n",
        "\n",
        "total = emilie_spent + paul_spent + jacques_spent + eric_spent\n",
        "\n",
        "print('They would have paid: ', total/4)"
      ],
      "metadata": {
        "colab": {
          "base_uri": "https://localhost:8080/"
        },
        "id": "QnFhB-alw13P",
        "outputId": "8e470e03-b469-4f25-8990-b19bf131bd09"
      },
      "execution_count": null,
      "outputs": [
        {
          "output_type": "stream",
          "name": "stdout",
          "text": [
            "They would have paid:  8.0\n"
          ]
        }
      ]
    },
    {
      "cell_type": "markdown",
      "metadata": {
        "id": "r_LqpZEBwxtL"
      },
      "source": [
        "### Question 1.2\n",
        "Define 4 variables (`emilie`, `paul`, `jacques` and `eric`) containing the items each of them brought to the party.\n",
        "As a data structure for these variables, we will use a list of tuples."
      ]
    },
    {
      "cell_type": "code",
      "execution_count": null,
      "metadata": {
        "id": "WwGmI_afwxtN"
      },
      "outputs": [],
      "source": [
        "emilie = [('soda', 3), ('camembert', 5), ('beaufort', 6), ('tomatoes', 3)]\n",
        "paul   = [('juice', 4), ('chorizo', 3), ('spam', 2)]\n",
        "jacques= [('apples', 3), ('cookies', 2)]\n",
        "eric   = [('bread', 1)]"
      ]
    },
    {
      "cell_type": "markdown",
      "metadata": {
        "id": "JThwCn9AwxtP"
      },
      "source": [
        "### Question 1.3\n",
        "Define a function `spent` which takes as an input a list of goods and returns their total price."
      ]
    },
    {
      "cell_type": "code",
      "execution_count": null,
      "metadata": {
        "id": "1oZ9LfT7wxtQ",
        "colab": {
          "base_uri": "https://localhost:8080/",
          "height": 104
        },
        "outputId": "19c0b641-f94b-4869-eb8c-6baa8f68908a"
      },
      "outputs": [
        {
          "output_type": "execute_result",
          "data": {
            "text/plain": [
              "<function __main__.total(dexpenses)>"
            ],
            "text/html": [
              "<div style=\"max-width:800px; border: 1px solid var(--colab-border-color);\"><style>\n",
              "      pre.function-repr-contents {\n",
              "        overflow-x: auto;\n",
              "        padding: 8px 12px;\n",
              "        max-height: 500px;\n",
              "      }\n",
              "\n",
              "      pre.function-repr-contents.function-repr-contents-collapsed {\n",
              "        cursor: pointer;\n",
              "        max-height: 100px;\n",
              "      }\n",
              "    </style>\n",
              "    <pre style=\"white-space: initial; background:\n",
              "         var(--colab-secondary-surface-color); padding: 8px 12px;\n",
              "         border-bottom: 1px solid var(--colab-border-color);\"><b>total</b><br/>def total(dexpenses)</pre><pre class=\"function-repr-contents function-repr-contents-collapsed\" style=\"\"><a class=\"filepath\" style=\"display:none\" href=\"#\">/content/&lt;ipython-input-6-0c154e656560&gt;</a>&lt;no docstring&gt;</pre></div>"
            ]
          },
          "metadata": {},
          "execution_count": 14
        }
      ],
      "source": [
        "def spent(lgoods):\n",
        "    total = 0\n",
        "\n",
        "    for _, price in lgoods:\n",
        "        total += price\n",
        "\n",
        "    return total\n",
        "\n"
      ]
    },
    {
      "cell_type": "markdown",
      "metadata": {
        "id": "LV45bGPLwxtQ"
      },
      "source": [
        "### Question 1.4\n",
        "What does `spent` returns when invoked with `paul` as a parameter ?"
      ]
    },
    {
      "cell_type": "code",
      "execution_count": null,
      "metadata": {
        "colab": {
          "base_uri": "https://localhost:8080/"
        },
        "id": "5LKyQf2vwxtQ",
        "outputId": "6c158c18-cd38-4a86-8a98-9230a29c5a6b"
      },
      "outputs": [
        {
          "output_type": "execute_result",
          "data": {
            "text/plain": [
              "9"
            ]
          },
          "metadata": {},
          "execution_count": 4
        }
      ],
      "source": [
        "spent(paul)"
      ]
    },
    {
      "cell_type": "markdown",
      "metadata": {
        "id": "iD5s9IUYwxtS"
      },
      "source": [
        "### Question 1.5\n",
        "Let us now define a variable `expenses` to encode all the expenses of the group.\n",
        "To do so, we will use a dictionary, which will associate each person (represented as a string) with her.his list of goods."
      ]
    },
    {
      "cell_type": "code",
      "execution_count": null,
      "metadata": {
        "colab": {
          "base_uri": "https://localhost:8080/"
        },
        "id": "8OL25KO5wxtS",
        "outputId": "90e43a85-3199-4e42-c78c-73e8517cb5f9"
      },
      "outputs": [
        {
          "output_type": "stream",
          "name": "stdout",
          "text": [
            "{'emilie': [('soda', 3), ('camembert', 5), ('beaufort', 6), ('tomatoes', 3)], 'paul': [('juice', 4), ('chorizo', 3), ('spam', 2)], 'jacques': [('apples', 3), ('cookies', 2)], 'eric': [('bread', 1)]}\n"
          ]
        }
      ],
      "source": [
        "expenses = {\n",
        "    'emilie': emilie,\n",
        "    'paul': paul,\n",
        "    'jacques': jacques,\n",
        "    'eric': eric\n",
        "}\n",
        "print(expenses)"
      ]
    },
    {
      "cell_type": "markdown",
      "metadata": {
        "id": "0C0fvuEfwxtT"
      },
      "source": [
        "### Question 1.6\n",
        "Define a function `total` which computes, from a dictionary of expenses, the total amount of money spent."
      ]
    },
    {
      "cell_type": "code",
      "execution_count": null,
      "metadata": {
        "id": "xDmQyEHTwxtT"
      },
      "outputs": [],
      "source": [
        "def total(dexpenses):\n",
        "    tot = 0\n",
        "    for lgoods in dexpenses.values():\n",
        "      tot = tot + spent(lgoods)\n",
        "    return tot\n",
        "\n"
      ]
    },
    {
      "cell_type": "markdown",
      "metadata": {
        "id": "N7ssfTgMwxtT"
      },
      "source": [
        "### Question 1.7\n",
        "What is the total amount of money spent by Emilie, Paul, Jacques and Eric ?"
      ]
    },
    {
      "cell_type": "code",
      "execution_count": null,
      "metadata": {
        "colab": {
          "base_uri": "https://localhost:8080/"
        },
        "id": "I17YP5z3wxtU",
        "outputId": "1163b124-ecde-45c8-e1f2-ae243a536aee"
      },
      "outputs": [
        {
          "output_type": "execute_result",
          "data": {
            "text/plain": [
              "32"
            ]
          },
          "metadata": {},
          "execution_count": 7
        }
      ],
      "source": [
        "total(expenses)\n"
      ]
    },
    {
      "cell_type": "markdown",
      "metadata": {
        "id": "UqnOONSawxtU"
      },
      "source": [
        "### Question 1.8\n",
        "Define a function `fair` which takes as an input a dictionary of expenses, and which returns a list of pairs _(person, money)_ indicating for each person, how much money she.he should pay (negative number) or receive (positive number)."
      ]
    },
    {
      "cell_type": "code",
      "execution_count": null,
      "metadata": {
        "id": "oRKW1_zxwxtV"
      },
      "outputs": [],
      "source": [
        "def fair(dexpenses):\n",
        "  result = []\n",
        "  total_money = total(dexpenses)\n",
        "  number_of_people = len(dexpenses)\n",
        "  for person, lgoods in dexpenses.items():\n",
        "    result.append((person, (spent(lgoods) - (total_money) / number_of_people)))\n",
        "  return result\n"
      ]
    },
    {
      "cell_type": "markdown",
      "metadata": {
        "id": "_zzqwF3dwxtV"
      },
      "source": [
        "### Question 1.9\n",
        "What does `fair` returns when invoked with `expenses` as an input parameter ?"
      ]
    },
    {
      "cell_type": "code",
      "execution_count": null,
      "metadata": {
        "colab": {
          "base_uri": "https://localhost:8080/"
        },
        "id": "scXRg0FfwxtW",
        "outputId": "98de2026-4ccf-48b0-dcaa-69ca6be56124"
      },
      "outputs": [
        {
          "output_type": "stream",
          "name": "stdout",
          "text": [
            "[('emilie', 9.0), ('paul', 1.0), ('jacques', -3.0), ('eric', -7.0)]\n"
          ]
        }
      ],
      "source": [
        "print(fair(expenses))"
      ]
    },
    {
      "cell_type": "markdown",
      "metadata": {
        "id": "mLa1cNa4wxtW"
      },
      "source": [
        "## Exercise 2\n",
        "Let us consider recipies made of ingredients, which are sold in some shops. Recipies are python dictionary associating a recipy name with a preparation time, a cooking time and a difficulty score. Ingredients is a dictionary associating a name with a season (that is, when can these be found, for instance from May/5 til July/7). Shops finally is a dictionary associating a shop name with two booleans: one for indicating whether the shop is open on Sundays and one whether the shop only accepts cash.\n",
        "![diagram](https://mastertal.gitlab.io/UE803/notebooks/images/recipy.png)\n",
        "\n",
        "Examples of recipies include:\n",
        "<pre>recipies = { 'Kouglof' : (20, 20, 5), 'Banana Split' : (5, 0, 1), ... }</pre>\n",
        "Examples of ingredients include:\n",
        "<pre>ingredients = { 'strawberry' : (5, 7), 'flour' : (1, 12), ...}</pre>\n",
        "Examples of shops include:\n",
        "<pre>shops = { 'BuyOrganic' : (False , False), ...}</pre>\n",
        "The relations between a recipy and its ingredients are represented as follows:\n",
        "<pre>contains = [('Kouglof', 'flour'), ('Kouglof', 'sugar'), ...]</pre>\n",
        "and that between ingredients and shops:\n",
        "<pre> sold_in = [('flour', 'BuyOrganic'), ...]</pre>\n",
        "In the following questions, you are asked to define functions and to test them.\n",
        "\n",
        "To do so, define a dictionary containing 3 recipies, each one using 5 ingredients of your choices (they do not have to be real recipies :-) and make up 3 shops selling these ingredients."
      ]
    },
    {
      "cell_type": "code",
      "execution_count": null,
      "metadata": {
        "id": "eNzs-ktDwxtW"
      },
      "outputs": [],
      "source": [
        "recipes = {\n",
        "    \"Pasta Carbonara\": [\"pasta\", \"bacon\", \"eggs\", \"parmesan cheese\", \"black pepper\"],\n",
        "    \"Chicken Stir-Fry\": [\"chicken breast\", \"bell peppers\", \"onion\", \"soy sauce\", \"garlic\"],\n",
        "    \"Caprese Salad\": [\"tomatoes\", \"fresh mozzarella\", \"basil\", \"olive oil\", \"balsamic vinegar\"]\n",
        "}\n",
        "\n",
        "shops = {\n",
        "    \"Supermarket A\": [\"pasta\", \"bacon\", \"eggs\", \"parmesan cheese\", \"black pepper\"],\n",
        "    \"Local Butcher\": [\"chicken breast\", \"bacon\"],\n",
        "    \"Farmers' Market\": [\"bell peppers\", \"onion\", \"tomatoes\", \"basil\", \"olive oil\", \"balsamic vinegar\"]\n",
        "}\n"
      ]
    },
    {
      "cell_type": "markdown",
      "metadata": {
        "id": "_VzLPkUxwxtX"
      },
      "source": [
        "### Question 2.1\n",
        "Define a function `in_recipy` which computes the list of recipies containing a given ingredient."
      ]
    },
    {
      "cell_type": "code",
      "execution_count": null,
      "metadata": {
        "id": "dTZ1cmA5wxtX"
      },
      "outputs": [],
      "source": [
        "def in_recipe(ingredient, recipes):\n",
        "\n",
        "    ingredient_recipes = []\n",
        "    for recipe, ingredients in recipes.items():\n",
        "        if ingredient in ingredients:\n",
        "            ingredient_recipes.append(recipe)\n",
        "    return ingredient_recipes\n",
        "\n"
      ]
    },
    {
      "cell_type": "code",
      "source": [
        "in_recipe('pasta', recipes)"
      ],
      "metadata": {
        "colab": {
          "base_uri": "https://localhost:8080/"
        },
        "id": "5M0jxfTKRqNK",
        "outputId": "dce39909-b00b-4e6b-8cbb-b8384fe4389b"
      },
      "execution_count": null,
      "outputs": [
        {
          "output_type": "execute_result",
          "data": {
            "text/plain": [
              "['Pasta Carbonara']"
            ]
          },
          "metadata": {},
          "execution_count": 18
        }
      ]
    },
    {
      "cell_type": "markdown",
      "metadata": {
        "id": "1XeZUm9_wxtX"
      },
      "source": [
        "### Question 2.2\n",
        "Define a function `sold` which computes the list of shops where a given ingredient can be bought."
      ]
    },
    {
      "cell_type": "code",
      "execution_count": null,
      "metadata": {
        "id": "-6UNS7nGwxtY"
      },
      "outputs": [],
      "source": [
        "def sold(ingredient, shops):\n",
        "\n",
        "    shops_with_ingredient = []\n",
        "    for shop, inventory in shops.items():\n",
        "        if ingredient in inventory:\n",
        "            shops_with_ingredient.append(shop)\n",
        "    return shops_with_ingredient"
      ]
    },
    {
      "cell_type": "markdown",
      "metadata": {
        "id": "DMo84qZBwxtY"
      },
      "source": [
        "### Question 2.3\n",
        "Define a function `sunday` which computes the list of ingredients which can be bought on a sunday."
      ]
    },
    {
      "cell_type": "code",
      "execution_count": null,
      "metadata": {
        "id": "1MvmNe_kwxtY",
        "colab": {
          "base_uri": "https://localhost:8080/"
        },
        "outputId": "18d728d5-a32c-49dd-b31a-fcbf600860b5"
      },
      "outputs": [
        {
          "output_type": "execute_result",
          "data": {
            "text/plain": [
              "[]"
            ]
          },
          "metadata": {},
          "execution_count": 19
        }
      ],
      "source": [
        "def sunday(shops):\n",
        "\n",
        "    ingredients_on_sunday = []\n",
        "    for shop, opening_hours in shops.items():\n",
        "        if \"Sunday\" in opening_hours:\n",
        "            ingredients_on_sunday.extend(shops[shop])\n",
        "    return ingredients_on_sunday\n",
        "sunday(shops)"
      ]
    },
    {
      "cell_type": "code",
      "source": [],
      "metadata": {
        "id": "O71F6SF2V0LE"
      },
      "execution_count": null,
      "outputs": []
    },
    {
      "cell_type": "markdown",
      "metadata": {
        "id": "xNHy7685wxtY"
      },
      "source": [
        "### Question 2.4\n",
        "Define a function `convert` which turns a list of ingredients such as `contains` into a dictionary associating a recipy name with a list of ingredients."
      ]
    },
    {
      "cell_type": "code",
      "execution_count": null,
      "metadata": {
        "id": "vzglbIwgwxtZ",
        "colab": {
          "base_uri": "https://localhost:8080/"
        },
        "outputId": "85174e02-049b-48f7-8a95-c171cb4969d0"
      },
      "outputs": [
        {
          "output_type": "stream",
          "name": "stdout",
          "text": [
            "{'Pasta': ['spaghetti', 'tomato sauce', 'basil'], 'Salad': ['lettuce', 'tomato', 'cucumber', 'olive oil', 'vinegar'], 'Cake': ['flour', 'sugar', 'eggs', 'milk', 'butter', 'baking powder']}\n"
          ]
        }
      ],
      "source": [
        "def convert(recipes):\n",
        "    recipe_dict = {}\n",
        "    for recipe in recipes:\n",
        "        # Split the recipe string into recipe name and ingredients\n",
        "        recipe_info = recipe.split(':')\n",
        "        recipe_name = recipe_info[0].strip()  # Remove leading/trailing spaces\n",
        "        ingredients = recipe_info[1].split(',')  # Split ingredients by comma\n",
        "\n",
        "        # Store the recipe name and ingredients in the dictionary\n",
        "        recipe_dict[recipe_name] = [ingredient.strip() for ingredient in ingredients]\n",
        "\n",
        "    return recipe_dict\n",
        "\n",
        "# Example list of recipes\n",
        "recipes_list = [\n",
        "    \"Pasta: spaghetti, tomato sauce, basil\",\n",
        "    \"Salad: lettuce, tomato, cucumber, olive oil, vinegar\",\n",
        "    \"Cake: flour, sugar, eggs, milk, butter, baking powder\"\n",
        "]\n",
        "\n",
        "# Call the function and store the result in a dictionary\n",
        "recipes_dict = convert(recipes_list)\n",
        "\n",
        "# Print the resulting dictionary\n",
        "print(recipes_dict)\n"
      ]
    },
    {
      "cell_type": "markdown",
      "metadata": {
        "id": "wY1XIUpAwxtZ"
      },
      "source": [
        "### Question 2.5\n",
        "Define a function `this_month` which computes the list of recipies which can be cooked on a given month."
      ]
    },
    {
      "cell_type": "code",
      "execution_count": null,
      "metadata": {
        "id": "aXMsumjowxtZ",
        "colab": {
          "base_uri": "https://localhost:8080/"
        },
        "outputId": "d018b93a-7553-419b-a9e7-c0f55843cce3"
      },
      "outputs": [
        {
          "output_type": "stream",
          "name": "stdout",
          "text": [
            "Recipes that can be cooked this month: ['Salad']\n"
          ]
        }
      ],
      "source": [
        "def this_month(recipes, available_ingredients):\n",
        "    available_recipes = []\n",
        "    for recipe, ingredients in recipes.items():\n",
        "        if all(ingredient in available_ingredients for ingredient in ingredients):\n",
        "            available_recipes.append(recipe)\n",
        "    return available_recipes\n",
        "\n",
        "# Example dictionary of recipes\n",
        "recipes_dict = {\n",
        "    \"Pasta\": [\"spaghetti\", \"tomato sauce\", \"basil\"],\n",
        "    \"Salad\": [\"lettuce\", \"tomato\", \"cucumber\", \"olive oil\", \"vinegar\"],\n",
        "    \"Cake\": [\"flour\", \"sugar\", \"eggs\", \"milk\", \"butter\", \"baking powder\"]\n",
        "}\n",
        "\n",
        "# Example list of available ingredients for this month\n",
        "available_ingredients = [\"tomato\", \"lettuce\", \"cucumber\", \"olive oil\", \"vinegar\"]\n",
        "\n",
        "# Call the function and store the result in a list\n",
        "available_recipes = this_month(recipes_dict, available_ingredients)\n",
        "\n",
        "# Print the list of available recipes for this month\n",
        "print(\"Recipes that can be cooked this month:\", available_recipes)\n"
      ]
    },
    {
      "cell_type": "code",
      "source": [],
      "metadata": {
        "id": "69Q9uHMvX6om"
      },
      "execution_count": null,
      "outputs": []
    }
  ],
  "metadata": {
    "kernelspec": {
      "display_name": "Python 3",
      "language": "python",
      "name": "python3"
    },
    "language_info": {
      "codemirror_mode": {
        "name": "ipython",
        "version": 3
      },
      "file_extension": ".py",
      "mimetype": "text/x-python",
      "name": "python",
      "nbconvert_exporter": "python",
      "pygments_lexer": "ipython3",
      "version": "3.8.5"
    },
    "colab": {
      "provenance": []
    }
  },
  "nbformat": 4,
  "nbformat_minor": 0
}