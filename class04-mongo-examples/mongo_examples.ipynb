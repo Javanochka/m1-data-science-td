{
 "cells": [
  {
   "cell_type": "code",
   "execution_count": 1,
   "id": "52ce9452",
   "metadata": {},
   "outputs": [
    {
     "name": "stdout",
     "output_type": "stream",
     "text": [
      "Requirement already satisfied: pymongo in /home/anna/Documents/PhDWork/Teaching/ex-env/lib/python3.8/site-packages (4.3.3)\r\n",
      "Requirement already satisfied: dnspython<3.0.0,>=1.16.0 in /home/anna/Documents/PhDWork/Teaching/ex-env/lib/python3.8/site-packages (from pymongo) (2.3.0)\r\n"
     ]
    }
   ],
   "source": [
    "!pip install pymongo"
   ]
  },
  {
   "cell_type": "code",
   "execution_count": 2,
   "id": "919ccb1e",
   "metadata": {},
   "outputs": [],
   "source": [
    "import pymongo"
   ]
  },
  {
   "cell_type": "code",
   "execution_count": 12,
   "id": "a3fedecc",
   "metadata": {},
   "outputs": [],
   "source": [
    "from pymongo import MongoClient\n",
    "\n",
    "cars = [ {'name': 'Audi', 'price': 52642},\n",
    "    {'name': 'Mercedes', 'price': 57127},\n",
    "    {'name': 'Skoda', 'price': 9000},\n",
    "    {'name': 'Volvo', 'price': 29000},\n",
    "    {'name': 'Bentley', 'price': 350000},\n",
    "    {'name': 'Citroen', 'price': 21000},\n",
    "    {'name': 'Hummer', 'price': 41400},\n",
    "    {'name': 'Volkswagen', 'price': 21600} ]\n",
    "\n",
    "client = MongoClient('mongodb://localhost:27017/')\n",
    "with client:\n",
    "    db = client.testdb\n",
    "    db.cars.insert_many(cars)"
   ]
  },
  {
   "cell_type": "code",
   "execution_count": 9,
   "id": "07304b42",
   "metadata": {},
   "outputs": [],
   "source": [
    "client.close()"
   ]
  },
  {
   "cell_type": "code",
   "execution_count": 10,
   "id": "40891818",
   "metadata": {},
   "outputs": [
    {
     "name": "stdout",
     "output_type": "stream",
     "text": [
      "['cars']\n"
     ]
    }
   ],
   "source": [
    "from pymongo import MongoClient\n",
    "client = MongoClient('mongodb://localhost:27017/')\n",
    "with client:\n",
    "    db = client.testdb\n",
    "    print(db.list_collection_names())"
   ]
  },
  {
   "cell_type": "code",
   "execution_count": 11,
   "id": "5b981b3b",
   "metadata": {},
   "outputs": [],
   "source": [
    "from pymongo import MongoClient\n",
    "client = MongoClient('mongodb://localhost:27017/')\n",
    "with client:\n",
    "    db = client.testdb\n",
    "    db.cars.drop()"
   ]
  },
  {
   "cell_type": "code",
   "execution_count": 13,
   "id": "9ff5bc2f",
   "metadata": {},
   "outputs": [
    {
     "name": "stdout",
     "output_type": "stream",
     "text": [
      "Audi 52642\n",
      "Mercedes 57127\n",
      "Skoda 9000\n",
      "Volvo 29000\n",
      "Bentley 350000\n",
      "Citroen 21000\n",
      "Hummer 41400\n",
      "Volkswagen 21600\n"
     ]
    }
   ],
   "source": [
    "from pymongo import MongoClient\n",
    "client = MongoClient('mongodb://localhost:27017/')\n",
    "with client:\n",
    "    db = client.testdb\n",
    "    cars = db.cars.find()\n",
    "    for car in cars:\n",
    "        print('{0} {1}'.format(car['name'],\n",
    "                            car['price']))"
   ]
  },
  {
   "cell_type": "code",
   "execution_count": 14,
   "id": "b31d71fd",
   "metadata": {},
   "outputs": [
    {
     "name": "stdout",
     "output_type": "stream",
     "text": [
      "Audi\n",
      "Mercedes\n",
      "Bentley\n"
     ]
    }
   ],
   "source": [
    "from pymongo import MongoClient\n",
    "client = MongoClient('mongodb://localhost:27017/')\n",
    "with client:\n",
    "    db = client.testdb\n",
    "    expensive = db.cars.find({'price': {'$gt': 50000}})\n",
    "    for ecar in expensive:\n",
    "        print(ecar['name'])"
   ]
  },
  {
   "cell_type": "code",
   "execution_count": 15,
   "id": "809d4020",
   "metadata": {},
   "outputs": [
    {
     "name": "stdout",
     "output_type": "stream",
     "text": [
      "There are 8 cars\n"
     ]
    }
   ],
   "source": [
    "from pymongo import MongoClient\n",
    "client = MongoClient('mongodb://localhost:27017/')\n",
    "with client:\n",
    "    db = client.testdb\n",
    "    n_cars = db.cars.count_documents({})\n",
    "    print(\"There are {} cars\".format(n_cars))"
   ]
  },
  {
   "cell_type": "code",
   "execution_count": 16,
   "id": "04ed6b96",
   "metadata": {},
   "outputs": [
    {
     "name": "stdout",
     "output_type": "stream",
     "text": [
      "{'_id': ObjectId('63da22b82f5c60b60620494a'), 'name': 'Audi'}\n",
      "{'_id': ObjectId('63da22b82f5c60b60620494b'), 'name': 'Mercedes'}\n",
      "{'_id': ObjectId('63da22b82f5c60b60620494c'), 'name': 'Skoda'}\n",
      "{'_id': ObjectId('63da22b82f5c60b60620494d'), 'name': 'Volvo'}\n",
      "{'_id': ObjectId('63da22b82f5c60b60620494e'), 'name': 'Bentley'}\n",
      "{'_id': ObjectId('63da22b82f5c60b60620494f'), 'name': 'Citroen'}\n",
      "{'_id': ObjectId('63da22b82f5c60b606204950'), 'name': 'Hummer'}\n",
      "{'_id': ObjectId('63da22b82f5c60b606204951'), 'name': 'Volkswagen'}\n"
     ]
    }
   ],
   "source": [
    "from pymongo import MongoClient\n",
    "client = MongoClient('mongodb://localhost:27017/')\n",
    "with client:\n",
    "    db = client.testdb\n",
    "    cars = db.cars.find({}, {'_id': 1, 'name':1})\n",
    "    for car in cars:\n",
    "        print(car)"
   ]
  },
  {
   "cell_type": "code",
   "execution_count": 17,
   "id": "a1d695c9",
   "metadata": {},
   "outputs": [
    {
     "name": "stdout",
     "output_type": "stream",
     "text": [
      "{'_id': ObjectId('63da22b82f5c60b60620494a'), 'name': 'Audi'}\n",
      "{'_id': ObjectId('63da22b82f5c60b60620494b'), 'name': 'Mercedes'}\n",
      "{'_id': ObjectId('63da22b82f5c60b60620494e'), 'name': 'Bentley'}\n"
     ]
    }
   ],
   "source": [
    "from pymongo import MongoClient\n",
    "client = MongoClient('mongodb://localhost:27017/')\n",
    "with client:\n",
    "    db = client.testdb\n",
    "    cars = db.cars.find({'price': {'$gt': 50000}}, {'_id': 1, 'name':1})\n",
    "    for car in cars:\n",
    "        print(car)"
   ]
  },
  {
   "cell_type": "code",
   "execution_count": 18,
   "id": "cdfb7b0f",
   "metadata": {},
   "outputs": [
    {
     "name": "stdout",
     "output_type": "stream",
     "text": [
      "Bentley 350000\n",
      "Mercedes 57127\n",
      "Audi 52642\n",
      "Hummer 41400\n",
      "Volvo 29000\n",
      "Volkswagen 21600\n",
      "Citroen 21000\n",
      "Skoda 9000\n"
     ]
    }
   ],
   "source": [
    "from pymongo import MongoClient, DESCENDING\n",
    "client = MongoClient('mongodb://localhost:27017/')\n",
    "with client:\n",
    "    db = client.testdb\n",
    "    cars = db.cars.find().sort('price', DESCENDING)\n",
    "    for car in cars:\n",
    "        print('{0} {1}'.format(car['name'],\n",
    "                            car['price']))"
   ]
  },
  {
   "cell_type": "code",
   "execution_count": 19,
   "id": "730878e8",
   "metadata": {},
   "outputs": [
    {
     "name": "stdout",
     "output_type": "stream",
     "text": [
      "Sum of prices is 581769\n"
     ]
    }
   ],
   "source": [
    "from pymongo import MongoClient\n",
    "client = MongoClient('mongodb://localhost:27017/')\n",
    "with client:\n",
    "    db = client.testdb\n",
    "    agr = [ {'$group':\n",
    "                {'_id': 1,\n",
    "                 'all':\n",
    "                    { '$sum': '$price' } } } ]\n",
    "    val = list(db.cars.aggregate(agr))\n",
    "    print('Sum of prices is {}'.format(val[0]['all']))"
   ]
  },
  {
   "cell_type": "code",
   "execution_count": 20,
   "id": "ed495a4e",
   "metadata": {},
   "outputs": [
    {
     "name": "stdout",
     "output_type": "stream",
     "text": [
      "Sum is 81642\n"
     ]
    }
   ],
   "source": [
    "from pymongo import MongoClient\n",
    "client = MongoClient('mongodb://localhost:27017/')\n",
    "with client:\n",
    "    db = client.testdb\n",
    "    agr = [{ '$match':\n",
    "                {'$or':\n",
    "                    [ { 'name': 'Audi' },\n",
    "                      { 'name': 'Volvo' }]\n",
    "                }},\n",
    "           { '$group':\n",
    "                {'_id': 1,\n",
    "                'audivolvo': { '$sum': '$price' } }}]\n",
    "    val = list(db.cars.aggregate(agr))\n",
    "    print('Sum is {}'.format(val[0]['audivolvo']))"
   ]
  },
  {
   "cell_type": "code",
   "execution_count": 21,
   "id": "7820e9c4",
   "metadata": {},
   "outputs": [
    {
     "name": "stdout",
     "output_type": "stream",
     "text": [
      "Skoda: 9000\n",
      "Volvo: 29000\n",
      "Bentley: 350000\n"
     ]
    }
   ],
   "source": [
    "from pymongo import MongoClient\n",
    "client = MongoClient('mongodb://localhost:27017/')\n",
    "with client:\n",
    "    db = client.testdb\n",
    "    cars = db.cars.find().skip(2).limit(3)\n",
    "    for car in cars:\n",
    "        print('{0}: {1}'.format(car['name'],\n",
    "                            car['price']))"
   ]
  },
  {
   "cell_type": "code",
   "execution_count": 20,
   "id": "ef549415",
   "metadata": {},
   "outputs": [
    {
     "name": "stdout",
     "output_type": "stream",
     "text": [
      "Skoda: 9000\n",
      "Volvo: 29000\n",
      "Bentley: 350000\n"
     ]
    }
   ],
   "source": [
    "from pymongo import MongoClient\n",
    "client = MongoClient('mongodb://localhost:27017/')\n",
    "with client:\n",
    "    db = client.testdb\n",
    "    cars = db.cars.find().skip(2).limit(3)\n",
    "    for car in cars:\n",
    "        print('{0}: {1}'.format(car['name'],\n",
    "                            car['price']))"
   ]
  },
  {
   "cell_type": "code",
   "execution_count": 23,
   "id": "fcb50495",
   "metadata": {},
   "outputs": [
    {
     "name": "stdout",
     "output_type": "stream",
     "text": [
      "['cars']\n",
      "{'avgObjSize': 50.5,\n",
      " 'collections': 1,\n",
      " 'dataSize': 404.0,\n",
      " 'db': 'testdb',\n",
      " 'fsTotalSize': 497997250560.0,\n",
      " 'fsUsedSize': 364917374976.0,\n",
      " 'indexSize': 20480.0,\n",
      " 'indexes': 1,\n",
      " 'objects': 8,\n",
      " 'ok': 1.0,\n",
      " 'scaleFactor': 1.0,\n",
      " 'storageSize': 20480.0,\n",
      " 'totalSize': 40960.0,\n",
      " 'views': 0}\n"
     ]
    }
   ],
   "source": [
    "from pymongo import MongoClient\n",
    "from pprint import pprint\n",
    "client = MongoClient('mongodb://localhost:27017/')\n",
    "with client:\n",
    "    db = client.testdb\n",
    "    print(db.list_collection_names())\n",
    "    status = db.command(\"dbstats\")\n",
    "    pprint(status)"
   ]
  },
  {
   "cell_type": "code",
   "execution_count": null,
   "id": "af625dbe",
   "metadata": {},
   "outputs": [],
   "source": []
  }
 ],
 "metadata": {
  "kernelspec": {
   "display_name": "Python 3 (ipykernel)",
   "language": "python",
   "name": "python3"
  },
  "language_info": {
   "codemirror_mode": {
    "name": "ipython",
    "version": 3
   },
   "file_extension": ".py",
   "mimetype": "text/x-python",
   "name": "python",
   "nbconvert_exporter": "python",
   "pygments_lexer": "ipython3",
   "version": "3.8.10"
  }
 },
 "nbformat": 4,
 "nbformat_minor": 5
}
