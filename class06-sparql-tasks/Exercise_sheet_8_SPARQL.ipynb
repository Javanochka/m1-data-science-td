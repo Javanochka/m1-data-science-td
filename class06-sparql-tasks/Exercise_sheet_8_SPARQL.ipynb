{
 "cells": [
  {
   "cell_type": "markdown",
   "metadata": {},
   "source": [
    "# Exercise Sheet #8\n",
    "\n",
    "## Exercise 1\n",
    "\n",
    "For this exercise, you are require to write SPARQL queries and to check their answer on the following SPARQL endpoint: https://dbpedia.org/sparql.\n",
    "\n",
    "The following prefixes will be useful:\n",
    "- PREFIX dbo: <http://dbpedia.org/ontology/>\n",
    "- PREFIX dbr: <http://dbpedia.org/resource/>\n",
    "- PREFIX dbp: <http://dbpedia.org/property/>\n",
    "\n",
    "### Question 1.1\n",
    "\n",
    "- Look up http://dbpedia.org/page/Alan_Bean. Write a query to retrieve the abstract.\n"
   ]
  },
  {
   "cell_type": "raw",
   "metadata": {},
   "source": [
    "SELECT ?abstract\n",
    "WHERE {\n",
    "  <http://dbpedia.org/resource/Alan_Bean> dbo:abstract ?abstract . \n",
    "}"
   ]
  },
  {
   "cell_type": "raw",
   "metadata": {},
   "source": [
    "## teacher\n",
    "SELECT * WHERE {dbr:Alan_Bean dbo:abstract ?abstract .}"
   ]
  },
  {
   "cell_type": "markdown",
   "metadata": {},
   "source": [
    "### Question 1.2\n",
    "- Modify the query to retrieve the abstract in a single language of your choice (e.g., only the french abstract).\n"
   ]
  },
  {
   "cell_type": "raw",
   "metadata": {},
   "source": [
    "SELECT ?abstract\n",
    "WHERE {\n",
    "  <http://dbpedia.org/resource/Alan_Bean> dbo:abstract ?abstract . \n",
    "FILTER (langmatches(lang(?abstract), \"FR\"))\n",
    "}"
   ]
  },
  {
   "cell_type": "markdown",
   "metadata": {},
   "source": [
    "### Question 1.3\n",
    "- Look at how the astronaut profession is specified (in http://dbpedia.org/page/Alan_Bean) and write a query to retrieve all astronauts.\n"
   ]
  },
  {
   "cell_type": "raw",
   "metadata": {},
   "source": [
    "SELECT * WHERE {?astronaut dbo:occupation dbr:Astronaut .}"
   ]
  },
  {
   "cell_type": "markdown",
   "metadata": {},
   "source": [
    "### Question 1.4\n",
    "- Write a query that counts the nb of astronauts.\n"
   ]
  },
  {
   "cell_type": "raw",
   "metadata": {},
   "source": [
    "SELECT COUNT(*)\n",
    "WHERE\n",
    "{?astronaut dbo:occupation dbr:Astronaut .}"
   ]
  },
  {
   "cell_type": "markdown",
   "metadata": {},
   "source": [
    "### Question 1.5\n",
    "- Retrieve all astronauts and their nationality: Try with and without the OPTIONAL clause; for each query, get the number of astronauts.\n"
   ]
  },
  {
   "cell_type": "raw",
   "metadata": {},
   "source": [
    "SELECT * WHERE {?person dbo:occupation dbr:Astronaut . OPTIONAL {?person dbo:nationality ?citizenship}}"
   ]
  },
  {
   "cell_type": "markdown",
   "metadata": {},
   "source": [
    "### Question 1.6\n",
    "- Retrieve all astronauts ordered in reverse alphabetical order .\n"
   ]
  },
  {
   "cell_type": "raw",
   "metadata": {},
   "source": [
    "SELECT ?name WHERE {?person dbp:type dbr:Astronaut; rdfs:label ?name. FILTER (lang(?name) = 'en') } ORDER BY desc(?name)"
   ]
  },
  {
   "cell_type": "markdown",
   "metadata": {},
   "source": [
    "### Question 1.7\n",
    "- Retrieve all astronauts grouped by nationality.\n"
   ]
  },
  {
   "cell_type": "raw",
   "metadata": {},
   "source": [
    "we can't really group by but we can order by citizenship "
   ]
  },
  {
   "cell_type": "raw",
   "metadata": {},
   "source": [
    "SELECT ?name ?citizen WHERE {?person dbp:type dbr:Astronaut; rdfs:label ?name. \n",
    "OPTIONAL {?person dbo:nationality ?citizen.} FILTER (lang(?name) = 'en')} ORDER BY ?citizen"
   ]
  },
  {
   "cell_type": "markdown",
   "metadata": {},
   "source": [
    "## Exercise 2\n",
    "Using [SPARQLWrapper](https://rdflib.github.io/sparqlwrapper/), write a python program which applies the 7 queries above and display the results.\n"
   ]
  },
  {
   "cell_type": "code",
   "execution_count": 20,
   "metadata": {},
   "outputs": [
    {
     "name": "stdout",
     "output_type": "stream",
     "text": [
      "language: ca, abstract: Alan Lavern Bean (Wheeler, 15 de març de 1932 - Houston, 26 de maig de 2018) fou un astronauta de la NASA i ha estat el quart home en trepitjar la Lluna amb la missió Apollo 12 el novembre de 1969 (a l'edat de 37 anys), durant el projecte Apollo.\n",
      "language: cs, abstract: Alan LaVern Bean (15. března 1932 , Texas – 26. května 2018 Houston) byl americký astronaut z projektů Apollo a Skylab. Stal se čtvrtým člověkem, který stanul na povrchu Měsíce.\n",
      "language: ar, abstract: ألان بين (بالإنجليزية: Alan Bean)‏ هو أحد رواد الفضاء الأمريكيين لذين هبطوا على القمر خلال رحلات برنامج أبولو. ولد في 15 مارس 1932 وهو رابع رائد فضاء يمشي على سطح القمر حيث قام برحلة أبولو 12. وكان ذلك وعمره 36 عاما في نوفمبر 1969.\n",
      "language: en, abstract: Alan LaVern Bean (March 15, 1932 – May 26, 2018) was an American naval officer and aviator, aeronautical engineer, test pilot, NASA astronaut and painter; he was the fourth person to walk on the Moon. He was selected to become an astronaut by NASA in 1963 as part of Astronaut Group 3. Before becoming an astronaut, Bean graduated with a Bachelor of Science degree in Aeronautical Engineering from University of Texas at Austin in 1955 and re-joined the U.S. Navy—he served as an enlisted member for a year after his high school graduation. He received his naval aviator wings in 1956 and served as a fighter pilot. In 1960, he graduated from the U.S. Naval Test Pilot School, flew as a test pilot and was The New Nine selection finalist in 1962. He made his first flight into space aboard Apollo 12, the second crewed mission to land on the Moon, at age 37 in November 1969. He made his second and final flight into space on the Skylab 3 mission in 1973, the second crewed mission to the Skylab space station. After retiring from the United States Navy in 1975 and NASA in 1981, he pursued his interest in painting, depicting various space-related scenes and documenting his own experiences in space as well as those of his fellow Apollo program astronauts. He was the last living crew member of Apollo 12.\n",
      "language: de, abstract: Alan LaVern Bean (* 15. März 1932 in , Texas; † 26. Mai 2018 in Houston, Texas) war ein US-amerikanischer Astronaut. Er war der vierte Mensch auf dem Mond.\n",
      "language: es, abstract: Alan LaVern Bean (Wheeler, Texas; 15 de marzo de 1932-Houston, 26 de mayo de 2018) fue un oficial naval estadounidense y aviador naval, ingeniero aeronáutico, piloto de pruebas y astronauta de la NASA; fue la cuarta persona en caminar sobre la Luna. Fue seleccionado para convertirse en astronauta por la NASA en 1963. Hizo su primer vuelo al espacio a bordo del Apolo 12, la segunda misión tripulada para aterrizar en la Luna, a los 37 años en noviembre de 1969. Hizo su segundo y último vuelo al espacio en la misión Skylab 3 en 1973, la segunda misión tripulada a la estación espacial Skylab. Después de retirarse de la Armada de los Estados Unidos en 1975 y de la NASA en 1981, siguió su interés por la pintura, representando diversas escenas relacionadas con el espacio y documentando sus propias experiencias en el espacio, así como la de sus compañeros astronautas del programa Apolo. Fue el último miembro vivo de la tripulación del Apolo 12.\n",
      "language: eu, abstract: Alan LaVern Bean (Wheeler, Texas 1932ko martxoaren 15a – Houston, 2018ko maiatzaren 26a) NASAko astronauta, ingeniari eta margolaria izan zen. Txikitatik interesatu zitzaion. Apolo 12 misioan parte hartu zuen eta, misio hartan parte hartu zuen Pete Conrad-en antza, Ingeniaritza aeronautikoa ikasi zuen, eta, Marinan pilotu gisa jardun zuen, NASAn sartu baino lehen. 1973. urtean espaziora bueltatu zen, misioan parte hartu baitzuen. Bidai hartan, bi hilabetez orbitan egon zen. 49 urterekin erretiratu zen, margolaritzara dedikatzeko asmoarekin. Bere hitzak jarraituz, \"Ilargian egonda hauxe pentsatu nuen: Lurrera bizirik bueltatzekotan nire bizitza nahi dudan erara biziko dut\". Hura izan zen artista izatera bultzatu ziona. Horrexegatik, Ilargian egondako artista bakarra da. Berak dioenez, artista pribilegiatua da, inork izan duen bista ikusi baitu, Lurraren bista Ilargiatik, alegia. \n",
      "* Datuak: Q310924 \n",
      "* Multimedia: Alan Bean\n",
      "language: in, abstract: Alan LaVern Bean (15 Maret 1932 – 26 Mei 2018) adalah seorang perwira, penerbang Angkatan Laut Amerika Serikat, insinyur penerbangan, pilot uji coba, dan astronaut NASA. Ia adalah orang keempat yang berjalan di Bulan. Ia terpilih menjadi astronaut oleh NASA pada tahun 1963 sebagai bagian dari . Ia melakukan penerbangan pertamanya ke luar angkasa di atas kapal Apollo 12, misi berawak kedua untuk mendarat di Bulan, pada usia 37 di bulan November 1969. Ia melakukan penerbangan kedua dan terakhirnya ke luar angkasa pada misi pada tahun 1973, misi berawak kedua menuju stasiun luar angkasa Skylab. Setelah pensiun dari Angkatan Laut Amerika Serikat pada tahun 1975 dan NASA pada tahun 1981, ia mengejar minatnya dalam melukis, yang menggambarkan berbagai adegan yang berhubungan dengan ruang angkasa dan mendokumentasikan pengalamannya sendiri di ruang angkasa dan juga dari sesama astronaut yang mengikuti program Apollo.\n",
      "language: fr, abstract: Alan LaVern Bean dit Al Bean, né le 15 mars 1932 à Wheeler (Texas) et mort le 26 mai 2018 à Houston (Texas), est un pilote d'essais et un astronaute américain de la NASA. Il se pose sur la Lune le 19 novembre 1969 dans le cadre de Apollo 12, deuxième mission du Programme Apollo ayant atteint le sol lunaire. Il séjourne deux mois à bord de la station spatiale Skylab (1973) en tant que commandant de la mission Skylab 3. Depuis le décès de Richard Gordon le 6 novembre 2017, Alan Bean était le dernier survivant de l'équipage d'Apollo 12.\n",
      "language: nl, abstract: Alan LaVern Bean (Wheeler (Texas), 15 maart 1932 – Houston, 26 mei 2018) was een Amerikaans astronaut en de vierde man die de maan mocht betreden. Bean werd geboren in Wheeler in Texas en opgeleid tot luchtvaartkundige aan de Universiteit van Texas. Hij diende 4 jaar als gevechtspiloot en werd vervolgens testpiloot bij de Amerikaanse marine. De National Aeronautics and Space Administration selecteerde hem in 1963 en voor de reis van Apollo 12 verkoos men hem tot piloot van de maanlander.Op 19 november 1969 landde de maanlander van de Apollo 12 ten noorden van Mare Cognitum, een gebied dat eerder was bezocht door de onbemande robots Loenik 5, Ranger 7 en Surveyor 3. Bean betrad de maan een half uur na zijn collega Charles Conrad.Tijdens deze expeditie werden delen van de Surveyor 3 meegenomen om op aarde te bestuderen. Op de maan werd, naast een paar verloren filmrolletjes, ook de vlag van Beans middelbare school achtergelaten. Na zijn maanavontuur was de belangrijkste opdracht van Bean het commando van Skylab 3 in 1973. Na zijn pensioen in 1981 ging hij schilderen. Bean verwerkte echt maanstof en maansteentjes in zijn oeuvre. Alan Bean werd in mei 2018 plotseling ziek tijdens een reis in Fort Wayne, Indiana, waarna hij twee weken later stierf in het Houston Methodist Hospital te Houston.\n",
      "language: it, abstract: Alan LaVern Bean (Wheeler, 15 marzo 1932 – Houston, 26 maggio 2018) è stato un astronauta statunitense. Fu il quarto uomo ad avere camminato sulla Luna.\n",
      "language: ja, abstract: アラン・ラバーン・ビーン（Alan LaVern Bean、1932年3月15日 - 2018年5月26日）は、アメリカ航空宇宙局の宇宙飛行士、技術者で、1969年11月、37歳の時に人類で4番目に月面を歩いた。\n",
      "language: pl, abstract: Alan LaVern Bean (ur. 15 marca 1932 w Wheeler w stanie Teksas, zm. 26 maja 2018 w Houston) – amerykański astronauta, komandor United States Navy, czwarty człowiek, który stanął na powierzchni Księżyca (19 listopada 1969). Po zakończeniu kariery zajmował się malarstwem.\n",
      "language: pt, abstract: Alan LaVern Bean (Wheeler, 15 de março de 1932 – Houston, 26 de maio de 2018) foi um astronauta norte-americano, integrante da missão Apollo 12 e o quarto homem a pisar na Lua. Nascido no Texas, doutor em ciências e ex-piloto de caças, foi selecionado em 1963 para o grupo de astronautas da NASA e em seu primeiro vôo espacial, seis anos depois, assumiu o posto de piloto do Módulo Lunar Intrepid na missão Apollo 12, a segunda a pousar na Lua, na área chamada de Oceano das Tormentas, em 19 de novembro de 1969. De julho a setembro de 1973 ele comandou a missão Skylab 3, a segunda equipe do laboratório espacial Skylab, junto com os astronautas Jack Lousma e Owen Garriott, passando um total de treze horas trabalhando fora da nave, durante a missão de 59 dias em órbita. Em 1981, depois de quase vinte anos na NASA, Bean encerrou sua carreira e tornou-se pintor, ficando rico com seus quadros, que mostram, segundo ele, imagens nunca vistas pessoalmente por outros artistas, baseadas em tudo que pode ver e sentir durante seus anos de astronauta e suas experiências na Lua e no espaço. Em setembro de 2016, aos 84 anos, ele inaugurou uma estátua criada em sua homenagem em sua cidade natal, em frente ao Wheeler Historical Museum.\n",
      "language: uk, abstract: Алан Лаверн Бін (англ. Alan Bean; 15 березня 1932Бин_Алан_//_[[:ru:Большая_советская_энциклопедия_(третье_издание)|Большая_советская_энциклопедия]]:_[в_30_т.]_/_под_ред._[[:Прохоров_Олександр_Михайлович|А. М. Прохоров]]_—_3-е_изд._—_[[:Москва|Москва]]:_[[:Велика_російська_енциклопедія_(видавництво)|Советская_энциклопедия]],_1969.[[d:Track:Q649]][[d:Track:Q17378135]]\n",
      "language: sv, abstract: Alan LaVern Bean, född 15 mars 1932 i Wheeler, Texas, död 26 maj 2018 i Houston i Texas, var en amerikansk astronaut. Han blev uttagen i astronautgrupp 3 den 17 oktober 1963 för Apolloprogrammet. Asteroiden 13606 Bean är uppkallad efter honom.\n",
      "language: ru, abstract: Алан Лаверн Бин (англ. Alan LaVern Bean; 15 марта 1932, Уилер, Техас — 26 мая 2018) — астронавт США. Четвёртый человек, ступивший на поверхность Луны.\n",
      "language: zh, abstract: 艾伦·拉文·宾（英語：Alan LaVern Bean，1932年3月15日－2018年5月26日）曾是一位美国国家航空航天局的宇航员，执行过阿波罗12号以及天空实验室3号任务。执行阿波罗12号任务时，宾成为了第四个踏上月球的人。 宾出生于德克萨斯州的维勒（Wheeler），从德克萨斯州沃斯堡的帕斯卡高中（R. L. Paschal High School）毕业，1955年在德州大学奥斯汀分校获得宇航工程学士学位。四年的战斗机飞行员生涯后，宾开始接受海军试飞员训练，他的教官恰好是日后阿波罗12号的指令长皮特·康拉德。德克萨斯州卫斯理大学（Texas Wesleyan University）1972年授予宾荣誉博士学位，他还于1974年在俄亥俄州的阿克伦大学（University of Akron）获得了荣誉工程科学博士学位。 1963年，宾被选入美国国家航空航天局的第三组宇航员。宾被指派担任双子星10号的替补指令飞行员，但在一次早期阿波罗飞行任务中表现不佳，未被选中，暂时被安排在阿波罗应用计划中。同一批的克里夫顿·威廉姆斯（Clifton Williams）因飞机事故而丧生后，宾被选入了阿波罗9号的替补团队。 宾在阿波罗12号任务中担任登月舱驾驶员，完成了历史上第二次登月任务。1969年11月，皮特·康拉德和宾先后成为了第三、第四个踏上月球的人类。他们在风暴海放置了一些月表实验设备，并安装了第一个月表核能发电站。任务期间，阿波罗12号的指令舱驾驶员理查德·戈尔登留在月球轨道中为后来的登月任务拍摄了许多照片。 宾在1973年7月29日至9月25日进行的天空实验室3号任务中担任了指令长。在这次59天的任务中，宾与物理学家欧文·加里欧特和杰克·洛斯马在地球轨道中飞行了创纪录的2440万英里。任务期间，宾测试了一种载人机动装置的模型。宾后来在美国首次与前苏联合作的阿波罗-联盟测试计划中担任替补指令长。 1975年10月，宾从美国海军退役，军衔为上校。退役后的宾继续以平民身份在航空航天局担任候选宇航员任务及训练小组组长。 宾于1981年6月从航空航天局辞职，拿出全部精力进行油画创作；他的许多作品被卖给了航天爱好者。关于这一决定，宾曾表示这个决定来源于在他十八年的宇航员生涯中，他很幸运地去过一些画家们从未去过的地方，他的亲身经历能够使他以绘画这种形式展现他的所见所闻。他的画室就位于他在休斯敦的家中。作为一名画家，宾希望给月亮多添一些色彩，他曾说过： 宾使用的颜料是独一无二的——里面掺了月球上的尘土。 宾婚后育有一子一女。电视短剧《从地球到月球》中的第七集“也就这么多”以宾的角度描述了阿波罗12号任务，宾由戴夫·福勒（Dave Foley）扮演。 宾在执行阿波罗12号任务时将就读高中的旗帜以及克里夫顿·威廉姆斯的徽章留在了月球上，以示纪念。\n"
     ]
    }
   ],
   "source": [
    "#1.1\n",
    "from SPARQLWrapper import SPARQLWrapper, JSON\n",
    "\n",
    "sparql = SPARQLWrapper(\"http://dbpedia.org/sparql/\")\n",
    "sparql.setQuery(\"\"\"\n",
    "PREFIX dbo: <http://dbpedia.org/ontology/>\n",
    "PREFIX dbr: <http://dbpedia.org/resource/>\n",
    "PREFIX dbp: <http://dbpedia.org/property/>\n",
    "SELECT ?abstract\n",
    "WHERE {\n",
    "  dbr:Alan_Bean dbo:abstract ?abstract . \n",
    "}\n",
    "\"\"\")\n",
    "sparql.setReturnFormat(JSON)\n",
    "results = sparql.query().convert()\n",
    "for result in results[\"results\"][\"bindings\"]:\n",
    "    print(f'language: {result[\"abstract\"][\"xml:lang\"]}, abstract: {result[\"abstract\"][\"value\"]}', sep = '\\n')"
   ]
  },
  {
   "cell_type": "code",
   "execution_count": 13,
   "metadata": {},
   "outputs": [
    {
     "name": "stdout",
     "output_type": "stream",
     "text": [
      "Alan LaVern Bean (March 15, 1932 – May 26, 2018) was an American naval officer and aviator, aeronautical engineer, test pilot, NASA astronaut and painter; he was the fourth person to walk on the Moon. He was selected to become an astronaut by NASA in 1963 as part of Astronaut Group 3. Before becoming an astronaut, Bean graduated with a Bachelor of Science degree in Aeronautical Engineering from University of Texas at Austin in 1955 and re-joined the U.S. Navy—he served as an enlisted member for a year after his high school graduation. He received his naval aviator wings in 1956 and served as a fighter pilot. In 1960, he graduated from the U.S. Naval Test Pilot School, flew as a test pilot and was The New Nine selection finalist in 1962. He made his first flight into space aboard Apollo 12, the second crewed mission to land on the Moon, at age 37 in November 1969. He made his second and final flight into space on the Skylab 3 mission in 1973, the second crewed mission to the Skylab space station. After retiring from the United States Navy in 1975 and NASA in 1981, he pursued his interest in painting, depicting various space-related scenes and documenting his own experiences in space as well as those of his fellow Apollo program astronauts. He was the last living crew member of Apollo 12.\n"
     ]
    }
   ],
   "source": [
    "#1.2\n",
    "sparql.setQuery(\"\"\"\n",
    "PREFIX dbo: <http://dbpedia.org/ontology/>\n",
    "PREFIX dbr: <http://dbpedia.org/resource/>\n",
    "PREFIX dbp: <http://dbpedia.org/property/>\n",
    "SELECT ?abstract\n",
    "WHERE {\n",
    "  dbr:Alan_Bean dbo:abstract ?abstract . \n",
    "FILTER (langmatches(lang(?abstract), \"EN\"))\n",
    "}\n",
    "\"\"\")\n",
    "sparql.setReturnFormat(JSON)\n",
    "results = sparql.query().convert()\n",
    "for result in results[\"results\"][\"bindings\"]:\n",
    "    print(result[\"abstract\"][\"value\"])"
   ]
  },
  {
   "cell_type": "code",
   "execution_count": 22,
   "metadata": {},
   "outputs": [
    {
     "name": "stdout",
     "output_type": "stream",
     "text": [
      "http://dbpedia.org/resource/Roberta_Bondar\n",
      "http://dbpedia.org/resource/Roger_B._Chaffee\n",
      "http://dbpedia.org/resource/Samantha_Cristoforetti\n",
      "http://dbpedia.org/resource/Scott_Carpenter\n",
      "http://dbpedia.org/resource/Barry_E._Wilmore\n",
      "http://dbpedia.org/resource/David_Scott\n",
      "http://dbpedia.org/resource/Howard_Wolowitz\n",
      "http://dbpedia.org/resource/John_S._Bull\n",
      "http://dbpedia.org/resource/Joseph_A._Walker\n",
      "http://dbpedia.org/resource/List_of_Planet_of_the_Apes_characters\n",
      "http://dbpedia.org/resource/Peggy_Whitson\n",
      "http://dbpedia.org/resource/Pete_Conrad\n",
      "http://dbpedia.org/resource/Richard_F._Gordon_Jr.\n",
      "http://dbpedia.org/resource/Robert_F._Overmyer\n",
      "http://dbpedia.org/resource/Robert_L._Stewart\n",
      "http://dbpedia.org/resource/Vance_D._Brand\n",
      "http://dbpedia.org/resource/Senku_Ishigami\n",
      "http://dbpedia.org/resource/Matthias_Maurer\n",
      "http://dbpedia.org/resource/Clifton_Williams\n",
      "http://dbpedia.org/resource/Edward_Givens\n",
      "http://dbpedia.org/resource/Elliot_See\n",
      "http://dbpedia.org/resource/Frank_Borman\n",
      "http://dbpedia.org/resource/Gene_Cernan\n",
      "http://dbpedia.org/resource/Gerald_Carr_(astronaut)\n",
      "http://dbpedia.org/resource/Mirosław_Hermaszewski\n",
      "http://dbpedia.org/resource/Theodore_Freeman\n",
      "http://dbpedia.org/resource/Thomas_P._Stafford\n",
      "http://dbpedia.org/resource/Thomas_Pesquet\n",
      "http://dbpedia.org/resource/Jessica_Watkins__Jessica_Watkins__1\n",
      "http://dbpedia.org/resource/Major_Tom\n",
      "http://dbpedia.org/resource/Barbara_Morgan\n",
      "http://dbpedia.org/resource/Buzz_Aldrin\n",
      "http://dbpedia.org/resource/Tim_Peake\n",
      "http://dbpedia.org/resource/Wally_Schirra\n",
      "http://dbpedia.org/resource/Walter_Cunningham\n",
      "http://dbpedia.org/resource/William_Anders\n",
      "http://dbpedia.org/resource/William_Pogue\n",
      "http://dbpedia.org/resource/William_Shepherd\n",
      "http://dbpedia.org/resource/Alan_Bean\n",
      "http://dbpedia.org/resource/Alan_Shepard\n",
      "http://dbpedia.org/resource/Alexei_Leonov\n",
      "http://dbpedia.org/resource/Alfred_Worden\n",
      "http://dbpedia.org/resource/Duane_Graveline\n",
      "http://dbpedia.org/resource/Ed_White_(astronaut)\n",
      "http://dbpedia.org/resource/Edgar_Mitchell\n",
      "http://dbpedia.org/resource/Gus_Grissom\n",
      "http://dbpedia.org/resource/Hervé_Stevenin\n",
      "http://dbpedia.org/resource/Jack_R._Lousma\n",
      "http://dbpedia.org/resource/James_Irwin\n",
      "http://dbpedia.org/resource/Artemis_Fowl_II\n",
      "http://dbpedia.org/resource/Charles_Bassett\n",
      "http://dbpedia.org/resource/Charles_Duke\n",
      "http://dbpedia.org/resource/Chen_Dong_(taikonaut)\n",
      "http://dbpedia.org/resource/Chen_Quan\n",
      "http://dbpedia.org/resource/Jessica_Meir\n",
      "http://dbpedia.org/resource/Joe_Engle\n",
      "http://dbpedia.org/resource/Ken_Mattingly\n",
      "http://dbpedia.org/resource/Ed_Straker\n",
      "http://dbpedia.org/resource/Dick_Scobee\n",
      "http://dbpedia.org/resource/Donn_F._Eisele\n",
      "http://dbpedia.org/resource/Marcos_Pontes\n",
      "http://dbpedia.org/resource/Mario_Runco_Jr.\n",
      "http://dbpedia.org/resource/Mark_P._Stucky\n",
      "http://dbpedia.org/resource/Mary_Helen_Johnston\n",
      "http://dbpedia.org/resource/Sonny_Carter\n",
      "http://dbpedia.org/resource/Igor_Volk\n",
      "http://dbpedia.org/resource/Insa_Thiele-Eich\n",
      "http://dbpedia.org/resource/Michael_Collins_(astronaut)\n",
      "http://dbpedia.org/resource/Michael_J._McCulley\n",
      "http://dbpedia.org/resource/Michael_J._Smith\n",
      "http://dbpedia.org/resource/Shane_Kimbrough\n",
      "http://dbpedia.org/resource/Sheikh_Muszaphar_Shukor\n",
      "http://dbpedia.org/resource/Fred_Haise__Fred_W._Haise_Jr.__1\n",
      "http://dbpedia.org/resource/Molly_Woods\n"
     ]
    }
   ],
   "source": [
    "#1.3\n",
    "sparql.setQuery(\"\"\"\n",
    "PREFIX dbo: <http://dbpedia.org/ontology/>\n",
    "PREFIX dbr: <http://dbpedia.org/resource/>\n",
    "PREFIX dbp: <http://dbpedia.org/property/>\n",
    "SELECT * WHERE {?astronaut dbo:occupation dbr:Astronaut .}\n",
    "\"\"\")\n",
    "sparql.setReturnFormat(JSON)\n",
    "results = sparql.query().convert()\n",
    "for result in results[\"results\"][\"bindings\"]:\n",
    "    print(result[\"astronaut\"][\"value\"])"
   ]
  },
  {
   "cell_type": "code",
   "execution_count": 24,
   "metadata": {},
   "outputs": [
    {
     "name": "stdout",
     "output_type": "stream",
     "text": [
      "74\n"
     ]
    }
   ],
   "source": [
    "#1.4\n",
    "sparql.setQuery(\"\"\"\n",
    "PREFIX dbo: <http://dbpedia.org/ontology/>\n",
    "PREFIX dbr: <http://dbpedia.org/resource/>\n",
    "PREFIX dbp: <http://dbpedia.org/property/>\n",
    "SELECT COUNT(*) WHERE {?astronaut dbo:occupation dbr:Astronaut .}\n",
    "\"\"\")\n",
    "sparql.setReturnFormat(JSON)\n",
    "results = sparql.query().convert()\n",
    "\n",
    "for result in results[\"results\"][\"bindings\"]:\n",
    "    print(result[\"callret-0\"][\"value\"])"
   ]
  },
  {
   "cell_type": "code",
   "execution_count": 32,
   "metadata": {},
   "outputs": [
    {
     "name": "stdout",
     "output_type": "stream",
     "text": [
      "Samantha_Cristoforetti , Italy\n",
      "Matthias_Maurer , Germany\n",
      "Mirosław_Hermaszewski , Poles\n",
      "Theodore_Freeman , United_States\n",
      "Thomas_Pesquet , France\n",
      "Jessica_Watkins__Jessica_Watkins__1 , United_States\n",
      "Tim_Peake , British_nationality_law\n",
      "Walter_Cunningham , United_States\n",
      "Hervé_Stevenin , France\n",
      "Artemis_Fowl_II , Irish_people\n",
      "Chen_Dong_(taikonaut) , People's_Republic_of_China\n",
      "Chen_Quan , China\n",
      "Ed_Straker , Americans\n",
      "Insa_Thiele-Eich , Germany\n",
      "Roberta_Bondar\n",
      "Roger_B._Chaffee\n",
      "Scott_Carpenter\n",
      "Barry_E._Wilmore\n",
      "David_Scott\n",
      "Howard_Wolowitz\n",
      "John_S._Bull\n",
      "Joseph_A._Walker\n",
      "List_of_Planet_of_the_Apes_characters\n",
      "Peggy_Whitson\n",
      "Pete_Conrad\n",
      "Richard_F._Gordon_Jr.\n",
      "Robert_F._Overmyer\n",
      "Robert_L._Stewart\n",
      "Vance_D._Brand\n",
      "Senku_Ishigami\n",
      "Clifton_Williams\n",
      "Edward_Givens\n",
      "Elliot_See\n",
      "Frank_Borman\n",
      "Gene_Cernan\n",
      "Gerald_Carr_(astronaut)\n",
      "Thomas_P._Stafford\n",
      "Major_Tom\n",
      "Barbara_Morgan\n",
      "Buzz_Aldrin\n",
      "Wally_Schirra\n",
      "William_Anders\n",
      "William_Pogue\n",
      "William_Shepherd\n",
      "Alan_Bean\n",
      "Alan_Shepard\n",
      "Alexei_Leonov\n",
      "Alfred_Worden\n",
      "Duane_Graveline\n",
      "Ed_White_(astronaut)\n",
      "Edgar_Mitchell\n",
      "Gus_Grissom\n",
      "Jack_R._Lousma\n",
      "James_Irwin\n",
      "Charles_Bassett\n",
      "Charles_Duke\n",
      "Jessica_Meir\n",
      "Joe_Engle\n",
      "Ken_Mattingly\n",
      "Dick_Scobee\n",
      "Donn_F._Eisele\n",
      "Marcos_Pontes\n",
      "Mario_Runco_Jr.\n",
      "Mark_P._Stucky\n",
      "Mary_Helen_Johnston\n",
      "Sonny_Carter\n",
      "Igor_Volk\n",
      "Michael_Collins_(astronaut)\n",
      "Michael_J._McCulley\n",
      "Michael_J._Smith\n",
      "Shane_Kimbrough\n",
      "Sheikh_Muszaphar_Shukor\n",
      "Fred_Haise__Fred_W._Haise_Jr.__1\n",
      "Molly_Woods\n"
     ]
    }
   ],
   "source": [
    "#1.5\n",
    "import re \n",
    "sparql.setQuery(\"\"\"\n",
    "PREFIX dbo: <http://dbpedia.org/ontology/>\n",
    "PREFIX dbr: <http://dbpedia.org/resource/>\n",
    "PREFIX dbp: <http://dbpedia.org/property/>\n",
    "SELECT * WHERE {?person dbo:occupation dbr:Astronaut . OPTIONAL {?person dbo:nationality ?citizenship}}\n",
    "\"\"\")\n",
    "sparql.setReturnFormat(JSON)\n",
    "results = sparql.query().convert()\n",
    "for result in results[\"results\"][\"bindings\"]:\n",
    "    try: \n",
    "        print(result[\"person\"][\"value\"].rsplit('/', 1)[-1], ',', result[\"citizenship\"][\"value\"].rsplit('/', 1)[-1])\n",
    "    except KeyError:\n",
    "        print(result[\"person\"][\"value\"].rsplit('/', 1)[-1])"
   ]
  },
  {
   "cell_type": "code",
   "execution_count": 36,
   "metadata": {},
   "outputs": [
    {
     "name": "stdout",
     "output_type": "stream",
     "text": [
      "Winston E. Scott\n",
      "William Shepherd\n",
      "William S. McArthur\n",
      "William Pogue\n",
      "William Oefelein\n",
      "William H. Dana\n",
      "William E. Thornton\n",
      "William C. McCool\n",
      "William B. Lenoir\n",
      "Walter Cunningham\n",
      "Vance D. Brand\n",
      "Timothy Kopra\n",
      "Thomas Reiter\n",
      "Thomas Akers\n",
      "Theodore Freeman\n",
      "Terry Hart\n",
      "Terrence W. Wilcutt\n",
      "Terence T. Henricks\n",
      "Stuart Roosa\n",
      "Story Musgrave\n",
      "Steven R. Nagel\n",
      "Steven Lindsey\n",
      "Steven Hawley\n",
      "Stephen S. Oswald\n",
      "Stephen Robinson\n",
      "Sherwood C. Spring\n",
      "Samantha Cristoforetti\n",
      "S. David Griggs\n",
      "Rusty Schweickart\n",
      "Russell L. Rogers\n",
      "Ronald J. Grabe\n",
      "Ronald J. Garan Jr.\n",
      "Roger B. Chaffee\n",
      "Robert Michael White\n",
      "Robert L. Stewart\n",
      "Robert L. Gibson\n",
      "Robert Henry Lawrence Jr.\n",
      "Robert F. Overmyer\n",
      "Robert Curbeam\n",
      "Robert Crippen\n",
      "Robert C. Springer\n",
      "Robert A. Rushworth\n",
      "Robert A. Parker\n",
      "Rick Husband\n",
      "Richard O. Covey\n",
      "Richard N. Richards\n",
      "Richard M. Linnehan\n",
      "Richard F. Gordon Jr.\n",
      "Richard E. Lawyer\n",
      "Richard A. Searfoss\n",
      "Randolph Bresnik\n",
      "Piers Sellers\n",
      "Pierre J. Thuot\n",
      "Paul Lockhart\n",
      "Paul J. Weitz\n",
      "Norman Thagard\n",
      "Mike Mullane\n",
      "Mike Massimino\n",
      "Michael R. Clifford\n",
      "Michael P. Anderson\n",
      "Michael López-Alegría\n",
      "Michael J. Smith\n",
      "Michael J. McCulley\n",
      "Michael J. Adams\n",
      "Michael Foreman (astronaut)\n",
      "Michael Fincke\n",
      "Michael Coats\n",
      "Michael A. Baker\n",
      "Matthias Maurer\n",
      "Mark N. Brown\n",
      "Mark C. Lee\n",
      "Loren Shriver\n",
      "Lachlan Macleay\n",
      "Kevin R. Kregel\n",
      "Kevin P. Chilton\n",
      "Kevin A. Ford\n",
      "Kent Rominger\n",
      "Kenneth S. Reightler Jr.\n",
      "Kenneth D. Cameron\n",
      "Ken Mattingly\n",
      "Ken Bowersox\n",
      "Kathryn C. Thornton\n",
      "Kathleen Rubins\n",
      "Karol J. Bobko\n",
      "Karl Gordon Henize\n",
      "Joseph R. Tanner\n",
      "Joseph P. Allen\n",
      "Joseph M. Acaba\n",
      "Joseph A. Walker\n",
      "Jon McBride\n",
      "John S. Bull\n",
      "John Oliver Creighton\n",
      "John M. Fabian\n",
      "John E. Blaha\n",
      "John Casper\n",
      "John B. McKay\n",
      "Joe F. Edwards Jr.\n",
      "Joe Engle\n",
      "Jing Haipeng\n",
      "Jim Wetherbee\n",
      "Jessica Watkins\n",
      "Jeffrey Ashby\n",
      "Jan Davis\n",
      "James van Hoften\n",
      "James W. Wood\n",
      "James S. Voss\n",
      "James M. Taylor\n",
      "James Irwin\n",
      "James H. Newman\n",
      "James C. Adamson\n",
      "James Buchli\n",
      "Jack R. Lousma\n",
      "Jack D. Fischer\n",
      "Henry Hartsfield\n",
      "Henry Charles Gordon\n",
      "Guy Gardner (astronaut)\n",
      "Guion Bluford\n",
      "Gregory C. Johnson\n",
      "Gerald Carr (astronaut)\n",
      "George Nelson (astronaut)\n",
      "Gene Cernan\n",
      "Gary Payton (astronaut)\n",
      "G. David Low\n",
      "Frederick W. Sturckow\n",
      "Frederick Hauck\n",
      "Fred Haise\n",
      "Frank L. Culbertson Jr.\n",
      "Francis G. Neubeck\n",
      "Eric Boe\n",
      "Eileen Collins\n",
      "Edward Givens\n",
      "Edgar Mitchell\n",
      "Donn F. Eisele\n",
      "Donald R. McMonagle\n",
      "Donald Holmquest\n",
      "Donald H. Peterson\n",
      "Donald E. Williams\n",
      "Don Lind\n",
      "Dick Scobee\n",
      "David M. Walker (astronaut)\n",
      "David Leestma\n",
      "David C. Hilmers\n",
      "Daniel W. Bursch\n",
      "Daniel Brandenstein\n",
      "Dale Gardner\n",
      "Curtis Brown\n",
      "Clifton Williams\n",
      "Christopher Cassidy\n",
      "Christer Fuglesang\n",
      "Chen Dong (taikonaut)\n",
      "Charles L. Veach\n",
      "Charles Duke\n",
      "Charles D. Gemar\n",
      "Charles Bassett\n",
      "Carl J. Meade\n",
      "C. Gordon Fullerton\n",
      "Bryan D. O'Connor\n",
      "Bruce McCandless II\n",
      "Bruce E. Melnick\n",
      "Brian O'Leary\n",
      "Brian Duffy (astronaut)\n",
      "Brewster H. Shaw\n",
      "Bjarni Tryggvason\n",
      "Anthony W. England\n",
      "Andrew M. Allen\n",
      "Andrew J. Feustel\n",
      "Andreas Mogensen\n",
      "Albert H. Crews\n",
      "Alan Bean\n"
     ]
    }
   ],
   "source": [
    "# 1.6\n",
    "sparql.setQuery(\"\"\"\n",
    "PREFIX dbo: <http://dbpedia.org/ontology/>\n",
    "PREFIX dbr: <http://dbpedia.org/resource/>\n",
    "PREFIX dbp: <http://dbpedia.org/property/>\n",
    "SELECT ?name WHERE {?person dbp:type dbr:Astronaut; rdfs:label ?name. \n",
    "FILTER (lang(?name) = 'en') } ORDER BY desc(?name)\n",
    "\"\"\")\n",
    "sparql.setReturnFormat(JSON)\n",
    "results = sparql.query().convert()\n",
    "#print(results)\n",
    "for result in results[\"results\"][\"bindings\"]:\n",
    "    print(result[\"name\"][\"value\"])"
   ]
  },
  {
   "cell_type": "code",
   "execution_count": 54,
   "metadata": {},
   "outputs": [
    {
     "name": "stdout",
     "output_type": "stream",
     "text": [
      "{'unknown': ['Carl J. Meade', 'Robert Michael White', 'Roger B. Chaffee', 'Ronald J. Garan Jr.', 'Ronald J. Grabe', 'Bjarni Tryggvason', 'Brewster H. Shaw', 'Brian Duffy (astronaut)', \"Brian O'Leary\", 'David Leestma', 'David M. Walker (astronaut)', 'John Oliver Creighton', 'John S. Bull', 'Jon McBride', 'Joseph A. Walker', 'Joseph M. Acaba', 'Joseph P. Allen', 'Joseph R. Tanner', 'Paul J. Weitz', 'Paul Lockhart', 'Richard A. Searfoss', 'Richard E. Lawyer', 'Richard F. Gordon Jr.', 'Richard M. Linnehan', 'Richard N. Richards', 'Richard O. Covey', 'Rick Husband', 'Robert A. Parker', 'Robert A. Rushworth', 'Robert C. Springer', 'Robert Crippen', 'Robert Curbeam', 'Robert F. Overmyer', 'Robert Henry Lawrence Jr.', 'Robert L. Gibson', 'Robert L. Stewart', 'Vance D. Brand', 'Russell L. Rogers', 'Rusty Schweickart', 'S. David Griggs', 'Christer Fuglesang', 'Clifton Williams', 'Edward Givens', 'Eileen Collins', 'Frank L. Culbertson Jr.', 'Fred Haise', 'Frederick Hauck', 'Frederick W. Sturckow', 'G. David Low', 'Gary Payton (astronaut)', 'Gene Cernan', 'George Nelson (astronaut)', 'Gerald Carr (astronaut)', 'Thomas Akers', 'Thomas Reiter', 'Andreas Mogensen', 'Andrew J. Feustel', 'Andrew M. Allen', 'Anthony W. England', 'Loren Shriver', 'Stephen Robinson', 'Stephen S. Oswald', 'Steven Hawley', 'Steven Lindsey', 'Steven R. Nagel', 'Stuart Roosa', 'Bruce E. Melnick', 'Bruce McCandless II', \"Bryan D. O'Connor\", 'C. Gordon Fullerton', 'Timothy Kopra', 'William B. Lenoir', 'William C. McCool', 'William E. Thornton', 'William H. Dana', 'William Oefelein', 'William Pogue', 'William S. McArthur', 'William Shepherd', 'Winston E. Scott', 'Alan Bean', 'Albert H. Crews', 'Curtis Brown', 'Dale Gardner', 'Daniel Brandenstein', 'Daniel W. Bursch', 'Edgar Mitchell', 'Eric Boe', 'Francis G. Neubeck', 'Norman Thagard', 'Gregory C. Johnson', 'Guion Bluford', 'Guy Gardner (astronaut)', 'Henry Charles Gordon', 'Henry Hartsfield', 'Jack D. Fischer', 'Jack R. Lousma', 'James Buchli', 'James C. Adamson', 'James H. Newman', 'James Irwin', 'James M. Taylor', 'James S. Voss', 'James W. Wood', 'James van Hoften', 'Jan Davis', 'Jeffrey Ashby', 'Terrence W. Wilcutt', 'Terry Hart', 'Charles Bassett', 'Charles D. Gemar', 'Charles Duke', 'Charles L. Veach', 'Jessica Watkins', 'Jim Wetherbee', 'Joe Engle', 'Joe F. Edwards Jr.', 'John B. McKay', 'John Casper', 'John E. Blaha', 'John M. Fabian', 'Karl Gordon Henize', 'Karol J. Bobko', 'Kathleen Rubins', 'Kathryn C. Thornton', 'Ken Bowersox', 'Ken Mattingly', 'Kenneth D. Cameron', 'Kenneth S. Reightler Jr.', 'Kent Rominger', 'Kevin A. Ford', 'Kevin P. Chilton', 'Kevin R. Kregel', 'Lachlan Macleay', 'Dick Scobee', 'Don Lind', 'Donald E. Williams', 'Donald H. Peterson', 'Donald Holmquest', 'Donald R. McMonagle', 'Donn F. Eisele', 'Mark C. Lee', 'Mark N. Brown', 'Pierre J. Thuot', 'Piers Sellers', 'Michael A. Baker', 'Michael Coats', 'Michael Fincke', 'Michael Foreman (astronaut)', 'Michael J. Adams', 'Michael J. McCulley', 'Michael J. Smith', 'Michael P. Anderson', 'Michael R. Clifford', 'Mike Massimino', 'Mike Mullane', 'Sherwood C. Spring'], 'United_States': ['Christopher Cassidy', 'David C. Hilmers', 'Theodore Freeman', 'Story Musgrave', 'Walter Cunningham', 'Terence T. Henricks', 'Michael López-Alegría', 'Randolph Bresnik'], 'China': ['Jing Haipeng'], 'Germany': ['Matthias Maurer'], 'Italy': ['Samantha Cristoforetti'], \"People's_Republic_of_China\": ['Chen Dong (taikonaut)'], 'Spain': ['Michael López-Alegría']}\n"
     ]
    }
   ],
   "source": [
    "# 1.7\n",
    "sparql.setQuery(\"\"\"\n",
    "PREFIX dbo: <http://dbpedia.org/ontology/>\n",
    "PREFIX dbr: <http://dbpedia.org/resource/>\n",
    "PREFIX dbp: <http://dbpedia.org/property/>\n",
    "SELECT ?name ?citizen WHERE {?person dbp:type dbr:Astronaut; rdfs:label ?name. \n",
    "OPTIONAL {?person dbo:nationality ?citizen.} FILTER (lang(?name) = 'en')} ORDER BY ?citizen\n",
    "\"\"\")\n",
    "sparql.setReturnFormat(JSON)\n",
    "results = sparql.query().convert()\n",
    "#print(results)\n",
    "nationalities = {'unknown': []}\n",
    "for result in results[\"results\"][\"bindings\"]:\n",
    "    try: \n",
    "        if result[\"citizen\"][\"value\"].rsplit('/', 1)[-1] == 'Americans':\n",
    "            if 'United_States' not in nationalities.keys():\n",
    "                nationalities['United_States'] = [result[\"name\"][\"value\"]]\n",
    "        else: \n",
    "          if result[\"citizen\"][\"value\"].rsplit('/', 1)[-1] not in nationalities.keys():\n",
    "              nationalities[result[\"citizen\"][\"value\"].rsplit('/', 1)[-1]] = [result[\"name\"][\"value\"]]\n",
    "          else: \n",
    "              nationalities[result[\"citizen\"][\"value\"].rsplit('/', 1)[-1]].append(result[\"name\"][\"value\"])\n",
    "    except KeyError:\n",
    "        nationalities['unknown'].append(result[\"name\"][\"value\"])\n",
    "print(nationalities)"
   ]
  },
  {
   "cell_type": "code",
   "execution_count": null,
   "metadata": {},
   "outputs": [],
   "source": []
  }
 ],
 "metadata": {
  "kernelspec": {
   "display_name": "Python 3 (ipykernel)",
   "language": "python",
   "name": "python3"
  },
  "language_info": {
   "codemirror_mode": {
    "name": "ipython",
    "version": 3
   },
   "file_extension": ".py",
   "mimetype": "text/x-python",
   "name": "python",
   "nbconvert_exporter": "python",
   "pygments_lexer": "ipython3",
   "version": "3.10.7"
  }
 },
 "nbformat": 4,
 "nbformat_minor": 4
}
