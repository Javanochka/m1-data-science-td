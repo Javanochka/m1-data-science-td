{
 "cells": [
  {
   "cell_type": "code",
   "execution_count": 1,
   "id": "43b8345e",
   "metadata": {},
   "outputs": [],
   "source": [
    "import sqlite3\n",
    "conn = sqlite3.connect('example_2.db')\n",
    "c = conn.cursor()\n",
    "# Create table\n",
    "c.execute(\"\"\"CREATE TABLE stocks\n",
    "    (date text, trans text, symbol text, qty real, price real)\"\"\")\n",
    "# Insert a row of data\n",
    "c.execute(\"\"\"INSERT INTO stocks\n",
    "    VALUES ('2006-01-05','BUY','RHAT',100,35.14)\"\"\")\n",
    "# Save (commit) the changes and then close the connection\n",
    "conn.commit()\n",
    "conn.close()"
   ]
  },
  {
   "cell_type": "code",
   "execution_count": 4,
   "id": "99b78db8",
   "metadata": {},
   "outputs": [
    {
     "name": "stdout",
     "output_type": "stream",
     "text": [
      "5.0 + (SELECT qty from stocks where date = '2006-01-05')\n"
     ]
    }
   ],
   "source": [
    "import sqlite3\n",
    "conn = sqlite3.connect('example_2.db')\n",
    "c = conn.cursor()\n",
    "# Create table\n",
    "a = input()\n",
    "\n",
    "c.execute(f\"\"\"INSERT INTO stocks\n",
    "    VALUES ('2006-01-05','BUY','RHAT',100,{a})\"\"\")\n",
    "# Save (commit) the changes and then close the connection\n",
    "conn.commit()\n",
    "conn.close()"
   ]
  },
  {
   "cell_type": "code",
   "execution_count": 3,
   "id": "af406650",
   "metadata": {},
   "outputs": [
    {
     "name": "stdout",
     "output_type": "stream",
     "text": [
      "Collecting sqlalchemy\n",
      "  Downloading SQLAlchemy-2.0.1-cp38-cp38-manylinux_2_17_x86_64.manylinux2014_x86_64.whl (2.8 MB)\n",
      "\u001b[K     |████████████████████████████████| 2.8 MB 5.1 MB/s eta 0:00:01\n",
      "\u001b[?25hCollecting greenlet!=0.4.17; platform_machine == \"aarch64\" or (platform_machine == \"ppc64le\" or (platform_machine == \"x86_64\" or (platform_machine == \"amd64\" or (platform_machine == \"AMD64\" or (platform_machine == \"win32\" or platform_machine == \"WIN32\")))))\n",
      "  Downloading greenlet-2.0.2-cp38-cp38-manylinux_2_17_x86_64.manylinux2014_x86_64.whl (618 kB)\n",
      "\u001b[K     |████████████████████████████████| 618 kB 31.2 MB/s eta 0:00:01\n",
      "\u001b[?25hRequirement already satisfied: typing-extensions>=4.2.0 in /home/anna/Documents/PhDWork/Teaching/ex-env/lib/python3.8/site-packages (from sqlalchemy) (4.4.0)\n",
      "Installing collected packages: greenlet, sqlalchemy\n",
      "Successfully installed greenlet-2.0.2 sqlalchemy-2.0.1\n"
     ]
    }
   ],
   "source": [
    "!pip install sqlalchemy"
   ]
  },
  {
   "cell_type": "code",
   "execution_count": 5,
   "id": "d089bd20",
   "metadata": {},
   "outputs": [
    {
     "name": "stderr",
     "output_type": "stream",
     "text": [
      "/tmp/ipykernel_273941/2934334571.py:5: MovedIn20Warning: The ``declarative_base()`` function is now available as sqlalchemy.orm.declarative_base(). (deprecated since: 2.0) (Background on SQLAlchemy 2.0 at: https://sqlalche.me/e/b8d9)\n",
      "  Base = declarative_base()\n"
     ]
    }
   ],
   "source": [
    "from sqlalchemy import Column,ForeignKey,Integer,String\n",
    "from sqlalchemy.ext.declarative import declarative_base\n",
    "from sqlalchemy.orm import relationship\n",
    "from sqlalchemy import create_engine,PrimaryKeyConstraint\n",
    "Base = declarative_base()\n",
    "class Actor(Base):\n",
    "  __tablename__ = 'actor'\n",
    "  # Each column is also a python instance attribute\n",
    "  actor_id = Column(Integer, primary_key=True)\n",
    "  name     = Column(String(250), nullable=False)\n",
    "class Film(Base):\n",
    "  __tablename__ = 'film'\n",
    "  film_id = Column(Integer, primary_key=True)\n",
    "  title   = Column(String(250), nullable=False)\n",
    "  gender  = Column(String(250))"
   ]
  },
  {
   "cell_type": "code",
   "execution_count": 6,
   "id": "1c711c48",
   "metadata": {},
   "outputs": [],
   "source": [
    "class Actor_film_mapping(Base):\n",
    "  __tablename__ = 'actor_film_mapping'\n",
    "  actor = relationship(Actor)\n",
    "  film  = relationship(Film)\n",
    "  actor_id = Column(Integer, ForeignKey('actor.actor_id'))\n",
    "  film_id  = Column(Integer, ForeignKey('film.film_id'))\n",
    "  __table_args__ = (\n",
    "    PrimaryKeyConstraint('actor_id', 'film_id'),\n",
    "  )\n",
    "# Create an engine that stores data in the local\n",
    "# directory's example.db file.\n",
    "engine = create_engine('sqlite:///example_3.db')\n",
    "# Create all tables in the engine. This is equivalent\n",
    "# to \"Create Table\" statements in raw SQL.\n",
    "Base.metadata.create_all(engine)"
   ]
  },
  {
   "cell_type": "code",
   "execution_count": 7,
   "id": "997bab2d",
   "metadata": {},
   "outputs": [],
   "source": [
    "from sqlalchemy import create_engine\n",
    "from sqlalchemy.orm import sessionmaker\n",
    "#from base import Actor, Film, Actor_film_mapping, Base\n",
    "engine = create_engine('sqlite:///example_3.db')\n",
    "# Bind the engine to the metadata of the Base\n",
    "# class from base.py\n",
    "Base.metadata.bind = engine\n",
    "DBSession = sessionmaker(bind=engine)\n",
    "session = DBSession()\n",
    "# Insert an actor in the actor table\n",
    "actor1 = Actor(name='Smith, John')\n",
    "session.add(actor1)\n",
    "session.commit()"
   ]
  },
  {
   "cell_type": "code",
   "execution_count": 9,
   "id": "b9e9186d",
   "metadata": {},
   "outputs": [],
   "source": [
    "from sqlalchemy import create_engine\n",
    "from sqlalchemy.orm import sessionmaker\n",
    "#from base import Actor, Film, Actor_film_mapping, Base\n",
    "engine = create_engine('sqlite:///example_3.db')\n",
    "# Bind the engine to the metadata of the Base\n",
    "# class from base.py\n",
    "Base.metadata.bind = engine\n",
    "DBSession = sessionmaker(bind=engine)\n",
    "session = DBSession()\n",
    "# Insert an actor in the actor table\n",
    "film1 = Film(title='Hello world', gender='documentary')\n",
    "session.add(film1)\n",
    "session.commit()"
   ]
  },
  {
   "cell_type": "code",
   "execution_count": 11,
   "id": "9cdcdff3",
   "metadata": {},
   "outputs": [],
   "source": [
    "from sqlalchemy import create_engine\n",
    "from sqlalchemy.orm import sessionmaker\n",
    "#from base import Actor, Film, Actor_film_mapping, Base\n",
    "engine = create_engine('sqlite:///example_3.db')\n",
    "# Bind the engine to the metadata of the Base\n",
    "# class from base.py\n",
    "Base.metadata.bind = engine\n",
    "DBSession = sessionmaker(bind=engine)\n",
    "session = DBSession()\n",
    "# Insert an actor in the actor table\n",
    "rel = Actor_film_mapping(actor_id=1, film_id=1)\n",
    "session.add(rel)\n",
    "session.commit()"
   ]
  },
  {
   "cell_type": "code",
   "execution_count": 12,
   "id": "c98a6f01",
   "metadata": {},
   "outputs": [
    {
     "name": "stdout",
     "output_type": "stream",
     "text": [
      "Smith, John\n"
     ]
    },
    {
     "data": {
      "text/plain": [
       "[<__main__.Actor_film_mapping at 0x7f8efe507760>]"
      ]
     },
     "execution_count": 12,
     "metadata": {},
     "output_type": "execute_result"
    }
   ],
   "source": [
    "#from base import Actor, Film, Actor_film_mapping, Base\n",
    "from sqlalchemy.orm import sessionmaker\n",
    "from sqlalchemy import create_engine\n",
    "engine = create_engine('sqlite:///example_3.db')\n",
    "Base.metadata.bind = engine\n",
    "DBSession = sessionmaker(bind = engine)\n",
    "session = DBSession()\n",
    "actor1 = session.query(Actor).first()\n",
    "print(actor1.name) #'Smith, John'\n",
    "session.query(Actor_film_mapping).filter(Actor_film_mapping.actor_id == actor1.actor_id).all()[0]"
   ]
  },
  {
   "cell_type": "code",
   "execution_count": 14,
   "id": "12072ae8",
   "metadata": {},
   "outputs": [],
   "source": [
    "obj = session.query(Actor_film_mapping).filter(Actor_film_mapping.actor_id == actor1.actor_id).all()[0]"
   ]
  },
  {
   "cell_type": "code",
   "execution_count": 19,
   "id": "ed9fd71e",
   "metadata": {},
   "outputs": [
    {
     "data": {
      "text/plain": [
       "'Hello world'"
      ]
     },
     "execution_count": 19,
     "metadata": {},
     "output_type": "execute_result"
    }
   ],
   "source": [
    "obj.film.title"
   ]
  },
  {
   "cell_type": "code",
   "execution_count": null,
   "id": "342ecd44",
   "metadata": {},
   "outputs": [],
   "source": []
  }
 ],
 "metadata": {
  "kernelspec": {
   "display_name": "Python 3 (ipykernel)",
   "language": "python",
   "name": "python3"
  },
  "language_info": {
   "codemirror_mode": {
    "name": "ipython",
    "version": 3
   },
   "file_extension": ".py",
   "mimetype": "text/x-python",
   "name": "python",
   "nbconvert_exporter": "python",
   "pygments_lexer": "ipython3",
   "version": "3.8.10"
  }
 },
 "nbformat": 4,
 "nbformat_minor": 5
}
