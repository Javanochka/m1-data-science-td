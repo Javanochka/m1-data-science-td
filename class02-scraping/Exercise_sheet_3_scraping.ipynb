{
 "cells": [
  {
   "cell_type": "markdown",
   "id": "b721495e",
   "metadata": {},
   "source": [
    "# Exercise Sheet \\#3\n",
    "\n",
    "\n",
    "## Exercise 1. Quotes: manual scraping\n",
    "\n",
    "In this exercise, you are required to compile a dataset of biographies taken from http://quotes.toscrape.com.\n",
    "Recall this website displays 10 quotes per page, together with a link to their author's biography. This will be a step by step guide.\n",
    "\n",
    "#### 1.1 Getting URLs of authors' pages\n",
    "\n",
    "To get a list of URLs pointing at author pages, you will process quotes' pages. \n",
    "\n",
    "To do so, first complete the function get_links below which expects as parameter:\n",
    "\n",
    "* `url` the URL of a page from quotes.toscrape.com\n",
    "\n",
    "and returns:\n",
    "\n",
    "* `authors` the list of links to author pages contained in the given quotes' page (beware of duplicates!)"
   ]
  },
  {
   "cell_type": "code",
   "execution_count": 1,
   "id": "2acd76fd",
   "metadata": {},
   "outputs": [
    {
     "name": "stdout",
     "output_type": "stream",
     "text": [
      "[]\n"
     ]
    }
   ],
   "source": [
    "import requests, re\n",
    "from bs4 import BeautifulSoup\n",
    "\n",
    "BASE_URL = 'http://quotes.toscrape.com'\n",
    "\n",
    "def get_links(url):\n",
    "    authors = []\n",
    "    # Get page located at url:\n",
    "    ua = {'User-agent': 'Mozilla/5.0'}\n",
    "    page = requests.get(url, headers=ua)\n",
    "    soup = BeautifulSoup(page.content, 'html.parser')\n",
    "    \n",
    "    #Get all links corresponding to authors:\n",
    "    all_author_hrefs = soup.find_all(href=re.compile('/author/'))\n",
    "    all_author_links = [href['href'] for href in all_author_hrefs]\n",
    "    \n",
    "    #Loop over these:\n",
    "    for href in all_author_links:\n",
    "    \n",
    "        #if a link is not in authors, add it:\n",
    "        if href not in authors:\n",
    "            authors.append(href)\n",
    "        \n",
    "    #Return results\n",
    "    return authors\n",
    "\n",
    "#Test:\n",
    "authors = get_links(BASE_URL)\n",
    "print(authors)"
   ]
  },
  {
   "cell_type": "markdown",
   "id": "6b5770d1",
   "metadata": {},
   "source": [
    "#### 1.2 iterate over pages of quotes\n",
    "\n",
    "In a second step, fill the `collect` function below, which will iteratively collect author links. This function will take as input parameters:\n",
    "- `url`: the starting url from which to collect links,\n",
    "- `authors`: the list of links to be updated\n",
    "- `limit`: the number of pages to visit (default being `None`, which means visit all pages)"
   ]
  },
  {
   "cell_type": "code",
   "execution_count": 2,
   "id": "ae83d7e0",
   "metadata": {},
   "outputs": [
    {
     "name": "stdout",
     "output_type": "stream",
     "text": [
      "[]\n"
     ]
    }
   ],
   "source": [
    "\n",
    "def collect(url, authors, limit=None):\n",
    "    #Add links contained in page located at url to the authors being computed\n",
    "    authors.extend([x for x in get_links(url) if x not in authors])\n",
    "    #If no limit is given or limit > 1\n",
    "    if limit is None or limit > 1:\n",
    "\n",
    "        # Get page located at url:\n",
    "        ua = {'User-agent': 'Mozilla/5.0'}\n",
    "        page = requests.get(url, headers=ua)\n",
    "        soup = BeautifulSoup(page.content, 'html.parser')\n",
    "\n",
    "        # Get url of next page\n",
    "        next_page = soup.find('li', {'class': 'next'})\n",
    "        \n",
    "        if next_page:\n",
    "            next_page = next_page.find('a')['href']\n",
    "\n",
    "            # recursively collect links (if any)\n",
    "            if limit is None:\n",
    "                collect(BASE_URL + next_page, authors, limit=None)\n",
    "            else:\n",
    "                collect(BASE_URL + next_page, authors, limit=limit - 1)\n",
    "\n",
    "# Test\n",
    "authors = []\n",
    "collect(BASE_URL, authors, limit=2)\n",
    "print(authors)"
   ]
  },
  {
   "cell_type": "markdown",
   "id": "c3c8631f",
   "metadata": {},
   "source": [
    "#### Question 1.3 : get actual biographies\n",
    "\n",
    "For each of the links computed in the previous question, retrieve the corresponding webpage and extract the biography it contains. To do so, fill the `get_biography` function below. It will feed a list of dictionaries of the following form:\n",
    "```python\n",
    "bios = [{name: '...', birth_date: '...', birth_place: '...', bio: '...'}, ...]\n",
    "```"
   ]
  },
  {
   "cell_type": "code",
   "execution_count": 3,
   "id": "8a9e3d1e",
   "metadata": {},
   "outputs": [
    {
     "name": "stdout",
     "output_type": "stream",
     "text": [
      "[]\n"
     ]
    }
   ],
   "source": [
    "def get_biography(url):\n",
    "    # Get page located at URL and parse it\n",
    "    ua = {'User-agent': 'Mozilla/5.0'}\n",
    "    page = requests.get(BASE_URL + url, headers=ua)\n",
    "    soup = BeautifulSoup(page.content, 'html.parser')\n",
    "    \n",
    "    # Get name with BeautifulSoup\n",
    "    name = list(soup.find('h3', {'class': 'author-title'}).strings)[0]\n",
    "    # Get birth date\n",
    "    birth_date = soup.find('span', {'class': 'author-born-date'})\n",
    "    # Get birth place\n",
    "    birth_place= soup.find('span', {'class': 'author-born-location'})\n",
    "    # Get bio\n",
    "    bio = soup.find('div', {'class': 'author-description'})\n",
    "\n",
    "    if name is not None and birth_date is not None and birth_place is not None and bio is not None:\n",
    "        return {'name':name.getText(), 'birth_date': birth_date.getText(), 'birth_place': birth_place.getText(),\n",
    "         'bio': bio.getText()}\n",
    "\n",
    "def get_bios(urls):\n",
    "    bios = []\n",
    "    for u in urls:\n",
    "        bios.append(get_biography(u))\n",
    "    return bios\n",
    "\n",
    "#Test\n",
    "bios=get_bios(authors)\n",
    "print(bios)"
   ]
  },
  {
   "cell_type": "markdown",
   "id": "16092ec8",
   "metadata": {},
   "source": [
    "#### Question 1.4: save your dataset\n",
    "\n",
    "Finally, write a `save` function which takes as an input a list of biographies as computed above and save them in JSON on disk (the filename being an input parameter)."
   ]
  },
  {
   "cell_type": "code",
   "execution_count": 4,
   "id": "411b95fc",
   "metadata": {},
   "outputs": [],
   "source": [
    "import json\n",
    "\n",
    "def save(filename, dataset):\n",
    "    # Open output file\n",
    "    with open(filename, 'w') as file: \n",
    "    # write data in JSON format\n",
    "        json.dump(dataset, file)\n",
    "\n",
    "save('bios.json', bios)"
   ]
  },
  {
   "cell_type": "markdown",
   "id": "5b70760d",
   "metadata": {},
   "source": [
    "## Exercise 2. Let's use Scrapy now!\n",
    "\n",
    "Here the goal is to play with scrapy. Let's look at the wikipedia article https://en.wikipedia.org/wiki/List_of_French_artists. Let's say, we want to extract all names of artists from here with links to their corresponding wikipedia pages and the first paragraph about them.\n",
    "\n",
    "You will find a file called `Exercise_sheet_3_scrapy.py`. Can you fill in the gaps in this script?\n",
    "\n",
    "\n",
    "In addition to the Scrapy documentation I highly recommend you to look at possible selectors: https://www.w3schools.com/cssref/css_selectors.php"
   ]
  },
  {
   "cell_type": "code",
   "execution_count": null,
   "id": "2fee6b88",
   "metadata": {},
   "outputs": [],
   "source": []
  }
 ],
 "metadata": {
  "kernelspec": {
   "display_name": "Python 3 (ipykernel)",
   "language": "python",
   "name": "python3"
  },
  "language_info": {
   "codemirror_mode": {
    "name": "ipython",
    "version": 3
   },
   "file_extension": ".py",
   "mimetype": "text/x-python",
   "name": "python",
   "nbconvert_exporter": "python",
   "pygments_lexer": "ipython3",
   "version": "3.9.12"
  }
 },
 "nbformat": 4,
 "nbformat_minor": 5
}
