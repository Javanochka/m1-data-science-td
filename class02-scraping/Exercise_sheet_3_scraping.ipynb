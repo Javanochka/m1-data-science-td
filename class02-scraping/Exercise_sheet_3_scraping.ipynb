{
 "cells": [
  {
   "cell_type": "markdown",
   "id": "b721495e",
   "metadata": {},
   "source": [
    "# Exercise Sheet \\#3\n",
    "\n",
    "\n",
    "## Exercise 1. Quotes: manual scraping\n",
    "\n",
    "In this exercise, you are required to compile a dataset of biographies taken from http://quotes.toscrape.com.\n",
    "Recall this website displays 10 quotes per page, together with a link to their author's biography. This will be a step by step guide.\n",
    "\n",
    "#### 1.1 Getting URLs of authors' pages\n",
    "\n",
    "To get a list of URLs pointing at author pages, you will process quotes' pages. \n",
    "\n",
    "To do so, first complete the function get_links below which expects as parameter:\n",
    "\n",
    "* `url` the URL of a page from quotes.toscrape.com\n",
    "\n",
    "and returns:\n",
    "\n",
    "* `authors` the list of links to author pages contained in the given quotes' page (beware of duplicates!)"
   ]
  },
  {
   "cell_type": "code",
   "execution_count": 2,
   "id": "2acd76fd",
   "metadata": {},
   "outputs": [
    {
     "name": "stdout",
     "output_type": "stream",
     "text": [
      "['http://quotes.toscrape.com/author/Albert-Einstein', 'http://quotes.toscrape.com/author/J-K-Rowling', 'http://quotes.toscrape.com/author/Jane-Austen', 'http://quotes.toscrape.com/author/Marilyn-Monroe', 'http://quotes.toscrape.com/author/Andre-Gide', 'http://quotes.toscrape.com/author/Thomas-A-Edison', 'http://quotes.toscrape.com/author/Eleanor-Roosevelt', 'http://quotes.toscrape.com/author/Steve-Martin']\n"
     ]
    }
   ],
   "source": [
    "import requests, re\n",
    "from bs4 import BeautifulSoup\n",
    "\n",
    "BASE_URL = 'http://quotes.toscrape.com'\n",
    "\n",
    "def get_links(url):\n",
    "    authors = []\n",
    "    #Get page located at url:\n",
    "    page = requests.get(url=url, headers={'User-Agent': 'Mozilla/5.0'}) #It's important to add in case you have very different versions of the same page\n",
    "    soup = BeautifulSoup(page.content, 'html.parser')\n",
    "        \n",
    "    #Get all links corresponding to authors:\n",
    "    links = soup.find_all(href=re.compile('author'))\n",
    "    #Loop over these:\n",
    "    for l in links:\n",
    "        link = l.get('href')\n",
    "        #if a link is not in authors, add it:\n",
    "        if (BASE_URL+link) not in authors:\n",
    "            authors.append(BASE_URL + link)        \n",
    "    #Return results\n",
    "    return authors\n",
    "\n",
    "#Test:\n",
    "authors = get_links(BASE_URL)\n",
    "print(authors)"
   ]
  },
  {
   "cell_type": "markdown",
   "id": "6b5770d1",
   "metadata": {},
   "source": [
    "#### 1.2 iterate over pages of quotes\n",
    "\n",
    "In a second step, fill the `collect` function below, which will iteratively collect author links. This function will take as input parameters:\n",
    "- `url`: the starting url from which to collect links,\n",
    "- `authors`: the list of links to be updated\n",
    "- `limit`: the number of pages to visit (default being `None`, which means visit all pages)"
   ]
  },
  {
   "cell_type": "code",
   "execution_count": 3,
   "id": "ae83d7e0",
   "metadata": {},
   "outputs": [
    {
     "name": "stdout",
     "output_type": "stream",
     "text": [
      "['http://quotes.toscrape.com/author/Albert-Einstein', 'http://quotes.toscrape.com/author/J-K-Rowling', 'http://quotes.toscrape.com/author/Jane-Austen', 'http://quotes.toscrape.com/author/Marilyn-Monroe', 'http://quotes.toscrape.com/author/Andre-Gide', 'http://quotes.toscrape.com/author/Thomas-A-Edison', 'http://quotes.toscrape.com/author/Eleanor-Roosevelt', 'http://quotes.toscrape.com/author/Steve-Martin']\n"
     ]
    }
   ],
   "source": [
    "def collect(url, authors, limit=None):\n",
    "    #Add links contained in page located at url to the authors being computed\n",
    "    authors.extend([x for x in get_links(url) if x not in authors]) #List Comprehension: for loop in one line\n",
    "    #If no limit is given or limit > 1\n",
    "    if limit == None or limit > 1:\n",
    "        # Get page located at url:\n",
    "        page = requests.get(url=url, headers={'User-Agent': 'Mozilla/5.0'}) #It's important to add in case you have very different versions of the same page\n",
    "        soup = BeautifulSoup(page.content, 'html.parser')\n",
    "        # Get url of next page\n",
    "        next_el = soup.find('a', class_=\"next\")\n",
    "        # recursively collect links (if any)\n",
    "        if next_el and (limit is None or limit > 1):\n",
    "            next_url = next_el['href']\n",
    "            if limit is not None:\n",
    "                limit -= 1\n",
    "            collect(next_url, authors, limit)\n",
    "# Test\n",
    "authors = []\n",
    "collect(BASE_URL, authors, limit=2)\n",
    "print(authors)"
   ]
  },
  {
   "cell_type": "markdown",
   "id": "c3c8631f",
   "metadata": {},
   "source": [
    "#### Question 1.3 : get actual biographies\n",
    "\n",
    "For each of the links computed in the previous question, retrieve the corresponding webpage and extract the biography it contains. To do so, fill the `get_biography` function below. It will feed a list of dictionaries of the following form:\n",
    "```python\n",
    "bios = [{name: '...', birth_date: '...', birth_place: '...', bio: '...'}, ...]\n",
    "```"
   ]
  },
  {
   "cell_type": "code",
   "execution_count": 4,
   "id": "8a9e3d1e",
   "metadata": {},
   "outputs": [
    {
     "name": "stdout",
     "output_type": "stream",
     "text": [
      "[{'name': 'Albert Einstein', 'birth_date': 'March 14, 1879', 'birth_place': 'in Ulm, Germany', 'bio': 'In 1879, Albert Einstein was born in Ulm, Germany. He completed his Ph.D. at the University of Zurich by 1909. His 1905 paper explaining the photoelectric effect, the basis of electronics, earned him the Nobel Prize in 1921. His first paper on Special Relativity Theory, also published in 1905, changed the world. After the rise of the Nazi party, Einstein made Princeton his permanent home, becoming a U.S. citizen in 1940. Einstein, a pacifist during World War I, stayed a firm proponent of social justice and responsibility. He chaired the Emergency Committee of Atomic Scientists, which organized to alert the public to the dangers of atomic warfare.At a symposium, he advised: \"In their struggle for the ethical good, teachers of religion must have the stature to give up the doctrine of a personal God, that is, give up that source of fear and hope which in the past placed such vast power in the hands of priests. In their labors they will have to avail themselves of those forces which are capable of cultivating the Good, the True, and the Beautiful in humanity itself. This is, to be sure a more difficult but an incomparably more worthy task . . . \" (\"Science, Philosophy and Religion, A Symposium,\" published by the Conference on Science, Philosophy and Religion in their Relation to the Democratic Way of Life, Inc., New York, 1941). In a letter to philosopher Eric Gutkind, dated Jan. 3, 1954, Einstein stated: \"The word god is for me nothing more than the expression and product of human weaknesses, the Bible a collection of honorable, but still primitive legends which are nevertheless pretty childish. No interpretation no matter how subtle can (for me) change this,\" (The Guardian, \"Childish superstition: Einstein\\'s letter makes view of religion relatively clear,\" by James Randerson, May 13, 2008). D. 1955.While best known for his mass–energy equivalence formula E = mc2 (which has been dubbed \"the world\\'s most famous equation\"), he received the 1921 Nobel Prize in Physics \"for his services to theoretical physics, and especially for his discovery of the law of the photoelectric effect\". The latter was pivotal in establishing quantum theory.Einstein thought that Newtonion mechanics was no longer enough to reconcile the laws of classical mechanics with the laws of the electromagnetic field. This led to the development of his special theory of relativity. He realized, however, that the principle of relativity could also be extended to gravitational fields, and with his subsequent theory of gravitation in 1916, he published a paper on the general theory of relativity. He continued to deal with problems of statistical mechanics and quantum theory, which led to his explanations of particle theory and the motion of molecules. He also investigated the thermal properties of light which laid the foundation of the photon theory of light.He was visiting the United States when Adolf Hitler came to power in 1933 and did not go back to Germany. On the eve of World War II, he endorsed a letter to President Franklin D. Roosevelt alerting him to the potential development of \"extremely powerful bombs of a new type\" and recommending that the U.S. begin similar research. This eventually led to what would become the Manhattan Project. Einstein supported defending the Allied forces, but largely denounced the idea of using the newly discovered nuclear fission as a weapon. Later, with Bertrand Russell, Einstein signed the Russell–Einstein Manifesto, which highlighted the danger of nuclear weapons. Einstein was affiliated with the Institute for Advanced Study in Princeton, New Jersey, until his death in 1955.His great intellectual achievements and originality have made the word \"Einstein\" synonymous with genius.More: http://en.wikipedia.org/wiki/Albert_E...http://www.nobelprize.org/nobel_prize...'}, {'name': 'J.K. Rowling', 'birth_date': 'July 31, 1965', 'birth_place': 'in Yate, South Gloucestershire, England, The United Kingdom', 'bio': 'See also: Robert GalbraithAlthough she writes under the pen name J.K. Rowling, pronounced like rolling, her name when her first Harry Potter book was published was simply Joanne Rowling. Anticipating that the target audience of young boys might not want to read a book written by a woman, her publishers demanded that she use two initials, rather than her full name. As she had no middle name, she chose K as the second initial of her pen name, from her paternal grandmother Kathleen Ada Bulgen Rowling. She calls herself Jo and has said, \"No one ever called me \\'Joanne\\' when I was young, unless they were angry.\" Following her marriage, she has sometimes used the name Joanne Murray when conducting personal business. During the Leveson Inquiry she gave evidence under the name of Joanne Kathleen Rowling. In a 2012 interview, Rowling noted that she no longer cared that people pronounced her name incorrectly.Rowling was born to Peter James Rowling, a Rolls-Royce aircraft engineer, and Anne Rowling (née Volant), on 31 July 1965 in Yate, Gloucestershire, England, 10 miles (16 km) northeast of Bristol. Her mother Anne was half-French and half-Scottish. Her parents first met on a train departing from King\\'s Cross Station bound for Arbroath in 1964. They married on 14 March 1965. Her mother\\'s maternal grandfather, Dugald Campbell, was born in Lamlash on the Isle of Arran. Her mother\\'s paternal grandfather, Louis Volant, was awarded the Croix de Guerre for exceptional bravery in defending the village of Courcelles-le-Comte during the First World War.Rowling\\'s sister Dianne was born at their home when Rowling was 23 months old. The family moved to the nearby village Winterbourne when Rowling was four. She attended St Michael\\'s Primary School, a school founded by abolitionist William Wilberforce and education reformer Hannah More. Her headmaster at St Michael\\'s, Alfred Dunn, has been suggested as the inspiration for the Harry Potter headmaster Albus Dumbledore.As a child, Rowling often wrote fantasy stories, which she would usually then read to her sister. She recalls that: \"I can still remember me telling her a story in which she fell down a rabbit hole and was fed strawberries by the rabbit family inside it. Certainly the first story I ever wrote down (when I was five or six) was about a rabbit called Rabbit. He got the measles and was visited by his friends, including a giant bee called Miss Bee.\" At the age of nine, Rowling moved to Church Cottage in the Gloucestershire village of Tutshill, close to Chepstow, Wales. When she was a young teenager, her great aunt, who Rowling said \"taught classics and approved of a thirst for knowledge, even of a questionable kind,\" gave her a very old copy of Jessica Mitford\\'s autobiography, Hons and Rebels. Mitford became Rowling\\'s heroine, and Rowling subsequently read all of her books.Rowling has said of her teenage years, in an interview with The New Yorker, \"I wasn’t particularly happy. I think it’s a dreadful time of life.\" She had a difficult homelife; her mother was ill and she had a difficult relationship with her father (she is no longer on speaking terms with him). She attended secondary school at Wyedean School and College, where her mother had worked as a technician in the science department. Rowling said of her adolescence, \"Hermione [a bookish, know-it-all Harry Potter character] is loosely based on me. She\\'s a caricature of me when I was eleven, which I\\'m not particularly proud of.\" Steve Eddy, who taught Rowling English when she first arrived, remembers her as \"not exceptional\" but \"one of a group of girls who were bright, and quite good at English.\" Sean Harris, her best friend in the Upper Sixth owned a turquoise Ford Anglia, which she says inspired the one in her books.'}, {'name': 'Jane Austen', 'birth_date': 'December 16, 1775', 'birth_place': 'in Steventon Rectory, Hampshire, The United Kingdom', 'bio': \"Jane Austen was an English novelist whose works of romantic fiction, set among the landed gentry, earned her a place as one of the most widely read writers in English literature, her realism and biting social commentary cementing her historical importance among scholars and critics.Austen lived her entire life as part of a close-knit family located on the lower fringes of the English landed gentry. She was educated primarily by her father and older brothers as well as through her own reading. The steadfast support of her family was critical to her development as a professional writer. Her artistic apprenticeship lasted from her teenage years until she was about 35 years old. During this period, she experimented with various literary forms, including the epistolary novel which she tried then abandoned, and wrote and extensively revised three major novels and began a fourth. From 1811 until 1816, with the release of Sense and Sensibility (1811), Pride and Prejudice (1813), Mansfield Park (1814) and Emma (1815), she achieved success as a published writer. She wrote two additional novels, Northanger Abbey and Persuasion, both published posthumously in 1818, and began a third, which was eventually titled Sanditon, but died before completing it.Austen's works critique the novels of sensibility of the second half of the 18th century and are part of the transition to 19th-century realism. Her plots, though fundamentally comic, highlight the dependence of women on marriage to secure social standing and economic security. Her work brought her little personal fame and only a few positive reviews during her lifetime, but the publication in 1869 of her nephew's A Memoir of Jane Austen introduced her to a wider public, and by the 1940s she had become widely accepted in academia as a great English writer. The second half of the 20th century saw a proliferation of Austen scholarship and the emergence of a Janeite fan culture.\"}, {'name': 'Marilyn Monroe', 'birth_date': 'June 01, 1926', 'birth_place': 'in The United States', 'bio': 'Marilyn Monroe (born Norma Jeane Mortenson; June 1, 1926 – August 5, 1962) was an American actress, model, and singer, who became a major sex symbol, starring in a number of commercially successful motion pictures during the 1950s and early 1960s.After spending much of her childhood in foster homes, Monroe began a career as a model, which led to a film contract in 1946 with Twentieth Century-Fox. Her early film appearances were minor, but her performances in The Asphalt Jungle and All About Eve (both 1950), drew attention. By 1952 she had her first leading role in Don\\'t Bother to Knock and 1953 brought a lead in Niagara, a melodramatic film noir that dwelt on her seductiveness. Her \"dumb blonde\" persona was used to comic effect in subsequent films such as Gentlemen Prefer Blondes (1953), How to Marry a Millionaire (1953) and The Seven Year Itch (1955). Limited by typecasting, Monroe studied at the Actors Studio to broaden her range. Her dramatic performance in Bus Stop (1956) was hailed by critics and garnered a Golden Globe nomination. Her production company, Marilyn Monroe Productions, released The Prince and the Showgirl (1957), for which she received a BAFTA Award nomination and won a David di Donatello award. She received a Golden Globe Award for her performance in Some Like It Hot (1959). Monroe\\'s last completed film was The Misfits, co-starring Clark Gable with screenplay by her then-husband, Arthur Miller.Marilyn was a passionate reader, owning four hundred books at the time of her death, and was often photographed with a book.The final years of Monroe\\'s life were marked by illness, personal problems, and a reputation for unreliability and being difficult to work with. The circumstances of her death, from an overdose of barbiturates, have been the subject of conjecture. Though officially classified as a \"probable suicide\", the possibility of an accidental overdose, as well as of homicide, have not been ruled out. In 1999, Monroe was ranked as the sixth greatest female star of all time by the American Film Institute. In the decades following her death, she has often been cited as both a pop and a cultural icon as well as the quintessential American sex symbol.'}, {'name': 'André Gide', 'birth_date': 'November 22, 1869', 'birth_place': 'in Paris, France', 'bio': \"André Paul Guillaume Gide was a French author and winner of the Nobel Prize in literature in 1947. Gide's career ranged from its beginnings in the symbolist movement, to the advent of anticolonialism between the two World Wars.Known for his fiction as well as his autobiographical works, Gide exposes to public view the conflict and eventual reconciliation between the two sides of his personality, split apart by a straight-laced education and a narrow social moralism. Gide's work can be seen as an investigation of freedom and empowerment in the face of moralistic and puritan constraints, and gravitates around his continuous effort to achieve intellectual honesty. His self-exploratory texts reflect his search of how to be fully oneself, even to the point of owning one's sexual nature, without at the same time betraying one's values. His political activity is informed by the same ethos, as suggested by his repudiation of communism after his 1936 voyage to the USSR.\"}, {'name': 'Thomas A. Edison', 'birth_date': 'February 11, 1847', 'birth_place': 'in Milan, Ohio, The United States', 'bio': 'Thomas Alva Edison was an American inventor, scientist and businessman who developed many devices that greatly influenced life around the world, including the phonograph, the motion picture camera, and a long-lasting, practical electric light bulb. Dubbed \"The Wizard of Menlo Park\" (now Edison, New Jersey) by a newspaper reporter, he was one of the first inventors to apply the principles of mass production and large teamwork to the process of invention, and therefore is often credited with the creation of the first industrial research laboratory.Edison is considered one of the most prolific inventors in history, holding 1,093 U.S. patents in his name, as well as many patents in the United Kingdom, France and Germany. He is credited with numerous inventions that contributed to mass communication and, in particular, telecommunications. His advanced work in these fields was an outgrowth of his early career as a telegraph operator. Edison originated the concept and implementation of electric-power generation and distribution to homes, businesses, and factories – a crucial development in the modern industrialized world. His first power station was on Manhattan Island, New York.'}, {'name': 'Eleanor Roosevelt', 'birth_date': 'October 11, 1884', 'birth_place': 'in The United States', 'bio': 'Anna Eleanor Roosevelt was an American political leader who used her influence as an active First Lady from 1933 to 1945 to promote the New Deal policies of her husband, President Franklin D. Roosevelt, as well as taking a prominent role as an advocate for civil rights. After her husband\\'s death in 1945, she continued to be an internationally prominent author and speaker for the New Deal coalition. She was a suffragist who worked to enhance the status of working women, although she opposed the Equal Rights Amendment because she believed it would adversely affect women. In the 1940s, she was one of the co-founders of Freedom House and supported the formation of the United Nations. Eleanor Roosevelt founded the UN Association of the United States in 1943 to advance support for the formation of the UN. She was a delegate to the UN General Assembly from 1945 and 1952, a job for which she was appointed by President Harry S. Truman and confirmed by the United States Congress. During her time at the United Nations chaired the committee that drafted and approved the Universal Declaration of Human Rights. President Truman called her the \"First Lady of the World\" in tribute to her human rights achievements.She was one of the most admired persons of the 20th century, according to Gallup\\'s List of Widely Admired People.'}, {'name': 'Steve Martin', 'birth_date': 'August 14, 1945', 'birth_place': 'in Waco, Texas, The United States', 'bio': 'Stephen Glenn \"Steve\" Martin is an American actor, comedian, writer, playwright, producer, musician, and composer. He was raised in Southern California in a Baptist family, where his early influences were working at Disneyland and Knott\\'s Berry Farm and working magic and comedy acts at these and other smaller venues in the area. His ascent to fame picked up when he became a writer for the Smothers Brothers Comedy Hour, and later became a frequent guest on the Tonight Show.In the 1970s, Martin performed his offbeat, absurdist comedy routines before packed houses on national tours. In the 1980s, having branched away from stand-up comedy, he became a successful actor, playwright, and juggler, and eventually earned Emmy, Grammy, and American Comedy awards.'}]\n"
     ]
    }
   ],
   "source": [
    "def get_biography(url):\n",
    "    # Get page located at URL and parse it\n",
    "    page = requests.get(url, headers={'User-Agent': 'Mozilla/5.0'})\n",
    "    soup = BeautifulSoup(page.content, 'html.parser')\n",
    "    # Get name with BeautifulSoup\n",
    "    name_tag = soup.find('h3', class_='author-title')\n",
    "    name = name_tag.text.strip() if name_tag else None\n",
    "    # Get birth date\n",
    "    birth_date_tag = soup.find('span', class_='author-born-date')\n",
    "    birth_date = birth_date_tag.text.strip() if birth_date_tag else None\n",
    "\n",
    "    # Get birth place\n",
    "    birth_place_tag = soup.find('span', class_='author-born-location')\n",
    "    birth_place = birth_place_tag.text.strip() if birth_place_tag else None\n",
    "\n",
    "    # Get bio\n",
    "    bio_tag = soup.find('div', class_='author-description')\n",
    "    bio = bio_tag.text.strip() if bio_tag else None\n",
    "\n",
    "    return {'name': name, 'birth_date': birth_date, 'birth_place': birth_place, 'bio': bio}\n",
    "\n",
    "def get_bios(urls):\n",
    "    bios = []\n",
    "    for u in urls:\n",
    "        bios.append(get_biography(u))\n",
    "    return bios\n",
    "\n",
    "#Test\n",
    "bios=get_bios(authors)\n",
    "print(bios)"
   ]
  },
  {
   "cell_type": "markdown",
   "id": "16092ec8",
   "metadata": {},
   "source": [
    "#### Question 1.4: save your dataset\n",
    "\n",
    "Finally, write a `save` function which takes as an input a list of biographies as computed above and save them in JSON on disk (the filename being an input parameter)."
   ]
  },
  {
   "cell_type": "code",
   "execution_count": 6,
   "id": "411b95fc",
   "metadata": {},
   "outputs": [],
   "source": [
    "import json\n",
    "\n",
    "def save(filename, dataset):\n",
    "    # Open output file\n",
    "    with open(filename, 'w') as f:\n",
    "    # write data in JSON format\n",
    "        json.dump(dataset, f)\n",
    "    pass #remove when ready\n",
    "\n",
    "save('bios.json', bios)"
   ]
  },
  {
   "cell_type": "markdown",
   "id": "5b70760d",
   "metadata": {},
   "source": [
    "## Exercise 2. Let's use Scrapy now!\n",
    "\n",
    "Here the goal is to play with scrapy. Let's look at the wikipedia article https://en.wikipedia.org/wiki/List_of_French_artists. Let's say, we want to extract all names of artists from here with links to their corresponding wikipedia pages and the first paragraph about them.\n",
    "\n",
    "You will find a file called `Exercise_sheet_3_scrapy.py`. Can you fill in the gaps in this script?\n",
    "\n",
    "\n",
    "In addition to the Scrapy documentation I highly recommend you to look at possible selectors: https://www.w3schools.com/cssref/css_selectors.php"
   ]
  },
  {
   "cell_type": "code",
   "execution_count": null,
   "id": "2fee6b88",
   "metadata": {},
   "outputs": [],
   "source": []
  }
 ],
 "metadata": {
  "kernelspec": {
   "display_name": "Python 3 (ipykernel)",
   "language": "python",
   "name": "python3"
  },
  "language_info": {
   "codemirror_mode": {
    "name": "ipython",
    "version": 3
   },
   "file_extension": ".py",
   "mimetype": "text/x-python",
   "name": "python",
   "nbconvert_exporter": "python",
   "pygments_lexer": "ipython3",
   "version": "3.9.13"
  }
 },
 "nbformat": 4,
 "nbformat_minor": 5
}
