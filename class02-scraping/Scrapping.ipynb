{
 "cells": [
  {
   "cell_type": "code",
   "execution_count": 12,
   "id": "ca926b7f-b7c4-418b-aa0c-aff2d9f03471",
   "metadata": {},
   "outputs": [],
   "source": [
    "import requests, re\n",
    "from bs4 import BeautifulSoup\n",
    "\n"
   ]
  },
  {
   "cell_type": "code",
   "execution_count": 13,
   "id": "8e534bbe-b85c-4b69-a0ef-646a370cd40e",
   "metadata": {},
   "outputs": [],
   "source": [
    "BASE_URL = 'http://quotes.toscrape.com'\n",
    "\n"
   ]
  },
  {
   "cell_type": "code",
   "execution_count": 14,
   "id": "2a0f27ee-5ea5-4ae0-8b9e-3921cf323d00",
   "metadata": {},
   "outputs": [
    {
     "name": "stdout",
     "output_type": "stream",
     "text": [
      "['http://quotes.toscrape.com/author/Albert-Einstein', 'http://quotes.toscrape.com/author/J-K-Rowling', 'http://quotes.toscrape.com/author/Jane-Austen', 'http://quotes.toscrape.com/author/Marilyn-Monroe', 'http://quotes.toscrape.com/author/Andre-Gide', 'http://quotes.toscrape.com/author/Thomas-A-Edison', 'http://quotes.toscrape.com/author/Eleanor-Roosevelt', 'http://quotes.toscrape.com/author/Steve-Martin']\n"
     ]
    }
   ],
   "source": [
    "def get_links(url):\n",
    "    authors = []\n",
    "    # Get page located at url:\n",
    "    response = requests.get(url)\n",
    "    soup = BeautifulSoup(response.text, 'html.parser')\n",
    "    \n",
    "    # Get all links corresponding to authors:\n",
    "    author_links = soup.find_all('a', href=re.compile(r'/author/'))\n",
    "    \n",
    "    # Loop over these:\n",
    "    for link in author_links:\n",
    "        # Create full URL from relative link\n",
    "        author_url = BASE_URL + link['href']\n",
    "        # if a link is not in authors, add it:\n",
    "        if author_url not in authors:\n",
    "            authors.append(author_url)\n",
    "            \n",
    "    # Return results\n",
    "    return authors\n",
    "\n",
    "# Test:\n",
    "authors = get_links(BASE_URL)\n",
    "print(authors)\n"
   ]
  },
  {
   "cell_type": "code",
   "execution_count": 15,
   "id": "1165be3e-e938-4a5a-ad73-13a9dec391d8",
   "metadata": {},
   "outputs": [
    {
     "name": "stdout",
     "output_type": "stream",
     "text": [
      "['http://quotes.toscrape.com/author/Albert-Einstein', 'http://quotes.toscrape.com/author/J-K-Rowling', 'http://quotes.toscrape.com/author/Jane-Austen', 'http://quotes.toscrape.com/author/Marilyn-Monroe', 'http://quotes.toscrape.com/author/Andre-Gide', 'http://quotes.toscrape.com/author/Thomas-A-Edison', 'http://quotes.toscrape.com/author/Eleanor-Roosevelt', 'http://quotes.toscrape.com/author/Steve-Martin', 'http://quotes.toscrape.com/author/Bob-Marley', 'http://quotes.toscrape.com/author/Dr-Seuss', 'http://quotes.toscrape.com/author/Douglas-Adams', 'http://quotes.toscrape.com/author/Elie-Wiesel', 'http://quotes.toscrape.com/author/Friedrich-Nietzsche', 'http://quotes.toscrape.com/author/Mark-Twain', 'http://quotes.toscrape.com/author/Allen-Saunders', 'http://quotes.toscrape.com/author/Pablo-Neruda', 'http://quotes.toscrape.com/author/Ralph-Waldo-Emerson', 'http://quotes.toscrape.com/author/Mother-Teresa', 'http://quotes.toscrape.com/author/Garrison-Keillor', 'http://quotes.toscrape.com/author/Jim-Henson']\n"
     ]
    }
   ],
   "source": [
    "def collect(url, authors, limit=None):\n",
    "    # Add links contained in page located at url to the authors being computed\n",
    "    authors_on_page = get_links(url)\n",
    "    authors.extend([x for x in authors_on_page if x not in authors])\n",
    "    \n",
    "    if limit is not None and limit <= 1:\n",
    "        return\n",
    "\n",
    "    # Get page located at url:\n",
    "    response = requests.get(url)\n",
    "    soup = BeautifulSoup(response.text, 'html.parser')\n",
    "\n",
    "    # Get url of next page\n",
    "    next_button = soup.find('li', class_='next')\n",
    "    if next_button:\n",
    "        next_url = BASE_URL + next_button.find('a')['href']\n",
    "        \n",
    "        # Recursively collect links (if any)\n",
    "        collect(next_url, authors, None if limit is None else limit-1)\n",
    "\n",
    "# Test\n",
    "authors = []\n",
    "collect(BASE_URL, authors, limit=3)\n",
    "print(authors)\n"
   ]
  },
  {
   "cell_type": "markdown",
   "id": "f9bd46b2-ebea-427d-a8bd-0c6eefcdbd90",
   "metadata": {},
   "source": [
    "Test"
   ]
  },
  {
   "cell_type": "code",
   "execution_count": 16,
   "id": "6fae0421-2823-400b-8a17-84c8127c2a9f",
   "metadata": {},
   "outputs": [
    {
     "name": "stdout",
     "output_type": "stream",
     "text": [
      "Albert Einstein\n",
      "J.K. Rowling\n",
      "Jane Austen\n",
      "Marilyn Monroe\n",
      "André Gide\n",
      "Thomas A. Edison\n",
      "Eleanor Roosevelt\n",
      "Steve Martin\n",
      "Bob Marley\n",
      "Dr. Seuss\n",
      "Douglas Adams\n",
      "Elie Wiesel\n",
      "Friedrich Nietzsche\n",
      "Mark Twain\n",
      "Allen Saunders\n",
      "Pablo Neruda\n",
      "Ralph Waldo Emerson\n",
      "Mother Teresa\n",
      "Garrison Keillor\n",
      "Jim Henson\n"
     ]
    }
   ],
   "source": [
    "for author in authors:\n",
    "    response = requests.get(author)\n",
    "    soup = BeautifulSoup(response.text,\"html.parser\")\n",
    "    names = soup.find('h3', class_='author-title')\n",
    "    for name in names:\n",
    "        print(name)"
   ]
  },
  {
   "cell_type": "markdown",
   "id": "9fbe403e-d1cf-45a9-9540-44d2885a2ddc",
   "metadata": {},
   "source": [
    "Question 1.3 : get actual biographies\n",
    "For each of the links computed in the previous question, retrieve the corresponding webpage and extract the biography it contains. To do so, fill the get_biography function below. It will feed a list of dictionaries of the following form:\n",
    "\n",
    "bios = [{name: '...', birth_date: '...', birth_place: '...', bio: '...'}, ...]"
   ]
  },
  {
   "cell_type": "code",
   "execution_count": 17,
   "id": "48084384-b1d3-4f4c-be7c-0cc4af102f49",
   "metadata": {},
   "outputs": [
    {
     "name": "stdout",
     "output_type": "stream",
     "text": [
      "[{'name': 'Albert Einstein', 'birth_date': 'March 14, 1879', 'birth_place': 'in Ulm, Germany', 'bio': '\\n        In 1879, Albert Einstein was born in Ulm, Germany. He completed his Ph.D. at the University of Zurich by 1909. His 1905 paper explaining the photoelectric effect, the basis of electronics, earned him the Nobel Prize in 1921. His first paper on Special Relativity Theory, also published in 1905, changed the world. After the rise of the Nazi party, Einstein made Princeton his permanent home, becoming a U.S. citizen in 1940. Einstein, a pacifist during World War I, stayed a firm proponent of social justice and responsibility. He chaired the Emergency Committee of Atomic Scientists, which organized to alert the public to the dangers of atomic warfare.At a symposium, he advised: \"In their struggle for the ethical good, teachers of religion must have the stature to give up the doctrine of a personal God, that is, give up that source of fear and hope which in the past placed such vast power in the hands of priests. In their labors they will have to avail themselves of those forces which are capable of cultivating the Good, the True, and the Beautiful in humanity itself. This is, to be sure a more difficult but an incomparably more worthy task . . . \" (\"Science, Philosophy and Religion, A Symposium,\" published by the Conference on Science, Philosophy and Religion in their Relation to the Democratic Way of Life, Inc., New York, 1941). In a letter to philosopher Eric Gutkind, dated Jan. 3, 1954, Einstein stated: \"The word god is for me nothing more than the expression and product of human weaknesses, the Bible a collection of honorable, but still primitive legends which are nevertheless pretty childish. No interpretation no matter how subtle can (for me) change this,\" (The Guardian, \"Childish superstition: Einstein\\'s letter makes view of religion relatively clear,\" by James Randerson, May 13, 2008). D. 1955.While best known for his mass–energy equivalence formula E = mc2 (which has been dubbed \"the world\\'s most famous equation\"), he received the 1921 Nobel Prize in Physics \"for his services to theoretical physics, and especially for his discovery of the law of the photoelectric effect\". The latter was pivotal in establishing quantum theory.Einstein thought that Newtonion mechanics was no longer enough to reconcile the laws of classical mechanics with the laws of the electromagnetic field. This led to the development of his special theory of relativity. He realized, however, that the principle of relativity could also be extended to gravitational fields, and with his subsequent theory of gravitation in 1916, he published a paper on the general theory of relativity. He continued to deal with problems of statistical mechanics and quantum theory, which led to his explanations of particle theory and the motion of molecules. He also investigated the thermal properties of light which laid the foundation of the photon theory of light.He was visiting the United States when Adolf Hitler came to power in 1933 and did not go back to Germany. On the eve of World War II, he endorsed a letter to President Franklin D. Roosevelt alerting him to the potential development of \"extremely powerful bombs of a new type\" and recommending that the U.S. begin similar research. This eventually led to what would become the Manhattan Project. Einstein supported defending the Allied forces, but largely denounced the idea of using the newly discovered nuclear fission as a weapon. Later, with Bertrand Russell, Einstein signed the Russell–Einstein Manifesto, which highlighted the danger of nuclear weapons. Einstein was affiliated with the Institute for Advanced Study in Princeton, New Jersey, until his death in 1955.His great intellectual achievements and originality have made the word \"Einstein\" synonymous with genius.More: http://en.wikipedia.org/wiki/Albert_E...http://www.nobelprize.org/nobel_prize...    \\n    '}, {'name': 'J.K. Rowling', 'birth_date': 'July 31, 1965', 'birth_place': 'in Yate, South Gloucestershire, England, The United Kingdom', 'bio': '\\n        See also: Robert GalbraithAlthough she writes under the pen name J.K. Rowling, pronounced like rolling, her name when her first Harry Potter book was published was simply Joanne Rowling. Anticipating that the target audience of young boys might not want to read a book written by a woman, her publishers demanded that she use two initials, rather than her full name. As she had no middle name, she chose K as the second initial of her pen name, from her paternal grandmother Kathleen Ada Bulgen Rowling. She calls herself Jo and has said, \"No one ever called me \\'Joanne\\' when I was young, unless they were angry.\" Following her marriage, she has sometimes used the name Joanne Murray when conducting personal business. During the Leveson Inquiry she gave evidence under the name of Joanne Kathleen Rowling. In a 2012 interview, Rowling noted that she no longer cared that people pronounced her name incorrectly.Rowling was born to Peter James Rowling, a Rolls-Royce aircraft engineer, and Anne Rowling (née Volant), on 31 July 1965 in Yate, Gloucestershire, England, 10 miles (16 km) northeast of Bristol. Her mother Anne was half-French and half-Scottish. Her parents first met on a train departing from King\\'s Cross Station bound for Arbroath in 1964. They married on 14 March 1965. Her mother\\'s maternal grandfather, Dugald Campbell, was born in Lamlash on the Isle of Arran. Her mother\\'s paternal grandfather, Louis Volant, was awarded the Croix de Guerre for exceptional bravery in defending the village of Courcelles-le-Comte during the First World War.Rowling\\'s sister Dianne was born at their home when Rowling was 23 months old. The family moved to the nearby village Winterbourne when Rowling was four. She attended St Michael\\'s Primary School, a school founded by abolitionist William Wilberforce and education reformer Hannah More. Her headmaster at St Michael\\'s, Alfred Dunn, has been suggested as the inspiration for the Harry Potter headmaster Albus Dumbledore.As a child, Rowling often wrote fantasy stories, which she would usually then read to her sister. She recalls that: \"I can still remember me telling her a story in which she fell down a rabbit hole and was fed strawberries by the rabbit family inside it. Certainly the first story I ever wrote down (when I was five or six) was about a rabbit called Rabbit. He got the measles and was visited by his friends, including a giant bee called Miss Bee.\" At the age of nine, Rowling moved to Church Cottage in the Gloucestershire village of Tutshill, close to Chepstow, Wales. When she was a young teenager, her great aunt, who Rowling said \"taught classics and approved of a thirst for knowledge, even of a questionable kind,\" gave her a very old copy of Jessica Mitford\\'s autobiography, Hons and Rebels. Mitford became Rowling\\'s heroine, and Rowling subsequently read all of her books.Rowling has said of her teenage years, in an interview with The New Yorker, \"I wasn’t particularly happy. I think it’s a dreadful time of life.\" She had a difficult homelife; her mother was ill and she had a difficult relationship with her father (she is no longer on speaking terms with him). She attended secondary school at Wyedean School and College, where her mother had worked as a technician in the science department. Rowling said of her adolescence, \"Hermione [a bookish, know-it-all Harry Potter character] is loosely based on me. She\\'s a caricature of me when I was eleven, which I\\'m not particularly proud of.\" Steve Eddy, who taught Rowling English when she first arrived, remembers her as \"not exceptional\" but \"one of a group of girls who were bright, and quite good at English.\" Sean Harris, her best friend in the Upper Sixth owned a turquoise Ford Anglia, which she says inspired the one in her books.    \\n    '}, {'name': 'Jane Austen', 'birth_date': 'December 16, 1775', 'birth_place': 'in Steventon Rectory, Hampshire, The United Kingdom', 'bio': \"\\n        Jane Austen was an English novelist whose works of romantic fiction, set among the landed gentry, earned her a place as one of the most widely read writers in English literature, her realism and biting social commentary cementing her historical importance among scholars and critics.Austen lived her entire life as part of a close-knit family located on the lower fringes of the English landed gentry. She was educated primarily by her father and older brothers as well as through her own reading. The steadfast support of her family was critical to her development as a professional writer. Her artistic apprenticeship lasted from her teenage years until she was about 35 years old. During this period, she experimented with various literary forms, including the epistolary novel which she tried then abandoned, and wrote and extensively revised three major novels and began a fourth. From 1811 until 1816, with the release of Sense and Sensibility (1811), Pride and Prejudice (1813), Mansfield Park (1814) and Emma (1815), she achieved success as a published writer. She wrote two additional novels, Northanger Abbey and Persuasion, both published posthumously in 1818, and began a third, which was eventually titled Sanditon, but died before completing it.Austen's works critique the novels of sensibility of the second half of the 18th century and are part of the transition to 19th-century realism. Her plots, though fundamentally comic, highlight the dependence of women on marriage to secure social standing and economic security. Her work brought her little personal fame and only a few positive reviews during her lifetime, but the publication in 1869 of her nephew's A Memoir of Jane Austen introduced her to a wider public, and by the 1940s she had become widely accepted in academia as a great English writer. The second half of the 20th century saw a proliferation of Austen scholarship and the emergence of a Janeite fan culture.    \\n    \"}, {'name': 'Marilyn Monroe', 'birth_date': 'June 01, 1926', 'birth_place': 'in The United States', 'bio': '\\n        Marilyn Monroe (born Norma Jeane Mortenson; June 1, 1926 – August 5, 1962) was an American actress, model, and singer, who became a major sex symbol, starring in a number of commercially successful motion pictures during the 1950s and early 1960s.After spending much of her childhood in foster homes, Monroe began a career as a model, which led to a film contract in 1946 with Twentieth Century-Fox. Her early film appearances were minor, but her performances in The Asphalt Jungle and All About Eve (both 1950), drew attention. By 1952 she had her first leading role in Don\\'t Bother to Knock and 1953 brought a lead in Niagara, a melodramatic film noir that dwelt on her seductiveness. Her \"dumb blonde\" persona was used to comic effect in subsequent films such as Gentlemen Prefer Blondes (1953), How to Marry a Millionaire (1953) and The Seven Year Itch (1955). Limited by typecasting, Monroe studied at the Actors Studio to broaden her range. Her dramatic performance in Bus Stop (1956) was hailed by critics and garnered a Golden Globe nomination. Her production company, Marilyn Monroe Productions, released The Prince and the Showgirl (1957), for which she received a BAFTA Award nomination and won a David di Donatello award. She received a Golden Globe Award for her performance in Some Like It Hot (1959). Monroe\\'s last completed film was The Misfits, co-starring Clark Gable with screenplay by her then-husband, Arthur Miller.Marilyn was a passionate reader, owning four hundred books at the time of her death, and was often photographed with a book.The final years of Monroe\\'s life were marked by illness, personal problems, and a reputation for unreliability and being difficult to work with. The circumstances of her death, from an overdose of barbiturates, have been the subject of conjecture. Though officially classified as a \"probable suicide\", the possibility of an accidental overdose, as well as of homicide, have not been ruled out. In 1999, Monroe was ranked as the sixth greatest female star of all time by the American Film Institute. In the decades following her death, she has often been cited as both a pop and a cultural icon as well as the quintessential American sex symbol.    \\n    '}, {'name': 'André Gide', 'birth_date': 'November 22, 1869', 'birth_place': 'in Paris, France', 'bio': \"\\n        André Paul Guillaume Gide was a French author and winner of the Nobel Prize in literature in 1947. Gide's career ranged from its beginnings in the symbolist movement, to the advent of anticolonialism between the two World Wars.Known for his fiction as well as his autobiographical works, Gide exposes to public view the conflict and eventual reconciliation between the two sides of his personality, split apart by a straight-laced education and a narrow social moralism. Gide's work can be seen as an investigation of freedom and empowerment in the face of moralistic and puritan constraints, and gravitates around his continuous effort to achieve intellectual honesty. His self-exploratory texts reflect his search of how to be fully oneself, even to the point of owning one's sexual nature, without at the same time betraying one's values. His political activity is informed by the same ethos, as suggested by his repudiation of communism after his 1936 voyage to the USSR.    \\n    \"}, {'name': 'Thomas A. Edison', 'birth_date': 'February 11, 1847', 'birth_place': 'in Milan, Ohio, The United States', 'bio': '\\n        Thomas Alva Edison was an American inventor, scientist and businessman who developed many devices that greatly influenced life around the world, including the phonograph, the motion picture camera, and a long-lasting, practical electric light bulb. Dubbed \"The Wizard of Menlo Park\" (now Edison, New Jersey) by a newspaper reporter, he was one of the first inventors to apply the principles of mass production and large teamwork to the process of invention, and therefore is often credited with the creation of the first industrial research laboratory.Edison is considered one of the most prolific inventors in history, holding 1,093 U.S. patents in his name, as well as many patents in the United Kingdom, France and Germany. He is credited with numerous inventions that contributed to mass communication and, in particular, telecommunications. His advanced work in these fields was an outgrowth of his early career as a telegraph operator. Edison originated the concept and implementation of electric-power generation and distribution to homes, businesses, and factories – a crucial development in the modern industrialized world. His first power station was on Manhattan Island, New York.    \\n    '}, {'name': 'Eleanor Roosevelt', 'birth_date': 'October 11, 1884', 'birth_place': 'in The United States', 'bio': '\\n        Anna Eleanor Roosevelt was an American political leader who used her influence as an active First Lady from 1933 to 1945 to promote the New Deal policies of her husband, President Franklin D. Roosevelt, as well as taking a prominent role as an advocate for civil rights. After her husband\\'s death in 1945, she continued to be an internationally prominent author and speaker for the New Deal coalition. She was a suffragist who worked to enhance the status of working women, although she opposed the Equal Rights Amendment because she believed it would adversely affect women. In the 1940s, she was one of the co-founders of Freedom House and supported the formation of the United Nations. Eleanor Roosevelt founded the UN Association of the United States in 1943 to advance support for the formation of the UN. She was a delegate to the UN General Assembly from 1945 and 1952, a job for which she was appointed by President Harry S. Truman and confirmed by the United States Congress. During her time at the United Nations chaired the committee that drafted and approved the Universal Declaration of Human Rights. President Truman called her the \"First Lady of the World\" in tribute to her human rights achievements.She was one of the most admired persons of the 20th century, according to Gallup\\'s List of Widely Admired People.    \\n    '}, {'name': 'Steve Martin', 'birth_date': 'August 14, 1945', 'birth_place': 'in Waco, Texas, The United States', 'bio': '\\n        Stephen Glenn \"Steve\" Martin is an American actor, comedian, writer, playwright, producer, musician, and composer. He was raised in Southern California in a Baptist family, where his early influences were working at Disneyland and Knott\\'s Berry Farm and working magic and comedy acts at these and other smaller venues in the area. His ascent to fame picked up when he became a writer for the Smothers Brothers Comedy Hour, and later became a frequent guest on the Tonight Show.In the 1970s, Martin performed his offbeat, absurdist comedy routines before packed houses on national tours. In the 1980s, having branched away from stand-up comedy, he became a successful actor, playwright, and juggler, and eventually earned Emmy, Grammy, and American Comedy awards.    \\n    '}, {'name': 'Bob Marley', 'birth_date': 'February 06, 1945', 'birth_place': 'in Nine Mile, Saint Ann, Jamaica', 'bio': '\\n        Robert \"Bob\" Nesta Marley OM was a Jamaican singer, songwriter, guitarist, and activist. He was the frontman, lead singer, songwriter and guitarist for the ska, rocksteady and reggae bands: The Wailers (1964 – 1974) and Bob Marley & the Wailers (1974 - 1981). He is the most widely known performer of ska/reggae music, and is often credited for helping spread Jamaican music to the worldwide audience.Marley\\'s best known hits includes \"I Shot the Sheriff\", \"No Woman, No Cry\", \"Exodus\", \"Could You Be Loved\", \"Stir It Up\", \"Jamming\", \"Redemption Song\", and \"One Love\", as well as the posthumous releases \"Buffalo Soldier\" och \"Iron Lion Zion\". The compilation album, Legend, released in 1984, three years after Marley\\'s death, is the best-selling reggae album ever (10 times platinum), with sales of more than 12 million copies.    \\n    '}, {'name': 'Dr. Seuss', 'birth_date': 'March 02, 1904', 'birth_place': 'in Springfield, MA, The United States', 'bio': '\\n        Theodor Seuss Geisel was born 2 March 1904 in Springfield, MA. He graduated Dartmouth College in 1925, and proceeded on to Oxford University with the intent of acquiring a doctorate in literature. At Oxford he met Helen Palmer, who he wed in 1927. He returned from Europe in 1927, and began working for a magazine called Judge, the leading humor magazine in America at the time, submitting both cartoons and humorous articles for them. Additionally, he was submitting cartoons to Life, Vanity Fair and Liberty. In some of his works, he\\'d made reference to an insecticide called Flit. These references gained notice, and led to a contract to draw comic ads for Flit. This association lasted 17 years, gained him national exposure, and coined the catchphrase \"Quick, Henry, the Flit!\" In 1936 on the way to a vaction in Europe, listening to the rhythm of the ship\\'s engines, he came up with And to Think That I Saw It on Mulberry Street, which was then promptly rejected by the first 43 publishers he showed it to. Eventually in 1937 a friend published the book for him, and it went on to at least moderate success. During WW II, Geisel joined the army and was sent to Hollywood. Captain Geisel would write for Frank Capra\\'s Signal Corps Unit (for which he won the Legion of Merit) and do documentaries (he won Oscar\\'s for Hitler Lives and Design for Death). He also created a cartoon called Gerald McBoing-Boing which also won him an Oscar. In May of 1954, Life published a report concerning illiteracy among school children. The report said, among other things, that children were having trouble to read because their books were boring. This inspired Geisel\\'s publisher, and prompted him to send Geisel a list of 400 words he felt were important, asked him to cut the list to 250 words (the publishers idea of how many words at one time a first grader could absorb), and write a book. Nine months later, Geisel, using 220 of the words given to him published The Cat in the Hat, which went on to instant success. In 1960 Bennett Cerf bet Geisel $50 that he couldn\\'t write an entire book using only fifty words. The result was Green Eggs and Ham. Cerf never paid the $50 from the bet. Helen Palmer Geisel died in 1967. Theodor Geisel married Audrey Stone Diamond in 1968. Theodor Seuss Geisel died 24 September 1991. Also worked under the pen name:Theo Le Sieg    \\n    '}, {'name': 'Douglas Adams', 'birth_date': 'March 11, 1952', 'birth_place': 'in Cambridge, England, The United Kingdom', 'bio': '\\n        Douglas Noël Adams was an English author, comic radio dramatist, and musician. He is best known as the author of the Hitchhiker\\'s Guide to the Galaxy series. Hitchhiker\\'s began on radio, and developed into a \"trilogy\" of five books (which sold more than fifteen million copies during his lifetime) as well as a television series, a comic book series, a computer game, and a feature film that was completed after Adams\\' death. The series has also been adapted for live theatre using various scripts; the earliest such productions used material newly written by Adams. He was known to some fans as Bop Ad (after his illegible signature), or by his initials \"DNA\".In addition to The Hitchhiker\\'s Guide to the Galaxy, Douglas Adams wrote or co-wrote three stories of the science fiction television series Doctor Who and served as Script Editor during the seventeenth season. His other written works include the Dirk Gently novels, and he co-wrote two Liff books and Last Chance to See, itself based on a radio series. Adams also originated the idea for the computer game Starship Titanic, which was produced by a company that Adams co-founded, and adapted into a novel by Terry Jones. A posthumous collection of essays and other material, including an incomplete novel, was published as The Salmon of Doubt in 2002.His fans and friends also knew Adams as an environmental activist and a lover of fast cars, cameras, the Macintosh computer, and other \"techno gizmos\". Toward the end of his life he was a sought-after lecturer on topics including technology and the environment.    \\n    '}, {'name': 'Elie Wiesel', 'birth_date': 'September 30, 1928', 'birth_place': 'in Sighet, Romania', 'bio': '\\n        Eliezer Wiesel was a Romania-born American novelist, political activist, and Holocaust survivor of Hungarian Jewish descent. He was the author of over 40 books, the best known of which is Night, a memoir that describes his experiences during the Holocaust and his imprisonment in several concentration camps.Wiesel was awarded the Nobel Peace Prize in 1986. The Norwegian Nobel Committee called him a \"messenger to mankind,\" noting that through his struggle to come to terms with \"his own personal experience of total humiliation and of the utter contempt for humanity shown in Hitler\\'s death camps,\" as well as his \"practical work in the cause of peace,\" Wiesel has delivered a powerful message \"of peace, atonement and human dignity\" to humanity.On November 30, 2006 Wiesel received an honorary knighthood in London, England in recognition of his work toward raising Holocaust education in the United Kingdom.http://us.macmillan.com/author/eliewi...    \\n    '}, {'name': 'Friedrich Nietzsche', 'birth_date': 'October 15, 1844', 'birth_place': 'in Röcken bei Lützen, Prussian Province of Saxony, Germany', 'bio': \"\\n        Friedrich Wilhelm Nietzsche (1844–1900) is a German philosopher of the late 19th century who challenged the foundations of Christianity and traditional morality. He was interested in the enhancement of individual and cultural health, and believed in life, creativity, power, and the realities of the world we live in, rather than those situated in a world beyond. Central to his philosophy is the idea of “life-affirmation,” which involves an honest questioning of all doctrines that drain life's expansive energies, however socially prevalent those views might be. Often referred to as one of the first existentialist philosophers along with Søren Kierkegaard (1813–1855), Nietzsche's revitalizing philosophy has inspired leading figures in all walks of cultural life, including dancers, poets, novelists, painters, psychologists, philosophers, sociologists and social revolutionaries.From the Stanford Encyclopedia of Philosophy    \\n    \"}, {'name': 'Mark Twain', 'birth_date': 'November 30, 1835', 'birth_place': 'in Florida, Missouri, The United States', 'bio': '\\n        Samuel Langhorne Clemens, better known by his pen name Mark Twain, was an American author and humorist. He is noted for his novels Adventures of Huckleberry Finn (1885), called \"the Great American Novel\", and The Adventures of Tom Sawyer (1876).Twain grew up in Hannibal, Missouri, which would later provide the setting for Huckleberry Finn and Tom Sawyer. He apprenticed with a printer. He also worked as a typesetter and contributed articles to his older brother Orion\\'s newspaper. After toiling as a printer in various cities, he became a master riverboat pilot on the Mississippi River, before heading west to join Orion. He was a failure at gold mining, so he next turned to journalism. While a reporter, he wrote a humorous story, \"The Celebrated Jumping Frog of Calaveras County,\" which proved to be very popular and brought him nationwide attention. His travelogues were also well-received. Twain had found his calling.He achieved great success as a writer and public speaker. His wit and satire earned praise from critics and peers, and he was a friend to presidents, artists, industrialists, and European royalty.However, he lacked financial acumen. Though he made a great deal of money from his writings and lectures, he squandered it on various ventures, in particular the Paige Compositor, and was forced to declare bankruptcy. With the help of Henry Huttleston Rogers, however, he eventually overcame his financial troubles. Twain worked hard to ensure that all of his creditors were paid in full, even though his bankruptcy had relieved him of the legal responsibility.Born during a visit by Halley\\'s Comet, he died on its return. He was lauded as the \"greatest American humorist of his age\", and William Faulkner called Twain \"the father of American literature\".Excerpted from Wikipedia.    \\n    '}, {'name': 'Allen Saunders', 'birth_date': 'April 24, 1899', 'birth_place': 'in The United States', 'bio': \"\\n        Allen Saunders was an American writer, journalist and cartoonist who wrote the comic strips Steve Roper and Mike Nomad, Mary Worth and Kerry Drake. His full name, John Allen Saunders, sometimes led to confusion with his son John (John Phillip Saunders, 1924–2003), who later continued two of his father's strips.Born in Lebanon, Indiana, Saunders enjoyed newspaper comics as a youth, and he practiced drawing them. After graduating from Wabash College in 1920, he taught French there for seven years while working in the summers on his M.A. at the University of Chicago and taking night classes at the Chicago Academy of Fine Arts. He drew editorial cartoons and the single-panel Miserable Moments, wrote detective fiction for magazines, worked in Chautauqua theater and wrote plays. These experiences converged in his later comics career.[2]In 1927, while on sabbatical from Wabash, he moved to Toledo, Ohio as a reporter and drama critic for the News-Bee, and he stayed on with that newspaper. Eight years later, Elmer Woggon (a friend at the rival Toledo Blade) proposed a comic strip for Publishers Syndicate (later Publishers-Hall Syndicate), The Great Gusto, which he would draw if Saunders did the writing. They shook on it, but it wasn't accepted until they refocused on its Indian character. On November 23, 1936, it finally appeared in the newspapers as Big Chief Wahoo and scored a success—fortunately, as Saunders' regular job ended when the News-Bee folded in 1938. Gags gave way to adventure strips, so in 1940, he began to reshape the narrative into Steve Roper, centered on the escapades of a racket-busting photojournalist    \\n    \"}, {'name': 'Pablo Neruda', 'birth_date': 'July 12, 1904', 'birth_place': 'in Parral, Chile', 'bio': '\\n        Pablo Neruda was the pen name and, later, legal name of the Chilean writer and politician Neftalí Ricardo Reyes Basoalto. Neruda assumed his pen name as a teenager, partly because it was in vogue, partly to hide his poetry from his father, a rigid man who wanted his son to have a \"practical\" occupation. Neruda\\'s pen name was derived from Czech writer and poet Jan Neruda; Pablo is thought to be from Paul Verlaine. With his works translated into many languages, Pablo Neruda is considered one of the greatest and most influential poets of the 20th century.Neruda was accomplished in a variety of styles ranging from erotically charged love poems like his collection Twenty Poems of Love and a Song of Despair, surrealist poems, historical epics, and overtly political manifestos. In 1971 Neruda won the Nobel Prize for Literature, a controversial award because of his political activism. Colombian novelist Gabriel García Márquez once called him \"the greatest poet of the 20th century in any language.\"On July 15, 1945, at Pacaembu Stadium in São Paulo, Brazil, he read to 100,000 people in honor of Communist revolutionary leader Luís Carlos Prestes. When Neruda returned to Chile after his Nobel Prize acceptance speech, Salvador Allende invited him to read at the Estadio Nacional before 70,000 people.During his lifetime, Neruda occupied many diplomatic posts and served a stint as a senator for the Chilean Communist Party. When Conservative Chilean President González Videla outlawed communism in Chile, a warrant was issued for Neruda\\'s arrest. Friends hid him for months in a house basement in the Chilean port of Valparaíso. Later, Neruda escaped into exile through a mountain pass near Maihue Lake into Argentina. Years later, Neruda was a close collaborator to socialist President Salvador Allende.Neruda was hospitalized with cancer at the time of the Chilean coup d\\'état led by Augusto Pinochet. Three days after being hospitalized, Neruda died of heart failure. Already a legend in life, Neruda\\'s death reverberated around the world. Pinochet had denied permission to transform Neruda\\'s funeral into a public event. However, thousands of grieving Chileans disobeyed the curfew and crowded the streets. Neruda\\'s funeral became the first public protest against the Chilean military dictatorship.    \\n    '}, {'name': 'Ralph Waldo Emerson', 'birth_date': 'May 25, 1803', 'birth_place': 'in Boston, Massachusetts, The United States', 'bio': '\\n        in 1803, Ralph Waldo Emerson was born in Boston. Educated at Harvard and the Cambridge Divinity School, he became a Unitarian minister in 1826 at the Second Church Unitarian. The congregation, with Christian overtones, issued communion, something Emerson refused to do. \"Really, it is beyond my comprehension,\" Emerson once said, when asked by a seminary professor whether he believed in God. (Quoted in 2,000 Years of Freethought edited by Jim Haught.) By 1832, after the untimely death of his first wife, Emerson cut loose from Unitarianism. During a year-long trip to Europe, Emerson became acquainted with such intelligentsia as British writer Thomas Carlyle, and poets Wordsworth and Coleridge. He returned to the United States in 1833, to a life as poet, writer and lecturer. Emerson inspired Transcendentalism, although never adopting the label himself. He rejected traditional ideas of deity in favor of an \"Over-Soul\" or \"Form of Good,\" ideas which were considered highly heretical. His books include Nature (1836), The American Scholar (1837), Divinity School Address (1838), Essays, 2 vol. (1841, 1844), Nature, Addresses and Lectures (1849), and three volumes of poetry. Margaret Fuller became one of his \"disciples,\" as did Henry David Thoreau.The best of Emerson\\'s rather wordy writing survives as epigrams, such as the famous: \"A foolish consistency is the hobgoblin of little minds, adored by little statesmen and philosophers and divines.\" Other one- (and two-) liners include: \"As men\\'s prayers are a disease of the will, so are their creeds a disease of the intellect\" (Self-Reliance, 1841). \"The most tedious of all discourses are on the subject of the Supreme Being\" (Journal, 1836). \"The word miracle, as pronounced by Christian churches, gives a false impression; it is a monster. It is not one with the blowing clover and the falling rain\" (Address to Harvard Divinity College, July 15, 1838). He demolished the right wing hypocrites of his era in his essay \"Worship\": \". . . the louder he talked of his honor, the faster we counted our spoons\" (Conduct of Life, 1860). \"I hate this shallow Americanism which hopes to get rich by credit, to get knowledge by raps on midnight tables, to learn the economy of the mind by phrenology, or skill without study, or mastery without apprenticeship\" (Self-Reliance). \"The first and last lesson of religion is, \\'The things that are seen are temporal; the things that are not seen are eternal.\\' It puts an affront upon nature\" (English Traits , 1856). \"The god of the cannibals will be a cannibal, of the crusaders a crusader, and of the merchants a merchant.\" (Civilization, 1862). He influenced generations of Americans, from his friend Henry David Thoreau to John Dewey, and in Europe, Friedrich Nietzsche, who takes up such Emersonian themes as power, fate, the uses of poetry and history, and the critique of Christianity. D. 1882.More: http://www.rwe.org/http://plato.stanford.edu/entries/eme...http://transcendentalism-legacy.tamu....http://en.wikipedia.org/wiki/Ralph_Wa...http://www.poets.org/poet.php/prmPID/201http://www.pbs.org/wnet/ihas/poet/eme...http://www.biography.com/people/ralph...http://www.online-literature.com/emer...http://www.emersoncentral.com/    \\n    '}, {'name': 'Mother Teresa', 'birth_date': 'August 26, 1910', 'birth_place': 'in Skopje, Macedonia, the Former Yugoslav Republic of', 'bio': \"\\n        Blessed Teresa of Calcutta, or Mother Teresa, born Agnes Gonxha Bojaxhiu was an Albanian Roman Catholic nun who founded the Missionaries of Charity in Kolkata (Calcutta), India in 1950. For over forty years she ministered to the poor, sick, orphaned, and dying, while guiding the Missionaries of Charity's expansion, first throughout India and then in other countries.By the 1970s she had become internationally famed as a humanitarian and advocate for the poor and helpless, due in part to a documentary, and book, Something Beautiful for God by Malcolm Muggeridge. She won the Nobel Peace Prize in 1979 and India's highest civilian honour, the Bharat Ratna, in 1980 for her humanitarian work. Mother Teresa's Missionaries of Charity continued to expand, and at the time of her death it was operating 610 missions in 123 countries, including hospices and homes for people with HIV/AIDS, leprosy and tuberculosis, soup kitchens, children's and family counseling programs, orphanages, and schools.Following her death she was beatified by Pope John Paul II and given the title Blessed Teresa of Calcutta.    \\n    \"}, {'name': 'Garrison Keillor', 'birth_date': 'August 07, 1942', 'birth_place': 'in Anoka, Minnesota, The United States', 'bio': '\\n        Garrison Keillor (born Gary Edward Keillor on August 7, 1942 in Anoka, Minnesota) is an American author, storyteller, humorist, columnist, musician, satirist, and radio personality. He is known as host of the Minnesota Public Radio show \"A Prairie Home Companion\".Keillor was born in Anoka, Minnesota, the son of Grace Ruth (née Denham) and John Philip Keillor, who was a carpenter and postal worker. His father had English ancestry, partly by way of Canada (Keillor\\'s paternal grandfather was from Kingston, Ontario). His maternal grandparents were Scottish immigrants, from Glasgow. The family belonged to the Plymouth Brethren, a fundamentalist Christian denomination Keillor has since left. He is six feet, three inches (1.9 m) tall. Keillor is a member of the Democratic-Farmer-Labor Party. In 2006 he told Christianity Today that he was attending the Episcopal church in Saint Paul, after previously attending a Lutheran church in New York.Keillor graduated from Anoka High School in 1960 and from the University of Minnesota with a bachelor\\'s degree in English in 1966. During college, he began his broadcasting career on the student-operated radio station known today as Radio K.Keillor has been married three times.Garrison Keillor started his professional radio career in November 1969 with Minnesota Educational Radio, now Minnesota Public Radio. He hosted The Morning Program on weekdays from 6 to 9 a.m. on KSJR 90.1 FM at St. John\\'s University, which the station called \"A Prairie Home Entertainment.\" The show\\'s eclectic music was a major divergence from the station\\'s usual classical fare. During this time he also began submitting fiction to The New Yorker, where his first story, \"Local Family Keeps Son Happy,\" appeared on September 19, 1970.Keillor resigned from The Morning Program in February 1971 to protest a perceived attempt to interfere with his musical programming. The show became A Prairie Home Companion when he returned in October.A Prairie Home Companion debuted as an old-style variety show before a live audience on July 6, 1974, featuring guest musicians and a cadre cast doing musical numbers and comic skits replete with elaborate live sound effects. The show was punctuated by spoof commercial spots from fictitious sponsors such as Powdermilk Biscuits. The show also contains parodic serial melodramas, such as The Adventures of Guy Noir, Private Eye and The Lives of the Cowboys. Keillor voices Noir and other recurring characters, and also provides vocals for some of the show\\'s musical numbers.A Prairie Home Companion ran until 1987, when Keillor decided to end it to focus on other projects. In 1989, he launched another live radio program from New York City, \"The American Radio Company of the Air\" — which had almost the same format as A Prairie Home Companion\\'s. In 1992, he moved ARC back to St. Paul, and a year later changed the name back to A Prairie Home Companion; it has remained a Saturday night fixture ever since.Keillor has been called \"[o]ne of the most perceptive and witty commentators about Midwestern life\" by Randall Balmer in Encyclopedia of Evangelicalism. He has written numerous magazine and newspaper articles and more than a dozen books for adults as well as children. He has also written for Salon.com and authored an advice column at Salon.com under the name \"Mr. Blue.\"In 2004 Keillor published a collection of political essays, Homegrown Democrat: A Few Plain Thoughts from the Heart of America, and in June 2005 he began a column called \"The Old Scout\", which ran at Salon.com and in syndicated newspapers. The column went on hiatus in April 2010.Keillor wrote the screenplay for the 2006 movie A Prairie Home Companion, directed by Robert Altman. (Keillor also appears in the movie.)    \\n    '}, {'name': 'Jim Henson', 'birth_date': 'September 24, 1936', 'birth_place': 'in Greenville, Mississippi, The United States', 'bio': '\\n        James Maury \"Jim\" Henson was the most widely known puppeteer in American television history. He was the creator of The Muppets and the leading force behind their long creative run in the television series Sesame Street and The Muppet Show and films such as The Muppet Movie (1979) and The Dark Crystal (1982). He was also an Oscar-nominated film director, Emmy Award-winning television producer, and the founder of The Jim Henson Company, the Jim Henson Foundation, and Jim Henson\\'s Creature Shop. Henson is widely acknowledged for the ongoing vision of faith, friendship, magic, and love which infused nearly all of his work.When Henson died on May 16, 1990, his sudden death resulted in an outpouring of public and professional affection. There have since been numerous tributes and dedications in his memory. Henson’s companies, which are now run by his children, continue to produce films and television shows.Humanitarian, muppeteer, producer and director of films for children that encourage tolerance, interracial values, equality and fair play. He was awarded the Courage of Conscience award September 26, 1992.    \\n    '}]\n"
     ]
    }
   ],
   "source": [
    "def get_biography(url):\n",
    "    # Get page located at URL and parse it\n",
    "    response = requests.get(url)\n",
    "    # Get name with BeautifulSoup\n",
    "    \n",
    "    soup = BeautifulSoup(response.text,'html.parser')\n",
    "    name = soup.find('h3', class_='author-title').get_text()\n",
    "    # Get birth date\n",
    "    birth_date = soup.find('span',class_='author-born-date').get_text()\n",
    "    # Get birth place\n",
    "    birth_place= soup.find('span',class_='author-born-location').get_text()\n",
    "    # Get bio\n",
    "    bio = soup.find('div',class_='author-description').get_text()\n",
    "    return {'name':name, 'birth_date': birth_date, 'birth_place': birth_place, 'bio': bio}\n",
    "\n",
    "def get_bios(urls):\n",
    "    bios = []\n",
    "    for u in urls:\n",
    "        bios.append(get_biography(u))\n",
    "    return bios\n",
    "\n",
    "#Test\n",
    "bios=get_bios(authors)\n",
    "print(bios)"
   ]
  },
  {
   "cell_type": "markdown",
   "id": "46da9326-461c-4a09-8a9d-85240aa5f6f1",
   "metadata": {},
   "source": [
    "Question 1.4: save your dataset\n",
    "Finally, write a save function which takes as an input a list of biographies as computed above and save them in JSON on disk (the filename being an input parameter)."
   ]
  },
  {
   "cell_type": "code",
   "execution_count": 18,
   "id": "6c51c1db-6783-4460-b7d5-4b7404c4d5a3",
   "metadata": {},
   "outputs": [],
   "source": [
    "import json\n",
    "\n",
    "def save(filename, dataset):\n",
    "    with open(filename,'w') as file:\n",
    "        json.dump(dataset,file)\n",
    "    \n",
    "\n",
    "save('bios.json', bios)"
   ]
  },
  {
   "cell_type": "markdown",
   "id": "a39a12a0-3d7b-4114-a463-4597b4a3c8ae",
   "metadata": {},
   "source": [
    "**Scrapy**"
   ]
  },
  {
   "cell_type": "code",
   "execution_count": 19,
   "id": "a30efbe3-2a1b-4be2-bff1-e44d900e0979",
   "metadata": {},
   "outputs": [],
   "source": [
    "import scrapy\n",
    "import requests, re\n"
   ]
  },
  {
   "cell_type": "code",
   "execution_count": 20,
   "id": "2663789b-5e47-4c1d-a07e-3c1ccafb21b5",
   "metadata": {},
   "outputs": [],
   "source": [
    "name = \"wikipedia\"\n",
    "\n",
    "start_urls = [\"https://en.wikipedia.org/wiki/List_of_French_artists\"]\n"
   ]
  },
  {
   "cell_type": "code",
   "execution_count": 21,
   "id": "96613af0-53f6-46ff-8021-5772762d7ecf",
   "metadata": {},
   "outputs": [],
   "source": [
    "class WikipediaSpider(scrapy.Spider): #Something is missing here. What exactly?\n",
    "    name = \"wikipedia\"\n",
    "\n",
    "    start_urls = [\"https://en.wikipedia.org/wiki/List_of_French_artists\"]\n",
    "    def parse(self, response):\n",
    "        #get all links which are in lists on the page\n",
    "        links = response.css('table.sidebar.nomobile.nowraplinks.plainlist ul li a::attr(href)').getall()\n",
    "\n",
    "        \n"
   ]
  },
  {
   "cell_type": "code",
   "execution_count": 22,
   "id": "68df8bd4-1b2b-4fbc-8b0a-d053ade2492f",
   "metadata": {},
   "outputs": [
    {
     "ename": "SyntaxError",
     "evalue": "invalid syntax (3210075805.py, line 21)",
     "output_type": "error",
     "traceback": [
      "\u001b[0;36m  Cell \u001b[0;32mIn[22], line 21\u001b[0;36m\u001b[0m\n\u001b[0;31m    url = #get url of the page\u001b[0m\n\u001b[0m          ^\u001b[0m\n\u001b[0;31mSyntaxError\u001b[0m\u001b[0;31m:\u001b[0m invalid syntax\n"
     ]
    }
   ],
   "source": [
    "import scrapy\n",
    "import json\n",
    "\n",
    "class WikipediaSpider(scrapy.Spider): #Something is missing here. What exactly?\n",
    "    name = \"wikipedia\"\n",
    "\n",
    "    start_urls = [\"https://en.wikipedia.org/wiki/List_of_French_artists\"]\n",
    "\n",
    "    def parse(self, response):\n",
    "        links = response.css('table.sidebar.nomobile.nowraplinks.plainlist ul li a::attr(href)').getall()\n",
    "\n",
    "        list_see_also = response.css('span#See_also + span a::attr(href)').getall()\n",
    "\n",
    "        res_list = list(set(list_els) - set(list_see_also))\n",
    "        for link in res_list:\n",
    "            #check that the link actually exists and is not red\n",
    "            if 'class=\"new\"' not in link:\n",
    "                yield response.follow(link, callback=self.parse_artist)\n",
    "        \n",
    "    def parse_artist(self, response):\n",
    "        url = #get url of the page\n",
    "        name = # get name of the artist\n",
    "        paragraph = # get the first paragraph\n",
    "        yield {'url': url,\n",
    "               'name': name,\n",
    "               'paragraph': paragraph}\n",
    "        \n",
    "        \n",
    "if __name__=='__main__':\n",
    "    import scrapy.crawler\n",
    "    \n",
    "    process = scrapy.crawler.CrawlerProcess({\n",
    "        'USER_AGENT': 'Mozilla/5.0',\n",
    "        'FEEDS': {\n",
    "            \"artists.json\": {\"format\": \"json\"},\n",
    "        },\n",
    "    })\n",
    "    process.crawl(WikipediaSpider)\n",
    "    process.start()\n",
    "    process.stop()"
   ]
  },
  {
   "cell_type": "code",
   "execution_count": null,
   "id": "7435ace9-ce74-4815-a1cb-f9a0589f397f",
   "metadata": {},
   "outputs": [],
   "source": []
  },
  {
   "cell_type": "code",
   "execution_count": null,
   "id": "d336e096-77ea-4cfa-8d95-0564af191325",
   "metadata": {},
   "outputs": [],
   "source": []
  }
 ],
 "metadata": {
  "kernelspec": {
   "display_name": "Python 3.12 (Scrapy)",
   "language": "python",
   "name": "scrapy_env"
  },
  "language_info": {
   "codemirror_mode": {
    "name": "ipython",
    "version": 3
   },
   "file_extension": ".py",
   "mimetype": "text/x-python",
   "name": "python",
   "nbconvert_exporter": "python",
   "pygments_lexer": "ipython3",
   "version": "3.12.2"
  }
 },
 "nbformat": 4,
 "nbformat_minor": 5
}
