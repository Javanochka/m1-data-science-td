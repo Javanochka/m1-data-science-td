{
 "cells": [
  {
   "cell_type": "markdown",
   "metadata": {},
   "source": [
    "# Exercise sheet \\#5\n",
    "## Using MongoDB\n",
    "### Exercise 1\n",
    "For this exercise, you will work with the Paris Tourist Information dataset (see zip file on ARCHE).\n",
    "This dataset contains pieces of information about seightseeing tours in Paris. These pieces are used to describes venues belonging to the following types:\n",
    "- points of interests (POI)\n",
    "- restaurants\n",
    "- attractions\n",
    "- accomodations\n",
    "\n",
    "Here is an example of a document:\n",
    "<pre>\n",
    "{\n",
    "   \"_id\" : 83292,\n",
    "   \"contact\" : {\n",
    "      \"website\" : \"http://www.trocaderolatour.com\",\n",
    "      \"GooglePlaces\" : \"https://plus.google.com/107754700607079935569/about?hl=en-US\"\n",
    "   },\n",
    "   \"name\" : \"Best Western Premier Trocadero La Tour\",\n",
    "   \"location\" : {\n",
    "      \"city\" : \"Paris\",\n",
    "      \"coord\" : {\"coordinates\" : [2.2795155644417,48.858311118724],\"type\" : \"Point\"},\n",
    "      \"address\" : \"Paris,   France    5 bis, rue Massenet, 16. Trocadéro - Passy, 75016 Paris\"\n",
    "   },\n",
    "   \"category\" : \"accommodation\",\n",
    "   \"description\" : \" Situé à 15 minutes à pied de la tour Eiffel, le Best Western Premier Trocadero La Tour bénéficie d'un emplacement idéal pour découvrir Paris. Il abrite un bar lambrissé doté de fauteuils en cuir et un patio.\",\n",
    "   \"services\" : [\n",
    "      \"jardin\",\n",
    "      \"terrasse\",\n",
    "      \"journaux\",\n",
    "      \"bar\",\n",
    "      \"petit-déjeuner en chambre\",\n",
    "      \"réception ouverte 24h 24\",\n",
    "      \"enregistrement et règlement rapides\",\n",
    "      \"bagagerie\",\n",
    "      \"service d'étage\",\n",
    "      \"salles de réunions banquets\",\n",
    "      \"centre d'affaires\",\n",
    "      \"garde d'enfants\",\n",
    "      \"blanchisserie\",\n",
    "      \"chambres non-fumeurs\"\n",
    "   ],\n",
    "   \"reviews\" : [\n",
    "      {\n",
    "          \"wordsCount\" : 30,\n",
    "          \"rating\" : 0,\n",
    "          \"language\" : \"en\",\n",
    "          \"source\" : \"Foursquare\",\n",
    "          \"text\" : \"Nice beds, rooms andstaff. Perfect central location. Breakfast is very expensive for a contenintal breakfast, however many bakeries and restaurants in the area. Will stay here again my next visit.\",\n",
    "          \"time\" : \"2010-09-30\"\n",
    "      }\n",
    "   ]\n",
    "}\n",
    "</pre>\n",
    "\n",
    "#### Question 1.1 - Setting up the database\n",
    "- Install a local MongoDB server on your machine, along with a [Robo3T](https://robomongo.org/) MongoDB client.\n",
    "- Create a database named \"tourPedia\" containing a collection named \"paris\".\n",
    "- Import the content of the `tour-Pedia_paris.json` file into that collection.\n",
    "\n",
    "NB: For questions 1.2 to 1.5, please use the [Robo3T](https://robomongo.org/) graphical MongoDB client to design and check your queries.\n"
   ]
  },
  {
   "cell_type": "raw",
   "metadata": {},
   "source": []
  },
  {
   "cell_type": "markdown",
   "metadata": {},
   "source": [
    "#### Question 1.2 - Filtering and projecting data\n",
    "- Filter out venues whose type is \"accomodation\" and service \"blanchisserie\" (laundry).\n",
    "- Project addresses of venues whose type is accomodation."
   ]
  },
  {
   "cell_type": "raw",
   "metadata": {},
   "source": [
    "db.getCollection('paris').find({'category': 'accommodation'}, {'address': '$location.address'})"
   ]
  },
  {
   "cell_type": "markdown",
   "metadata": {},
   "source": [
    "#### Question 1.3 - Constrained filtering\n",
    "- Filter out lists of reviews about venues for which there is at least one English review whose score is greater than 3."
   ]
  },
  {
   "cell_type": "raw",
   "metadata": {},
   "source": []
  },
  {
   "cell_type": "markdown",
   "metadata": {},
   "source": [
    "#### Question 1.4 - Grouping data\n",
    "- Group venues by type and count them."
   ]
  },
  {
   "cell_type": "raw",
   "metadata": {},
   "source": []
  },
  {
   "cell_type": "markdown",
   "metadata": {},
   "source": [
    "#### Question 1.5 - Aggregating data\n",
    "- For venues of type \"accomodation\", give the number of venues per \"service\"."
   ]
  },
  {
   "cell_type": "raw",
   "metadata": {},
   "source": []
  },
  {
   "cell_type": "markdown",
   "metadata": {},
   "source": [
    "### Exercise 2\n",
    "For this exercise, we will reuse the data from Exercise 1.\n",
    "\n",
    "In the following questions (which are similar to Exercise 1), you are required to use [pymongo](https://api.mongodb.com/python/current/api/pymongo/index.html).\n",
    "\n",
    "#### Question 2.1 - Filtering and projecting data\n",
    "- Filter out venues whose type is \"accomodation\" and service \"blanchisserie\" (laundry).\n",
    "- Project addresses of venues whose type is accomodation.\n",
    "\n",
    "Compare your results with those of question 1.2 above."
   ]
  },
  {
   "cell_type": "code",
   "execution_count": null,
   "metadata": {},
   "outputs": [],
   "source": []
  },
  {
   "cell_type": "markdown",
   "metadata": {},
   "source": [
    " #### Question 2.2 - Constrained filtering\n",
    "- Filter out lists of reviews about venues for which there is at least one English review whose score is greater than 3.\n",
    "\n",
    "Compare your results with those of question 1.3 above."
   ]
  },
  {
   "cell_type": "code",
   "execution_count": null,
   "metadata": {},
   "outputs": [],
   "source": []
  },
  {
   "cell_type": "markdown",
   "metadata": {},
   "source": [
    "#### Question 2.3 - Grouping data\n",
    "- Group venues by type and count them.\n",
    "\n",
    "Compare your results with those of question 1.4 above."
   ]
  },
  {
   "cell_type": "code",
   "execution_count": null,
   "metadata": {},
   "outputs": [],
   "source": []
  },
  {
   "cell_type": "markdown",
   "metadata": {},
   "source": [
    "#### Question 2.4 - Aggregating data\n",
    "- For venues of type \"accomodation\", give the number of venues per \"service\".\n",
    "\n",
    "Compare your results with those of question 1.5 above."
   ]
  },
  {
   "cell_type": "code",
   "execution_count": null,
   "metadata": {},
   "outputs": [],
   "source": []
  }
 ],
 "metadata": {
  "kernelspec": {
   "display_name": "Python 3 (ipykernel)",
   "language": "python",
   "name": "python3"
  },
  "language_info": {
   "codemirror_mode": {
    "name": "ipython",
    "version": 3
   },
   "file_extension": ".py",
   "mimetype": "text/x-python",
   "name": "python",
   "nbconvert_exporter": "python",
   "pygments_lexer": "ipython3",
   "version": "3.10.7"
  }
 },
 "nbformat": 4,
 "nbformat_minor": 4
}
